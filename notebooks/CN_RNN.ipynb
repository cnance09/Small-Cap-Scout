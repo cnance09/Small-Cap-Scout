{
 "cells": [
  {
   "cell_type": "code",
   "execution_count": 1,
   "id": "2be374ed",
   "metadata": {},
   "outputs": [],
   "source": [
    "%load_ext autoreload\n",
    "%autoreload 2"
   ]
  },
  {
   "cell_type": "code",
   "execution_count": 2,
   "id": "69a3aee0",
   "metadata": {},
   "outputs": [],
   "source": [
    "import pandas as pd\n",
    "import numpy as np\n",
    "import matplotlib.pyplot as plt\n",
    "import matplotlib as mpl\n",
    "%matplotlib inline\n",
    "import seaborn as sns\n",
    "import datetime\n",
    "import pickle\n",
    "\n",
    "from sklearn.model_selection import train_test_split\n",
    "from sklearn.pipeline import Pipeline, make_pipeline\n",
    "from sklearn.impute import SimpleImputer\n",
    "from sklearn.preprocessing import RobustScaler, OneHotEncoder\n",
    "from sklearn.compose import ColumnTransformer\n",
    "\n",
    "from sklearn.metrics import accuracy_score, precision_score, recall_score, f1_score\n",
    "from sklearn.linear_model import LogisticRegression\n",
    "from sklearn.model_selection import cross_val_score\n",
    "\n",
    "from tensorflow.keras.models import Sequential\n",
    "from tensorflow.keras.optimizers import Adam\n",
    "from tensorflow.keras import layers\n",
    "from tensorflow.keras.callbacks import EarlyStopping, ReduceLROnPlateau\n",
    "from tensorflow.keras import regularizers\n",
    "\n",
    "# ensure that all columns are shown and that colum content is not cut\n",
    "pd.set_option('display.max_columns', None)\n",
    "pd.set_option('display.max_colwidth', None)\n",
    "pd.set_option('display.width',1000)\n",
    "pd.set_option('display.max_rows', 500) # ensure that all rows are shown"
   ]
  },
  {
   "cell_type": "markdown",
   "id": "92280bb0",
   "metadata": {},
   "source": [
    "# Formulas"
   ]
  },
  {
   "cell_type": "code",
   "execution_count": 3,
   "id": "ff845fcc",
   "metadata": {},
   "outputs": [],
   "source": [
    "mpl.rcParams['figure.figsize'] = (12, 10)\n",
    "colors = plt.rcParams['axes.prop_cycle'].by_key()['color']\n",
    "\n",
    "def plot_metrics(history):\n",
    "  metrics = ['loss', 'accuracy', 'precision', 'recall']\n",
    "  for n, metric in enumerate(metrics):\n",
    "    name = metric.replace(\"_\",\" \").capitalize()\n",
    "    plt.subplot(2,2,n+1)\n",
    "    plt.plot(history.epoch, history.history[metric], color=colors[0], label='Train')\n",
    "    plt.plot(history.epoch, history.history['val_'+metric],\n",
    "             color=colors[0], linestyle=\"--\", label='Val')\n",
    "    plt.xlabel('Epoch')\n",
    "    plt.ylabel(name)\n",
    "    if metric == 'loss':\n",
    "      plt.ylim([0, plt.ylim()[1]])\n",
    "    elif metric == 'auc':\n",
    "      plt.ylim([0.8,1])\n",
    "    else:\n",
    "      plt.ylim([0,1])\n",
    "\n",
    "    plt.legend()"
   ]
  },
  {
   "cell_type": "code",
   "execution_count": 4,
   "id": "9e323880",
   "metadata": {},
   "outputs": [],
   "source": [
    "# Step 1 : target creation + train_test_split\n",
    "# Creating target variables to automate creation of quarterly, yearly and 2-yearly targets, because well, DON'T REPEAT YOURSELF!\n",
    "def create_target_variable(df, frequency:int, threshold):\n",
    "    if frequency == 1:\n",
    "        col = 'mc_qtr_growth_pct'\n",
    "    if frequency == 4:\n",
    "        col = 'mc_yr_growth_pct'\n",
    "    if frequency == 8:\n",
    "        col = 'mc_2yr_growth_pct'\n",
    "   #else:\n",
    "   #    raise ValueError(\"Invalid frequency. Use 1 (quarterly), 4 (yearly), or 8 (2-year).\")\n",
    "    df[col] = df[col].shift(-frequency)\n",
    "    df.dropna(subset=col, inplace=True)\n",
    "    target_func = lambda x: 1 if ((x[col] > threshold) & (x.small_cap == 1)) else 0\n",
    "    df['target'] = df.apply(target_func, axis=1)\n",
    "    return df\n",
    "\n",
    "# Creating a custom function for the group split\n",
    "def group_train_test_split(data, test_size=0.2, random_state=None):\n",
    "    # We split by groups (company ticker) while keeping the data structure intact.\n",
    "    unique_groups = data['Ticker'].unique()\n",
    "    train_groups, test_groups = train_test_split(unique_groups, test_size=test_size, random_state=random_state)\n",
    "    X_train = data[data['Ticker'].isin(train_groups)].drop(['mc_qtr_growth', 'mc_qtr_growth_pct', 'mc_yr_growth', 'mc_yr_growth_pct', 'mc_2yr_growth', 'mc_2yr_growth_pct'], axis = 1)\n",
    "    X_test = data[data['Ticker'].isin(test_groups)].drop(['mc_qtr_growth', 'mc_qtr_growth_pct', 'mc_yr_growth', 'mc_yr_growth_pct', 'mc_2yr_growth', 'mc_2yr_growth_pct'], axis = 1)\n",
    "    y_train = data[data['Ticker'].isin(train_groups)]['target']\n",
    "    y_test = data[data['Ticker'].isin(test_groups)]['target']\n",
    "    return X_train, X_test, y_train, y_test"
   ]
  },
  {
   "cell_type": "code",
   "execution_count": 5,
   "id": "858b0bab",
   "metadata": {},
   "outputs": [],
   "source": [
    "# Step 2: Identify numerical and categorical features\n",
    "def identify_feature_types(df):\n",
    "    \"\"\"Identifies the numerical and categorical columns in the DataFrame.\"\"\"\n",
    "    numerical_features = df.select_dtypes(include=['int64', 'float64']).columns.tolist()\n",
    "    categorical_features = df.select_dtypes(include=['object']).columns.tolist()\n",
    "\n",
    "    # Exclude 'Ticker' from categorical features as it's not needed for transformation\n",
    "    if 'target' in numerical_features:\n",
    "        numerical_features.remove('target')\n",
    "    if 'cik' in numerical_features:\n",
    "        numerical_features.remove('cik')\n",
    "    if 'TICKER' in categorical_features:\n",
    "        categorical_features.remove('TICKER')\n",
    "    if 'quarter' in categorical_features:\n",
    "        categorical_features.remove('quarter')\n",
    "\n",
    "    return numerical_features, categorical_features"
   ]
  },
  {
   "cell_type": "code",
   "execution_count": 6,
   "id": "afb38594",
   "metadata": {},
   "outputs": [],
   "source": [
    "# Step 3: Create preprocessing pipeline for numerical and categorical features\n",
    "def create_preprocessing_pipeline(numerical_features, categorical_features):\n",
    "    \"\"\"Creates the preprocessing pipeline for numerical and categorical features.\"\"\"\n",
    "    # Preprocessing for numerical data: RobustScaler to make our numbers más robusto.\n",
    "    numerical_transformer = Pipeline(steps=[\n",
    "        ('imputer', SimpleImputer(strategy='median')),  # Handle NaNs\n",
    "        ('scaler', RobustScaler())  # Scale the data\n",
    "    ])\n",
    "\n",
    "    # Preprocessing for categorical data: OneHotEncoder to give each category its own columm...\n",
    "    categorical_transformer = Pipeline(steps=[\n",
    "        ('imputer', SimpleImputer(strategy='most_frequent')),  # Handle missing categories\n",
    "        ('onehot', OneHotEncoder(handle_unknown='ignore', sparse_output=False))  # Encode categories\n",
    "    ])\n",
    "\n",
    "    # Combine the transformers into one big ColumnTransformer.\n",
    "    preprocessor = ColumnTransformer(\n",
    "        transformers=[\n",
    "            ('num', numerical_transformer, numerical_features),\n",
    "            ('cat', categorical_transformer, categorical_features)\n",
    "        ],\n",
    "        remainder='passthrough'\n",
    "    )\n",
    "\n",
    "    return preprocessor"
   ]
  },
  {
   "cell_type": "code",
   "execution_count": 7,
   "id": "1248d3ee",
   "metadata": {},
   "outputs": [],
   "source": [
    "# Step 4: Function to preprocess data in training mode (fitting the pipeline)\n",
    "def preprocess_training_data(X_train, preprocessor=None):\n",
    "    \"\"\"Fits and transforms the training data using the provided pipeline.\"\"\"\n",
    "    if preprocessor is None:\n",
    "        # Identify feature types\n",
    "        numerical_features, categorical_features = identify_feature_types(X_train)\n",
    "        preprocessor = create_preprocessing_pipeline(numerical_features, categorical_features)\n",
    "\n",
    "    # Fit and transform the training data\n",
    "    X_train_processed = preprocessor.fit_transform(X_train)\n",
    "    return X_train_processed, preprocessor"
   ]
  },
  {
   "cell_type": "code",
   "execution_count": 8,
   "id": "03b0f433",
   "metadata": {},
   "outputs": [],
   "source": [
    "# Step 5: Function to preprocess new/unseen/test data in production mode (only transforming)\n",
    "def preprocess_new_data(X_new, preprocessor):\n",
    "    \"\"\"Transforms new/unseen/test data using a pre-fitted pipeline.\"\"\"\n",
    "    if preprocessor is None:\n",
    "        raise ValueError(\"The preprocessor must be fitted on training data first before transforming new data.\")\n",
    "\n",
    "    # Transform the new data (no fitting here)\n",
    "    X_new_processed = preprocessor.transform(X_new)\n",
    "    return X_new_processed"
   ]
  },
  {
   "cell_type": "code",
   "execution_count": 9,
   "id": "a1d97174",
   "metadata": {},
   "outputs": [],
   "source": [
    "# Step 6: Function to predict based on different target inputs defined at the create_target_variable stage: quarterly (frequency=1), yearly (frequency=4), and 2-year (frequency=8) predictions\n",
    "def train_logistic_regression(X_train, y_train, X_test, y_test):\n",
    "    \"\"\" Trains and evaluates a logistic regression model, and returns multiple evaluation metrics\n",
    "    (accuracy, precision, recall, F1-score) using cross-validation and test data.\n",
    "    \"\"\"\n",
    "    # Train logistic regression model with a progress bar\n",
    "    logistic_model = LogisticRegression(solver='saga', max_iter=5000)\n",
    "\n",
    "    # Display progress during model fitting\n",
    "    with tqdm(total=100, desc=\"Training Logistic Regression\", bar_format='{l_bar}{bar} [elapsed: {elapsed} left: {remaining}]') as pbar:\n",
    "        logistic_model.fit(X_train, y_train)\n",
    "        pbar.update(100)  # Update the progress bar after training completes\n",
    "\n",
    "    # Check number of iterations\n",
    "    print(f\"Number of iterations: {logistic_model.n_iter_}\")\n",
    "\n",
    "    # Evaluate using cross-validation for accuracy, precision, recall, and F1-score with progress\n",
    "    cv_metrics = {}\n",
    "    for metric in ['accuracy', 'precision', 'recall', 'f1']:\n",
    "        with tqdm(total=5, desc=f\"Cross-Validation ({metric})\", bar_format='{l_bar}{bar} [elapsed: {elapsed} left: {remaining}]') as pbar:\n",
    "            cv_metrics[metric] = cross_val_score(logistic_model, X_train, y_train, cv=5, scoring=metric)\n",
    "            pbar.update(5)\n",
    "\n",
    "    # Print cross-validation scores\n",
    "    print(f\"Cross-validated Metrics: {', '.join([f'{m}: {cv_metrics[m].mean():.4f}' for m in cv_metrics])}\")\n",
    "\n",
    "    # Test on the test set\n",
    "    y_pred_test = logistic_model.predict(X_test)\n",
    "\n",
    "    # Calculate test set metrics\n",
    "    test_metrics = {\n",
    "        'accuracy': accuracy_score(y_test, y_pred_test),\n",
    "        'precision': precision_score(y_test, y_pred_test),\n",
    "        'recall': recall_score(y_test, y_pred_test),\n",
    "        'f1': f1_score(y_test, y_pred_test)\n",
    "    }\n",
    "\n",
    "    # Create a dictionary to store all metrics\n",
    "    metrics = {**{f'cv_{m}': cv_metrics[m].mean() for m in cv_metrics}, **test_metrics}\n",
    "\n",
    "    return metrics, logistic_model"
   ]
  },
  {
   "cell_type": "markdown",
   "id": "91776f16",
   "metadata": {},
   "source": [
    "# Modeling"
   ]
  },
  {
   "cell_type": "code",
   "execution_count": 10,
   "id": "06fa45d4",
   "metadata": {},
   "outputs": [
    {
     "data": {
      "text/plain": [
       "(170124, 59)"
      ]
     },
     "execution_count": 10,
     "metadata": {},
     "output_type": "execute_result"
    }
   ],
   "source": [
    "# Data\n",
    "\n",
    "df = pd.read_csv('../raw_data/data_for_preprocessing.csv', index_col=0)\n",
    "df.shape"
   ]
  },
  {
   "cell_type": "code",
   "execution_count": 11,
   "id": "9ce99cba",
   "metadata": {},
   "outputs": [],
   "source": [
    "# Parameters\n",
    "threshold = 0.5\n",
    "small_cap = True\n",
    "quarters_input = 4\n",
    "model_type = 'classifier'\n",
    "horizon = 'year'\n",
    "\n",
    "if horizon == 'quarter':\n",
    "    col = 'mc_qtr_growth_pct'\n",
    "    adjustment = 0\n",
    "elif horizon == 'year':\n",
    "    col = 'mc_yr_growth_pct'\n",
    "    adjustment = 3\n",
    "elif horizon == 'year':\n",
    "    col = 'mc_2yr_growth_pct'\n",
    "    adjustment = 7\n",
    "    \n",
    "if model_type == 'classifier':\n",
    "    final_activation = 'sigmoid'\n",
    "    metrics=['accuracy', 'precision', 'recall']\n",
    "else:\n",
    "    final_activation = 'linear'\n",
    "    metrics=['r2', 'mse', 'mae']"
   ]
  },
  {
   "cell_type": "code",
   "execution_count": 12,
   "id": "89b33f0b",
   "metadata": {},
   "outputs": [],
   "source": [
    "if small_cap==True:\n",
    "    target_func = lambda x: 1 if ((x[col] > threshold) & (x.small_cap == 1)) else 0\n",
    "else:\n",
    "    target_func = lambda x: 1 if ((x[col] > threshold)) else 0\n",
    "    \n",
    "if model_type == 'classifier':\n",
    "    df['target'] = df.apply(target_func, axis=1)\n",
    "else:\n",
    "    df['target'] = df[col]\n",
    "\n",
    "unique_groups = df['TICKER'].unique()\n",
    "train_groups, test_groups = train_test_split(unique_groups, test_size=0.3, random_state=42)\n",
    "\n",
    "data_train = df[df['TICKER'].isin(train_groups)]\n",
    "data_test = df[df['TICKER'].isin(test_groups)]\n",
    "\n",
    "# data_train[data_train.target==1].head()"
   ]
  },
  {
   "cell_type": "code",
   "execution_count": 13,
   "id": "6d539284",
   "metadata": {},
   "outputs": [],
   "source": [
    "#y_set = df.iloc[:, -11:]\n",
    "\n",
    "# Year-ahead\n",
    "#y_tar = y_set.groupby(['CIK', 'TICKER'], as_index=False)[['CIK', 'TICKER', 'mc_qtr_growth_pct', 'small_cap']].apply(lambda group: group.iloc[4:, :])\n",
    "#target_func = lambda x: 1 if ((x['mc_qtr_growth_pct'] > 0.5) & (x.small_cap == 1)) else 0\n",
    "#y_tar['target'] = y_tar.apply(target_func, axis=1)\n",
    "#y_tar.head()"
   ]
  },
  {
   "cell_type": "code",
   "execution_count": 14,
   "id": "d1d54553",
   "metadata": {},
   "outputs": [
    {
     "data": {
      "text/plain": [
       "Index(['CIK', 'TICKER', 'market_cap', 'mc_qtr_growth', 'mc_qtr_growth_pct', 'mc_yr_growth', 'mc_yr_growth_pct', 'mc_2yr_growth', 'mc_2yr_growth_pct', 'small_cap', 'micro_cap', 'target'], dtype='object')"
      ]
     },
     "execution_count": 14,
     "metadata": {},
     "output_type": "execute_result"
    }
   ],
   "source": [
    "df.columns[-12:]"
   ]
  },
  {
   "cell_type": "code",
   "execution_count": 15,
   "id": "9eb93c38",
   "metadata": {},
   "outputs": [
    {
     "data": {
      "text/plain": [
       "['CIK',\n",
       " 'market_cap',\n",
       " 'mc_qtr_growth',\n",
       " 'mc_qtr_growth_pct',\n",
       " 'mc_yr_growth',\n",
       " 'mc_yr_growth_pct',\n",
       " 'mc_2yr_growth',\n",
       " 'mc_2yr_growth_pct',\n",
       " 'date',\n",
       " 'year']"
      ]
     },
     "execution_count": 15,
     "metadata": {},
     "output_type": "execute_result"
    }
   ],
   "source": [
    "cols_drop = df.columns.tolist()[-12:]\n",
    "cols_drop.remove('TICKER')\n",
    "cols_drop.remove('small_cap')\n",
    "cols_drop.remove('micro_cap')\n",
    "cols_drop.remove('target')\n",
    "cols_drop += ['date', 'year']\n",
    "cols_drop"
   ]
  },
  {
   "cell_type": "code",
   "execution_count": 19,
   "id": "d76d45bd",
   "metadata": {},
   "outputs": [],
   "source": [
    "X_train = data_train[data_train['TICKER'].isin(train_groups)].drop(columns=cols_drop).reset_index(drop=True)\n",
    "X_test = data_test[data_test['TICKER'].isin(test_groups)].drop(columns=cols_drop).reset_index(drop=True)\n",
    "#y_train = y_tar[y_tar['TICKER'].isin(train_groups)]['target'].reset_index(drop=True)\n",
    "#y_test = y_tar[y_tar['TICKER'].isin(test_groups)]['target'].reset_index(drop=True)"
   ]
  },
  {
   "cell_type": "code",
   "execution_count": 20,
   "id": "fdc0c0b6",
   "metadata": {},
   "outputs": [],
   "source": [
    "assert X_train.shape, X_train.cik.nunique() * 4 +y_train.shape[0]"
   ]
  },
  {
   "cell_type": "code",
   "execution_count": 21,
   "id": "35049356",
   "metadata": {},
   "outputs": [],
   "source": [
    "assert X_test.shape, X_test.cik.nunique() * 4 +y_test.shape[0]"
   ]
  },
  {
   "cell_type": "code",
   "execution_count": 22,
   "id": "578210d4",
   "metadata": {},
   "outputs": [
    {
     "data": {
      "text/plain": [
       "(118612, 120)"
      ]
     },
     "metadata": {},
     "output_type": "display_data"
    },
    {
     "data": {
      "text/plain": [
       "(51512, 120)"
      ]
     },
     "metadata": {},
     "output_type": "display_data"
    }
   ],
   "source": [
    "# Preprocess X_train and X_test\n",
    "num, cat = identify_feature_types(X_train)\n",
    "preprocessor = create_preprocessing_pipeline(num, cat)\n",
    "\n",
    "X_train_pp, preprocessor = preprocess_training_data(X_train, preprocessor=preprocessor)\n",
    "X_train_pp = pd.DataFrame(X_train_pp, columns=preprocessor.get_feature_names_out())\n",
    "\n",
    "X_test_pp = preprocess_new_data(X_test, preprocessor=preprocessor)\n",
    "X_test_pp = pd.DataFrame(X_test_pp, columns=preprocessor.get_feature_names_out())\n",
    "\n",
    "display(X_train_pp.shape, X_test_pp.shape)"
   ]
  },
  {
   "cell_type": "code",
   "execution_count": 23,
   "id": "8be7be21",
   "metadata": {
    "scrolled": true
   },
   "outputs": [
    {
     "data": {
      "text/plain": [
       "Index(['num__Assets', 'num__AssetsCurrent', 'num__Cash', 'num__AssetsNoncurrent', 'num__Liabilities', 'num__LiabilitiesCurrent', 'num__LiabilitiesNoncurrent', 'num__Equity', 'num__HolderEquity', 'num__RetainedEarnings',\n",
       "       ...\n",
       "       'cat__sic_2d_83', 'cat__sic_2d_87', 'cat__sic_2d_89', 'cat__sic_2d_90', 'cat__sic_2d_99', 'cat__sic_2d_na', 'remainder__cik', 'remainder__quarter', 'remainder__TICKER', 'remainder__target'], dtype='object', length=120)"
      ]
     },
     "execution_count": 23,
     "metadata": {},
     "output_type": "execute_result"
    }
   ],
   "source": [
    "X_train_pp.columns"
   ]
  },
  {
   "cell_type": "code",
   "execution_count": 24,
   "id": "092d2f1f",
   "metadata": {},
   "outputs": [],
   "source": [
    "X_train_sequences = []\n",
    "y_train_sequences = []\n",
    "X_test_sequences = []\n",
    "y_test_sequences = []"
   ]
  },
  {
   "cell_type": "code",
   "execution_count": 25,
   "id": "a5063b10",
   "metadata": {},
   "outputs": [
    {
     "data": {
      "text/plain": [
       "(92383, 4, 116)"
      ]
     },
     "metadata": {},
     "output_type": "display_data"
    },
    {
     "data": {
      "text/plain": [
       "(92383,)"
      ]
     },
     "metadata": {},
     "output_type": "display_data"
    }
   ],
   "source": [
    "for company in X_train_pp.groupby(['remainder__cik', 'remainder__TICKER']):\n",
    "    for i, _ in enumerate(company[1].iterrows()):\n",
    "        if i+quarters_input+1+adjustment > len(company[1]):\n",
    "            break\n",
    "        sequence = company[1].iloc[i:i+quarters_input, :-4]\n",
    "        target = company[1].iloc[i+quarters_input+adjustment, -1]\n",
    "        X_train_sequences.append(sequence)\n",
    "        y_train_sequences.append(target)\n",
    "X_train_sequences = np.array(X_train_sequences).astype('float32')\n",
    "y_train_sequences = np.array(y_train_sequences).astype('float32')\n",
    "\n",
    "display(X_train_sequences.shape, y_train_sequences.shape)"
   ]
  },
  {
   "cell_type": "code",
   "execution_count": 26,
   "id": "7cb51390",
   "metadata": {},
   "outputs": [
    {
     "data": {
      "text/plain": [
       "(40263, 4, 116)"
      ]
     },
     "metadata": {},
     "output_type": "display_data"
    },
    {
     "data": {
      "text/plain": [
       "(40263,)"
      ]
     },
     "metadata": {},
     "output_type": "display_data"
    }
   ],
   "source": [
    "for company in X_test_pp.groupby(['remainder__cik', 'remainder__TICKER']):\n",
    "    for i, _ in enumerate(company[1].iterrows()):\n",
    "        if i+quarters_input+1+adjustment > len(company[1]):\n",
    "            break\n",
    "        sequence = company[1].iloc[i:i+quarters_input, :-4]\n",
    "        target = company[1].iloc[i+quarters_input+adjustment, -1]\n",
    "        X_test_sequences.append(sequence)\n",
    "        y_test_sequences.append(target)\n",
    "X_test_sequences = np.array(X_test_sequences).astype('float32')\n",
    "y_test_sequences = np.array(y_test_sequences).astype('float32')\n",
    "\n",
    "display(X_test_sequences.shape, y_test_sequences.shape)"
   ]
  },
  {
   "cell_type": "code",
   "execution_count": 27,
   "id": "7f5336b1",
   "metadata": {},
   "outputs": [],
   "source": [
    "#Regularizers\n",
    "reg_l1 = regularizers.L1(0.01)\n",
    "reg_l2 = regularizers.L2(0.01)\n",
    "reg_l1_l2 = regularizers.l1_l2(l1=0.005, l2=0.0005)"
   ]
  },
  {
   "cell_type": "code",
   "execution_count": 28,
   "id": "fd967c46",
   "metadata": {},
   "outputs": [
    {
     "data": {
      "text/plain": [
       "11637.0"
      ]
     },
     "execution_count": 28,
     "metadata": {},
     "output_type": "execute_result"
    }
   ],
   "source": [
    "sum(y_train_sequences)"
   ]
  },
  {
   "cell_type": "code",
   "execution_count": 29,
   "id": "d2e6223f",
   "metadata": {},
   "outputs": [
    {
     "data": {
      "text/plain": [
       "{0: 0.28602964852748125, 1: 1.9846824783019676}"
      ]
     },
     "execution_count": 29,
     "metadata": {},
     "output_type": "execute_result"
    }
   ],
   "source": [
    "# Tuning?\n",
    "adam = Adam(learning_rate=0.002, beta_1=0.95)\n",
    "\n",
    "weight_for_0 = (0.5 / (len(y_train_sequences) - sum(y_train_sequences))) * (len(y_train_sequences) / 2)\n",
    "weight_for_1 = (0.5 / sum(y_train_sequences)) * (len(y_train_sequences) / 2)\n",
    "\n",
    "es = EarlyStopping(patience=10, restore_best_weights=True)\n",
    "plateau = ReduceLROnPlateau()\n",
    "\n",
    "class_weight = {0: weight_for_0, 1: weight_for_1}\n",
    "class_weight"
   ]
  },
  {
   "cell_type": "code",
   "execution_count": 30,
   "id": "8414baf8",
   "metadata": {},
   "outputs": [
    {
     "name": "stdout",
     "output_type": "stream",
     "text": [
      "Epoch 1/100\n"
     ]
    },
    {
     "name": "stderr",
     "output_type": "stream",
     "text": [
      "/Users/christophernance/.pyenv/versions/3.10.6/envs/small-cap-scout/lib/python3.10/site-packages/keras/src/layers/rnn/rnn.py:204: UserWarning: Do not pass an `input_shape`/`input_dim` argument to a layer. When using Sequential models, prefer using an `Input(shape)` object as the first layer in the model instead.\n",
      "  super().__init__(**kwargs)\n"
     ]
    },
    {
     "name": "stdout",
     "output_type": "stream",
     "text": [
      "Epoch 2/100\n",
      "Epoch 3/100\n",
      "Epoch 4/100\n",
      "Epoch 5/100\n",
      "Epoch 6/100\n",
      "Epoch 7/100\n",
      "Epoch 8/100\n",
      "Epoch 9/100\n",
      "Epoch 10/100\n",
      "Epoch 11/100\n",
      "Epoch 12/100\n",
      "Epoch 13/100\n",
      "Epoch 14/100\n",
      "Epoch 15/100\n",
      "Epoch 16/100\n",
      "Epoch 17/100\n",
      "Epoch 18/100\n",
      "Epoch 19/100\n",
      "Epoch 20/100\n",
      "Epoch 21/100\n",
      "Epoch 22/100\n",
      "Epoch 23/100\n"
     ]
    }
   ],
   "source": [
    "# 1- RNN Architecture\n",
    "model = Sequential()\n",
    "model.add(layers.LSTM(units=320, activation='tanh', input_shape=(quarters_input, 116), return_sequences=True))\n",
    "#model.add(layers.Dropout(0.2))\n",
    "model.add(layers.LSTM(units=160, activation='tanh'))\n",
    "#model.add(layers.Dropout(0.2))\n",
    "model.add(layers.Dense(300, activation='relu'))\n",
    "#model.add(layers.Dropout(0.2))\n",
    "model.add(layers.Dense(240, activation='relu'))\n",
    "#model.add(layers.Dropout(0.2))\n",
    "model.add(layers.Dense(120, activation='relu'))\n",
    "#model.add(layers.Dropout(0.2))\n",
    "model.add(layers.Dense(60, activation='relu'))\n",
    "model.add(layers.Dense(30, activation='relu'))\n",
    "model.add(layers.Dense(1, activation=final_activation))\n",
    "\n",
    "# 2- Compilation\n",
    "model.compile(loss='binary_crossentropy', \n",
    "              optimizer=adam, \n",
    "              metrics=metrics)\n",
    "\n",
    "# 3- Fit\n",
    "history = model.fit(X_train_sequences, y_train_sequences, validation_split=0.2, epochs=100, batch_size=32,\n",
    "                    callbacks=[es, plateau], verbose=3, class_weight=class_weight)\n"
   ]
  },
  {
   "cell_type": "code",
   "execution_count": null,
   "id": "8114c136",
   "metadata": {},
   "outputs": [],
   "source": []
  },
  {
   "cell_type": "code",
   "execution_count": 31,
   "id": "cff0eccf",
   "metadata": {},
   "outputs": [
    {
     "data": {
      "text/html": [
       "<pre style=\"white-space:pre;overflow-x:auto;line-height:normal;font-family:Menlo,'DejaVu Sans Mono',consolas,'Courier New',monospace\"><span style=\"font-weight: bold\">Model: \"sequential\"</span>\n",
       "</pre>\n"
      ],
      "text/plain": [
       "\u001b[1mModel: \"sequential\"\u001b[0m\n"
      ]
     },
     "metadata": {},
     "output_type": "display_data"
    },
    {
     "data": {
      "text/html": [
       "<pre style=\"white-space:pre;overflow-x:auto;line-height:normal;font-family:Menlo,'DejaVu Sans Mono',consolas,'Courier New',monospace\">┏━━━━━━━━━━━━━━━━━━━━━━━━━━━━━━━━━┳━━━━━━━━━━━━━━━━━━━━━━━━┳━━━━━━━━━━━━━━━┓\n",
       "┃<span style=\"font-weight: bold\"> Layer (type)                    </span>┃<span style=\"font-weight: bold\"> Output Shape           </span>┃<span style=\"font-weight: bold\">       Param # </span>┃\n",
       "┡━━━━━━━━━━━━━━━━━━━━━━━━━━━━━━━━━╇━━━━━━━━━━━━━━━━━━━━━━━━╇━━━━━━━━━━━━━━━┩\n",
       "│ lstm (<span style=\"color: #0087ff; text-decoration-color: #0087ff\">LSTM</span>)                     │ (<span style=\"color: #00d7ff; text-decoration-color: #00d7ff\">None</span>, <span style=\"color: #00af00; text-decoration-color: #00af00\">4</span>, <span style=\"color: #00af00; text-decoration-color: #00af00\">320</span>)         │       <span style=\"color: #00af00; text-decoration-color: #00af00\">559,360</span> │\n",
       "├─────────────────────────────────┼────────────────────────┼───────────────┤\n",
       "│ lstm_1 (<span style=\"color: #0087ff; text-decoration-color: #0087ff\">LSTM</span>)                   │ (<span style=\"color: #00d7ff; text-decoration-color: #00d7ff\">None</span>, <span style=\"color: #00af00; text-decoration-color: #00af00\">160</span>)            │       <span style=\"color: #00af00; text-decoration-color: #00af00\">307,840</span> │\n",
       "├─────────────────────────────────┼────────────────────────┼───────────────┤\n",
       "│ dense (<span style=\"color: #0087ff; text-decoration-color: #0087ff\">Dense</span>)                   │ (<span style=\"color: #00d7ff; text-decoration-color: #00d7ff\">None</span>, <span style=\"color: #00af00; text-decoration-color: #00af00\">300</span>)            │        <span style=\"color: #00af00; text-decoration-color: #00af00\">48,300</span> │\n",
       "├─────────────────────────────────┼────────────────────────┼───────────────┤\n",
       "│ dense_1 (<span style=\"color: #0087ff; text-decoration-color: #0087ff\">Dense</span>)                 │ (<span style=\"color: #00d7ff; text-decoration-color: #00d7ff\">None</span>, <span style=\"color: #00af00; text-decoration-color: #00af00\">240</span>)            │        <span style=\"color: #00af00; text-decoration-color: #00af00\">72,240</span> │\n",
       "├─────────────────────────────────┼────────────────────────┼───────────────┤\n",
       "│ dense_2 (<span style=\"color: #0087ff; text-decoration-color: #0087ff\">Dense</span>)                 │ (<span style=\"color: #00d7ff; text-decoration-color: #00d7ff\">None</span>, <span style=\"color: #00af00; text-decoration-color: #00af00\">120</span>)            │        <span style=\"color: #00af00; text-decoration-color: #00af00\">28,920</span> │\n",
       "├─────────────────────────────────┼────────────────────────┼───────────────┤\n",
       "│ dense_3 (<span style=\"color: #0087ff; text-decoration-color: #0087ff\">Dense</span>)                 │ (<span style=\"color: #00d7ff; text-decoration-color: #00d7ff\">None</span>, <span style=\"color: #00af00; text-decoration-color: #00af00\">60</span>)             │         <span style=\"color: #00af00; text-decoration-color: #00af00\">7,260</span> │\n",
       "├─────────────────────────────────┼────────────────────────┼───────────────┤\n",
       "│ dense_4 (<span style=\"color: #0087ff; text-decoration-color: #0087ff\">Dense</span>)                 │ (<span style=\"color: #00d7ff; text-decoration-color: #00d7ff\">None</span>, <span style=\"color: #00af00; text-decoration-color: #00af00\">30</span>)             │         <span style=\"color: #00af00; text-decoration-color: #00af00\">1,830</span> │\n",
       "├─────────────────────────────────┼────────────────────────┼───────────────┤\n",
       "│ dense_5 (<span style=\"color: #0087ff; text-decoration-color: #0087ff\">Dense</span>)                 │ (<span style=\"color: #00d7ff; text-decoration-color: #00d7ff\">None</span>, <span style=\"color: #00af00; text-decoration-color: #00af00\">1</span>)              │            <span style=\"color: #00af00; text-decoration-color: #00af00\">31</span> │\n",
       "└─────────────────────────────────┴────────────────────────┴───────────────┘\n",
       "</pre>\n"
      ],
      "text/plain": [
       "┏━━━━━━━━━━━━━━━━━━━━━━━━━━━━━━━━━┳━━━━━━━━━━━━━━━━━━━━━━━━┳━━━━━━━━━━━━━━━┓\n",
       "┃\u001b[1m \u001b[0m\u001b[1mLayer (type)                   \u001b[0m\u001b[1m \u001b[0m┃\u001b[1m \u001b[0m\u001b[1mOutput Shape          \u001b[0m\u001b[1m \u001b[0m┃\u001b[1m \u001b[0m\u001b[1m      Param #\u001b[0m\u001b[1m \u001b[0m┃\n",
       "┡━━━━━━━━━━━━━━━━━━━━━━━━━━━━━━━━━╇━━━━━━━━━━━━━━━━━━━━━━━━╇━━━━━━━━━━━━━━━┩\n",
       "│ lstm (\u001b[38;5;33mLSTM\u001b[0m)                     │ (\u001b[38;5;45mNone\u001b[0m, \u001b[38;5;34m4\u001b[0m, \u001b[38;5;34m320\u001b[0m)         │       \u001b[38;5;34m559,360\u001b[0m │\n",
       "├─────────────────────────────────┼────────────────────────┼───────────────┤\n",
       "│ lstm_1 (\u001b[38;5;33mLSTM\u001b[0m)                   │ (\u001b[38;5;45mNone\u001b[0m, \u001b[38;5;34m160\u001b[0m)            │       \u001b[38;5;34m307,840\u001b[0m │\n",
       "├─────────────────────────────────┼────────────────────────┼───────────────┤\n",
       "│ dense (\u001b[38;5;33mDense\u001b[0m)                   │ (\u001b[38;5;45mNone\u001b[0m, \u001b[38;5;34m300\u001b[0m)            │        \u001b[38;5;34m48,300\u001b[0m │\n",
       "├─────────────────────────────────┼────────────────────────┼───────────────┤\n",
       "│ dense_1 (\u001b[38;5;33mDense\u001b[0m)                 │ (\u001b[38;5;45mNone\u001b[0m, \u001b[38;5;34m240\u001b[0m)            │        \u001b[38;5;34m72,240\u001b[0m │\n",
       "├─────────────────────────────────┼────────────────────────┼───────────────┤\n",
       "│ dense_2 (\u001b[38;5;33mDense\u001b[0m)                 │ (\u001b[38;5;45mNone\u001b[0m, \u001b[38;5;34m120\u001b[0m)            │        \u001b[38;5;34m28,920\u001b[0m │\n",
       "├─────────────────────────────────┼────────────────────────┼───────────────┤\n",
       "│ dense_3 (\u001b[38;5;33mDense\u001b[0m)                 │ (\u001b[38;5;45mNone\u001b[0m, \u001b[38;5;34m60\u001b[0m)             │         \u001b[38;5;34m7,260\u001b[0m │\n",
       "├─────────────────────────────────┼────────────────────────┼───────────────┤\n",
       "│ dense_4 (\u001b[38;5;33mDense\u001b[0m)                 │ (\u001b[38;5;45mNone\u001b[0m, \u001b[38;5;34m30\u001b[0m)             │         \u001b[38;5;34m1,830\u001b[0m │\n",
       "├─────────────────────────────────┼────────────────────────┼───────────────┤\n",
       "│ dense_5 (\u001b[38;5;33mDense\u001b[0m)                 │ (\u001b[38;5;45mNone\u001b[0m, \u001b[38;5;34m1\u001b[0m)              │            \u001b[38;5;34m31\u001b[0m │\n",
       "└─────────────────────────────────┴────────────────────────┴───────────────┘\n"
      ]
     },
     "metadata": {},
     "output_type": "display_data"
    },
    {
     "data": {
      "text/html": [
       "<pre style=\"white-space:pre;overflow-x:auto;line-height:normal;font-family:Menlo,'DejaVu Sans Mono',consolas,'Courier New',monospace\"><span style=\"font-weight: bold\"> Total params: </span><span style=\"color: #00af00; text-decoration-color: #00af00\">3,077,345</span> (11.74 MB)\n",
       "</pre>\n"
      ],
      "text/plain": [
       "\u001b[1m Total params: \u001b[0m\u001b[38;5;34m3,077,345\u001b[0m (11.74 MB)\n"
      ]
     },
     "metadata": {},
     "output_type": "display_data"
    },
    {
     "data": {
      "text/html": [
       "<pre style=\"white-space:pre;overflow-x:auto;line-height:normal;font-family:Menlo,'DejaVu Sans Mono',consolas,'Courier New',monospace\"><span style=\"font-weight: bold\"> Trainable params: </span><span style=\"color: #00af00; text-decoration-color: #00af00\">1,025,781</span> (3.91 MB)\n",
       "</pre>\n"
      ],
      "text/plain": [
       "\u001b[1m Trainable params: \u001b[0m\u001b[38;5;34m1,025,781\u001b[0m (3.91 MB)\n"
      ]
     },
     "metadata": {},
     "output_type": "display_data"
    },
    {
     "data": {
      "text/html": [
       "<pre style=\"white-space:pre;overflow-x:auto;line-height:normal;font-family:Menlo,'DejaVu Sans Mono',consolas,'Courier New',monospace\"><span style=\"font-weight: bold\"> Non-trainable params: </span><span style=\"color: #00af00; text-decoration-color: #00af00\">0</span> (0.00 B)\n",
       "</pre>\n"
      ],
      "text/plain": [
       "\u001b[1m Non-trainable params: \u001b[0m\u001b[38;5;34m0\u001b[0m (0.00 B)\n"
      ]
     },
     "metadata": {},
     "output_type": "display_data"
    },
    {
     "data": {
      "text/html": [
       "<pre style=\"white-space:pre;overflow-x:auto;line-height:normal;font-family:Menlo,'DejaVu Sans Mono',consolas,'Courier New',monospace\"><span style=\"font-weight: bold\"> Optimizer params: </span><span style=\"color: #00af00; text-decoration-color: #00af00\">2,051,564</span> (7.83 MB)\n",
       "</pre>\n"
      ],
      "text/plain": [
       "\u001b[1m Optimizer params: \u001b[0m\u001b[38;5;34m2,051,564\u001b[0m (7.83 MB)\n"
      ]
     },
     "metadata": {},
     "output_type": "display_data"
    }
   ],
   "source": [
    "model.summary()"
   ]
  },
  {
   "cell_type": "code",
   "execution_count": 32,
   "id": "52c9b42f",
   "metadata": {},
   "outputs": [
    {
     "data": {
      "image/png": "[encoded data removed]",
      "text/plain": [
       "<Figure size 1200x1000 with 4 Axes>"
      ]
     },
     "metadata": {},
     "output_type": "display_data"
    }
   ],
   "source": [
    "if model_type == 'classifier':\n",
    "    plot_metrics(history)"
   ]
  },
  {
   "cell_type": "code",
   "execution_count": 33,
   "id": "93d0bd39",
   "metadata": {},
   "outputs": [
    {
     "name": "stdout",
     "output_type": "stream",
     "text": [
      "\u001b[1m1259/1259\u001b[0m \u001b[32m━━━━━━━━━━━━━━━━━━━━\u001b[0m\u001b[37m\u001b[0m \u001b[1m6s\u001b[0m 5ms/step - accuracy: 0.8433 - loss: 0.5127 - precision: 0.2430 - recall: 0.3271\n"
     ]
    },
    {
     "data": {
      "text/plain": [
       "[0.5436060428619385,\n",
       " 0.8076397776603699,\n",
       " 0.3003371059894562,\n",
       " 0.38139715790748596]"
      ]
     },
     "execution_count": 33,
     "metadata": {},
     "output_type": "execute_result"
    }
   ],
   "source": [
    "model.evaluate(X_test_sequences, y_test_sequences)"
   ]
  },
  {
   "cell_type": "code",
   "execution_count": 34,
   "id": "dc6cf0e5",
   "metadata": {},
   "outputs": [
    {
     "data": {
      "text/plain": [
       "0.126"
      ]
     },
     "execution_count": 34,
     "metadata": {},
     "output_type": "execute_result"
    }
   ],
   "source": [
    "tar_pct = round((y_train_sequences.sum() / y_train_sequences.shape)[0],4)\n",
    "tar_pct"
   ]
  },
  {
   "cell_type": "code",
   "execution_count": 35,
   "id": "414233fd",
   "metadata": {},
   "outputs": [
    {
     "data": {
      "text/plain": [
       "0.2929"
      ]
     },
     "execution_count": 35,
     "metadata": {},
     "output_type": "execute_result"
    }
   ],
   "source": [
    "round(np.mean(history.history.get('val_precision')),4)"
   ]
  },
  {
   "cell_type": "code",
   "execution_count": null,
   "id": "f8b8fea9",
   "metadata": {},
   "outputs": [],
   "source": []
  },
  {
   "cell_type": "code",
   "execution_count": null,
   "id": "e55483cc",
   "metadata": {},
   "outputs": [],
   "source": []
  },
  {
   "cell_type": "code",
   "execution_count": null,
   "id": "6c23bf51",
   "metadata": {},
   "outputs": [],
   "source": []
  },
  {
   "cell_type": "code",
   "execution_count": null,
   "id": "d056ce92",
   "metadata": {},
   "outputs": [],
   "source": []
  },
  {
   "cell_type": "code",
   "execution_count": 36,
   "id": "455eda84",
   "metadata": {},
   "outputs": [
    {
     "data": {
      "text/plain": [
       "'2024-09-10 23:32:00.858181_RNN_classifier_4_qtr_0.5_ths_sc_True.pkl'"
      ]
     },
     "execution_count": 36,
     "metadata": {},
     "output_type": "execute_result"
    }
   ],
   "source": [
    "file_name = f\"{datetime.datetime.now()}_RNN_{model_type}_{quarters_input}_qtr_{threshold}_ths_sc_{small_cap}.pkl\"\n",
    "model_dir = '../models/'\n",
    "file_name"
   ]
  },
  {
   "cell_type": "code",
   "execution_count": 37,
   "id": "3c480c9b",
   "metadata": {},
   "outputs": [],
   "source": [
    "# Export Pipeline as pickle file\n",
    "with open(model_dir+file_name, \"wb\") as file:\n",
    "    pickle.dump(model, file)"
   ]
  },
  {
   "cell_type": "code",
   "execution_count": null,
   "id": "481a74cb",
   "metadata": {},
   "outputs": [],
   "source": []
  },
  {
   "cell_type": "code",
   "execution_count": 637,
   "id": "733227a4",
   "metadata": {},
   "outputs": [],
   "source": [
    "#model = pickle.load(open(model_dir+file_name,\"rb\"))"
   ]
  }
 ],
 "metadata": {
  "kernelspec": {
   "display_name": "Python 3 (ipykernel)",
   "language": "python",
   "name": "python3"
  },
  "language_info": {
   "codemirror_mode": {
    "name": "ipython",
    "version": 3
   },
   "file_extension": ".py",
   "mimetype": "text/x-python",
   "name": "python",
   "nbconvert_exporter": "python",
   "pygments_lexer": "ipython3",
   "version": "3.10.6"
  },
  "toc": {
   "base_numbering": 1,
   "nav_menu": {},
   "number_sections": true,
   "sideBar": true,
   "skip_h1_title": false,
   "title_cell": "Table of Contents",
   "title_sidebar": "Contents",
   "toc_cell": false,
   "toc_position": {},
   "toc_section_display": true,
   "toc_window_display": false
  }
 },
 "nbformat": 4,
 "nbformat_minor": 5
}
