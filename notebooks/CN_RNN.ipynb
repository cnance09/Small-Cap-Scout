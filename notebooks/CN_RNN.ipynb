{
 "cells": [
  {
   "cell_type": "code",
   "execution_count": 806,
   "id": "2be374ed",
   "metadata": {},
   "outputs": [
    {
     "name": "stdout",
     "output_type": "stream",
     "text": [
      "The autoreload extension is already loaded. To reload it, use:\n",
      "  %reload_ext autoreload\n"
     ]
    }
   ],
   "source": [
    "%load_ext autoreload\n",
    "%autoreload 2"
   ]
  },
  {
   "cell_type": "code",
   "execution_count": 499,
   "id": "69a3aee0",
   "metadata": {},
   "outputs": [],
   "source": [
    "import pandas as pd\n",
    "import numpy as np\n",
    "import matplotlib.pyplot as plt\n",
    "import matplotlib as mpl\n",
    "%matplotlib inline\n",
    "import seaborn as sns\n",
    "import datetime\n",
    "import pickle\n",
    "\n",
    "from sklearn.model_selection import train_test_split\n",
    "from sklearn.pipeline import Pipeline, make_pipeline\n",
    "from sklearn.impute import SimpleImputer\n",
    "from sklearn.preprocessing import RobustScaler, OneHotEncoder\n",
    "from sklearn.compose import ColumnTransformer\n",
    "\n",
    "from sklearn.metrics import accuracy_score, precision_score, recall_score, f1_score\n",
    "from sklearn.linear_model import LogisticRegression\n",
    "from sklearn.model_selection import cross_val_score\n",
    "\n",
    "from tensorflow.keras.models import Sequential\n",
    "from tensorflow.keras.optimizers import Adam\n",
    "from tensorflow.keras import layers\n",
    "from tensorflow.keras.callbacks import EarlyStopping\n",
    "from tensorflow.keras import regularizers\n",
    "\n",
    "# ensure that all columns are shown and that colum content is not cut\n",
    "pd.set_option('display.max_columns', None)\n",
    "pd.set_option('display.max_colwidth', None)\n",
    "pd.set_option('display.width',1000)\n",
    "pd.set_option('display.max_rows', 500) # ensure that all rows are shown"
   ]
  },
  {
   "cell_type": "markdown",
   "id": "92280bb0",
   "metadata": {
    "heading_collapsed": true
   },
   "source": [
    "# Formulas"
   ]
  },
  {
   "cell_type": "code",
   "execution_count": 477,
   "id": "ff845fcc",
   "metadata": {
    "hidden": true
   },
   "outputs": [],
   "source": [
    "mpl.rcParams['figure.figsize'] = (12, 10)\n",
    "colors = plt.rcParams['axes.prop_cycle'].by_key()['color']\n",
    "\n",
    "def plot_metrics(history):\n",
    "  metrics = ['loss', 'accuracy', 'precision', 'recall']\n",
    "  for n, metric in enumerate(metrics):\n",
    "    name = metric.replace(\"_\",\" \").capitalize()\n",
    "    plt.subplot(2,2,n+1)\n",
    "    plt.plot(history.epoch, history.history[metric], color=colors[0], label='Train')\n",
    "    plt.plot(history.epoch, history.history['val_'+metric],\n",
    "             color=colors[0], linestyle=\"--\", label='Val')\n",
    "    plt.xlabel('Epoch')\n",
    "    plt.ylabel(name)\n",
    "    if metric == 'loss':\n",
    "      plt.ylim([0, plt.ylim()[1]])\n",
    "    elif metric == 'auc':\n",
    "      plt.ylim([0.8,1])\n",
    "    else:\n",
    "      plt.ylim([0,1])\n",
    "\n",
    "    plt.legend()"
   ]
  },
  {
   "cell_type": "code",
   "execution_count": 292,
   "id": "9e323880",
   "metadata": {
    "hidden": true
   },
   "outputs": [],
   "source": [
    "# Step 1 : target creation + train_test_split\n",
    "# Creating target variables to automate creation of quarterly, yearly and 2-yearly targets, because well, DON'T REPEAT YOURSELF!\n",
    "def create_target_variable(df, frequency:int, threshold):\n",
    "    if frequency == 1:\n",
    "        col = 'mc_qtr_growth_pct'\n",
    "    if frequency == 4:\n",
    "        col = 'mc_yr_growth_pct'\n",
    "    if frequency == 8:\n",
    "        col = 'mc_2yr_growth_pct'\n",
    "   #else:\n",
    "   #    raise ValueError(\"Invalid frequency. Use 1 (quarterly), 4 (yearly), or 8 (2-year).\")\n",
    "    df[col] = df[col].shift(-frequency)\n",
    "    df.dropna(subset=col, inplace=True)\n",
    "    target_func = lambda x: 1 if ((x[col] > threshold) & (x.small_cap == 1)) else 0\n",
    "    df['target'] = df.apply(target_func, axis=1)\n",
    "    return df\n",
    "\n",
    "# Creating a custom function for the group split\n",
    "def group_train_test_split(data, test_size=0.2, random_state=None):\n",
    "    # We split by groups (company ticker) while keeping the data structure intact.\n",
    "    unique_groups = data['Ticker'].unique()\n",
    "    train_groups, test_groups = train_test_split(unique_groups, test_size=test_size, random_state=random_state)\n",
    "    X_train = data[data['Ticker'].isin(train_groups)].drop(['mc_qtr_growth', 'mc_qtr_growth_pct', 'mc_yr_growth', 'mc_yr_growth_pct', 'mc_2yr_growth', 'mc_2yr_growth_pct'], axis = 1)\n",
    "    X_test = data[data['Ticker'].isin(test_groups)].drop(['mc_qtr_growth', 'mc_qtr_growth_pct', 'mc_yr_growth', 'mc_yr_growth_pct', 'mc_2yr_growth', 'mc_2yr_growth_pct'], axis = 1)\n",
    "    y_train = data[data['Ticker'].isin(train_groups)]['target']\n",
    "    y_test = data[data['Ticker'].isin(test_groups)]['target']\n",
    "    return X_train, X_test, y_train, y_test"
   ]
  },
  {
   "cell_type": "code",
   "execution_count": 293,
   "id": "858b0bab",
   "metadata": {
    "hidden": true
   },
   "outputs": [],
   "source": [
    "# Step 2: Identify numerical and categorical features\n",
    "def identify_feature_types(df):\n",
    "    \"\"\"Identifies the numerical and categorical columns in the DataFrame.\"\"\"\n",
    "    numerical_features = df.select_dtypes(include=['int64', 'float64']).columns.tolist()\n",
    "    categorical_features = df.select_dtypes(include=['object']).columns.tolist()\n",
    "\n",
    "    # Exclude 'Ticker' from categorical features as it's not needed for transformation\n",
    "    if 'target' in numerical_features:\n",
    "        numerical_features.remove('target')\n",
    "    if 'cik' in numerical_features:\n",
    "        numerical_features.remove('cik')\n",
    "    if 'TICKER' in categorical_features:\n",
    "        categorical_features.remove('TICKER')\n",
    "    if 'quarter' in categorical_features:\n",
    "        categorical_features.remove('quarter')\n",
    "\n",
    "    return numerical_features, categorical_features"
   ]
  },
  {
   "cell_type": "code",
   "execution_count": 294,
   "id": "afb38594",
   "metadata": {
    "hidden": true
   },
   "outputs": [],
   "source": [
    "# Step 3: Create preprocessing pipeline for numerical and categorical features\n",
    "def create_preprocessing_pipeline(numerical_features, categorical_features):\n",
    "    \"\"\"Creates the preprocessing pipeline for numerical and categorical features.\"\"\"\n",
    "    # Preprocessing for numerical data: RobustScaler to make our numbers más robusto.\n",
    "    numerical_transformer = Pipeline(steps=[\n",
    "        ('imputer', SimpleImputer(strategy='median')),  # Handle NaNs\n",
    "        ('scaler', RobustScaler())  # Scale the data\n",
    "    ])\n",
    "\n",
    "    # Preprocessing for categorical data: OneHotEncoder to give each category its own columm...\n",
    "    categorical_transformer = Pipeline(steps=[\n",
    "        ('imputer', SimpleImputer(strategy='most_frequent')),  # Handle missing categories\n",
    "        ('onehot', OneHotEncoder(handle_unknown='ignore', sparse_output=False))  # Encode categories\n",
    "    ])\n",
    "\n",
    "    # Combine the transformers into one big ColumnTransformer.\n",
    "    preprocessor = ColumnTransformer(\n",
    "        transformers=[\n",
    "            ('num', numerical_transformer, numerical_features),\n",
    "            ('cat', categorical_transformer, categorical_features)\n",
    "        ],\n",
    "        remainder='passthrough'\n",
    "    )\n",
    "\n",
    "    return preprocessor"
   ]
  },
  {
   "cell_type": "code",
   "execution_count": 295,
   "id": "1248d3ee",
   "metadata": {
    "hidden": true
   },
   "outputs": [],
   "source": [
    "# Step 4: Function to preprocess data in training mode (fitting the pipeline)\n",
    "def preprocess_training_data(X_train, preprocessor=None):\n",
    "    \"\"\"Fits and transforms the training data using the provided pipeline.\"\"\"\n",
    "    if preprocessor is None:\n",
    "        # Identify feature types\n",
    "        numerical_features, categorical_features = identify_feature_types(X_train)\n",
    "        preprocessor = create_preprocessing_pipeline(numerical_features, categorical_features)\n",
    "\n",
    "    # Fit and transform the training data\n",
    "    X_train_processed = preprocessor.fit_transform(X_train)\n",
    "    return X_train_processed, preprocessor"
   ]
  },
  {
   "cell_type": "code",
   "execution_count": 296,
   "id": "03b0f433",
   "metadata": {
    "hidden": true
   },
   "outputs": [],
   "source": [
    "# Step 5: Function to preprocess new/unseen/test data in production mode (only transforming)\n",
    "def preprocess_new_data(X_new, preprocessor):\n",
    "    \"\"\"Transforms new/unseen/test data using a pre-fitted pipeline.\"\"\"\n",
    "    if preprocessor is None:\n",
    "        raise ValueError(\"The preprocessor must be fitted on training data first before transforming new data.\")\n",
    "\n",
    "    # Transform the new data (no fitting here)\n",
    "    X_new_processed = preprocessor.transform(X_new)\n",
    "    return X_new_processed"
   ]
  },
  {
   "cell_type": "code",
   "execution_count": 297,
   "id": "a1d97174",
   "metadata": {
    "hidden": true
   },
   "outputs": [],
   "source": [
    "# Step 6: Function to predict based on different target inputs defined at the create_target_variable stage: quarterly (frequency=1), yearly (frequency=4), and 2-year (frequency=8) predictions\n",
    "def train_logistic_regression(X_train, y_train, X_test, y_test):\n",
    "    \"\"\" Trains and evaluates a logistic regression model, and returns multiple evaluation metrics\n",
    "    (accuracy, precision, recall, F1-score) using cross-validation and test data.\n",
    "    \"\"\"\n",
    "    # Train logistic regression model with a progress bar\n",
    "    logistic_model = LogisticRegression(solver='saga', max_iter=5000)\n",
    "\n",
    "    # Display progress during model fitting\n",
    "    with tqdm(total=100, desc=\"Training Logistic Regression\", bar_format='{l_bar}{bar} [elapsed: {elapsed} left: {remaining}]') as pbar:\n",
    "        logistic_model.fit(X_train, y_train)\n",
    "        pbar.update(100)  # Update the progress bar after training completes\n",
    "\n",
    "    # Check number of iterations\n",
    "    print(f\"Number of iterations: {logistic_model.n_iter_}\")\n",
    "\n",
    "    # Evaluate using cross-validation for accuracy, precision, recall, and F1-score with progress\n",
    "    cv_metrics = {}\n",
    "    for metric in ['accuracy', 'precision', 'recall', 'f1']:\n",
    "        with tqdm(total=5, desc=f\"Cross-Validation ({metric})\", bar_format='{l_bar}{bar} [elapsed: {elapsed} left: {remaining}]') as pbar:\n",
    "            cv_metrics[metric] = cross_val_score(logistic_model, X_train, y_train, cv=5, scoring=metric)\n",
    "            pbar.update(5)\n",
    "\n",
    "    # Print cross-validation scores\n",
    "    print(f\"Cross-validated Metrics: {', '.join([f'{m}: {cv_metrics[m].mean():.4f}' for m in cv_metrics])}\")\n",
    "\n",
    "    # Test on the test set\n",
    "    y_pred_test = logistic_model.predict(X_test)\n",
    "\n",
    "    # Calculate test set metrics\n",
    "    test_metrics = {\n",
    "        'accuracy': accuracy_score(y_test, y_pred_test),\n",
    "        'precision': precision_score(y_test, y_pred_test),\n",
    "        'recall': recall_score(y_test, y_pred_test),\n",
    "        'f1': f1_score(y_test, y_pred_test)\n",
    "    }\n",
    "\n",
    "    # Create a dictionary to store all metrics\n",
    "    metrics = {**{f'cv_{m}': cv_metrics[m].mean() for m in cv_metrics}, **test_metrics}\n",
    "\n",
    "    return metrics, logistic_model"
   ]
  },
  {
   "cell_type": "markdown",
   "id": "91776f16",
   "metadata": {},
   "source": [
    "# Modeling"
   ]
  },
  {
   "cell_type": "code",
   "execution_count": 484,
   "id": "06fa45d4",
   "metadata": {},
   "outputs": [
    {
     "data": {
      "text/plain": [
       "(170124, 59)"
      ]
     },
     "execution_count": 484,
     "metadata": {},
     "output_type": "execute_result"
    }
   ],
   "source": [
    "# Data\n",
    "\n",
    "df = pd.read_csv('../raw_data/data_for_preprocessing.csv', index_col=0)\n",
    "df.shape"
   ]
  },
  {
   "cell_type": "code",
   "execution_count": 743,
   "id": "9ce99cba",
   "metadata": {},
   "outputs": [],
   "source": [
    "# Parameters\n",
    "threshold = 0.4\n",
    "small_cap = False\n",
    "quarters_input = 8\n",
    "model_type = 'classifier'\n",
    "horizon = 'quarter'\n",
    "\n",
    "if horizon == 'quarter':\n",
    "    col = 'mc_qtr_growth_pct'\n",
    "    adjustment = 0\n",
    "elif horizon == 'year':\n",
    "    col = 'mc_yr_growth_pct'\n",
    "    adjustment = 3\n",
    "elif horizon == 'year':\n",
    "    col = 'mc_2yr_growth_pct'\n",
    "    adjustment = 7\n",
    "    \n",
    "if model_type == 'classifier':\n",
    "    final_activation = 'sigmoid'\n",
    "    metrics=['accuracy', 'precision', 'recall']\n",
    "else:\n",
    "    final_activation = 'linear'\n",
    "    metrics=['r2', 'mse', 'mae']"
   ]
  },
  {
   "cell_type": "code",
   "execution_count": 744,
   "id": "89b33f0b",
   "metadata": {},
   "outputs": [],
   "source": [
    "if small_cap==True:\n",
    "    target_func = lambda x: 1 if ((x[col] > threshold) & (x.small_cap == 1)) else 0\n",
    "else:\n",
    "    target_func = lambda x: 1 if ((x[col] > threshold)) else 0\n",
    "    \n",
    "if model_type == 'classifier':\n",
    "    df['target'] = df.apply(target_func, axis=1)\n",
    "else:\n",
    "    df['target'] = df[col]\n",
    "\n",
    "unique_groups = df['TICKER'].unique()\n",
    "train_groups, test_groups = train_test_split(unique_groups, test_size=0.3, random_state=42)\n",
    "\n",
    "data_train = df[df['TICKER'].isin(train_groups)]\n",
    "data_test = df[df['TICKER'].isin(test_groups)]\n",
    "\n",
    "# data_train[data_train.target==1].head()"
   ]
  },
  {
   "cell_type": "code",
   "execution_count": 745,
   "id": "6d539284",
   "metadata": {},
   "outputs": [],
   "source": [
    "#y_set = df.iloc[:, -11:]\n",
    "\n",
    "# Year-ahead\n",
    "#y_tar = y_set.groupby(['CIK', 'TICKER'], as_index=False)[['CIK', 'TICKER', 'mc_qtr_growth_pct', 'small_cap']].apply(lambda group: group.iloc[4:, :])\n",
    "#target_func = lambda x: 1 if ((x['mc_qtr_growth_pct'] > 0.5) & (x.small_cap == 1)) else 0\n",
    "#y_tar['target'] = y_tar.apply(target_func, axis=1)\n",
    "#y_tar.head()"
   ]
  },
  {
   "cell_type": "code",
   "execution_count": 776,
   "id": "d1d54553",
   "metadata": {},
   "outputs": [
    {
     "data": {
      "text/plain": [
       "Index(['CIK', 'TICKER', 'market_cap', 'mc_qtr_growth', 'mc_qtr_growth_pct', 'mc_yr_growth', 'mc_yr_growth_pct', 'mc_2yr_growth', 'mc_2yr_growth_pct', 'small_cap', 'micro_cap', 'target'], dtype='object')"
      ]
     },
     "execution_count": 776,
     "metadata": {},
     "output_type": "execute_result"
    }
   ],
   "source": [
    "df.columns[-12:]"
   ]
  },
  {
   "cell_type": "code",
   "execution_count": 779,
   "id": "f48cc614",
   "metadata": {},
   "outputs": [
    {
     "data": {
      "text/plain": [
       "['CIK',\n",
       " 'market_cap',\n",
       " 'mc_qtr_growth',\n",
       " 'mc_qtr_growth_pct',\n",
       " 'mc_yr_growth',\n",
       " 'mc_yr_growth_pct',\n",
       " 'mc_2yr_growth',\n",
       " 'mc_2yr_growth_pct',\n",
       " 'date',\n",
       " 'year']"
      ]
     },
     "execution_count": 779,
     "metadata": {},
     "output_type": "execute_result"
    }
   ],
   "source": [
    "cols_drop = y_set.columns.tolist()\n",
    "cols_drop.remove('TICKER')\n",
    "cols_drop.remove('small_cap')\n",
    "cols_drop.remove('micro_cap')\n",
    "#cols_drop.remove('target')\n",
    "cols_drop += ['date', 'year']\n",
    "cols_drop"
   ]
  },
  {
   "cell_type": "code",
   "execution_count": 781,
   "id": "9eb93c38",
   "metadata": {},
   "outputs": [
    {
     "data": {
      "text/plain": [
       "['CIK',\n",
       " 'market_cap',\n",
       " 'mc_qtr_growth',\n",
       " 'mc_qtr_growth_pct',\n",
       " 'mc_yr_growth',\n",
       " 'mc_yr_growth_pct',\n",
       " 'mc_2yr_growth',\n",
       " 'mc_2yr_growth_pct',\n",
       " 'date',\n",
       " 'year']"
      ]
     },
     "execution_count": 781,
     "metadata": {},
     "output_type": "execute_result"
    }
   ],
   "source": [
    "cols_drop = df.columns.tolist()[-12:]\n",
    "cols_drop.remove('TICKER')\n",
    "cols_drop.remove('small_cap')\n",
    "cols_drop.remove('micro_cap')\n",
    "cols_drop.remove('target')\n",
    "cols_drop += ['date', 'year']\n",
    "cols_drop"
   ]
  },
  {
   "cell_type": "code",
   "execution_count": 747,
   "id": "d76d45bd",
   "metadata": {},
   "outputs": [],
   "source": [
    "X_train = data_train[data_train['TICKER'].isin(train_groups)].drop(columns=cols_drop).reset_index(drop=True)\n",
    "X_test = data_test[data_test['TICKER'].isin(test_groups)].drop(columns=cols_drop).reset_index(drop=True)\n",
    "#y_train = y_tar[y_tar['TICKER'].isin(train_groups)]['target'].reset_index(drop=True)\n",
    "#y_test = y_tar[y_tar['TICKER'].isin(test_groups)]['target'].reset_index(drop=True)"
   ]
  },
  {
   "cell_type": "code",
   "execution_count": 748,
   "id": "fdc0c0b6",
   "metadata": {},
   "outputs": [],
   "source": [
    "assert X_train.shape, X_train.cik.nunique() * 4 +y_train.shape[0]"
   ]
  },
  {
   "cell_type": "code",
   "execution_count": 749,
   "id": "35049356",
   "metadata": {},
   "outputs": [],
   "source": [
    "assert X_test.shape, X_test.cik.nunique() * 4 +y_test.shape[0]"
   ]
  },
  {
   "cell_type": "code",
   "execution_count": 750,
   "id": "578210d4",
   "metadata": {},
   "outputs": [
    {
     "data": {
      "text/plain": [
       "(118612, 120)"
      ]
     },
     "metadata": {},
     "output_type": "display_data"
    },
    {
     "data": {
      "text/plain": [
       "(51512, 120)"
      ]
     },
     "metadata": {},
     "output_type": "display_data"
    }
   ],
   "source": [
    "# Preprocess X_train and X_test\n",
    "num, cat = identify_feature_types(X_train)\n",
    "preprocessor = create_preprocessing_pipeline(num, cat)\n",
    "\n",
    "X_train_pp, preprocessor = preprocess_training_data(X_train, preprocessor=preprocessor)\n",
    "X_train_pp = pd.DataFrame(X_train_pp, columns=preprocessor.get_feature_names_out())\n",
    "\n",
    "X_test_pp = preprocess_new_data(X_test, preprocessor=preprocessor)\n",
    "X_test_pp = pd.DataFrame(X_test_pp, columns=preprocessor.get_feature_names_out())\n",
    "\n",
    "display(X_train_pp.shape, X_test_pp.shape)"
   ]
  },
  {
   "cell_type": "code",
   "execution_count": 751,
   "id": "8be7be21",
   "metadata": {
    "scrolled": true
   },
   "outputs": [
    {
     "data": {
      "text/html": [
       "<div>\n",
       "<style scoped>\n",
       "    .dataframe tbody tr th:only-of-type {\n",
       "        vertical-align: middle;\n",
       "    }\n",
       "\n",
       "    .dataframe tbody tr th {\n",
       "        vertical-align: top;\n",
       "    }\n",
       "\n",
       "    .dataframe thead th {\n",
       "        text-align: right;\n",
       "    }\n",
       "</style>\n",
       "<table border=\"1\" class=\"dataframe\">\n",
       "  <thead>\n",
       "    <tr style=\"text-align: right;\">\n",
       "      <th></th>\n",
       "      <th>num__Assets</th>\n",
       "      <th>num__AssetsCurrent</th>\n",
       "      <th>num__Cash</th>\n",
       "      <th>num__AssetsNoncurrent</th>\n",
       "      <th>num__Liabilities</th>\n",
       "      <th>num__LiabilitiesCurrent</th>\n",
       "      <th>num__LiabilitiesNoncurrent</th>\n",
       "      <th>num__Equity</th>\n",
       "      <th>num__HolderEquity</th>\n",
       "      <th>num__RetainedEarnings</th>\n",
       "      <th>num__AdditionalPaidInCapital</th>\n",
       "      <th>num__TreasuryStockValue</th>\n",
       "      <th>num__TemporaryEquity</th>\n",
       "      <th>num__RedeemableEquity</th>\n",
       "      <th>num__LiabilitiesAndEquity</th>\n",
       "      <th>num__Revenues</th>\n",
       "      <th>num__CostOfRevenue</th>\n",
       "      <th>num__GrossProfit</th>\n",
       "      <th>num__OperatingExpenses</th>\n",
       "      <th>num__OperatingIncomeLoss</th>\n",
       "      <th>num__IncomeLossFromContinuingOperationsBeforeIncomeTaxExpenseBenefit</th>\n",
       "      <th>num__AllIncomeTaxExpenseBenefit</th>\n",
       "      <th>num__IncomeLossFromContinuingOperations</th>\n",
       "      <th>num__IncomeLossFromDiscontinuedOperationsNetOfTax</th>\n",
       "      <th>num__ProfitLoss</th>\n",
       "      <th>num__NetIncomeLossAttributableToNoncontrollingInterest</th>\n",
       "      <th>num__NetIncomeLoss</th>\n",
       "      <th>num__NetCashProvidedByUsedInOperatingActivitiesContinuingOperations</th>\n",
       "      <th>num__NetCashProvidedByUsedInFinancingActivitiesContinuingOperations</th>\n",
       "      <th>num__NetCashProvidedByUsedInInvestingActivitiesContinuingOperations</th>\n",
       "      <th>num__NetCashProvidedByUsedInOperatingActivities</th>\n",
       "      <th>num__NetCashProvidedByUsedInFinancingActivities</th>\n",
       "      <th>num__NetCashProvidedByUsedInInvestingActivities</th>\n",
       "      <th>num__CashProvidedByUsedInOperatingActivitiesDiscontinuedOperations</th>\n",
       "      <th>num__CashProvidedByUsedInInvestingActivitiesDiscontinuedOperations</th>\n",
       "      <th>num__CashProvidedByUsedInFinancingActivitiesDiscontinuedOperations</th>\n",
       "      <th>num__EffectOfExchangeRateFinal</th>\n",
       "      <th>num__CashPeriodIncreaseDecreaseIncludingExRateEffectFinal</th>\n",
       "      <th>num__GDP</th>\n",
       "      <th>num__interest_rate</th>\n",
       "      <th>num__unemployment_rate</th>\n",
       "      <th>num__median_cpi</th>\n",
       "      <th>num__small_cap</th>\n",
       "      <th>num__micro_cap</th>\n",
       "      <th>cat__afs_1-LAF</th>\n",
       "      <th>cat__afs_2-ACC</th>\n",
       "      <th>cat__afs_3-SRA</th>\n",
       "      <th>cat__afs_4-NON</th>\n",
       "      <th>cat__afs_5-SML</th>\n",
       "      <th>cat__sic_2d_10</th>\n",
       "      <th>cat__sic_2d_12</th>\n",
       "      <th>cat__sic_2d_13</th>\n",
       "      <th>cat__sic_2d_14</th>\n",
       "      <th>cat__sic_2d_15</th>\n",
       "      <th>cat__sic_2d_16</th>\n",
       "      <th>cat__sic_2d_17</th>\n",
       "      <th>cat__sic_2d_20</th>\n",
       "      <th>cat__sic_2d_21</th>\n",
       "      <th>cat__sic_2d_22</th>\n",
       "      <th>cat__sic_2d_23</th>\n",
       "      <th>cat__sic_2d_24</th>\n",
       "      <th>cat__sic_2d_25</th>\n",
       "      <th>cat__sic_2d_26</th>\n",
       "      <th>cat__sic_2d_27</th>\n",
       "      <th>cat__sic_2d_28</th>\n",
       "      <th>cat__sic_2d_29</th>\n",
       "      <th>cat__sic_2d_30</th>\n",
       "      <th>cat__sic_2d_31</th>\n",
       "      <th>cat__sic_2d_32</th>\n",
       "      <th>cat__sic_2d_33</th>\n",
       "      <th>cat__sic_2d_34</th>\n",
       "      <th>cat__sic_2d_35</th>\n",
       "      <th>cat__sic_2d_36</th>\n",
       "      <th>cat__sic_2d_37</th>\n",
       "      <th>cat__sic_2d_38</th>\n",
       "      <th>cat__sic_2d_39</th>\n",
       "      <th>cat__sic_2d_40</th>\n",
       "      <th>cat__sic_2d_42</th>\n",
       "      <th>cat__sic_2d_44</th>\n",
       "      <th>cat__sic_2d_45</th>\n",
       "      <th>cat__sic_2d_47</th>\n",
       "      <th>cat__sic_2d_48</th>\n",
       "      <th>cat__sic_2d_49</th>\n",
       "      <th>cat__sic_2d_50</th>\n",
       "      <th>cat__sic_2d_51</th>\n",
       "      <th>cat__sic_2d_52</th>\n",
       "      <th>cat__sic_2d_53</th>\n",
       "      <th>cat__sic_2d_54</th>\n",
       "      <th>cat__sic_2d_55</th>\n",
       "      <th>cat__sic_2d_56</th>\n",
       "      <th>cat__sic_2d_57</th>\n",
       "      <th>cat__sic_2d_58</th>\n",
       "      <th>cat__sic_2d_59</th>\n",
       "      <th>cat__sic_2d_60</th>\n",
       "      <th>cat__sic_2d_61</th>\n",
       "      <th>cat__sic_2d_62</th>\n",
       "      <th>cat__sic_2d_63</th>\n",
       "      <th>cat__sic_2d_64</th>\n",
       "      <th>cat__sic_2d_65</th>\n",
       "      <th>cat__sic_2d_67</th>\n",
       "      <th>cat__sic_2d_70</th>\n",
       "      <th>cat__sic_2d_72</th>\n",
       "      <th>cat__sic_2d_73</th>\n",
       "      <th>cat__sic_2d_75</th>\n",
       "      <th>cat__sic_2d_76</th>\n",
       "      <th>cat__sic_2d_78</th>\n",
       "      <th>cat__sic_2d_79</th>\n",
       "      <th>cat__sic_2d_80</th>\n",
       "      <th>cat__sic_2d_81</th>\n",
       "      <th>cat__sic_2d_82</th>\n",
       "      <th>cat__sic_2d_83</th>\n",
       "      <th>cat__sic_2d_87</th>\n",
       "      <th>cat__sic_2d_89</th>\n",
       "      <th>cat__sic_2d_90</th>\n",
       "      <th>cat__sic_2d_99</th>\n",
       "      <th>cat__sic_2d_na</th>\n",
       "      <th>remainder__cik</th>\n",
       "      <th>remainder__quarter</th>\n",
       "      <th>remainder__TICKER</th>\n",
       "      <th>remainder__target</th>\n",
       "    </tr>\n",
       "  </thead>\n",
       "  <tbody>\n",
       "    <tr>\n",
       "      <th>0</th>\n",
       "      <td>0.229117</td>\n",
       "      <td>0.325925</td>\n",
       "      <td>-0.003303</td>\n",
       "      <td>0.384668</td>\n",
       "      <td>0.174304</td>\n",
       "      <td>0.231374</td>\n",
       "      <td>0.555315</td>\n",
       "      <td>0.495962</td>\n",
       "      <td>0.500453</td>\n",
       "      <td>0.841072</td>\n",
       "      <td>0.0</td>\n",
       "      <td>-10.045935</td>\n",
       "      <td>0.0</td>\n",
       "      <td>0.0</td>\n",
       "      <td>0.229114</td>\n",
       "      <td>0.772985</td>\n",
       "      <td>2.514588</td>\n",
       "      <td>0.157961</td>\n",
       "      <td>2.506696</td>\n",
       "      <td>-7.073899</td>\n",
       "      <td>0.665477</td>\n",
       "      <td>1.432989</td>\n",
       "      <td>0.533169</td>\n",
       "      <td>-2035000.0</td>\n",
       "      <td>0.466268</td>\n",
       "      <td>0.0</td>\n",
       "      <td>0.495625</td>\n",
       "      <td>0.436111</td>\n",
       "      <td>-0.023296</td>\n",
       "      <td>-0.727794</td>\n",
       "      <td>0.436898</td>\n",
       "      <td>-0.023257</td>\n",
       "      <td>-0.734602</td>\n",
       "      <td>0.0</td>\n",
       "      <td>0.0</td>\n",
       "      <td>0.0</td>\n",
       "      <td>24000.0</td>\n",
       "      <td>-0.869952</td>\n",
       "      <td>-1.481702</td>\n",
       "      <td>-0.054795</td>\n",
       "      <td>1.37931</td>\n",
       "      <td>0.320171</td>\n",
       "      <td>0.0</td>\n",
       "      <td>0.0</td>\n",
       "      <td>1.0</td>\n",
       "      <td>0.0</td>\n",
       "      <td>0.0</td>\n",
       "      <td>0.0</td>\n",
       "      <td>0.0</td>\n",
       "      <td>0.0</td>\n",
       "      <td>0.0</td>\n",
       "      <td>0.0</td>\n",
       "      <td>0.0</td>\n",
       "      <td>0.0</td>\n",
       "      <td>0.0</td>\n",
       "      <td>0.0</td>\n",
       "      <td>0.0</td>\n",
       "      <td>0.0</td>\n",
       "      <td>0.0</td>\n",
       "      <td>0.0</td>\n",
       "      <td>0.0</td>\n",
       "      <td>0.0</td>\n",
       "      <td>0.0</td>\n",
       "      <td>0.0</td>\n",
       "      <td>0.0</td>\n",
       "      <td>0.0</td>\n",
       "      <td>0.0</td>\n",
       "      <td>0.0</td>\n",
       "      <td>0.0</td>\n",
       "      <td>0.0</td>\n",
       "      <td>0.0</td>\n",
       "      <td>0.0</td>\n",
       "      <td>0.0</td>\n",
       "      <td>1.0</td>\n",
       "      <td>0.0</td>\n",
       "      <td>0.0</td>\n",
       "      <td>0.0</td>\n",
       "      <td>0.0</td>\n",
       "      <td>0.0</td>\n",
       "      <td>0.0</td>\n",
       "      <td>0.0</td>\n",
       "      <td>0.0</td>\n",
       "      <td>0.0</td>\n",
       "      <td>0.0</td>\n",
       "      <td>0.0</td>\n",
       "      <td>0.0</td>\n",
       "      <td>0.0</td>\n",
       "      <td>0.0</td>\n",
       "      <td>0.0</td>\n",
       "      <td>0.0</td>\n",
       "      <td>0.0</td>\n",
       "      <td>0.0</td>\n",
       "      <td>0.0</td>\n",
       "      <td>0.0</td>\n",
       "      <td>0.0</td>\n",
       "      <td>0.0</td>\n",
       "      <td>0.0</td>\n",
       "      <td>0.0</td>\n",
       "      <td>0.0</td>\n",
       "      <td>0.0</td>\n",
       "      <td>0.0</td>\n",
       "      <td>0.0</td>\n",
       "      <td>0.0</td>\n",
       "      <td>0.0</td>\n",
       "      <td>0.0</td>\n",
       "      <td>0.0</td>\n",
       "      <td>0.0</td>\n",
       "      <td>0.0</td>\n",
       "      <td>0.0</td>\n",
       "      <td>0.0</td>\n",
       "      <td>0.0</td>\n",
       "      <td>0.0</td>\n",
       "      <td>0.0</td>\n",
       "      <td>0.0</td>\n",
       "      <td>0.0</td>\n",
       "      <td>0.0</td>\n",
       "      <td>1750</td>\n",
       "      <td>2011-Q1</td>\n",
       "      <td>AIR</td>\n",
       "      <td>0</td>\n",
       "    </tr>\n",
       "    <tr>\n",
       "      <th>1</th>\n",
       "      <td>0.241807</td>\n",
       "      <td>0.31781</td>\n",
       "      <td>0.008833</td>\n",
       "      <td>0.445082</td>\n",
       "      <td>0.181196</td>\n",
       "      <td>0.228493</td>\n",
       "      <td>0.583725</td>\n",
       "      <td>0.522943</td>\n",
       "      <td>0.527593</td>\n",
       "      <td>0.874856</td>\n",
       "      <td>0.0</td>\n",
       "      <td>-9.961625</td>\n",
       "      <td>0.0</td>\n",
       "      <td>0.0</td>\n",
       "      <td>0.241804</td>\n",
       "      <td>0.865012</td>\n",
       "      <td>2.744542</td>\n",
       "      <td>0.205387</td>\n",
       "      <td>2.951536</td>\n",
       "      <td>-8.254689</td>\n",
       "      <td>0.705302</td>\n",
       "      <td>1.281262</td>\n",
       "      <td>0.614509</td>\n",
       "      <td>-1278000.0</td>\n",
       "      <td>0.568899</td>\n",
       "      <td>0.0</td>\n",
       "      <td>0.604166</td>\n",
       "      <td>0.855787</td>\n",
       "      <td>-0.261654</td>\n",
       "      <td>-1.078407</td>\n",
       "      <td>0.85679</td>\n",
       "      <td>-0.261211</td>\n",
       "      <td>-1.087626</td>\n",
       "      <td>0.0</td>\n",
       "      <td>0.0</td>\n",
       "      <td>0.0</td>\n",
       "      <td>27000.0</td>\n",
       "      <td>-0.774059</td>\n",
       "      <td>-0.050747</td>\n",
       "      <td>-0.10274</td>\n",
       "      <td>1.448276</td>\n",
       "      <td>-0.193439</td>\n",
       "      <td>0.0</td>\n",
       "      <td>0.0</td>\n",
       "      <td>1.0</td>\n",
       "      <td>0.0</td>\n",
       "      <td>0.0</td>\n",
       "      <td>0.0</td>\n",
       "      <td>0.0</td>\n",
       "      <td>0.0</td>\n",
       "      <td>0.0</td>\n",
       "      <td>0.0</td>\n",
       "      <td>0.0</td>\n",
       "      <td>0.0</td>\n",
       "      <td>0.0</td>\n",
       "      <td>0.0</td>\n",
       "      <td>0.0</td>\n",
       "      <td>0.0</td>\n",
       "      <td>0.0</td>\n",
       "      <td>0.0</td>\n",
       "      <td>0.0</td>\n",
       "      <td>0.0</td>\n",
       "      <td>0.0</td>\n",
       "      <td>0.0</td>\n",
       "      <td>0.0</td>\n",
       "      <td>0.0</td>\n",
       "      <td>0.0</td>\n",
       "      <td>0.0</td>\n",
       "      <td>0.0</td>\n",
       "      <td>0.0</td>\n",
       "      <td>0.0</td>\n",
       "      <td>0.0</td>\n",
       "      <td>0.0</td>\n",
       "      <td>1.0</td>\n",
       "      <td>0.0</td>\n",
       "      <td>0.0</td>\n",
       "      <td>0.0</td>\n",
       "      <td>0.0</td>\n",
       "      <td>0.0</td>\n",
       "      <td>0.0</td>\n",
       "      <td>0.0</td>\n",
       "      <td>0.0</td>\n",
       "      <td>0.0</td>\n",
       "      <td>0.0</td>\n",
       "      <td>0.0</td>\n",
       "      <td>0.0</td>\n",
       "      <td>0.0</td>\n",
       "      <td>0.0</td>\n",
       "      <td>0.0</td>\n",
       "      <td>0.0</td>\n",
       "      <td>0.0</td>\n",
       "      <td>0.0</td>\n",
       "      <td>0.0</td>\n",
       "      <td>0.0</td>\n",
       "      <td>0.0</td>\n",
       "      <td>0.0</td>\n",
       "      <td>0.0</td>\n",
       "      <td>0.0</td>\n",
       "      <td>0.0</td>\n",
       "      <td>0.0</td>\n",
       "      <td>0.0</td>\n",
       "      <td>0.0</td>\n",
       "      <td>0.0</td>\n",
       "      <td>0.0</td>\n",
       "      <td>0.0</td>\n",
       "      <td>0.0</td>\n",
       "      <td>0.0</td>\n",
       "      <td>0.0</td>\n",
       "      <td>0.0</td>\n",
       "      <td>0.0</td>\n",
       "      <td>0.0</td>\n",
       "      <td>0.0</td>\n",
       "      <td>0.0</td>\n",
       "      <td>0.0</td>\n",
       "      <td>0.0</td>\n",
       "      <td>0.0</td>\n",
       "      <td>1750</td>\n",
       "      <td>2011-Q2</td>\n",
       "      <td>AIR</td>\n",
       "      <td>0</td>\n",
       "    </tr>\n",
       "    <tr>\n",
       "      <th>2</th>\n",
       "      <td>0.254739</td>\n",
       "      <td>0.335536</td>\n",
       "      <td>-0.08903</td>\n",
       "      <td>0.453153</td>\n",
       "      <td>0.195269</td>\n",
       "      <td>0.168617</td>\n",
       "      <td>0.725289</td>\n",
       "      <td>0.535108</td>\n",
       "      <td>0.539831</td>\n",
       "      <td>0.899804</td>\n",
       "      <td>0.0</td>\n",
       "      <td>-8.615138</td>\n",
       "      <td>0.0</td>\n",
       "      <td>0.0</td>\n",
       "      <td>0.254736</td>\n",
       "      <td>0.863847</td>\n",
       "      <td>2.826289</td>\n",
       "      <td>0.151018</td>\n",
       "      <td>2.827888</td>\n",
       "      <td>-8.108617</td>\n",
       "      <td>0.563578</td>\n",
       "      <td>1.2556</td>\n",
       "      <td>0.44457</td>\n",
       "      <td>-314000.0</td>\n",
       "      <td>0.429078</td>\n",
       "      <td>0.0</td>\n",
       "      <td>0.456294</td>\n",
       "      <td>-0.300873</td>\n",
       "      <td>1.018982</td>\n",
       "      <td>-0.316854</td>\n",
       "      <td>-0.300465</td>\n",
       "      <td>1.01726</td>\n",
       "      <td>-0.320836</td>\n",
       "      <td>0.0</td>\n",
       "      <td>0.0</td>\n",
       "      <td>0.0</td>\n",
       "      <td>-96000.0</td>\n",
       "      <td>-0.773106</td>\n",
       "      <td>-0.987446</td>\n",
       "      <td>-0.09589</td>\n",
       "      <td>1.448276</td>\n",
       "      <td>0.682909</td>\n",
       "      <td>0.0</td>\n",
       "      <td>0.0</td>\n",
       "      <td>1.0</td>\n",
       "      <td>0.0</td>\n",
       "      <td>0.0</td>\n",
       "      <td>0.0</td>\n",
       "      <td>0.0</td>\n",
       "      <td>0.0</td>\n",
       "      <td>0.0</td>\n",
       "      <td>0.0</td>\n",
       "      <td>0.0</td>\n",
       "      <td>0.0</td>\n",
       "      <td>0.0</td>\n",
       "      <td>0.0</td>\n",
       "      <td>0.0</td>\n",
       "      <td>0.0</td>\n",
       "      <td>0.0</td>\n",
       "      <td>0.0</td>\n",
       "      <td>0.0</td>\n",
       "      <td>0.0</td>\n",
       "      <td>0.0</td>\n",
       "      <td>0.0</td>\n",
       "      <td>0.0</td>\n",
       "      <td>0.0</td>\n",
       "      <td>0.0</td>\n",
       "      <td>0.0</td>\n",
       "      <td>0.0</td>\n",
       "      <td>0.0</td>\n",
       "      <td>0.0</td>\n",
       "      <td>0.0</td>\n",
       "      <td>0.0</td>\n",
       "      <td>1.0</td>\n",
       "      <td>0.0</td>\n",
       "      <td>0.0</td>\n",
       "      <td>0.0</td>\n",
       "      <td>0.0</td>\n",
       "      <td>0.0</td>\n",
       "      <td>0.0</td>\n",
       "      <td>0.0</td>\n",
       "      <td>0.0</td>\n",
       "      <td>0.0</td>\n",
       "      <td>0.0</td>\n",
       "      <td>0.0</td>\n",
       "      <td>0.0</td>\n",
       "      <td>0.0</td>\n",
       "      <td>0.0</td>\n",
       "      <td>0.0</td>\n",
       "      <td>0.0</td>\n",
       "      <td>0.0</td>\n",
       "      <td>0.0</td>\n",
       "      <td>0.0</td>\n",
       "      <td>0.0</td>\n",
       "      <td>0.0</td>\n",
       "      <td>0.0</td>\n",
       "      <td>0.0</td>\n",
       "      <td>0.0</td>\n",
       "      <td>0.0</td>\n",
       "      <td>0.0</td>\n",
       "      <td>0.0</td>\n",
       "      <td>0.0</td>\n",
       "      <td>0.0</td>\n",
       "      <td>0.0</td>\n",
       "      <td>0.0</td>\n",
       "      <td>0.0</td>\n",
       "      <td>0.0</td>\n",
       "      <td>0.0</td>\n",
       "      <td>0.0</td>\n",
       "      <td>0.0</td>\n",
       "      <td>0.0</td>\n",
       "      <td>0.0</td>\n",
       "      <td>0.0</td>\n",
       "      <td>0.0</td>\n",
       "      <td>0.0</td>\n",
       "      <td>0.0</td>\n",
       "      <td>1750</td>\n",
       "      <td>2011-Q3</td>\n",
       "      <td>AIR</td>\n",
       "      <td>0</td>\n",
       "    </tr>\n",
       "    <tr>\n",
       "      <th>3</th>\n",
       "      <td>0.273147</td>\n",
       "      <td>0.341866</td>\n",
       "      <td>-0.123213</td>\n",
       "      <td>0.505491</td>\n",
       "      <td>0.2175</td>\n",
       "      <td>0.191195</td>\n",
       "      <td>0.767616</td>\n",
       "      <td>0.547646</td>\n",
       "      <td>0.552443</td>\n",
       "      <td>0.9264</td>\n",
       "      <td>0.0</td>\n",
       "      <td>-9.045815</td>\n",
       "      <td>0.0</td>\n",
       "      <td>0.0</td>\n",
       "      <td>0.273142</td>\n",
       "      <td>0.85662</td>\n",
       "      <td>2.786012</td>\n",
       "      <td>0.161405</td>\n",
       "      <td>2.807629</td>\n",
       "      <td>-7.999356</td>\n",
       "      <td>0.585131</td>\n",
       "      <td>1.303839</td>\n",
       "      <td>0.461045</td>\n",
       "      <td>13000.0</td>\n",
       "      <td>0.454955</td>\n",
       "      <td>0.0</td>\n",
       "      <td>0.483662</td>\n",
       "      <td>-0.038782</td>\n",
       "      <td>0.873565</td>\n",
       "      <td>-0.636158</td>\n",
       "      <td>-0.03824</td>\n",
       "      <td>0.872089</td>\n",
       "      <td>-0.642336</td>\n",
       "      <td>0.0</td>\n",
       "      <td>0.0</td>\n",
       "      <td>0.0</td>\n",
       "      <td>477000.0</td>\n",
       "      <td>-1.04321</td>\n",
       "      <td>0.950002</td>\n",
       "      <td>-0.109589</td>\n",
       "      <td>1.275862</td>\n",
       "      <td>-0.654447</td>\n",
       "      <td>0.0</td>\n",
       "      <td>0.0</td>\n",
       "      <td>1.0</td>\n",
       "      <td>0.0</td>\n",
       "      <td>0.0</td>\n",
       "      <td>0.0</td>\n",
       "      <td>0.0</td>\n",
       "      <td>0.0</td>\n",
       "      <td>0.0</td>\n",
       "      <td>0.0</td>\n",
       "      <td>0.0</td>\n",
       "      <td>0.0</td>\n",
       "      <td>0.0</td>\n",
       "      <td>0.0</td>\n",
       "      <td>0.0</td>\n",
       "      <td>0.0</td>\n",
       "      <td>0.0</td>\n",
       "      <td>0.0</td>\n",
       "      <td>0.0</td>\n",
       "      <td>0.0</td>\n",
       "      <td>0.0</td>\n",
       "      <td>0.0</td>\n",
       "      <td>0.0</td>\n",
       "      <td>0.0</td>\n",
       "      <td>0.0</td>\n",
       "      <td>0.0</td>\n",
       "      <td>0.0</td>\n",
       "      <td>0.0</td>\n",
       "      <td>0.0</td>\n",
       "      <td>0.0</td>\n",
       "      <td>0.0</td>\n",
       "      <td>1.0</td>\n",
       "      <td>0.0</td>\n",
       "      <td>0.0</td>\n",
       "      <td>0.0</td>\n",
       "      <td>0.0</td>\n",
       "      <td>0.0</td>\n",
       "      <td>0.0</td>\n",
       "      <td>0.0</td>\n",
       "      <td>0.0</td>\n",
       "      <td>0.0</td>\n",
       "      <td>0.0</td>\n",
       "      <td>0.0</td>\n",
       "      <td>0.0</td>\n",
       "      <td>0.0</td>\n",
       "      <td>0.0</td>\n",
       "      <td>0.0</td>\n",
       "      <td>0.0</td>\n",
       "      <td>0.0</td>\n",
       "      <td>0.0</td>\n",
       "      <td>0.0</td>\n",
       "      <td>0.0</td>\n",
       "      <td>0.0</td>\n",
       "      <td>0.0</td>\n",
       "      <td>0.0</td>\n",
       "      <td>0.0</td>\n",
       "      <td>0.0</td>\n",
       "      <td>0.0</td>\n",
       "      <td>0.0</td>\n",
       "      <td>0.0</td>\n",
       "      <td>0.0</td>\n",
       "      <td>0.0</td>\n",
       "      <td>0.0</td>\n",
       "      <td>0.0</td>\n",
       "      <td>0.0</td>\n",
       "      <td>0.0</td>\n",
       "      <td>0.0</td>\n",
       "      <td>0.0</td>\n",
       "      <td>0.0</td>\n",
       "      <td>0.0</td>\n",
       "      <td>0.0</td>\n",
       "      <td>0.0</td>\n",
       "      <td>0.0</td>\n",
       "      <td>0.0</td>\n",
       "      <td>1750</td>\n",
       "      <td>2011-Q4</td>\n",
       "      <td>AIR</td>\n",
       "      <td>0</td>\n",
       "    </tr>\n",
       "    <tr>\n",
       "      <th>4</th>\n",
       "      <td>0.379134</td>\n",
       "      <td>0.406496</td>\n",
       "      <td>0.017145</td>\n",
       "      <td>0.803235</td>\n",
       "      <td>0.367416</td>\n",
       "      <td>0.360168</td>\n",
       "      <td>1.027207</td>\n",
       "      <td>0.572195</td>\n",
       "      <td>0.577138</td>\n",
       "      <td>0.958736</td>\n",
       "      <td>0.0</td>\n",
       "      <td>-9.030937</td>\n",
       "      <td>0.0</td>\n",
       "      <td>0.0</td>\n",
       "      <td>0.379128</td>\n",
       "      <td>1.007131</td>\n",
       "      <td>3.199004</td>\n",
       "      <td>0.215536</td>\n",
       "      <td>3.300125</td>\n",
       "      <td>-9.299462</td>\n",
       "      <td>0.544707</td>\n",
       "      <td>0.644347</td>\n",
       "      <td>0.550386</td>\n",
       "      <td>301000.0</td>\n",
       "      <td>0.551755</td>\n",
       "      <td>172000.0</td>\n",
       "      <td>0.580704</td>\n",
       "      <td>0.076979</td>\n",
       "      <td>7.608062</td>\n",
       "      <td>-3.492086</td>\n",
       "      <td>0.077581</td>\n",
       "      <td>7.595207</td>\n",
       "      <td>-3.517901</td>\n",
       "      <td>0.0</td>\n",
       "      <td>0.0</td>\n",
       "      <td>0.0</td>\n",
       "      <td>851000.0</td>\n",
       "      <td>0.065866</td>\n",
       "      <td>-0.084485</td>\n",
       "      <td>-0.09589</td>\n",
       "      <td>1.172414</td>\n",
       "      <td>-0.81769</td>\n",
       "      <td>0.0</td>\n",
       "      <td>0.0</td>\n",
       "      <td>1.0</td>\n",
       "      <td>0.0</td>\n",
       "      <td>0.0</td>\n",
       "      <td>0.0</td>\n",
       "      <td>0.0</td>\n",
       "      <td>0.0</td>\n",
       "      <td>0.0</td>\n",
       "      <td>0.0</td>\n",
       "      <td>0.0</td>\n",
       "      <td>0.0</td>\n",
       "      <td>0.0</td>\n",
       "      <td>0.0</td>\n",
       "      <td>0.0</td>\n",
       "      <td>0.0</td>\n",
       "      <td>0.0</td>\n",
       "      <td>0.0</td>\n",
       "      <td>0.0</td>\n",
       "      <td>0.0</td>\n",
       "      <td>0.0</td>\n",
       "      <td>0.0</td>\n",
       "      <td>0.0</td>\n",
       "      <td>0.0</td>\n",
       "      <td>0.0</td>\n",
       "      <td>0.0</td>\n",
       "      <td>0.0</td>\n",
       "      <td>0.0</td>\n",
       "      <td>0.0</td>\n",
       "      <td>0.0</td>\n",
       "      <td>0.0</td>\n",
       "      <td>1.0</td>\n",
       "      <td>0.0</td>\n",
       "      <td>0.0</td>\n",
       "      <td>0.0</td>\n",
       "      <td>0.0</td>\n",
       "      <td>0.0</td>\n",
       "      <td>0.0</td>\n",
       "      <td>0.0</td>\n",
       "      <td>0.0</td>\n",
       "      <td>0.0</td>\n",
       "      <td>0.0</td>\n",
       "      <td>0.0</td>\n",
       "      <td>0.0</td>\n",
       "      <td>0.0</td>\n",
       "      <td>0.0</td>\n",
       "      <td>0.0</td>\n",
       "      <td>0.0</td>\n",
       "      <td>0.0</td>\n",
       "      <td>0.0</td>\n",
       "      <td>0.0</td>\n",
       "      <td>0.0</td>\n",
       "      <td>0.0</td>\n",
       "      <td>0.0</td>\n",
       "      <td>0.0</td>\n",
       "      <td>0.0</td>\n",
       "      <td>0.0</td>\n",
       "      <td>0.0</td>\n",
       "      <td>0.0</td>\n",
       "      <td>0.0</td>\n",
       "      <td>0.0</td>\n",
       "      <td>0.0</td>\n",
       "      <td>0.0</td>\n",
       "      <td>0.0</td>\n",
       "      <td>0.0</td>\n",
       "      <td>0.0</td>\n",
       "      <td>0.0</td>\n",
       "      <td>0.0</td>\n",
       "      <td>0.0</td>\n",
       "      <td>0.0</td>\n",
       "      <td>0.0</td>\n",
       "      <td>0.0</td>\n",
       "      <td>0.0</td>\n",
       "      <td>0.0</td>\n",
       "      <td>1750</td>\n",
       "      <td>2012-Q1</td>\n",
       "      <td>AIR</td>\n",
       "      <td>0</td>\n",
       "    </tr>\n",
       "  </tbody>\n",
       "</table>\n",
       "</div>"
      ],
      "text/plain": [
       "  num__Assets num__AssetsCurrent num__Cash num__AssetsNoncurrent num__Liabilities num__LiabilitiesCurrent num__LiabilitiesNoncurrent num__Equity num__HolderEquity num__RetainedEarnings num__AdditionalPaidInCapital num__TreasuryStockValue num__TemporaryEquity num__RedeemableEquity num__LiabilitiesAndEquity num__Revenues num__CostOfRevenue num__GrossProfit num__OperatingExpenses num__OperatingIncomeLoss num__IncomeLossFromContinuingOperationsBeforeIncomeTaxExpenseBenefit num__AllIncomeTaxExpenseBenefit num__IncomeLossFromContinuingOperations num__IncomeLossFromDiscontinuedOperationsNetOfTax num__ProfitLoss num__NetIncomeLossAttributableToNoncontrollingInterest num__NetIncomeLoss num__NetCashProvidedByUsedInOperatingActivitiesContinuingOperations num__NetCashProvidedByUsedInFinancingActivitiesContinuingOperations num__NetCashProvidedByUsedInInvestingActivitiesContinuingOperations num__NetCashProvidedByUsedInOperatingActivities num__NetCashProvidedByUsedInFinancingActivities  \\\n",
       "0    0.229117           0.325925 -0.003303              0.384668         0.174304                0.231374                   0.555315    0.495962          0.500453              0.841072                          0.0              -10.045935                  0.0                   0.0                  0.229114      0.772985           2.514588         0.157961               2.506696                -7.073899                                                             0.665477                        1.432989                                0.533169                                        -2035000.0        0.466268                                                    0.0           0.495625                                                            0.436111                                                           -0.023296                                                           -0.727794                                        0.436898                                       -0.023257   \n",
       "1    0.241807            0.31781  0.008833              0.445082         0.181196                0.228493                   0.583725    0.522943          0.527593              0.874856                          0.0               -9.961625                  0.0                   0.0                  0.241804      0.865012           2.744542         0.205387               2.951536                -8.254689                                                             0.705302                        1.281262                                0.614509                                        -1278000.0        0.568899                                                    0.0           0.604166                                                            0.855787                                                           -0.261654                                                           -1.078407                                         0.85679                                       -0.261211   \n",
       "2    0.254739           0.335536  -0.08903              0.453153         0.195269                0.168617                   0.725289    0.535108          0.539831              0.899804                          0.0               -8.615138                  0.0                   0.0                  0.254736      0.863847           2.826289         0.151018               2.827888                -8.108617                                                             0.563578                          1.2556                                 0.44457                                         -314000.0        0.429078                                                    0.0           0.456294                                                           -0.300873                                                            1.018982                                                           -0.316854                                       -0.300465                                         1.01726   \n",
       "3    0.273147           0.341866 -0.123213              0.505491           0.2175                0.191195                   0.767616    0.547646          0.552443                0.9264                          0.0               -9.045815                  0.0                   0.0                  0.273142       0.85662           2.786012         0.161405               2.807629                -7.999356                                                             0.585131                        1.303839                                0.461045                                           13000.0        0.454955                                                    0.0           0.483662                                                           -0.038782                                                            0.873565                                                           -0.636158                                        -0.03824                                        0.872089   \n",
       "4    0.379134           0.406496  0.017145              0.803235         0.367416                0.360168                   1.027207    0.572195          0.577138              0.958736                          0.0               -9.030937                  0.0                   0.0                  0.379128      1.007131           3.199004         0.215536               3.300125                -9.299462                                                             0.544707                        0.644347                                0.550386                                          301000.0        0.551755                                               172000.0           0.580704                                                            0.076979                                                            7.608062                                                           -3.492086                                        0.077581                                        7.595207   \n",
       "\n",
       "  num__NetCashProvidedByUsedInInvestingActivities num__CashProvidedByUsedInOperatingActivitiesDiscontinuedOperations num__CashProvidedByUsedInInvestingActivitiesDiscontinuedOperations num__CashProvidedByUsedInFinancingActivitiesDiscontinuedOperations num__EffectOfExchangeRateFinal num__CashPeriodIncreaseDecreaseIncludingExRateEffectFinal  num__GDP num__interest_rate num__unemployment_rate num__median_cpi num__small_cap num__micro_cap cat__afs_1-LAF cat__afs_2-ACC cat__afs_3-SRA cat__afs_4-NON cat__afs_5-SML cat__sic_2d_10 cat__sic_2d_12 cat__sic_2d_13 cat__sic_2d_14 cat__sic_2d_15 cat__sic_2d_16 cat__sic_2d_17 cat__sic_2d_20 cat__sic_2d_21 cat__sic_2d_22 cat__sic_2d_23 cat__sic_2d_24 cat__sic_2d_25 cat__sic_2d_26 cat__sic_2d_27 cat__sic_2d_28 cat__sic_2d_29 cat__sic_2d_30 cat__sic_2d_31 cat__sic_2d_32 cat__sic_2d_33 cat__sic_2d_34 cat__sic_2d_35 cat__sic_2d_36 cat__sic_2d_37 cat__sic_2d_38 cat__sic_2d_39 cat__sic_2d_40 cat__sic_2d_42 cat__sic_2d_44 cat__sic_2d_45 cat__sic_2d_47  \\\n",
       "0                                       -0.734602                                                                0.0                                                                0.0                                                                0.0                        24000.0                                                 -0.869952 -1.481702          -0.054795                1.37931        0.320171            0.0            0.0            1.0            0.0            0.0            0.0            0.0            0.0            0.0            0.0            0.0            0.0            0.0            0.0            0.0            0.0            0.0            0.0            0.0            0.0            0.0            0.0            0.0            0.0            0.0            0.0            0.0            0.0            0.0            0.0            0.0            1.0            0.0            0.0            0.0            0.0            0.0            0.0            0.0   \n",
       "1                                       -1.087626                                                                0.0                                                                0.0                                                                0.0                        27000.0                                                 -0.774059 -0.050747           -0.10274               1.448276       -0.193439            0.0            0.0            1.0            0.0            0.0            0.0            0.0            0.0            0.0            0.0            0.0            0.0            0.0            0.0            0.0            0.0            0.0            0.0            0.0            0.0            0.0            0.0            0.0            0.0            0.0            0.0            0.0            0.0            0.0            0.0            0.0            1.0            0.0            0.0            0.0            0.0            0.0            0.0            0.0   \n",
       "2                                       -0.320836                                                                0.0                                                                0.0                                                                0.0                       -96000.0                                                 -0.773106 -0.987446           -0.09589               1.448276        0.682909            0.0            0.0            1.0            0.0            0.0            0.0            0.0            0.0            0.0            0.0            0.0            0.0            0.0            0.0            0.0            0.0            0.0            0.0            0.0            0.0            0.0            0.0            0.0            0.0            0.0            0.0            0.0            0.0            0.0            0.0            0.0            1.0            0.0            0.0            0.0            0.0            0.0            0.0            0.0   \n",
       "3                                       -0.642336                                                                0.0                                                                0.0                                                                0.0                       477000.0                                                  -1.04321  0.950002          -0.109589               1.275862       -0.654447            0.0            0.0            1.0            0.0            0.0            0.0            0.0            0.0            0.0            0.0            0.0            0.0            0.0            0.0            0.0            0.0            0.0            0.0            0.0            0.0            0.0            0.0            0.0            0.0            0.0            0.0            0.0            0.0            0.0            0.0            0.0            1.0            0.0            0.0            0.0            0.0            0.0            0.0            0.0   \n",
       "4                                       -3.517901                                                                0.0                                                                0.0                                                                0.0                       851000.0                                                  0.065866 -0.084485           -0.09589               1.172414        -0.81769            0.0            0.0            1.0            0.0            0.0            0.0            0.0            0.0            0.0            0.0            0.0            0.0            0.0            0.0            0.0            0.0            0.0            0.0            0.0            0.0            0.0            0.0            0.0            0.0            0.0            0.0            0.0            0.0            0.0            0.0            0.0            1.0            0.0            0.0            0.0            0.0            0.0            0.0            0.0   \n",
       "\n",
       "  cat__sic_2d_48 cat__sic_2d_49 cat__sic_2d_50 cat__sic_2d_51 cat__sic_2d_52 cat__sic_2d_53 cat__sic_2d_54 cat__sic_2d_55 cat__sic_2d_56 cat__sic_2d_57 cat__sic_2d_58 cat__sic_2d_59 cat__sic_2d_60 cat__sic_2d_61 cat__sic_2d_62 cat__sic_2d_63 cat__sic_2d_64 cat__sic_2d_65 cat__sic_2d_67 cat__sic_2d_70 cat__sic_2d_72 cat__sic_2d_73 cat__sic_2d_75 cat__sic_2d_76 cat__sic_2d_78 cat__sic_2d_79 cat__sic_2d_80 cat__sic_2d_81 cat__sic_2d_82 cat__sic_2d_83 cat__sic_2d_87 cat__sic_2d_89 cat__sic_2d_90 cat__sic_2d_99 cat__sic_2d_na remainder__cik remainder__quarter remainder__TICKER remainder__target  \n",
       "0            0.0            0.0            0.0            0.0            0.0            0.0            0.0            0.0            0.0            0.0            0.0            0.0            0.0            0.0            0.0            0.0            0.0            0.0            0.0            0.0            0.0            0.0            0.0            0.0            0.0            0.0            0.0            0.0            0.0            0.0            0.0            0.0            0.0            0.0            0.0           1750            2011-Q1               AIR                 0  \n",
       "1            0.0            0.0            0.0            0.0            0.0            0.0            0.0            0.0            0.0            0.0            0.0            0.0            0.0            0.0            0.0            0.0            0.0            0.0            0.0            0.0            0.0            0.0            0.0            0.0            0.0            0.0            0.0            0.0            0.0            0.0            0.0            0.0            0.0            0.0            0.0           1750            2011-Q2               AIR                 0  \n",
       "2            0.0            0.0            0.0            0.0            0.0            0.0            0.0            0.0            0.0            0.0            0.0            0.0            0.0            0.0            0.0            0.0            0.0            0.0            0.0            0.0            0.0            0.0            0.0            0.0            0.0            0.0            0.0            0.0            0.0            0.0            0.0            0.0            0.0            0.0            0.0           1750            2011-Q3               AIR                 0  \n",
       "3            0.0            0.0            0.0            0.0            0.0            0.0            0.0            0.0            0.0            0.0            0.0            0.0            0.0            0.0            0.0            0.0            0.0            0.0            0.0            0.0            0.0            0.0            0.0            0.0            0.0            0.0            0.0            0.0            0.0            0.0            0.0            0.0            0.0            0.0            0.0           1750            2011-Q4               AIR                 0  \n",
       "4            0.0            0.0            0.0            0.0            0.0            0.0            0.0            0.0            0.0            0.0            0.0            0.0            0.0            0.0            0.0            0.0            0.0            0.0            0.0            0.0            0.0            0.0            0.0            0.0            0.0            0.0            0.0            0.0            0.0            0.0            0.0            0.0            0.0            0.0            0.0           1750            2012-Q1               AIR                 0  "
      ]
     },
     "execution_count": 751,
     "metadata": {},
     "output_type": "execute_result"
    }
   ],
   "source": [
    "X_train_pp.head()"
   ]
  },
  {
   "cell_type": "code",
   "execution_count": 752,
   "id": "092d2f1f",
   "metadata": {},
   "outputs": [],
   "source": [
    "X_train_sequences = []\n",
    "y_train_sequences = []\n",
    "X_test_sequences = []\n",
    "y_test_sequences = []"
   ]
  },
  {
   "cell_type": "code",
   "execution_count": 753,
   "id": "a5063b10",
   "metadata": {},
   "outputs": [
    {
     "data": {
      "text/plain": [
       "(88636, 8, 116)"
      ]
     },
     "metadata": {},
     "output_type": "display_data"
    },
    {
     "data": {
      "text/plain": [
       "(88636,)"
      ]
     },
     "metadata": {},
     "output_type": "display_data"
    }
   ],
   "source": [
    "for company in X_train_pp.groupby(['remainder__cik', 'remainder__TICKER']):\n",
    "    for i, _ in enumerate(company[1].iterrows()):\n",
    "        if i+quarters_input+1+adjustment > len(company[1]):\n",
    "            break\n",
    "        sequence = company[1].iloc[i:i+quarters_input, :-4]\n",
    "        target = company[1].iloc[i+quarters_input+adjustment, -1]\n",
    "        X_train_sequences.append(sequence)\n",
    "        y_train_sequences.append(target)\n",
    "X_train_sequences = np.array(X_train_sequences).astype('float32')\n",
    "y_train_sequences = np.array(y_train_sequences).astype('float32')\n",
    "\n",
    "display(X_train_sequences.shape, y_train_sequences.shape)"
   ]
  },
  {
   "cell_type": "code",
   "execution_count": 754,
   "id": "7cb51390",
   "metadata": {},
   "outputs": [
    {
     "data": {
      "text/plain": [
       "(38656, 8, 116)"
      ]
     },
     "metadata": {},
     "output_type": "display_data"
    },
    {
     "data": {
      "text/plain": [
       "(38656,)"
      ]
     },
     "metadata": {},
     "output_type": "display_data"
    }
   ],
   "source": [
    "for company in X_test_pp.groupby(['remainder__cik', 'remainder__TICKER']):\n",
    "    for i, _ in enumerate(company[1].iterrows()):\n",
    "        if i+quarters_input+1+adjustment > len(company[1]):\n",
    "            break\n",
    "        sequence = company[1].iloc[i:i+quarters_input, :-4]\n",
    "        target = company[1].iloc[i+quarters_input+adjustment, -1]\n",
    "        X_test_sequences.append(sequence)\n",
    "        y_test_sequences.append(target)\n",
    "X_test_sequences = np.array(X_test_sequences).astype('float32')\n",
    "y_test_sequences = np.array(y_test_sequences).astype('float32')\n",
    "\n",
    "display(X_test_sequences.shape, y_test_sequences.shape)"
   ]
  },
  {
   "cell_type": "code",
   "execution_count": 755,
   "id": "7f5336b1",
   "metadata": {},
   "outputs": [],
   "source": [
    "#Regularizers\n",
    "reg_l1 = regularizers.L1(0.01)\n",
    "reg_l2 = regularizers.L2(0.01)\n",
    "reg_l1_l2 = regularizers.l1_l2(l1=0.005, l2=0.0005)"
   ]
  },
  {
   "cell_type": "code",
   "execution_count": 756,
   "id": "d2e6223f",
   "metadata": {},
   "outputs": [],
   "source": [
    "# Tuning?\n",
    "# "
   ]
  },
  {
   "cell_type": "code",
   "execution_count": 757,
   "id": "8414baf8",
   "metadata": {},
   "outputs": [
    {
     "name": "stdout",
     "output_type": "stream",
     "text": [
      "Epoch 1/100\n"
     ]
    },
    {
     "name": "stderr",
     "output_type": "stream",
     "text": [
      "/Users/christophernance/.pyenv/versions/3.10.6/envs/small-cap-scout/lib/python3.10/site-packages/keras/src/layers/rnn/rnn.py:204: UserWarning: Do not pass an `input_shape`/`input_dim` argument to a layer. When using Sequential models, prefer using an `Input(shape)` object as the first layer in the model instead.\n",
      "  super().__init__(**kwargs)\n"
     ]
    },
    {
     "name": "stdout",
     "output_type": "stream",
     "text": [
      "Epoch 2/100\n",
      "Epoch 3/100\n",
      "Epoch 4/100\n",
      "Epoch 5/100\n",
      "Epoch 6/100\n",
      "Epoch 7/100\n",
      "Epoch 8/100\n",
      "Epoch 9/100\n",
      "Epoch 10/100\n",
      "Epoch 11/100\n",
      "Epoch 12/100\n",
      "Epoch 13/100\n"
     ]
    }
   ],
   "source": [
    "# 1- RNN Architecture\n",
    "model = Sequential()\n",
    "model.add(layers.LSTM(units=80, activation='tanh', input_shape=(quarters_input, 116)))\n",
    "model.add(layers.Dropout(0.2))\n",
    "model.add(layers.Dense(40, activation='relu'))\n",
    "model.add(layers.Dropout(0.2))\n",
    "model.add(layers.Dense(10, activation='relu'))\n",
    "model.add(layers.Dropout(0.2))\n",
    "model.add(layers.Dense(1, activation=final_activation))\n",
    "\n",
    "# 2- Compilation\n",
    "model.compile(loss='binary_crossentropy', \n",
    "              optimizer=Adam(learning_rate=0.002, beta_1=0.75), \n",
    "              metrics=metrics)\n",
    "\n",
    "# 3- Fit\n",
    "es = EarlyStopping(patience=5, restore_best_weights=True)\n",
    "history = model.fit(X_train_sequences, y_train_sequences, validation_split=0.2, epochs=100, batch_size=32,\n",
    "                    callbacks=[es], verbose=3)\n"
   ]
  },
  {
   "cell_type": "code",
   "execution_count": 758,
   "id": "cff0eccf",
   "metadata": {},
   "outputs": [
    {
     "data": {
      "text/html": [
       "<pre style=\"white-space:pre;overflow-x:auto;line-height:normal;font-family:Menlo,'DejaVu Sans Mono',consolas,'Courier New',monospace\"><span style=\"font-weight: bold\">Model: \"sequential_53\"</span>\n",
       "</pre>\n"
      ],
      "text/plain": [
       "\u001b[1mModel: \"sequential_53\"\u001b[0m\n"
      ]
     },
     "metadata": {},
     "output_type": "display_data"
    },
    {
     "data": {
      "text/html": [
       "<pre style=\"white-space:pre;overflow-x:auto;line-height:normal;font-family:Menlo,'DejaVu Sans Mono',consolas,'Courier New',monospace\">┏━━━━━━━━━━━━━━━━━━━━━━━━━━━━━━━━━┳━━━━━━━━━━━━━━━━━━━━━━━━┳━━━━━━━━━━━━━━━┓\n",
       "┃<span style=\"font-weight: bold\"> Layer (type)                    </span>┃<span style=\"font-weight: bold\"> Output Shape           </span>┃<span style=\"font-weight: bold\">       Param # </span>┃\n",
       "┡━━━━━━━━━━━━━━━━━━━━━━━━━━━━━━━━━╇━━━━━━━━━━━━━━━━━━━━━━━━╇━━━━━━━━━━━━━━━┩\n",
       "│ lstm_25 (<span style=\"color: #0087ff; text-decoration-color: #0087ff\">LSTM</span>)                  │ (<span style=\"color: #00d7ff; text-decoration-color: #00d7ff\">None</span>, <span style=\"color: #00af00; text-decoration-color: #00af00\">80</span>)             │        <span style=\"color: #00af00; text-decoration-color: #00af00\">63,040</span> │\n",
       "├─────────────────────────────────┼────────────────────────┼───────────────┤\n",
       "│ dropout_81 (<span style=\"color: #0087ff; text-decoration-color: #0087ff\">Dropout</span>)            │ (<span style=\"color: #00d7ff; text-decoration-color: #00d7ff\">None</span>, <span style=\"color: #00af00; text-decoration-color: #00af00\">80</span>)             │             <span style=\"color: #00af00; text-decoration-color: #00af00\">0</span> │\n",
       "├─────────────────────────────────┼────────────────────────┼───────────────┤\n",
       "│ dense_139 (<span style=\"color: #0087ff; text-decoration-color: #0087ff\">Dense</span>)               │ (<span style=\"color: #00d7ff; text-decoration-color: #00d7ff\">None</span>, <span style=\"color: #00af00; text-decoration-color: #00af00\">40</span>)             │         <span style=\"color: #00af00; text-decoration-color: #00af00\">3,240</span> │\n",
       "├─────────────────────────────────┼────────────────────────┼───────────────┤\n",
       "│ dropout_82 (<span style=\"color: #0087ff; text-decoration-color: #0087ff\">Dropout</span>)            │ (<span style=\"color: #00d7ff; text-decoration-color: #00d7ff\">None</span>, <span style=\"color: #00af00; text-decoration-color: #00af00\">40</span>)             │             <span style=\"color: #00af00; text-decoration-color: #00af00\">0</span> │\n",
       "├─────────────────────────────────┼────────────────────────┼───────────────┤\n",
       "│ dense_140 (<span style=\"color: #0087ff; text-decoration-color: #0087ff\">Dense</span>)               │ (<span style=\"color: #00d7ff; text-decoration-color: #00d7ff\">None</span>, <span style=\"color: #00af00; text-decoration-color: #00af00\">10</span>)             │           <span style=\"color: #00af00; text-decoration-color: #00af00\">410</span> │\n",
       "├─────────────────────────────────┼────────────────────────┼───────────────┤\n",
       "│ dropout_83 (<span style=\"color: #0087ff; text-decoration-color: #0087ff\">Dropout</span>)            │ (<span style=\"color: #00d7ff; text-decoration-color: #00d7ff\">None</span>, <span style=\"color: #00af00; text-decoration-color: #00af00\">10</span>)             │             <span style=\"color: #00af00; text-decoration-color: #00af00\">0</span> │\n",
       "├─────────────────────────────────┼────────────────────────┼───────────────┤\n",
       "│ dense_141 (<span style=\"color: #0087ff; text-decoration-color: #0087ff\">Dense</span>)               │ (<span style=\"color: #00d7ff; text-decoration-color: #00d7ff\">None</span>, <span style=\"color: #00af00; text-decoration-color: #00af00\">1</span>)              │            <span style=\"color: #00af00; text-decoration-color: #00af00\">11</span> │\n",
       "└─────────────────────────────────┴────────────────────────┴───────────────┘\n",
       "</pre>\n"
      ],
      "text/plain": [
       "┏━━━━━━━━━━━━━━━━━━━━━━━━━━━━━━━━━┳━━━━━━━━━━━━━━━━━━━━━━━━┳━━━━━━━━━━━━━━━┓\n",
       "┃\u001b[1m \u001b[0m\u001b[1mLayer (type)                   \u001b[0m\u001b[1m \u001b[0m┃\u001b[1m \u001b[0m\u001b[1mOutput Shape          \u001b[0m\u001b[1m \u001b[0m┃\u001b[1m \u001b[0m\u001b[1m      Param #\u001b[0m\u001b[1m \u001b[0m┃\n",
       "┡━━━━━━━━━━━━━━━━━━━━━━━━━━━━━━━━━╇━━━━━━━━━━━━━━━━━━━━━━━━╇━━━━━━━━━━━━━━━┩\n",
       "│ lstm_25 (\u001b[38;5;33mLSTM\u001b[0m)                  │ (\u001b[38;5;45mNone\u001b[0m, \u001b[38;5;34m80\u001b[0m)             │        \u001b[38;5;34m63,040\u001b[0m │\n",
       "├─────────────────────────────────┼────────────────────────┼───────────────┤\n",
       "│ dropout_81 (\u001b[38;5;33mDropout\u001b[0m)            │ (\u001b[38;5;45mNone\u001b[0m, \u001b[38;5;34m80\u001b[0m)             │             \u001b[38;5;34m0\u001b[0m │\n",
       "├─────────────────────────────────┼────────────────────────┼───────────────┤\n",
       "│ dense_139 (\u001b[38;5;33mDense\u001b[0m)               │ (\u001b[38;5;45mNone\u001b[0m, \u001b[38;5;34m40\u001b[0m)             │         \u001b[38;5;34m3,240\u001b[0m │\n",
       "├─────────────────────────────────┼────────────────────────┼───────────────┤\n",
       "│ dropout_82 (\u001b[38;5;33mDropout\u001b[0m)            │ (\u001b[38;5;45mNone\u001b[0m, \u001b[38;5;34m40\u001b[0m)             │             \u001b[38;5;34m0\u001b[0m │\n",
       "├─────────────────────────────────┼────────────────────────┼───────────────┤\n",
       "│ dense_140 (\u001b[38;5;33mDense\u001b[0m)               │ (\u001b[38;5;45mNone\u001b[0m, \u001b[38;5;34m10\u001b[0m)             │           \u001b[38;5;34m410\u001b[0m │\n",
       "├─────────────────────────────────┼────────────────────────┼───────────────┤\n",
       "│ dropout_83 (\u001b[38;5;33mDropout\u001b[0m)            │ (\u001b[38;5;45mNone\u001b[0m, \u001b[38;5;34m10\u001b[0m)             │             \u001b[38;5;34m0\u001b[0m │\n",
       "├─────────────────────────────────┼────────────────────────┼───────────────┤\n",
       "│ dense_141 (\u001b[38;5;33mDense\u001b[0m)               │ (\u001b[38;5;45mNone\u001b[0m, \u001b[38;5;34m1\u001b[0m)              │            \u001b[38;5;34m11\u001b[0m │\n",
       "└─────────────────────────────────┴────────────────────────┴───────────────┘\n"
      ]
     },
     "metadata": {},
     "output_type": "display_data"
    },
    {
     "data": {
      "text/html": [
       "<pre style=\"white-space:pre;overflow-x:auto;line-height:normal;font-family:Menlo,'DejaVu Sans Mono',consolas,'Courier New',monospace\"><span style=\"font-weight: bold\"> Total params: </span><span style=\"color: #00af00; text-decoration-color: #00af00\">200,105</span> (781.66 KB)\n",
       "</pre>\n"
      ],
      "text/plain": [
       "\u001b[1m Total params: \u001b[0m\u001b[38;5;34m200,105\u001b[0m (781.66 KB)\n"
      ]
     },
     "metadata": {},
     "output_type": "display_data"
    },
    {
     "data": {
      "text/html": [
       "<pre style=\"white-space:pre;overflow-x:auto;line-height:normal;font-family:Menlo,'DejaVu Sans Mono',consolas,'Courier New',monospace\"><span style=\"font-weight: bold\"> Trainable params: </span><span style=\"color: #00af00; text-decoration-color: #00af00\">66,701</span> (260.55 KB)\n",
       "</pre>\n"
      ],
      "text/plain": [
       "\u001b[1m Trainable params: \u001b[0m\u001b[38;5;34m66,701\u001b[0m (260.55 KB)\n"
      ]
     },
     "metadata": {},
     "output_type": "display_data"
    },
    {
     "data": {
      "text/html": [
       "<pre style=\"white-space:pre;overflow-x:auto;line-height:normal;font-family:Menlo,'DejaVu Sans Mono',consolas,'Courier New',monospace\"><span style=\"font-weight: bold\"> Non-trainable params: </span><span style=\"color: #00af00; text-decoration-color: #00af00\">0</span> (0.00 B)\n",
       "</pre>\n"
      ],
      "text/plain": [
       "\u001b[1m Non-trainable params: \u001b[0m\u001b[38;5;34m0\u001b[0m (0.00 B)\n"
      ]
     },
     "metadata": {},
     "output_type": "display_data"
    },
    {
     "data": {
      "text/html": [
       "<pre style=\"white-space:pre;overflow-x:auto;line-height:normal;font-family:Menlo,'DejaVu Sans Mono',consolas,'Courier New',monospace\"><span style=\"font-weight: bold\"> Optimizer params: </span><span style=\"color: #00af00; text-decoration-color: #00af00\">133,404</span> (521.11 KB)\n",
       "</pre>\n"
      ],
      "text/plain": [
       "\u001b[1m Optimizer params: \u001b[0m\u001b[38;5;34m133,404\u001b[0m (521.11 KB)\n"
      ]
     },
     "metadata": {},
     "output_type": "display_data"
    }
   ],
   "source": [
    "model.summary()"
   ]
  },
  {
   "cell_type": "code",
   "execution_count": 828,
   "id": "52c9b42f",
   "metadata": {},
   "outputs": [
    {
     "data": {
      "image/png": "[encoded data removed]",
      "text/plain": [
       "<Figure size 1200x1000 with 4 Axes>"
      ]
     },
     "metadata": {},
     "output_type": "display_data"
    }
   ],
   "source": [
    "if model_type == 'classifier':\n",
    "    plot_metrics(history)"
   ]
  },
  {
   "cell_type": "code",
   "execution_count": 827,
   "id": "93d0bd39",
   "metadata": {},
   "outputs": [
    {
     "name": "stdout",
     "output_type": "stream",
     "text": [
      "\u001b[1m1208/1208\u001b[0m \u001b[32m━━━━━━━━━━━━━━━━━━━━\u001b[0m\u001b[37m\u001b[0m \u001b[1m1s\u001b[0m 614us/step - accuracy: 0.9459 - loss: 0.2084 - precision: 0.1565 - recall: 0.0173\n"
     ]
    },
    {
     "data": {
      "text/plain": [
       "[0.2591322958469391,\n",
       " 0.9220560789108276,\n",
       " 0.21069182455539703,\n",
       " 0.023683279752731323]"
      ]
     },
     "execution_count": 827,
     "metadata": {},
     "output_type": "execute_result"
    }
   ],
   "source": [
    "model.evaluate(X_test_sequences, y_test_sequences)"
   ]
  },
  {
   "cell_type": "code",
   "execution_count": 767,
   "id": "dc6cf0e5",
   "metadata": {},
   "outputs": [
    {
     "data": {
      "text/plain": [
       "0.0694"
      ]
     },
     "execution_count": 767,
     "metadata": {},
     "output_type": "execute_result"
    }
   ],
   "source": [
    "tar_pct = round((y_train_sequences.sum() / y_train_sequences.shape)[0],4)\n",
    "tar_pct"
   ]
  },
  {
   "cell_type": "code",
   "execution_count": 771,
   "id": "414233fd",
   "metadata": {},
   "outputs": [
    {
     "data": {
      "text/plain": [
       "0.4076"
      ]
     },
     "execution_count": 771,
     "metadata": {},
     "output_type": "execute_result"
    }
   ],
   "source": [
    "round(np.mean(history.history.get('val_precision')),4)"
   ]
  },
  {
   "cell_type": "code",
   "execution_count": null,
   "id": "f8b8fea9",
   "metadata": {},
   "outputs": [],
   "source": []
  },
  {
   "cell_type": "code",
   "execution_count": null,
   "id": "e55483cc",
   "metadata": {},
   "outputs": [],
   "source": []
  },
  {
   "cell_type": "code",
   "execution_count": null,
   "id": "6c23bf51",
   "metadata": {},
   "outputs": [],
   "source": []
  },
  {
   "cell_type": "code",
   "execution_count": null,
   "id": "d056ce92",
   "metadata": {},
   "outputs": [],
   "source": []
  },
  {
   "cell_type": "code",
   "execution_count": 634,
   "id": "455eda84",
   "metadata": {},
   "outputs": [
    {
     "data": {
      "text/plain": [
       "'2024-09-09 21:28:37.452401_RNN_classifier_8_qtr_0.25_ths_sc_False.pkl'"
      ]
     },
     "execution_count": 634,
     "metadata": {},
     "output_type": "execute_result"
    }
   ],
   "source": [
    "file_name = f\"{datetime.datetime.now()}_RNN_{model_type}_{quarters_input}_qtr_{threshold}_ths_sc_{small_cap}.pkl\"\n",
    "model_dir = '../models/'\n",
    "file_name"
   ]
  },
  {
   "cell_type": "code",
   "execution_count": 635,
   "id": "3c480c9b",
   "metadata": {},
   "outputs": [],
   "source": [
    "# Export Pipeline as pickle file\n",
    "with open(model_dir+file_name, \"wb\") as file:\n",
    "    pickle.dump(model, file)"
   ]
  },
  {
   "cell_type": "code",
   "execution_count": 637,
   "id": "733227a4",
   "metadata": {},
   "outputs": [],
   "source": [
    "#model = pickle.load(open(model_dir+file_name,\"rb\"))"
   ]
  }
 ],
 "metadata": {
  "kernelspec": {
   "display_name": "Python 3 (ipykernel)",
   "language": "python",
   "name": "python3"
  },
  "language_info": {
   "codemirror_mode": {
    "name": "ipython",
    "version": 3
   },
   "file_extension": ".py",
   "mimetype": "text/x-python",
   "name": "python",
   "nbconvert_exporter": "python",
   "pygments_lexer": "ipython3",
   "version": "3.10.6"
  },
  "toc": {
   "base_numbering": 1,
   "nav_menu": {},
   "number_sections": true,
   "sideBar": true,
   "skip_h1_title": false,
   "title_cell": "Table of Contents",
   "title_sidebar": "Contents",
   "toc_cell": false,
   "toc_position": {},
   "toc_section_display": true,
   "toc_window_display": false
  }
 },
 "nbformat": 4,
 "nbformat_minor": 5
}
