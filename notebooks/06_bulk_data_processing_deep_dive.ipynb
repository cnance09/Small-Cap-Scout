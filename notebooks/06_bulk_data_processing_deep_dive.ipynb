{
 "cells": [
  {
   "cell_type": "code",
   "execution_count": 1,
   "id": "5974588b-0809-468d-b6e3-e2df73afaacd",
   "metadata": {
    "tags": []
   },
   "outputs": [],
   "source": [
    "import pandas as pd\n",
    "# ensure that all columns are shown and that colum content is not cut\n",
    "pd.set_option('display.max_columns', None)\n",
    "pd.set_option('display.max_colwidth', None)\n",
    "pd.set_option('display.width',1000)\n",
    "pd.set_option('display.max_rows', 500) # ensure that all rows are shown"
   ]
  },
  {
   "cell_type": "markdown",
   "id": "333f3746-2750-4526-a4d9-b97ca6a1e167",
   "metadata": {},
   "source": [
    "# Bulk Data Processing Deep Dive\n",
    "The main advantage of this library is that the all data is downloaded down to your computer and therefore makes it easy to analyze all the data at once. \n",
    "\n",
    "For instance, if you want to implement your own screener.\n",
    "\n",
    "Just on the file system, the size of all data files is more than 2 GB. Since the parquet format is also storage optimized, loading all the data into memory would need significantly more memory than a standard computer/laptop usually provides.\n",
    "\n",
    "Hence it is important to filter the data during the loading process, so that you only load the data into memory that is really needed."
   ]
  },
  {
   "cell_type": "markdown",
   "id": "8ba379f1-5124-4bc4-bd2d-3cfc292ba03f",
   "metadata": {},
   "source": [
    "## Prepare Datasets\n",
    "In the first part of this notebook, we will create different datasets for all the balance sheet datapoints, the cashflow datapoints, and the income statement datapoints.\n",
    "These datasets will be stored in their own directories, so that they can be easily loaded afterwards. Moreover, we will store the raw version (where the num_df and the pre_df are not joined) and the joined version, where num_df and pre_df are joined. Depending on what you want to do/analyze, you can use either one.\n",
    "\n",
    "**Note:** The code that is explained here is also available in the modul `bulk_loading` which is inside the `u_usecase` package.\n",
    "\n",
    "This notebook will show two approaches. The first one is loading all the data in parallel, which you can do if you have enough resources in your computer. The second is doing it sequentially, which is slower, but needs less memory. In the end, you will create these datasets once and extend it when new quarterly zip files arrive, or you will recreate them once every quarter. So in the end it doesn't really matter if the process takes 15 minutes or an hour.\n",
    "\n",
    "We will also apply different filters:\n",
    "\n",
    "* only filter 10-K and 10-Q reports during loading\n",
    "* `ReportPeriodRawFilter`: since we are only interested in datapoints that belong to the period of the report\n",
    "* `MainCoregRawFilter`: since we don't want to see datapoints of a subsidiary\n",
    "* `OfficialTagsOnlyRawFilter`: since we want to be able to compare the content and therefore don't want to read tags that or not in the standard sec xbrl definition\n",
    "* `USDOnlyRawFilter`: since we are not interested in money datapoints that are not in USD"
   ]
  },
  {
   "cell_type": "markdown",
   "id": "c1904d65-28df-47e1-9385-9b60098afc6e",
   "metadata": {},
   "source": [
    "### Basics\n",
    "First, we will defines some basic stuff that is used by both approaches."
   ]
  },
  {
   "cell_type": "code",
   "execution_count": 23,
   "id": "7c366d80",
   "metadata": {},
   "outputs": [
    {
     "data": {
      "text/plain": [
       "'/Users/christophernance/code/cnance09/Small-Cap-Scout/notebooks'"
      ]
     },
     "execution_count": 23,
     "metadata": {},
     "output_type": "execute_result"
    }
   ],
   "source": [
    "os.getcwd()"
   ]
  },
  {
   "cell_type": "code",
   "execution_count": 2,
   "id": "d0d01c1f-8479-4360-aab6-164068424126",
   "metadata": {
    "tags": []
   },
   "outputs": [],
   "source": [
    "import os\n",
    "from secfsdstools.d_container.databagmodel import RawDataBag, JoinedDataBag\n",
    "from secfsdstools.e_collector.zipcollecting import ZipCollector"
   ]
  },
  {
   "cell_type": "markdown",
   "id": "f6e87306-9242-4523-9b81-0293069ddebe",
   "metadata": {},
   "source": [
    "The following list defines which statements we want to load."
   ]
  },
  {
   "cell_type": "code",
   "execution_count": 3,
   "id": "594116ef-3645-4dcc-9942-201bfe343e07",
   "metadata": {
    "tags": []
   },
   "outputs": [],
   "source": [
    "statements_to_load = [\"BS\", \"CF\", \"IS\"]"
   ]
  },
  {
   "cell_type": "markdown",
   "id": "133b535c-9ad4-4b00-9d39-bdf3dad43663",
   "metadata": {},
   "source": [
    "Next, we define a filter function, that defines the whole chain. As mentioned in the 04_collector_deep_dive.ipynt notebook, we have to define the imports inside the function itself, if we want to use it in jupyter together with parallization."
   ]
  },
  {
   "cell_type": "code",
   "execution_count": 4,
   "id": "6d908348-8e48-461f-a26c-ec0d0f2bbfd0",
   "metadata": {
    "tags": []
   },
   "outputs": [],
   "source": [
    "def postloadfilter(databag: RawDataBag) -> RawDataBag:\n",
    "    from secfsdstools.e_filter.rawfiltering import ReportPeriodRawFilter, MainCoregRawFilter, OfficialTagsOnlyRawFilter, USDOnlyRawFilter\n",
    "\n",
    "    return databag[ReportPeriodRawFilter()][MainCoregRawFilter()][OfficialTagsOnlyRawFilter()][USDOnlyRawFilter()]"
   ]
  },
  {
   "cell_type": "markdown",
   "id": "a0ff096f-b7e8-4e4a-a661-2a95e4b922f5",
   "metadata": {},
   "source": [
    "Next is a simple function that takes a raw databag and creates the joined databag. Both, the rawdatabag and the joined databag are then stored in a specific folder.\n"
   ]
  },
  {
   "cell_type": "code",
   "execution_count": 14,
   "id": "5f18ecc7",
   "metadata": {},
   "outputs": [],
   "source": [
    "base_path = '/Users/christophernance/code/cnance09/Small-Cap-Scout/raw_data/secfsdstools/'"
   ]
  },
  {
   "cell_type": "code",
   "execution_count": 5,
   "id": "9395fe8a-06c3-4ca4-9953-fc22fa58b9f4",
   "metadata": {},
   "outputs": [],
   "source": [
    "def save_databag(databag: RawDataBag, financial_statement: str, base_path: str) -> JoinedDataBag:\n",
    "    target_path_raw = os.path.join(base_path, financial_statement, 'raw')\n",
    "    print(f\"store rawdatabag under {target_path_raw}\")\n",
    "    os.makedirs(target_path_raw, exist_ok=True)\n",
    "    databag.save(target_path_raw)\n",
    "    \n",
    "    target_path_joined = os.path.join(base_path, financial_statement, 'joined')\n",
    "    os.makedirs(target_path_joined, exist_ok=True)\n",
    "    print(\"create joined databag\")\n",
    "    joined_databag = databag.join()\n",
    "    \n",
    "    print(f\"store joineddatabag under {target_path_joined}\")\n",
    "    joined_databag.save(target_path_joined)\n",
    "    return joined_databag"
   ]
  },
  {
   "cell_type": "markdown",
   "id": "c564ba5e-3334-47a9-94c7-53ba5df7a9c5",
   "metadata": {},
   "source": [
    "### Parallel Data Loading\n",
    "As stated above, we want to load all available 10-K and 10-Q reports. Therefore, we can use the `ZipCollector`which provides an option to load data from all available zip files. \n",
    "\n",
    "Moreover, the implementation of the ziploader uses all your cores in order to load data from your disk into memory. So you don't have to implement the parallization yourself. There are 50+ zip files that have to be loaded, so if you have 4 cores, you will load 4 at one time.\n",
    "\n",
    "Also, the `ZipCollector` provides parameters for filtering the report type (10-K and 10-Q) amd the financial statement type (Balance Sheet, Casch Flow, or Income Statement). These filters are directly applied during loading, since the data is stored in Parquet format. This will already reduce that amount of data that is being loaded into memory significantly.\n",
    "\n",
    "Moreover, it also provides the post_load_filter which we can use to apply the other filters, defined in the postloadfilter function."
   ]
  },
  {
   "cell_type": "code",
   "execution_count": 6,
   "id": "d18ac72e-0020-4ea5-9cd8-373e2f143fde",
   "metadata": {},
   "outputs": [],
   "source": [
    "def load_all_financial_statements_parallel(financial_statement: str) -> RawDataBag:\n",
    "    \"\"\" \n",
    "    financial_statement: either \"BS\", \"CF\", or \"IS\"\n",
    "    \"\"\"\n",
    "\n",
    "    collector: ZipCollector = ZipCollector.get_all_zips(forms_filter=[\"10-K\", \"10-Q\"],\n",
    "                                                        stmt_filter=[financial_statement],\n",
    "                                                        post_load_filter=postloadfilter)\n",
    "    return collector.collect()"
   ]
  },
  {
   "cell_type": "markdown",
   "id": "db367d8c-bda3-4ab1-a555-0e31c6f6bd52",
   "metadata": {},
   "source": [
    "We loop over the statements that we want to load and collect their datapoints into a specific dataset.\n",
    "\n",
    "This process will take several minutes. On my laptop the execution time was approximately 16 minutes (32GB Ram / 4/8 Cores)."
   ]
  },
  {
   "cell_type": "code",
   "execution_count": 15,
   "id": "b158ec71-ce9d-49ea-9a23-6f111fcc8811",
   "metadata": {},
   "outputs": [
    {
     "name": "stderr",
     "output_type": "stream",
     "text": [
      "2024-09-03 19:30:50,569 [ERROR] configmgt  No config file found at home directory /Users/christophernance/.secfsdstools.cfg.\n",
      "2024-09-03 19:30:50,572 [ERROR] configmgt  Config file created at /Users/christophernance/.secfsdstools.cfg. Please check the content and then rerun.\n"
     ]
    },
    {
     "name": "stdout",
     "output_type": "stream",
     "text": [
      " --------------------------------------------------------------------------\n",
      " Wellcome!\n",
      " It looks as if this is the first time you are using this package since no \n",
      " configuration was found at /Users/christophernance/.secfsdstools.cfg. A default configuration file was \n",
      " created at that location. It contains fhe following default values: \n",
      "\n",
      "{'auto_update': True,\n",
      " 'daily_download_dir': '/Users/christophernance/secfsdstools/data/dld/daily',\n",
      " 'db_dir': '/Users/christophernance/secfsdstools/data/db',\n",
      " 'download_dir': '/Users/christophernance/secfsdstools/data/dld',\n",
      " 'keep_zip_files': False,\n",
      " 'parquet_dir': '/Users/christophernance/secfsdstools/data/parquet',\n",
      " 'rapid_api_key': None,\n",
      " 'rapid_api_plan': 'basic',\n",
      " 'user_agent_email': 'your.email@goeshere.com'}\n",
      "\n",
      " If you want to change the settings, you can exit and and change the settings \n",
      " and restart. This will then trigger the initial update process as described.\n",
      " below.\n",
      " If you are ok with the settings, you can directly press y or Y and the initial \n",
      " update process will start immediately. \n",
      "\n",
      " The initial update process executes the following steps: \n",
      " 1. It downloads all available quarterly zip files from https://www.sec.gov/dera/data/financial-statement-data-sets.html\n",
      "    into the folder /Users/christophernance/secfsdstools/data/dld\n",
      " 2. It will transform the CSV files inside the zipfiles into parquet format and\n",
      "    store them under /Users/christophernance/secfsdstools/data/parquet\n",
      " 3. The original zip file will be deleted depending on your configuration\n",
      " 4. The content of the SUB.TXT parquet files will be indexed in a simple \n",
      "    sqlite database file (placed at /Users/christophernance/secfsdstools/data/db)\n",
      "\n",
      " Note: The downloaded data will use about 2GB on your disk, the size doubles, if \n",
      "        choose to keep the ZIP-files after transformation. \n",
      " Note: The initial update process will take several minutes.\n",
      "\n",
      " Start initial update process [y]/n:y\n"
     ]
    },
    {
     "name": "stderr",
     "output_type": "stream",
     "text": [
      "2024-09-03 19:30:52,830 [INFO] updateprocess  Check if new report zip files are available...\n",
      "2024-09-03 19:30:52,832 [INFO] setupdb  creating folder for db: /Users/christophernance/secfsdstools/data/db\n",
      "2024-09-03 19:30:52,842 [INFO] updateprocess  check if there are new files to download from sec.gov ...\n",
      "2024-09-03 19:30:52,843 [INFO] basedownloading  creating download folder: /Users/christophernance/secfsdstools/data/dld\n"
     ]
    },
    {
     "name": "stdout",
     "output_type": "stream",
     "text": [
      "start initial report download process\n"
     ]
    },
    {
     "name": "stderr",
     "output_type": "stream",
     "text": [
      "2024-09-03 19:30:55,810 [INFO] parallelexecution      items to process: 62\n",
      "2024-09-03 19:30:55,812 [INFO] basedownloading      start to download 2024q2.zip \n",
      "2024-09-03 19:30:55,813 [INFO] basedownloading      start to download 2024q1.zip \n",
      "2024-09-03 19:30:55,813 [INFO] basedownloading      start to download 2023q4.zip \n",
      "2024-09-03 19:31:00,389 [INFO] parallelexecution      commited chunk: 0\n",
      "2024-09-03 19:31:00,390 [INFO] basedownloading      start to download 2023q3.zip \n",
      "2024-09-03 19:31:00,390 [INFO] basedownloading      start to download 2023q2.zip \n",
      "2024-09-03 19:31:00,390 [INFO] basedownloading      start to download 2023q1.zip \n",
      "2024-09-03 19:31:05,624 [INFO] parallelexecution      commited chunk: 3\n",
      "2024-09-03 19:31:05,625 [INFO] basedownloading      start to download 2022q4.zip \n",
      "2024-09-03 19:31:05,625 [INFO] basedownloading      start to download 2022q3.zip \n",
      "2024-09-03 19:31:05,625 [INFO] basedownloading      start to download 2022q2.zip \n",
      "2024-09-03 19:31:08,917 [INFO] parallelexecution      commited chunk: 6\n",
      "2024-09-03 19:31:08,917 [INFO] basedownloading      start to download 2022q1.zip \n",
      "2024-09-03 19:31:08,918 [INFO] basedownloading      start to download 2021q4.zip \n",
      "2024-09-03 19:31:08,918 [INFO] basedownloading      start to download 2021q3.zip \n",
      "2024-09-03 19:31:12,444 [INFO] parallelexecution      commited chunk: 9\n",
      "2024-09-03 19:31:12,445 [INFO] basedownloading      start to download 2021q2.zip \n",
      "2024-09-03 19:31:12,445 [INFO] basedownloading      start to download 2021q1.zip \n",
      "2024-09-03 19:31:12,446 [INFO] basedownloading      start to download 2020q4.zip \n",
      "2024-09-03 19:31:15,413 [INFO] parallelexecution      commited chunk: 12\n",
      "2024-09-03 19:31:15,414 [INFO] basedownloading      start to download 2020q3.zip \n",
      "2024-09-03 19:31:15,414 [INFO] basedownloading      start to download 2020q2.zip \n",
      "2024-09-03 19:31:15,414 [INFO] basedownloading      start to download 2020q1.zip \n",
      "2024-09-03 19:31:18,359 [INFO] parallelexecution      commited chunk: 15\n",
      "2024-09-03 19:31:18,360 [INFO] basedownloading      start to download 2019q4.zip \n",
      "2024-09-03 19:31:18,360 [INFO] basedownloading      start to download 2019q3.zip \n",
      "2024-09-03 19:31:18,361 [INFO] basedownloading      start to download 2019q2.zip \n",
      "2024-09-03 19:31:22,556 [INFO] parallelexecution      commited chunk: 18\n",
      "2024-09-03 19:31:22,557 [INFO] basedownloading      start to download 2019q1.zip \n",
      "2024-09-03 19:31:22,557 [INFO] basedownloading      start to download 2018q4.zip \n",
      "2024-09-03 19:31:22,557 [INFO] basedownloading      start to download 2018q3.zip \n",
      "2024-09-03 19:31:26,557 [INFO] parallelexecution      commited chunk: 21\n",
      "2024-09-03 19:31:26,558 [INFO] basedownloading      start to download 2018q2.zip \n",
      "2024-09-03 19:31:26,558 [INFO] basedownloading      start to download 2018q1.zip \n",
      "2024-09-03 19:31:26,558 [INFO] basedownloading      start to download 2017q4.zip \n",
      "2024-09-03 19:31:32,408 [INFO] parallelexecution      commited chunk: 24\n",
      "2024-09-03 19:31:32,409 [INFO] basedownloading      start to download 2017q3.zip \n",
      "2024-09-03 19:31:32,409 [INFO] basedownloading      start to download 2017q2.zip \n",
      "2024-09-03 19:31:32,409 [INFO] basedownloading      start to download 2017q1.zip \n",
      "2024-09-03 19:31:37,876 [INFO] parallelexecution      commited chunk: 27\n",
      "2024-09-03 19:31:37,877 [INFO] basedownloading      start to download 2016q4.zip \n",
      "2024-09-03 19:31:37,877 [INFO] basedownloading      start to download 2016q3.zip \n",
      "2024-09-03 19:31:37,877 [INFO] basedownloading      start to download 2016q2.zip \n",
      "2024-09-03 19:31:41,537 [INFO] parallelexecution      commited chunk: 30\n",
      "2024-09-03 19:31:41,538 [INFO] basedownloading      start to download 2016q1.zip \n",
      "2024-09-03 19:31:41,538 [INFO] basedownloading      start to download 2015q4.zip \n",
      "2024-09-03 19:31:41,539 [INFO] basedownloading      start to download 2015q3.zip \n",
      "2024-09-03 19:31:45,033 [INFO] parallelexecution      commited chunk: 33\n",
      "2024-09-03 19:31:45,034 [INFO] basedownloading      start to download 2015q2.zip \n",
      "2024-09-03 19:31:45,034 [INFO] basedownloading      start to download 2015q1.zip \n",
      "2024-09-03 19:31:45,034 [INFO] basedownloading      start to download 2014q4.zip \n",
      "2024-09-03 19:31:48,456 [INFO] parallelexecution      commited chunk: 36\n",
      "2024-09-03 19:31:48,457 [INFO] basedownloading      start to download 2014q3.zip \n",
      "2024-09-03 19:31:48,457 [INFO] basedownloading      start to download 2014q2.zip \n",
      "2024-09-03 19:31:48,458 [INFO] basedownloading      start to download 2014q1.zip \n",
      "2024-09-03 19:31:51,996 [INFO] parallelexecution      commited chunk: 39\n",
      "2024-09-03 19:31:51,997 [INFO] basedownloading      start to download 2013q4.zip \n",
      "2024-09-03 19:31:51,997 [INFO] basedownloading      start to download 2013q3.zip \n",
      "2024-09-03 19:31:51,997 [INFO] basedownloading      start to download 2013q2.zip \n",
      "2024-09-03 19:31:58,107 [INFO] parallelexecution      commited chunk: 42\n",
      "2024-09-03 19:31:58,108 [INFO] basedownloading      start to download 2013q1.zip \n",
      "2024-09-03 19:31:58,108 [INFO] basedownloading      start to download 2012q4.zip \n",
      "2024-09-03 19:31:58,109 [INFO] basedownloading      start to download 2012q3.zip \n",
      "2024-09-03 19:32:02,782 [INFO] parallelexecution      commited chunk: 45\n",
      "2024-09-03 19:32:02,783 [INFO] basedownloading      start to download 2012q2.zip \n",
      "2024-09-03 19:32:02,783 [INFO] basedownloading      start to download 2012q1.zip \n",
      "2024-09-03 19:32:02,784 [INFO] basedownloading      start to download 2011q4.zip \n",
      "2024-09-03 19:32:07,577 [INFO] parallelexecution      commited chunk: 48\n",
      "2024-09-03 19:32:07,577 [INFO] basedownloading      start to download 2011q3.zip \n",
      "2024-09-03 19:32:07,578 [INFO] basedownloading      start to download 2011q2.zip \n",
      "2024-09-03 19:32:07,578 [INFO] basedownloading      start to download 2011q1.zip \n",
      "2024-09-03 19:32:09,921 [INFO] parallelexecution      commited chunk: 51\n",
      "2024-09-03 19:32:09,921 [INFO] basedownloading      start to download 2010q4.zip \n",
      "2024-09-03 19:32:09,922 [INFO] basedownloading      start to download 2010q3.zip \n",
      "2024-09-03 19:32:09,922 [INFO] basedownloading      start to download 2010q2.zip \n",
      "2024-09-03 19:32:11,595 [INFO] parallelexecution      commited chunk: 54\n",
      "2024-09-03 19:32:11,597 [INFO] basedownloading      start to download 2010q1.zip \n",
      "2024-09-03 19:32:11,598 [INFO] basedownloading      start to download 2009q4.zip \n",
      "2024-09-03 19:32:11,599 [INFO] basedownloading      start to download 2009q3.zip \n",
      "2024-09-03 19:32:13,180 [INFO] parallelexecution      commited chunk: 57\n",
      "2024-09-03 19:32:13,182 [INFO] basedownloading      start to download 2009q2.zip \n",
      "2024-09-03 19:32:13,183 [INFO] basedownloading      start to download 2009q1.zip \n",
      "2024-09-03 19:32:13,563 [INFO] parallelexecution      commited chunk: 60\n",
      "2024-09-03 19:32:14,039 [INFO] updateprocess  start to transform to parquet format ...\n",
      "2024-09-03 19:32:14,041 [INFO] parallelexecution      items to process: 62\n"
     ]
    },
    {
     "name": "stdout",
     "output_type": "stream",
     "text": [
      "No rapid-api-key is set: \n",
      "If you are interested in daily updates, please have a look at https://rapidapi.com/hansjoerg.wingeier/api/daily-sec-financial-statement-dataset\n"
     ]
    },
    {
     "name": "stderr",
     "output_type": "stream",
     "text": [
      "2024-09-03 19:32:14,092 [INFO] toparquettransforming  processing 2018q3.zip\n",
      "2024-09-03 19:32:14,092 [INFO] toparquettransforming  processing 2023q4.zip\n",
      "2024-09-03 19:32:14,093 [INFO] toparquettransforming  processing 2021q4.zip\n",
      "2024-09-03 19:32:14,094 [INFO] toparquettransforming  processing 2018q4.zip\n",
      "2024-09-03 19:32:14,095 [INFO] toparquettransforming  processing 2023q3.zip\n",
      "2024-09-03 19:32:14,096 [INFO] toparquettransforming  processing 2021q3.zip\n",
      "2024-09-03 19:32:14,098 [INFO] toparquettransforming  processing 2019q1.zip\n",
      "2024-09-03 19:32:14,099 [INFO] toparquettransforming  processing 2020q4.zip\n",
      "2024-09-03 19:32:21,684 [INFO] toparquettransforming  processing 2021q1.zip\n",
      "2024-09-03 19:32:21,950 [INFO] toparquettransforming  processing 2018q1.zip\n",
      "2024-09-03 19:32:22,043 [INFO] toparquettransforming  processing 2022q4.zip\n",
      "2024-09-03 19:32:22,855 [INFO] toparquettransforming  processing 2021q2.zip\n",
      "2024-09-03 19:32:22,986 [INFO] toparquettransforming  processing 2024q1.zip\n",
      "2024-09-03 19:32:23,015 [INFO] toparquettransforming  processing 2018q2.zip\n",
      "2024-09-03 19:32:23,142 [INFO] toparquettransforming  processing 2023q1.zip\n",
      "2024-09-03 19:32:23,186 [INFO] toparquettransforming  processing 2023q2.zip\n",
      "2024-09-03 19:32:30,531 [INFO] toparquettransforming  processing 2019q2.zip\n",
      "2024-09-03 19:32:30,580 [INFO] toparquettransforming  processing 2019q3.zip\n",
      "2024-09-03 19:32:30,969 [INFO] toparquettransforming  processing 2022q1.zip\n",
      "2024-09-03 19:32:31,149 [INFO] toparquettransforming  processing 2022q2.zip\n",
      "2024-09-03 19:32:31,255 [INFO] toparquettransforming  processing 2022q3.zip\n",
      "2024-09-03 19:32:32,229 [INFO] toparquettransforming  processing 2011q1.zip\n",
      "2024-09-03 19:32:32,297 [INFO] toparquettransforming  processing 2013q2.zip\n",
      "2024-09-03 19:32:33,159 [INFO] toparquettransforming  processing 2017q4.zip\n",
      "2024-09-03 19:32:34,155 [INFO] toparquettransforming  processing 2013q3.zip\n",
      "2024-09-03 19:32:37,958 [INFO] toparquettransforming  processing 2020q3.zip\n",
      "2024-09-03 19:32:38,136 [INFO] toparquettransforming  processing 2024q2.zip\n",
      "2024-09-03 19:32:40,517 [INFO] toparquettransforming  processing 2020q1.zip\n",
      "2024-09-03 19:32:40,599 [INFO] toparquettransforming  processing 2011q2.zip\n",
      "2024-09-03 19:32:40,745 [INFO] toparquettransforming  processing 2019q4.zip\n",
      "2024-09-03 19:32:41,774 [INFO] toparquettransforming  processing 2020q2.zip\n",
      "2024-09-03 19:32:41,888 [INFO] toparquettransforming  processing 2015q4.zip\n",
      "2024-09-03 19:32:42,079 [INFO] toparquettransforming  processing 2013q1.zip\n",
      "2024-09-03 19:32:43,769 [INFO] toparquettransforming  processing 2015q3.zip\n",
      "2024-09-03 19:32:45,363 [INFO] toparquettransforming  processing 2013q4.zip\n",
      "2024-09-03 19:32:47,611 [INFO] toparquettransforming  processing 2017q2.zip\n",
      "2024-09-03 19:32:48,689 [INFO] toparquettransforming  processing 2017q3.zip\n",
      "2024-09-03 19:32:49,696 [INFO] toparquettransforming  processing 2010q2.zip\n",
      "2024-09-03 19:32:50,089 [INFO] toparquettransforming  processing 2009q3.zip\n",
      "2024-09-03 19:32:50,210 [INFO] toparquettransforming  processing 2016q4.zip\n",
      "2024-09-03 19:32:50,557 [INFO] toparquettransforming  processing 2009q2.zip\n",
      "2024-09-03 19:32:50,610 [INFO] toparquettransforming  processing 2010q3.zip\n",
      "2024-09-03 19:32:50,824 [INFO] toparquettransforming  processing 2012q3.zip\n",
      "2024-09-03 19:32:52,154 [INFO] toparquettransforming  processing 2012q1.zip\n",
      "2024-09-03 19:32:52,520 [INFO] toparquettransforming  processing 2017q1.zip\n",
      "2024-09-03 19:32:54,239 [INFO] toparquettransforming  processing 2011q3.zip\n",
      "2024-09-03 19:32:55,281 [INFO] toparquettransforming  processing 2011q4.zip\n",
      "2024-09-03 19:32:55,673 [INFO] toparquettransforming  processing 2015q2.zip\n",
      "2024-09-03 19:32:56,120 [INFO] toparquettransforming  processing 2015q1.zip\n",
      "2024-09-03 19:32:58,229 [INFO] toparquettransforming  processing 2009q1.zip\n",
      "2024-09-03 19:32:58,254 [INFO] toparquettransforming  processing 2014q4.zip\n",
      "2024-09-03 19:33:01,214 [INFO] toparquettransforming  processing 2010q1.zip\n",
      "2024-09-03 19:33:01,320 [INFO] toparquettransforming  processing 2012q2.zip\n",
      "2024-09-03 19:33:01,936 [INFO] toparquettransforming  processing 2016q2.zip\n",
      "2024-09-03 19:33:01,958 [INFO] toparquettransforming  processing 2014q1.zip\n",
      "2024-09-03 19:33:03,952 [INFO] toparquettransforming  processing 2016q1.zip\n",
      "2024-09-03 19:33:04,012 [INFO] toparquettransforming  processing 2014q2.zip\n",
      "2024-09-03 19:33:09,363 [INFO] toparquettransforming  processing 2010q4.zip\n",
      "2024-09-03 19:33:09,522 [INFO] toparquettransforming  processing 2009q4.zip\n",
      "2024-09-03 19:33:11,818 [INFO] toparquettransforming  processing 2012q4.zip\n",
      "2024-09-03 19:33:12,078 [INFO] toparquettransforming  processing 2016q3.zip\n",
      "2024-09-03 19:33:12,370 [INFO] toparquettransforming  processing 2014q3.zip\n",
      "2024-09-03 19:33:17,517 [INFO] parallelexecution      commited chunk: 0\n",
      "2024-09-03 19:33:17,520 [INFO] updateprocess  start to index parquet files ...\n",
      "2024-09-03 19:33:17,528 [INFO] indexing  indexing file 2019q2.zip\n",
      "2024-09-03 19:33:19,174 [INFO] indexing  indexing file 2015q2.zip\n",
      "2024-09-03 19:33:19,198 [INFO] indexing  indexing file 2014q1.zip\n",
      "2024-09-03 19:33:19,221 [INFO] indexing  indexing file 2009q4.zip\n",
      "2024-09-03 19:33:19,229 [INFO] indexing  indexing file 2014q3.zip\n",
      "2024-09-03 19:33:19,254 [INFO] indexing  indexing file 2015q3.zip\n",
      "2024-09-03 19:33:19,281 [INFO] indexing  indexing file 2024q1.zip\n",
      "2024-09-03 19:33:19,348 [INFO] indexing  indexing file 2017q4.zip\n",
      "2024-09-03 19:33:19,375 [INFO] indexing  indexing file 2016q2.zip\n",
      "2024-09-03 19:33:19,405 [INFO] indexing  indexing file 2022q3.zip\n",
      "2024-09-03 19:33:19,469 [INFO] indexing  indexing file 2022q4.zip\n",
      "2024-09-03 19:33:19,537 [INFO] indexing  indexing file 2021q1.zip\n",
      "2024-09-03 19:33:19,591 [INFO] indexing  indexing file 2018q3.zip\n",
      "2024-09-03 19:33:19,624 [INFO] indexing  indexing file 2015q4.zip\n",
      "2024-09-03 19:33:19,658 [INFO] indexing  indexing file 2017q2.zip\n",
      "2024-09-03 19:33:19,694 [INFO] indexing  indexing file 2012q1.zip\n",
      "2024-09-03 19:33:19,726 [INFO] indexing  indexing file 2010q1.zip\n",
      "2024-09-03 19:33:19,734 [INFO] indexing  indexing file 2018q4.zip\n",
      "2024-09-03 19:33:19,769 [INFO] indexing  indexing file 2024q2.zip\n",
      "2024-09-03 19:33:19,858 [INFO] indexing  indexing file 2010q2.zip\n",
      "2024-09-03 19:33:19,867 [INFO] indexing  indexing file 2018q2.zip\n",
      "2024-09-03 19:33:19,911 [INFO] indexing  indexing file 2011q1.zip\n",
      "2024-09-03 19:33:19,926 [INFO] indexing  indexing file 2013q2.zip\n",
      "2024-09-03 19:33:19,977 [INFO] indexing  indexing file 2023q1.zip\n",
      "2024-09-03 19:33:20,066 [INFO] indexing  indexing file 2009q3.zip\n",
      "2024-09-03 19:33:20,074 [INFO] indexing  indexing file 2023q3.zip\n",
      "2024-09-03 19:33:20,155 [INFO] indexing  indexing file 2014q4.zip\n",
      "2024-09-03 19:33:20,200 [INFO] indexing  indexing file 2012q4.zip\n",
      "2024-09-03 19:33:20,242 [INFO] indexing  indexing file 2020q4.zip\n",
      "2024-09-03 19:33:20,309 [INFO] indexing  indexing file 2020q2.zip\n",
      "2024-09-03 19:33:20,379 [INFO] indexing  indexing file 2020q3.zip\n",
      "2024-09-03 19:33:20,450 [INFO] indexing  indexing file 2023q4.zip\n",
      "2024-09-03 19:33:20,554 [INFO] indexing  indexing file 2016q3.zip\n",
      "2024-09-03 19:33:20,603 [INFO] indexing  indexing file 2013q4.zip\n",
      "2024-09-03 19:33:20,653 [INFO] indexing  indexing file 2009q2.zip\n",
      "2024-09-03 19:33:20,658 [INFO] indexing  indexing file 2021q3.zip\n",
      "2024-09-03 19:33:20,745 [INFO] indexing  indexing file 2010q4.zip\n",
      "2024-09-03 19:33:20,759 [INFO] indexing  indexing file 2012q3.zip\n",
      "2024-09-03 19:33:20,807 [INFO] indexing  indexing file 2012q2.zip\n",
      "2024-09-03 19:33:20,857 [INFO] indexing  indexing file 2017q3.zip\n",
      "2024-09-03 19:33:20,911 [INFO] indexing  indexing file 2022q1.zip\n",
      "2024-09-03 19:33:21,007 [INFO] indexing  indexing file 2019q4.zip\n",
      "2024-09-03 19:33:21,077 [INFO] indexing  indexing file 2011q3.zip\n",
      "2024-09-03 19:33:21,119 [INFO] indexing  indexing file 2014q2.zip\n",
      "2024-09-03 19:33:21,177 [INFO] indexing  indexing file 2019q1.zip\n",
      "2024-09-03 19:33:21,233 [INFO] indexing  indexing file 2021q4.zip\n",
      "2024-09-03 19:33:21,339 [INFO] indexing  indexing file 2013q3.zip\n",
      "2024-09-03 19:33:21,400 [INFO] indexing  indexing file 2022q2.zip\n",
      "2024-09-03 19:33:21,555 [INFO] indexing  indexing file 2015q1.zip\n",
      "2024-09-03 19:33:21,644 [INFO] indexing  indexing file 2017q1.zip\n",
      "2024-09-03 19:33:21,741 [INFO] indexing  indexing file 2011q4.zip\n"
     ]
    },
    {
     "name": "stderr",
     "output_type": "stream",
     "text": [
      "2024-09-03 19:33:21,795 [INFO] indexing  indexing file 2010q3.zip\n",
      "2024-09-03 19:33:21,811 [INFO] indexing  indexing file 2013q1.zip\n",
      "2024-09-03 19:33:21,892 [INFO] indexing  indexing file 2016q1.zip\n",
      "2024-09-03 19:33:21,985 [INFO] indexing  indexing file 2020q1.zip\n",
      "2024-09-03 19:33:22,067 [INFO] indexing  indexing file 2019q3.zip\n",
      "2024-09-03 19:33:22,140 [INFO] indexing  indexing file 2023q2.zip\n",
      "2024-09-03 19:33:22,270 [INFO] indexing  indexing file 2018q1.zip\n",
      "2024-09-03 19:33:22,333 [INFO] indexing  indexing file 2011q2.zip\n",
      "2024-09-03 19:33:22,350 [INFO] indexing  indexing file 2009q1.zip\n",
      "2024-09-03 19:33:22,353 [INFO] indexing  indexing file 2021q2.zip\n",
      "2024-09-03 19:33:22,451 [INFO] indexing  indexing file 2016q4.zip\n",
      "2024-09-03 19:33:22,521 [INFO] parallelexecution      items to process: 61\n",
      "2024-09-03 19:33:22,524 [INFO] zipcollecting  processing /Users/christophernance/secfsdstools/data/parquet/quarter/2019q2.zip\n",
      "2024-09-03 19:33:22,525 [INFO] zipcollecting  processing /Users/christophernance/secfsdstools/data/parquet/quarter/2014q1.zip\n",
      "2024-09-03 19:33:22,527 [INFO] zipcollecting  processing /Users/christophernance/secfsdstools/data/parquet/quarter/2022q4.zip\n",
      "2024-09-03 19:33:22,528 [INFO] zipcollecting  processing /Users/christophernance/secfsdstools/data/parquet/quarter/2018q3.zip\n",
      "2024-09-03 19:33:22,526 [INFO] zipcollecting  processing /Users/christophernance/secfsdstools/data/parquet/quarter/2014q3.zip\n",
      "2024-09-03 19:33:22,529 [INFO] zipcollecting  processing /Users/christophernance/secfsdstools/data/parquet/quarter/2017q2.zip\n",
      "2024-09-03 19:33:22,528 [INFO] zipcollecting  processing /Users/christophernance/secfsdstools/data/parquet/quarter/2016q2.zip\n",
      "2024-09-03 19:33:22,529 [INFO] zipcollecting  processing /Users/christophernance/secfsdstools/data/parquet/quarter/2024q1.zip\n",
      "2024-09-03 19:33:26,913 [INFO] zipcollecting  processing /Users/christophernance/secfsdstools/data/parquet/quarter/2012q1.zip\n",
      "2024-09-03 19:33:26,940 [INFO] zipcollecting  processing /Users/christophernance/secfsdstools/data/parquet/quarter/2022q3.zip\n",
      "2024-09-03 19:33:27,032 [INFO] zipcollecting  processing /Users/christophernance/secfsdstools/data/parquet/quarter/2015q2.zip\n",
      "2024-09-03 19:33:27,312 [INFO] zipcollecting  processing /Users/christophernance/secfsdstools/data/parquet/quarter/2015q4.zip\n",
      "2024-09-03 19:33:27,506 [INFO] zipcollecting  processing /Users/christophernance/secfsdstools/data/parquet/quarter/2017q4.zip\n",
      "2024-09-03 19:33:28,014 [INFO] zipcollecting  processing /Users/christophernance/secfsdstools/data/parquet/quarter/2021q1.zip\n",
      "2024-09-03 19:33:28,067 [INFO] zipcollecting  processing /Users/christophernance/secfsdstools/data/parquet/quarter/2015q3.zip\n",
      "2024-09-03 19:33:30,026 [INFO] zipcollecting  processing /Users/christophernance/secfsdstools/data/parquet/quarter/2009q4.zip\n",
      "2024-09-03 19:33:42,051 [INFO] zipcollecting  processing /Users/christophernance/secfsdstools/data/parquet/quarter/2010q1.zip\n",
      "2024-09-03 19:33:42,182 [INFO] zipcollecting  processing /Users/christophernance/secfsdstools/data/parquet/quarter/2018q4.zip\n",
      "2024-09-03 19:33:48,439 [INFO] zipcollecting  processing /Users/christophernance/secfsdstools/data/parquet/quarter/2024q2.zip\n",
      "2024-09-03 19:33:49,833 [INFO] zipcollecting  processing /Users/christophernance/secfsdstools/data/parquet/quarter/2010q2.zip\n",
      "2024-09-03 19:33:49,881 [INFO] zipcollecting  processing /Users/christophernance/secfsdstools/data/parquet/quarter/2018q2.zip\n",
      "2024-09-03 19:33:51,042 [INFO] zipcollecting  processing /Users/christophernance/secfsdstools/data/parquet/quarter/2013q2.zip\n",
      "2024-09-03 19:33:51,102 [INFO] zipcollecting  processing /Users/christophernance/secfsdstools/data/parquet/quarter/2011q1.zip\n",
      "2024-09-03 19:33:52,140 [INFO] zipcollecting  processing /Users/christophernance/secfsdstools/data/parquet/quarter/2009q3.zip\n",
      "2024-09-03 19:33:52,306 [INFO] zipcollecting  processing /Users/christophernance/secfsdstools/data/parquet/quarter/2023q3.zip\n",
      "2024-09-03 19:33:52,725 [INFO] zipcollecting  processing /Users/christophernance/secfsdstools/data/parquet/quarter/2023q1.zip\n",
      "2024-09-03 19:33:53,395 [INFO] zipcollecting  processing /Users/christophernance/secfsdstools/data/parquet/quarter/2014q4.zip\n",
      "2024-09-03 19:33:54,633 [INFO] zipcollecting  processing /Users/christophernance/secfsdstools/data/parquet/quarter/2020q4.zip\n",
      "2024-09-03 19:33:55,199 [INFO] zipcollecting  processing /Users/christophernance/secfsdstools/data/parquet/quarter/2012q4.zip\n",
      "2024-09-03 19:33:56,010 [INFO] zipcollecting  processing /Users/christophernance/secfsdstools/data/parquet/quarter/2020q3.zip\n",
      "2024-09-03 19:33:56,319 [INFO] zipcollecting  processing /Users/christophernance/secfsdstools/data/parquet/quarter/2020q2.zip\n",
      "2024-09-03 19:33:57,178 [INFO] zipcollecting  processing /Users/christophernance/secfsdstools/data/parquet/quarter/2016q3.zip\n",
      "2024-09-03 19:33:57,952 [INFO] zipcollecting  processing /Users/christophernance/secfsdstools/data/parquet/quarter/2023q4.zip\n",
      "2024-09-03 19:33:58,798 [INFO] zipcollecting  processing /Users/christophernance/secfsdstools/data/parquet/quarter/2013q4.zip\n",
      "2024-09-03 19:34:00,824 [INFO] zipcollecting  processing /Users/christophernance/secfsdstools/data/parquet/quarter/2009q2.zip\n",
      "2024-09-03 19:34:00,852 [INFO] zipcollecting  processing /Users/christophernance/secfsdstools/data/parquet/quarter/2021q3.zip\n",
      "2024-09-03 19:34:04,163 [INFO] zipcollecting  processing /Users/christophernance/secfsdstools/data/parquet/quarter/2010q4.zip\n",
      "2024-09-03 19:34:04,497 [INFO] zipcollecting  processing /Users/christophernance/secfsdstools/data/parquet/quarter/2012q3.zip\n",
      "2024-09-03 19:34:06,010 [INFO] zipcollecting  processing /Users/christophernance/secfsdstools/data/parquet/quarter/2012q2.zip\n",
      "2024-09-03 19:34:07,221 [INFO] zipcollecting  processing /Users/christophernance/secfsdstools/data/parquet/quarter/2017q3.zip\n",
      "2024-09-03 19:34:13,699 [INFO] zipcollecting  processing /Users/christophernance/secfsdstools/data/parquet/quarter/2022q1.zip\n",
      "2024-09-03 19:34:15,503 [INFO] zipcollecting  processing /Users/christophernance/secfsdstools/data/parquet/quarter/2019q4.zip\n",
      "2024-09-03 19:34:18,243 [INFO] zipcollecting  processing /Users/christophernance/secfsdstools/data/parquet/quarter/2011q3.zip\n",
      "2024-09-03 19:34:19,398 [INFO] zipcollecting  processing /Users/christophernance/secfsdstools/data/parquet/quarter/2014q2.zip\n",
      "2024-09-03 19:34:20,015 [INFO] zipcollecting  processing /Users/christophernance/secfsdstools/data/parquet/quarter/2019q1.zip\n",
      "2024-09-03 19:34:21,312 [INFO] zipcollecting  processing /Users/christophernance/secfsdstools/data/parquet/quarter/2013q3.zip\n",
      "2024-09-03 19:34:21,926 [INFO] zipcollecting  processing /Users/christophernance/secfsdstools/data/parquet/quarter/2021q4.zip\n",
      "2024-09-03 19:34:23,500 [INFO] zipcollecting  processing /Users/christophernance/secfsdstools/data/parquet/quarter/2022q2.zip\n",
      "2024-09-03 19:34:23,821 [INFO] zipcollecting  processing /Users/christophernance/secfsdstools/data/parquet/quarter/2015q1.zip\n",
      "2024-09-03 19:34:25,829 [INFO] zipcollecting  processing /Users/christophernance/secfsdstools/data/parquet/quarter/2011q4.zip\n",
      "2024-09-03 19:34:26,348 [INFO] zipcollecting  processing /Users/christophernance/secfsdstools/data/parquet/quarter/2017q1.zip\n",
      "2024-09-03 19:34:27,658 [INFO] zipcollecting  processing /Users/christophernance/secfsdstools/data/parquet/quarter/2010q3.zip\n",
      "2024-09-03 19:34:27,708 [INFO] zipcollecting  processing /Users/christophernance/secfsdstools/data/parquet/quarter/2013q1.zip\n",
      "2024-09-03 19:34:30,201 [INFO] zipcollecting  processing /Users/christophernance/secfsdstools/data/parquet/quarter/2016q1.zip\n",
      "2024-09-03 19:34:31,985 [INFO] zipcollecting  processing /Users/christophernance/secfsdstools/data/parquet/quarter/2020q1.zip\n",
      "2024-09-03 19:34:34,044 [INFO] zipcollecting  processing /Users/christophernance/secfsdstools/data/parquet/quarter/2019q3.zip\n",
      "2024-09-03 19:34:44,383 [INFO] zipcollecting  processing /Users/christophernance/secfsdstools/data/parquet/quarter/2023q2.zip\n",
      "2024-09-03 19:34:46,879 [INFO] zipcollecting  processing /Users/christophernance/secfsdstools/data/parquet/quarter/2018q1.zip\n",
      "2024-09-03 19:34:47,598 [INFO] zipcollecting  processing /Users/christophernance/secfsdstools/data/parquet/quarter/2011q2.zip\n"
     ]
    },
    {
     "name": "stderr",
     "output_type": "stream",
     "text": [
      "2024-09-03 19:34:48,152 [INFO] zipcollecting  processing /Users/christophernance/secfsdstools/data/parquet/quarter/2021q2.zip\n",
      "2024-09-03 19:34:49,213 [INFO] zipcollecting  processing /Users/christophernance/secfsdstools/data/parquet/quarter/2016q4.zip\n",
      "2024-09-03 19:35:12,912 [INFO] parallelexecution      commited chunk: 0\n"
     ]
    },
    {
     "name": "stdout",
     "output_type": "stream",
     "text": [
      "store rawdatabag under ./set/parallel/BS/raw\n",
      "create joined databag\n",
      "store joineddatabag under ./set/parallel/BS/joined\n"
     ]
    },
    {
     "name": "stderr",
     "output_type": "stream",
     "text": [
      "2024-09-03 19:35:57,066 [INFO] configmgt  reading configuration from /Users/christophernance/.secfsdstools.cfg\n",
      "2024-09-03 19:35:57,076 [INFO] parallelexecution      items to process: 61\n",
      "2024-09-03 19:35:57,082 [INFO] zipcollecting  processing /Users/christophernance/secfsdstools/data/parquet/quarter/2014q3.zip\n",
      "2024-09-03 19:35:57,082 [INFO] zipcollecting  processing /Users/christophernance/secfsdstools/data/parquet/quarter/2024q1.zip\n",
      "2024-09-03 19:35:57,084 [INFO] zipcollecting  processing /Users/christophernance/secfsdstools/data/parquet/quarter/2016q2.zip\n",
      "2024-09-03 19:35:57,084 [INFO] zipcollecting  processing /Users/christophernance/secfsdstools/data/parquet/quarter/2022q4.zip\n",
      "2024-09-03 19:35:57,087 [INFO] zipcollecting  processing /Users/christophernance/secfsdstools/data/parquet/quarter/2018q3.zip\n",
      "2024-09-03 19:35:57,089 [INFO] zipcollecting  processing /Users/christophernance/secfsdstools/data/parquet/quarter/2017q2.zip\n",
      "2024-09-03 19:35:57,085 [INFO] zipcollecting  processing /Users/christophernance/secfsdstools/data/parquet/quarter/2019q2.zip\n",
      "2024-09-03 19:35:57,084 [INFO] zipcollecting  processing /Users/christophernance/secfsdstools/data/parquet/quarter/2014q1.zip\n",
      "2024-09-03 19:36:00,666 [INFO] zipcollecting  processing /Users/christophernance/secfsdstools/data/parquet/quarter/2012q1.zip\n",
      "2024-09-03 19:36:00,928 [INFO] zipcollecting  processing /Users/christophernance/secfsdstools/data/parquet/quarter/2015q4.zip\n",
      "2024-09-03 19:36:00,996 [INFO] zipcollecting  processing /Users/christophernance/secfsdstools/data/parquet/quarter/2022q3.zip\n",
      "2024-09-03 19:36:01,696 [INFO] zipcollecting  processing /Users/christophernance/secfsdstools/data/parquet/quarter/2021q1.zip\n",
      "2024-09-03 19:36:01,992 [INFO] zipcollecting  processing /Users/christophernance/secfsdstools/data/parquet/quarter/2015q2.zip\n",
      "2024-09-03 19:36:02,250 [INFO] zipcollecting  processing /Users/christophernance/secfsdstools/data/parquet/quarter/2017q4.zip\n",
      "2024-09-03 19:36:02,825 [INFO] zipcollecting  processing /Users/christophernance/secfsdstools/data/parquet/quarter/2015q3.zip\n",
      "2024-09-03 19:36:04,587 [INFO] zipcollecting  processing /Users/christophernance/secfsdstools/data/parquet/quarter/2009q4.zip\n",
      "2024-09-03 19:36:20,773 [INFO] zipcollecting  processing /Users/christophernance/secfsdstools/data/parquet/quarter/2010q1.zip\n",
      "2024-09-03 19:36:20,949 [INFO] zipcollecting  processing /Users/christophernance/secfsdstools/data/parquet/quarter/2018q4.zip\n",
      "2024-09-03 19:36:28,290 [INFO] zipcollecting  processing /Users/christophernance/secfsdstools/data/parquet/quarter/2024q2.zip\n",
      "2024-09-03 19:36:29,928 [INFO] zipcollecting  processing /Users/christophernance/secfsdstools/data/parquet/quarter/2010q2.zip\n",
      "2024-09-03 19:36:30,900 [INFO] zipcollecting  processing /Users/christophernance/secfsdstools/data/parquet/quarter/2018q2.zip\n",
      "2024-09-03 19:36:32,382 [INFO] zipcollecting  processing /Users/christophernance/secfsdstools/data/parquet/quarter/2013q2.zip\n",
      "2024-09-03 19:36:32,601 [INFO] zipcollecting  processing /Users/christophernance/secfsdstools/data/parquet/quarter/2011q1.zip\n",
      "2024-09-03 19:36:33,884 [INFO] zipcollecting  processing /Users/christophernance/secfsdstools/data/parquet/quarter/2009q3.zip\n",
      "2024-09-03 19:36:34,040 [INFO] zipcollecting  processing /Users/christophernance/secfsdstools/data/parquet/quarter/2023q3.zip\n",
      "2024-09-03 19:36:34,740 [INFO] zipcollecting  processing /Users/christophernance/secfsdstools/data/parquet/quarter/2023q1.zip\n",
      "2024-09-03 19:36:35,488 [INFO] zipcollecting  processing /Users/christophernance/secfsdstools/data/parquet/quarter/2014q4.zip\n",
      "2024-09-03 19:36:37,142 [INFO] zipcollecting  processing /Users/christophernance/secfsdstools/data/parquet/quarter/2020q4.zip\n",
      "2024-09-03 19:36:38,071 [INFO] zipcollecting  processing /Users/christophernance/secfsdstools/data/parquet/quarter/2012q4.zip\n",
      "2024-09-03 19:36:38,800 [INFO] zipcollecting  processing /Users/christophernance/secfsdstools/data/parquet/quarter/2020q3.zip\n",
      "2024-09-03 19:36:39,619 [INFO] zipcollecting  processing /Users/christophernance/secfsdstools/data/parquet/quarter/2020q2.zip\n",
      "2024-09-03 19:36:40,013 [INFO] zipcollecting  processing /Users/christophernance/secfsdstools/data/parquet/quarter/2016q3.zip\n",
      "2024-09-03 19:36:41,424 [INFO] zipcollecting  processing /Users/christophernance/secfsdstools/data/parquet/quarter/2023q4.zip\n",
      "2024-09-03 19:36:42,422 [INFO] zipcollecting  processing /Users/christophernance/secfsdstools/data/parquet/quarter/2013q4.zip\n",
      "2024-09-03 19:36:44,869 [INFO] zipcollecting  processing /Users/christophernance/secfsdstools/data/parquet/quarter/2009q2.zip\n",
      "2024-09-03 19:36:44,901 [INFO] zipcollecting  processing /Users/christophernance/secfsdstools/data/parquet/quarter/2021q3.zip\n",
      "2024-09-03 19:36:50,266 [INFO] zipcollecting  processing /Users/christophernance/secfsdstools/data/parquet/quarter/2010q4.zip\n",
      "2024-09-03 19:36:50,739 [INFO] zipcollecting  processing /Users/christophernance/secfsdstools/data/parquet/quarter/2012q3.zip\n",
      "2024-09-03 19:36:52,658 [INFO] zipcollecting  processing /Users/christophernance/secfsdstools/data/parquet/quarter/2012q2.zip\n",
      "2024-09-03 19:36:54,316 [INFO] zipcollecting  processing /Users/christophernance/secfsdstools/data/parquet/quarter/2017q3.zip\n",
      "2024-09-03 19:37:01,906 [INFO] zipcollecting  processing /Users/christophernance/secfsdstools/data/parquet/quarter/2022q1.zip\n",
      "2024-09-03 19:37:04,234 [INFO] zipcollecting  processing /Users/christophernance/secfsdstools/data/parquet/quarter/2019q4.zip\n",
      "2024-09-03 19:37:08,485 [INFO] zipcollecting  processing /Users/christophernance/secfsdstools/data/parquet/quarter/2011q3.zip\n",
      "2024-09-03 19:37:10,005 [INFO] zipcollecting  processing /Users/christophernance/secfsdstools/data/parquet/quarter/2014q2.zip\n",
      "2024-09-03 19:37:11,949 [INFO] zipcollecting  processing /Users/christophernance/secfsdstools/data/parquet/quarter/2019q1.zip\n",
      "2024-09-03 19:37:13,345 [INFO] zipcollecting  processing /Users/christophernance/secfsdstools/data/parquet/quarter/2013q3.zip\n",
      "2024-09-03 19:37:14,231 [INFO] zipcollecting  processing /Users/christophernance/secfsdstools/data/parquet/quarter/2021q4.zip\n",
      "2024-09-03 19:37:15,502 [INFO] zipcollecting  processing /Users/christophernance/secfsdstools/data/parquet/quarter/2015q1.zip\n",
      "2024-09-03 19:37:15,962 [INFO] zipcollecting  processing /Users/christophernance/secfsdstools/data/parquet/quarter/2022q2.zip\n",
      "2024-09-03 19:37:17,319 [INFO] zipcollecting  processing /Users/christophernance/secfsdstools/data/parquet/quarter/2011q4.zip\n",
      "2024-09-03 19:37:18,836 [INFO] zipcollecting  processing /Users/christophernance/secfsdstools/data/parquet/quarter/2017q1.zip\n",
      "2024-09-03 19:37:18,840 [INFO] zipcollecting  processing /Users/christophernance/secfsdstools/data/parquet/quarter/2013q1.zip\n",
      "2024-09-03 19:37:19,764 [INFO] zipcollecting  processing /Users/christophernance/secfsdstools/data/parquet/quarter/2010q3.zip\n",
      "2024-09-03 19:37:21,989 [INFO] zipcollecting  processing /Users/christophernance/secfsdstools/data/parquet/quarter/2016q1.zip\n",
      "2024-09-03 19:37:25,106 [INFO] zipcollecting  processing /Users/christophernance/secfsdstools/data/parquet/quarter/2020q1.zip\n",
      "2024-09-03 19:37:27,308 [INFO] zipcollecting  processing /Users/christophernance/secfsdstools/data/parquet/quarter/2019q3.zip\n",
      "2024-09-03 19:37:36,514 [INFO] zipcollecting  processing /Users/christophernance/secfsdstools/data/parquet/quarter/2023q2.zip\n",
      "2024-09-03 19:37:38,303 [INFO] zipcollecting  processing /Users/christophernance/secfsdstools/data/parquet/quarter/2018q1.zip\n",
      "2024-09-03 19:37:38,363 [INFO] zipcollecting  processing /Users/christophernance/secfsdstools/data/parquet/quarter/2011q2.zip\n",
      "2024-09-03 19:37:38,933 [INFO] zipcollecting  processing /Users/christophernance/secfsdstools/data/parquet/quarter/2021q2.zip\n",
      "2024-09-03 19:37:40,283 [INFO] zipcollecting  processing /Users/christophernance/secfsdstools/data/parquet/quarter/2016q4.zip\n",
      "2024-09-03 19:38:01,098 [INFO] parallelexecution      commited chunk: 0\n"
     ]
    },
    {
     "name": "stdout",
     "output_type": "stream",
     "text": [
      "store rawdatabag under ./set/parallel/CF/raw\n",
      "create joined databag\n",
      "store joineddatabag under ./set/parallel/CF/joined\n"
     ]
    },
    {
     "name": "stderr",
     "output_type": "stream",
     "text": [
      "2024-09-03 19:38:44,216 [INFO] configmgt  reading configuration from /Users/christophernance/.secfsdstools.cfg\n",
      "2024-09-03 19:38:44,220 [INFO] parallelexecution      items to process: 61\n",
      "2024-09-03 19:38:44,227 [INFO] zipcollecting  processing /Users/christophernance/secfsdstools/data/parquet/quarter/2014q3.zip\n",
      "2024-09-03 19:38:44,227 [INFO] zipcollecting  processing /Users/christophernance/secfsdstools/data/parquet/quarter/2024q1.zip\n",
      "2024-09-03 19:38:44,227 [INFO] zipcollecting  processing /Users/christophernance/secfsdstools/data/parquet/quarter/2016q2.zip\n",
      "2024-09-03 19:38:44,230 [INFO] zipcollecting  processing /Users/christophernance/secfsdstools/data/parquet/quarter/2022q4.zip\n",
      "2024-09-03 19:38:44,226 [INFO] zipcollecting  processing /Users/christophernance/secfsdstools/data/parquet/quarter/2019q2.zip\n",
      "2024-09-03 19:38:44,234 [INFO] zipcollecting  processing /Users/christophernance/secfsdstools/data/parquet/quarter/2018q3.zip\n",
      "2024-09-03 19:38:44,236 [INFO] zipcollecting  processing /Users/christophernance/secfsdstools/data/parquet/quarter/2017q2.zip\n",
      "2024-09-03 19:38:44,229 [INFO] zipcollecting  processing /Users/christophernance/secfsdstools/data/parquet/quarter/2014q1.zip\n",
      "2024-09-03 19:38:47,788 [INFO] zipcollecting  processing /Users/christophernance/secfsdstools/data/parquet/quarter/2012q1.zip\n",
      "2024-09-03 19:38:47,834 [INFO] zipcollecting  processing /Users/christophernance/secfsdstools/data/parquet/quarter/2015q2.zip\n",
      "2024-09-03 19:38:47,909 [INFO] zipcollecting  processing /Users/christophernance/secfsdstools/data/parquet/quarter/2022q3.zip\n",
      "2024-09-03 19:38:47,963 [INFO] zipcollecting  processing /Users/christophernance/secfsdstools/data/parquet/quarter/2015q4.zip\n",
      "2024-09-03 19:38:48,484 [INFO] zipcollecting  processing /Users/christophernance/secfsdstools/data/parquet/quarter/2017q4.zip\n",
      "2024-09-03 19:38:49,292 [INFO] zipcollecting  processing /Users/christophernance/secfsdstools/data/parquet/quarter/2015q3.zip\n",
      "2024-09-03 19:38:49,311 [INFO] zipcollecting  processing /Users/christophernance/secfsdstools/data/parquet/quarter/2021q1.zip\n",
      "2024-09-03 19:38:51,217 [INFO] zipcollecting  processing /Users/christophernance/secfsdstools/data/parquet/quarter/2009q4.zip\n",
      "2024-09-03 19:39:06,706 [INFO] zipcollecting  processing /Users/christophernance/secfsdstools/data/parquet/quarter/2010q1.zip\n",
      "2024-09-03 19:39:06,875 [INFO] zipcollecting  processing /Users/christophernance/secfsdstools/data/parquet/quarter/2018q4.zip\n",
      "2024-09-03 19:39:14,385 [INFO] zipcollecting  processing /Users/christophernance/secfsdstools/data/parquet/quarter/2024q2.zip\n",
      "2024-09-03 19:39:16,135 [INFO] zipcollecting  processing /Users/christophernance/secfsdstools/data/parquet/quarter/2010q2.zip\n",
      "2024-09-03 19:39:16,929 [INFO] zipcollecting  processing /Users/christophernance/secfsdstools/data/parquet/quarter/2018q2.zip\n",
      "2024-09-03 19:39:18,121 [INFO] zipcollecting  processing /Users/christophernance/secfsdstools/data/parquet/quarter/2013q2.zip\n",
      "2024-09-03 19:39:18,709 [INFO] zipcollecting  processing /Users/christophernance/secfsdstools/data/parquet/quarter/2011q1.zip\n",
      "2024-09-03 19:39:19,813 [INFO] zipcollecting  processing /Users/christophernance/secfsdstools/data/parquet/quarter/2009q3.zip\n",
      "2024-09-03 19:39:19,954 [INFO] zipcollecting  processing /Users/christophernance/secfsdstools/data/parquet/quarter/2023q3.zip\n",
      "2024-09-03 19:39:20,441 [INFO] zipcollecting  processing /Users/christophernance/secfsdstools/data/parquet/quarter/2023q1.zip\n",
      "2024-09-03 19:39:21,296 [INFO] zipcollecting  processing /Users/christophernance/secfsdstools/data/parquet/quarter/2014q4.zip\n",
      "2024-09-03 19:39:22,549 [INFO] zipcollecting  processing /Users/christophernance/secfsdstools/data/parquet/quarter/2020q4.zip\n",
      "2024-09-03 19:39:23,807 [INFO] zipcollecting  processing /Users/christophernance/secfsdstools/data/parquet/quarter/2012q4.zip\n",
      "2024-09-03 19:39:24,332 [INFO] zipcollecting  processing /Users/christophernance/secfsdstools/data/parquet/quarter/2020q3.zip\n",
      "2024-09-03 19:39:25,231 [INFO] zipcollecting  processing /Users/christophernance/secfsdstools/data/parquet/quarter/2020q2.zip\n",
      "2024-09-03 19:39:25,889 [INFO] zipcollecting  processing /Users/christophernance/secfsdstools/data/parquet/quarter/2016q3.zip\n",
      "2024-09-03 19:39:27,526 [INFO] zipcollecting  processing /Users/christophernance/secfsdstools/data/parquet/quarter/2023q4.zip\n",
      "2024-09-03 19:39:28,743 [INFO] zipcollecting  processing /Users/christophernance/secfsdstools/data/parquet/quarter/2013q4.zip\n",
      "2024-09-03 19:39:31,872 [INFO] zipcollecting  processing /Users/christophernance/secfsdstools/data/parquet/quarter/2009q2.zip\n",
      "2024-09-03 19:39:31,903 [INFO] zipcollecting  processing /Users/christophernance/secfsdstools/data/parquet/quarter/2021q3.zip\n",
      "2024-09-03 19:39:36,981 [INFO] zipcollecting  processing /Users/christophernance/secfsdstools/data/parquet/quarter/2010q4.zip\n",
      "2024-09-03 19:39:37,431 [INFO] zipcollecting  processing /Users/christophernance/secfsdstools/data/parquet/quarter/2012q3.zip\n",
      "2024-09-03 19:39:39,764 [INFO] zipcollecting  processing /Users/christophernance/secfsdstools/data/parquet/quarter/2012q2.zip\n",
      "2024-09-03 19:39:41,344 [INFO] zipcollecting  processing /Users/christophernance/secfsdstools/data/parquet/quarter/2017q3.zip\n",
      "2024-09-03 19:39:48,061 [INFO] zipcollecting  processing /Users/christophernance/secfsdstools/data/parquet/quarter/2022q1.zip\n",
      "2024-09-03 19:39:50,597 [INFO] zipcollecting  processing /Users/christophernance/secfsdstools/data/parquet/quarter/2019q4.zip\n",
      "2024-09-03 19:39:55,204 [INFO] zipcollecting  processing /Users/christophernance/secfsdstools/data/parquet/quarter/2011q3.zip\n",
      "2024-09-03 19:39:56,954 [INFO] zipcollecting  processing /Users/christophernance/secfsdstools/data/parquet/quarter/2014q2.zip\n",
      "2024-09-03 19:39:58,564 [INFO] zipcollecting  processing /Users/christophernance/secfsdstools/data/parquet/quarter/2019q1.zip\n",
      "2024-09-03 19:39:59,993 [INFO] zipcollecting  processing /Users/christophernance/secfsdstools/data/parquet/quarter/2013q3.zip\n",
      "2024-09-03 19:40:01,334 [INFO] zipcollecting  processing /Users/christophernance/secfsdstools/data/parquet/quarter/2021q4.zip\n",
      "2024-09-03 19:40:01,961 [INFO] zipcollecting  processing /Users/christophernance/secfsdstools/data/parquet/quarter/2015q1.zip\n",
      "2024-09-03 19:40:03,770 [INFO] zipcollecting  processing /Users/christophernance/secfsdstools/data/parquet/quarter/2022q2.zip\n",
      "2024-09-03 19:40:06,152 [INFO] zipcollecting  processing /Users/christophernance/secfsdstools/data/parquet/quarter/2017q1.zip\n",
      "2024-09-03 19:40:06,575 [INFO] zipcollecting  processing /Users/christophernance/secfsdstools/data/parquet/quarter/2011q4.zip\n",
      "2024-09-03 19:40:08,397 [INFO] zipcollecting  processing /Users/christophernance/secfsdstools/data/parquet/quarter/2013q1.zip\n",
      "2024-09-03 19:40:08,962 [INFO] zipcollecting  processing /Users/christophernance/secfsdstools/data/parquet/quarter/2010q3.zip\n",
      "2024-09-03 19:40:11,203 [INFO] zipcollecting  processing /Users/christophernance/secfsdstools/data/parquet/quarter/2016q1.zip\n",
      "2024-09-03 19:40:13,390 [INFO] zipcollecting  processing /Users/christophernance/secfsdstools/data/parquet/quarter/2020q1.zip\n",
      "2024-09-03 19:40:15,545 [INFO] zipcollecting  processing /Users/christophernance/secfsdstools/data/parquet/quarter/2019q3.zip\n",
      "2024-09-03 19:40:24,325 [INFO] zipcollecting  processing /Users/christophernance/secfsdstools/data/parquet/quarter/2023q2.zip\n",
      "2024-09-03 19:40:26,241 [INFO] zipcollecting  processing /Users/christophernance/secfsdstools/data/parquet/quarter/2018q1.zip\n",
      "2024-09-03 19:40:26,776 [INFO] zipcollecting  processing /Users/christophernance/secfsdstools/data/parquet/quarter/2011q2.zip\n",
      "2024-09-03 19:40:27,276 [INFO] zipcollecting  processing /Users/christophernance/secfsdstools/data/parquet/quarter/2021q2.zip\n",
      "2024-09-03 19:40:27,961 [INFO] zipcollecting  processing /Users/christophernance/secfsdstools/data/parquet/quarter/2016q4.zip\n",
      "2024-09-03 19:40:46,733 [INFO] parallelexecution      commited chunk: 0\n"
     ]
    },
    {
     "name": "stdout",
     "output_type": "stream",
     "text": [
      "store rawdatabag under ./set/parallel/IS/raw\n",
      "create joined databag\n",
      "store joineddatabag under ./set/parallel/IS/joined\n"
     ]
    }
   ],
   "source": [
    "for statement_to_load in statements_to_load:\n",
    "    rawdatabag = load_all_financial_statements_parallel(financial_statement=statement_to_load)\n",
    "    save_databag(databag=rawdatabag, financial_statement=statement_to_load, base_path=\"./set/parallel/\")"
   ]
  },
  {
   "cell_type": "markdown",
   "id": "0c1b0d7d-683d-40fd-937c-7242c5eb84ce",
   "metadata": {},
   "source": [
    "After processing, you have the following structure and sizes (with data up to 2023 Q3):\n",
    "<pre>\n",
    "- set/parallel\n",
    "  - BS\n",
    "    - raw     : 715 MB\n",
    "    - joined  : 266 MB\n",
    "  - CF\n",
    "    - raw     : 700 MB\n",
    "    - joined  : 246 MB\n",
    "  - IS\n",
    "    - raw     : 636 MB\n",
    "    - joined  : 217 MB\n",
    "</pre>\n",
    "\n",
    "Especially the joined databags have a size that can be easily loaded. Moreover, loading them just takes a few seconds. "
   ]
  },
  {
   "cell_type": "code",
   "execution_count": 17,
   "id": "686cf90c-fe3e-4f28-a987-42d5961695fa",
   "metadata": {},
   "outputs": [
    {
     "name": "stdout",
     "output_type": "stream",
     "text": [
      "loaded BS databag:  (11014890, 16)\n",
      "loaded CF databag:  (9984210, 16)\n",
      "loaded IS databag:  (9968623, 16)\n"
     ]
    }
   ],
   "source": [
    "#load BS joined data\n",
    "joinedBS = JoinedDataBag.load(\"./set/parallel/BS/joined\")\n",
    "print(\"loaded BS databag: \", joinedBS.pre_num_df.shape)\n",
    "joinedCF = JoinedDataBag.load(\"./set/parallel/CF/joined\")\n",
    "print(\"loaded CF databag: \", joinedCF.pre_num_df.shape)\n",
    "joinedIS = JoinedDataBag.load(\"./set/parallel/IS/joined\")\n",
    "print(\"loaded IS databag: \", joinedIS.pre_num_df.shape)"
   ]
  },
  {
   "cell_type": "markdown",
   "id": "1c15bf60-8266-405b-bf17-f1470c48933b",
   "metadata": {
    "heading_collapsed": true
   },
   "source": [
    "### Serial Data Loading\n",
    "As mentioned above, parallel loading requires some minimal ressources on your laptop/computer. However, using a serial process, you still can create the databags for all balance sheet, cash flow, and income statments. Of course, we need more code and we will also save intermediate results on disk."
   ]
  },
  {
   "cell_type": "markdown",
   "id": "b26d7a4d-1e01-4349-b400-fcadfea40fb5",
   "metadata": {
    "hidden": true
   },
   "source": [
    "The first thing which we need, is a list of all available zip-files. Actually, we just can copy the code from `ZipCollector.get_all_zips()`."
   ]
  },
  {
   "cell_type": "code",
   "execution_count": 6,
   "id": "96fdc620-20d7-4d3b-9294-9b1b696241e6",
   "metadata": {
    "hidden": true
   },
   "outputs": [],
   "source": [
    "from typing import List\n",
    "from secfsdstools.a_config.configmgt import ConfigurationManager\n",
    "from secfsdstools.c_index.indexdataaccess import ParquetDBIndexingAccessor\n",
    "\n",
    "def read_all_zip_names() -> List[str]:\n",
    "    configuration = ConfigurationManager.read_config_file()\n",
    "    dbaccessor = ParquetDBIndexingAccessor(db_dir=configuration.db_dir)\n",
    "\n",
    "    # exclude 2009q1.zip, since this is empty and causes an error when it is read with a filter\n",
    "    filenames = [x.fileName for x in dbaccessor.read_all_indexfileprocessing() if not x.fullPath.endswith(\"2009q1.zip\")]\n",
    "    return filenames"
   ]
  },
  {
   "cell_type": "code",
   "execution_count": 9,
   "id": "f2f566bf-0422-40dc-8d2f-b2bce2a842c6",
   "metadata": {
    "collapsed": true,
    "hidden": true
   },
   "outputs": [
    {
     "name": "stderr",
     "output_type": "stream",
     "text": [
      "2023-12-10 12:40:16,684 [INFO] configmgt  reading configuration from C:\\Users\\hansj\\.secfsdstools.cfg\n"
     ]
    },
    {
     "name": "stdout",
     "output_type": "stream",
     "text": [
      "58\n",
      "['2019q4.zip', '2023q1.zip', '2014q3.zip', '2016q3.zip', '2018q1.zip', '2013q4.zip', '2015q2.zip', '2021q3.zip', '2010q3.zip', '2011q4.zip', '2012q2.zip', '2010q4.zip', '2016q1.zip', '2021q1.zip', '2011q2.zip', '2009q2.zip', '2022q1.zip', '2012q4.zip', '2010q1.zip', '2015q1.zip', '2022q3.zip', '2018q2.zip', '2019q3.zip', '2020q2.zip', '2022q4.zip', '2017q2.zip', '2012q3.zip', '2011q1.zip', '2017q4.zip', '2010q2.zip', '2018q3.zip', '2021q4.zip', '2019q2.zip', '2013q1.zip', '2015q4.zip', '2009q3.zip', '2016q2.zip', '2013q3.zip', '2016q4.zip', '2017q3.zip', '2018q4.zip', '2023q2.zip', '2014q4.zip', '2011q3.zip', '2020q3.zip', '2014q2.zip', '2020q1.zip', '2012q1.zip', '2014q1.zip', '2019q1.zip', '2015q3.zip', '2017q1.zip', '2020q4.zip', '2013q2.zip', '2021q2.zip', '2022q2.zip', '2009q4.zip', '2023q3.zip']\n"
     ]
    }
   ],
   "source": [
    "all_zip_names = read_all_zip_names()\n",
    "print(len(all_zip_names))\n",
    "print(all_zip_names)"
   ]
  },
  {
   "cell_type": "markdown",
   "id": "d8ab160d-2b3c-439b-8fa1-ec87950138ce",
   "metadata": {
    "hidden": true
   },
   "source": [
    "**Prepare the temporary dataset**\n",
    "Next, prepare the data for every single zip-file. So for every zip-file, we collect the datapoints for BS, CF, and IS and apply the aove defined filters. The following functions takes care of that."
   ]
  },
  {
   "cell_type": "code",
   "execution_count": 17,
   "id": "4d0d98e6-e6c5-418a-b775-320245dfecda",
   "metadata": {
    "hidden": true
   },
   "outputs": [],
   "source": [
    "def build_tmp_set(financial_statement: str, file_names: List[str], target_path: str = \"set/tmp/\"):\n",
    "    \"\"\" This function reads the data in sequence from the provided list of zip file names. It filters according to the \n",
    "        defined financial_statement and stores the data in specific subfolders.\n",
    "        \n",
    "        the folder structure will look like\n",
    "        <target_path>/<file_name>/<financial_statement>/raw\n",
    "        <target_path>/<file_name>/<financial_statement>/joined                                       \n",
    "        \"\"\"\n",
    "    \n",
    "    for file_name in file_names:\n",
    "        collector = ZipCollector.get_zip_by_name(name=file_name,\n",
    "                                 forms_filter=[\"10-K\", \"10-Q\"],\n",
    "                                 stmt_filter=[financial_statement],\n",
    "                                 post_load_filter=postloadfilter)\n",
    "\n",
    "        rawdatabag = collector.collect()\n",
    "\n",
    "        base_path = os.path.join(target_path, file_name)\n",
    "        # saving the raw databag, joining and saving the joined databag\n",
    "        save_databag(databag=rawdatabag, financial_statement=financial_statement, base_path=base_path)"
   ]
  },
  {
   "cell_type": "markdown",
   "id": "93d62cba-893c-4f41-9b06-ae99f8b87244",
   "metadata": {
    "hidden": true,
    "tags": []
   },
   "source": [
    "We call the function for every statement (BS, CF, and IS).\n",
    "As a reference, running all three cells took about 12 minutes on my laptop (32GB Ram / 4/8 Cores)"
   ]
  },
  {
   "cell_type": "code",
   "execution_count": null,
   "id": "56ae6366-922c-4f32-b63c-e0cc1eed53a5",
   "metadata": {
    "hidden": true
   },
   "outputs": [],
   "source": [
    "build_tmp_set(financial_statement=\"BS\", file_names=all_zip_names, target_path=\"set/tmp/\")"
   ]
  },
  {
   "cell_type": "code",
   "execution_count": null,
   "id": "c01cfcac-5260-41de-a9dd-7ce7f890859f",
   "metadata": {
    "hidden": true
   },
   "outputs": [],
   "source": [
    "build_tmp_set(financial_statement=\"CF\", file_names=all_zip_names, target_path=\"set/tmp/\")"
   ]
  },
  {
   "cell_type": "code",
   "execution_count": null,
   "id": "24659372-b22b-42a2-b002-b28abdba7231",
   "metadata": {
    "hidden": true
   },
   "outputs": [],
   "source": [
    "build_tmp_set(financial_statement=\"IS\", file_names=all_zip_names, target_path=\"set/tmp/\")"
   ]
  },
  {
   "cell_type": "markdown",
   "id": "b78e0305-9380-439d-8b60-bc26d22f4cd8",
   "metadata": {
    "hidden": true
   },
   "source": [
    "We know have subfolders for BS, CF, IS for every quarterly zipfile with the corresponding datapoints."
   ]
  },
  {
   "cell_type": "markdown",
   "id": "12720d14-6be6-4eb9-9b11-6c6c79df7773",
   "metadata": {
    "hidden": true
   },
   "source": [
    "**Create the rawdatabags**"
   ]
  },
  {
   "cell_type": "code",
   "execution_count": 11,
   "id": "0b3a9574-8895-4fe3-a9f0-1e48ef717bb0",
   "metadata": {
    "hidden": true,
    "tags": []
   },
   "outputs": [],
   "source": [
    "from glob import glob\n",
    "\n",
    "def create_rawdatabag(financial_statement: str, target_path: str):\n",
    "    raw_files = glob(f\"./set/tmp/*/{financial_statement}/raw/\", recursive = True)    \n",
    "    raw_databags = [RawDataBag.load(file) for file in raw_files]\n",
    "    raw_databag = RawDataBag.concat(raw_databags)\n",
    "    target_path_raw = os.path.join(target_path, financial_statement, 'raw')\n",
    "    print(f\"store rawdatabag under {target_path_raw}\")\n",
    "    os.makedirs(target_path_raw, exist_ok=True)\n",
    "    raw_databag.save(target_path_raw)      "
   ]
  },
  {
   "cell_type": "markdown",
   "id": "a0b6ce36-6b06-400b-9200-e45182d4b86c",
   "metadata": {
    "hidden": true
   },
   "source": [
    "Next, concatenate the raw datasets together. Again, as a reference it took about 5 minutes to create all three rawdatabags."
   ]
  },
  {
   "cell_type": "code",
   "execution_count": 12,
   "id": "097a4940-2f44-434c-be19-b48cae0d1016",
   "metadata": {
    "hidden": true,
    "tags": []
   },
   "outputs": [
    {
     "name": "stdout",
     "output_type": "stream",
     "text": [
      "store rawdatabag under set/serial/BS\\raw\n"
     ]
    }
   ],
   "source": [
    "create_rawdatabag(financial_statement=\"BS\", target_path=\"set/serial/\")"
   ]
  },
  {
   "cell_type": "code",
   "execution_count": 13,
   "id": "d036f268-d664-4e18-96cb-5f50deb50257",
   "metadata": {
    "hidden": true,
    "tags": []
   },
   "outputs": [
    {
     "name": "stdout",
     "output_type": "stream",
     "text": [
      "store rawdatabag under set/serial/CF\\raw\n"
     ]
    }
   ],
   "source": [
    "create_rawdatabag(financial_statement=\"CF\", target_path=\"set/serial/\")"
   ]
  },
  {
   "cell_type": "code",
   "execution_count": 14,
   "id": "27464709-7766-4ca3-a95f-3d8fd668d866",
   "metadata": {
    "hidden": true,
    "tags": []
   },
   "outputs": [
    {
     "name": "stdout",
     "output_type": "stream",
     "text": [
      "store rawdatabag under set/serial/IS\\raw\n"
     ]
    }
   ],
   "source": [
    "create_rawdatabag(financial_statement=\"IS\", target_path=\"set/serial/\")"
   ]
  },
  {
   "cell_type": "markdown",
   "id": "5d429003-84a6-4e66-89d3-974d7629a442",
   "metadata": {
    "hidden": true
   },
   "source": [
    "**Create the joined databags**"
   ]
  },
  {
   "cell_type": "code",
   "execution_count": 22,
   "id": "6c513474-b29e-4034-a6a4-afefe0a2070c",
   "metadata": {
    "hidden": true,
    "tags": []
   },
   "outputs": [],
   "source": [
    "from glob import glob\n",
    "\n",
    "def create_joineddatabag(financial_statement: str, target_path: str):\n",
    "    joined_files = glob(f\"./set/tmp/*/{financial_statement}/joined/\", recursive = True)\n",
    "    joined_databags = [JoinedDataBag.load(file) for file in joined_files]\n",
    "    joined_databag = JoinedDataBag.concat(joined_databags)\n",
    "    target_path_joined = os.path.join(target_path, financial_statement, 'joined')\n",
    "    print(f\"store joineddatabag under {target_path_joined}\")\n",
    "    os.makedirs(target_path_joined, exist_ok=True)\n",
    "    joined_databag.save(target_path_joined)   "
   ]
  },
  {
   "cell_type": "markdown",
   "id": "ffa8b6e8-4b20-4462-a931-d64e09ac5d33",
   "metadata": {
    "hidden": true
   },
   "source": [
    "Finally, create the joined databags. To create all three datasets, it took about 90 seconds."
   ]
  },
  {
   "cell_type": "code",
   "execution_count": 24,
   "id": "6fb50096-a09b-4b26-b2cc-9a5374820d3b",
   "metadata": {
    "hidden": true,
    "tags": []
   },
   "outputs": [
    {
     "name": "stdout",
     "output_type": "stream",
     "text": [
      "store joineddatabag under set/serial/BS\\joined\n"
     ]
    }
   ],
   "source": [
    "create_joineddatabag(financial_statement=\"BS\", target_path=\"set/serial/\")"
   ]
  },
  {
   "cell_type": "code",
   "execution_count": 25,
   "id": "c8f9c719-17f6-4a85-aadb-4608bf685c3f",
   "metadata": {
    "hidden": true,
    "tags": []
   },
   "outputs": [
    {
     "name": "stdout",
     "output_type": "stream",
     "text": [
      "store joineddatabag under set/serial/CF\\joined\n"
     ]
    }
   ],
   "source": [
    "create_joineddatabag(financial_statement=\"CF\", target_path=\"set/serial/\")"
   ]
  },
  {
   "cell_type": "code",
   "execution_count": 26,
   "id": "117528e8-c577-47b0-b5b2-876b44a2af6d",
   "metadata": {
    "hidden": true,
    "tags": []
   },
   "outputs": [
    {
     "name": "stdout",
     "output_type": "stream",
     "text": [
      "store joineddatabag under set/serial/IS\\joined\n"
     ]
    }
   ],
   "source": [
    "create_joineddatabag(financial_statement=\"IS\", target_path=\"set/serial/\")"
   ]
  },
  {
   "cell_type": "markdown",
   "id": "8e3f5417-9726-4584-84a5-b284274681cb",
   "metadata": {
    "hidden": true,
    "tags": []
   },
   "source": [
    "Now we can read back all three prepared joined datasets. This only takes a few seconds."
   ]
  },
  {
   "cell_type": "code",
   "execution_count": 16,
   "id": "8b7f8a8d-3354-4e6b-8280-53c145338bd2",
   "metadata": {
    "hidden": true
   },
   "outputs": [
    {
     "ename": "FileNotFoundError",
     "evalue": "[Errno 2] No such file or directory: './set/serial/BS/joined/sub.txt.parquet'",
     "output_type": "error",
     "traceback": [
      "\u001b[0;31m---------------------------------------------------------------------------\u001b[0m",
      "\u001b[0;31mFileNotFoundError\u001b[0m                         Traceback (most recent call last)",
      "Cell \u001b[0;32mIn[16], line 2\u001b[0m\n\u001b[1;32m      1\u001b[0m \u001b[38;5;66;03m#load BS joined data\u001b[39;00m\n\u001b[0;32m----> 2\u001b[0m joinedBS \u001b[38;5;241m=\u001b[39m \u001b[43mJoinedDataBag\u001b[49m\u001b[38;5;241;43m.\u001b[39;49m\u001b[43mload\u001b[49m\u001b[43m(\u001b[49m\u001b[38;5;124;43m\"\u001b[39;49m\u001b[38;5;124;43m./set/serial/BS/joined\u001b[39;49m\u001b[38;5;124;43m\"\u001b[39;49m\u001b[43m)\u001b[49m\n\u001b[1;32m      3\u001b[0m \u001b[38;5;28mprint\u001b[39m(\u001b[38;5;124m\"\u001b[39m\u001b[38;5;124mloaded BS databag: \u001b[39m\u001b[38;5;124m\"\u001b[39m, joinedBS\u001b[38;5;241m.\u001b[39mpre_num_df\u001b[38;5;241m.\u001b[39mshape)\n\u001b[1;32m      4\u001b[0m joinedCF \u001b[38;5;241m=\u001b[39m JoinedDataBag\u001b[38;5;241m.\u001b[39mload(\u001b[38;5;124m\"\u001b[39m\u001b[38;5;124m./set/serial/CF/joined\u001b[39m\u001b[38;5;124m\"\u001b[39m)\n",
      "File \u001b[0;32m~/.pyenv/versions/3.10.6/envs/small-cap-scout/lib/python3.10/site-packages/secfsdstools/d_container/databagmodel.py:149\u001b[0m, in \u001b[0;36mJoinedDataBag.load\u001b[0;34m(target_path)\u001b[0m\n\u001b[1;32m    138\u001b[0m \u001b[38;5;129m@staticmethod\u001b[39m\n\u001b[1;32m    139\u001b[0m \u001b[38;5;28;01mdef\u001b[39;00m \u001b[38;5;21mload\u001b[39m(target_path: \u001b[38;5;28mstr\u001b[39m) \u001b[38;5;241m-\u001b[39m\u001b[38;5;241m>\u001b[39m JOINED:\n\u001b[1;32m    140\u001b[0m \u001b[38;5;250m    \u001b[39m\u001b[38;5;124;03m\"\"\"\u001b[39;00m\n\u001b[1;32m    141\u001b[0m \u001b[38;5;124;03m    Loads the content of the current bag at the specified location.\u001b[39;00m\n\u001b[1;32m    142\u001b[0m \n\u001b[0;32m   (...)\u001b[0m\n\u001b[1;32m    147\u001b[0m \u001b[38;5;124;03m        JoinedDataBag: the loaded Databag\u001b[39;00m\n\u001b[1;32m    148\u001b[0m \u001b[38;5;124;03m    \"\"\"\u001b[39;00m\n\u001b[0;32m--> 149\u001b[0m     sub_df \u001b[38;5;241m=\u001b[39m \u001b[43mpd\u001b[49m\u001b[38;5;241;43m.\u001b[39;49m\u001b[43mread_parquet\u001b[49m\u001b[43m(\u001b[49m\u001b[43mos\u001b[49m\u001b[38;5;241;43m.\u001b[39;49m\u001b[43mpath\u001b[49m\u001b[38;5;241;43m.\u001b[39;49m\u001b[43mjoin\u001b[49m\u001b[43m(\u001b[49m\u001b[43mtarget_path\u001b[49m\u001b[43m,\u001b[49m\u001b[43m \u001b[49m\u001b[38;5;124;43mf\u001b[39;49m\u001b[38;5;124;43m'\u001b[39;49m\u001b[38;5;132;43;01m{\u001b[39;49;00m\u001b[43mSUB_TXT\u001b[49m\u001b[38;5;132;43;01m}\u001b[39;49;00m\u001b[38;5;124;43m.parquet\u001b[39;49m\u001b[38;5;124;43m'\u001b[39;49m\u001b[43m)\u001b[49m\u001b[43m)\u001b[49m\n\u001b[1;32m    150\u001b[0m     pre_num_df \u001b[38;5;241m=\u001b[39m pd\u001b[38;5;241m.\u001b[39mread_parquet(os\u001b[38;5;241m.\u001b[39mpath\u001b[38;5;241m.\u001b[39mjoin(target_path, \u001b[38;5;124mf\u001b[39m\u001b[38;5;124m'\u001b[39m\u001b[38;5;132;01m{\u001b[39;00mPRE_NUM_TXT\u001b[38;5;132;01m}\u001b[39;00m\u001b[38;5;124m.parquet\u001b[39m\u001b[38;5;124m'\u001b[39m))\n\u001b[1;32m    152\u001b[0m     \u001b[38;5;28;01mreturn\u001b[39;00m JoinedDataBag\u001b[38;5;241m.\u001b[39mcreate(sub_df\u001b[38;5;241m=\u001b[39msub_df, pre_num_df\u001b[38;5;241m=\u001b[39mpre_num_df)\n",
      "File \u001b[0;32m~/.pyenv/versions/3.10.6/envs/small-cap-scout/lib/python3.10/site-packages/pandas/io/parquet.py:667\u001b[0m, in \u001b[0;36mread_parquet\u001b[0;34m(path, engine, columns, storage_options, use_nullable_dtypes, dtype_backend, filesystem, filters, **kwargs)\u001b[0m\n\u001b[1;32m    664\u001b[0m     use_nullable_dtypes \u001b[38;5;241m=\u001b[39m \u001b[38;5;28;01mFalse\u001b[39;00m\n\u001b[1;32m    665\u001b[0m check_dtype_backend(dtype_backend)\n\u001b[0;32m--> 667\u001b[0m \u001b[38;5;28;01mreturn\u001b[39;00m \u001b[43mimpl\u001b[49m\u001b[38;5;241;43m.\u001b[39;49m\u001b[43mread\u001b[49m\u001b[43m(\u001b[49m\n\u001b[1;32m    668\u001b[0m \u001b[43m    \u001b[49m\u001b[43mpath\u001b[49m\u001b[43m,\u001b[49m\n\u001b[1;32m    669\u001b[0m \u001b[43m    \u001b[49m\u001b[43mcolumns\u001b[49m\u001b[38;5;241;43m=\u001b[39;49m\u001b[43mcolumns\u001b[49m\u001b[43m,\u001b[49m\n\u001b[1;32m    670\u001b[0m \u001b[43m    \u001b[49m\u001b[43mfilters\u001b[49m\u001b[38;5;241;43m=\u001b[39;49m\u001b[43mfilters\u001b[49m\u001b[43m,\u001b[49m\n\u001b[1;32m    671\u001b[0m \u001b[43m    \u001b[49m\u001b[43mstorage_options\u001b[49m\u001b[38;5;241;43m=\u001b[39;49m\u001b[43mstorage_options\u001b[49m\u001b[43m,\u001b[49m\n\u001b[1;32m    672\u001b[0m \u001b[43m    \u001b[49m\u001b[43muse_nullable_dtypes\u001b[49m\u001b[38;5;241;43m=\u001b[39;49m\u001b[43muse_nullable_dtypes\u001b[49m\u001b[43m,\u001b[49m\n\u001b[1;32m    673\u001b[0m \u001b[43m    \u001b[49m\u001b[43mdtype_backend\u001b[49m\u001b[38;5;241;43m=\u001b[39;49m\u001b[43mdtype_backend\u001b[49m\u001b[43m,\u001b[49m\n\u001b[1;32m    674\u001b[0m \u001b[43m    \u001b[49m\u001b[43mfilesystem\u001b[49m\u001b[38;5;241;43m=\u001b[39;49m\u001b[43mfilesystem\u001b[49m\u001b[43m,\u001b[49m\n\u001b[1;32m    675\u001b[0m \u001b[43m    \u001b[49m\u001b[38;5;241;43m*\u001b[39;49m\u001b[38;5;241;43m*\u001b[39;49m\u001b[43mkwargs\u001b[49m\u001b[43m,\u001b[49m\n\u001b[1;32m    676\u001b[0m \u001b[43m\u001b[49m\u001b[43m)\u001b[49m\n",
      "File \u001b[0;32m~/.pyenv/versions/3.10.6/envs/small-cap-scout/lib/python3.10/site-packages/pandas/io/parquet.py:267\u001b[0m, in \u001b[0;36mPyArrowImpl.read\u001b[0;34m(self, path, columns, filters, use_nullable_dtypes, dtype_backend, storage_options, filesystem, **kwargs)\u001b[0m\n\u001b[1;32m    264\u001b[0m \u001b[38;5;28;01mif\u001b[39;00m manager \u001b[38;5;241m==\u001b[39m \u001b[38;5;124m\"\u001b[39m\u001b[38;5;124marray\u001b[39m\u001b[38;5;124m\"\u001b[39m:\n\u001b[1;32m    265\u001b[0m     to_pandas_kwargs[\u001b[38;5;124m\"\u001b[39m\u001b[38;5;124msplit_blocks\u001b[39m\u001b[38;5;124m\"\u001b[39m] \u001b[38;5;241m=\u001b[39m \u001b[38;5;28;01mTrue\u001b[39;00m  \u001b[38;5;66;03m# type: ignore[assignment]\u001b[39;00m\n\u001b[0;32m--> 267\u001b[0m path_or_handle, handles, filesystem \u001b[38;5;241m=\u001b[39m \u001b[43m_get_path_or_handle\u001b[49m\u001b[43m(\u001b[49m\n\u001b[1;32m    268\u001b[0m \u001b[43m    \u001b[49m\u001b[43mpath\u001b[49m\u001b[43m,\u001b[49m\n\u001b[1;32m    269\u001b[0m \u001b[43m    \u001b[49m\u001b[43mfilesystem\u001b[49m\u001b[43m,\u001b[49m\n\u001b[1;32m    270\u001b[0m \u001b[43m    \u001b[49m\u001b[43mstorage_options\u001b[49m\u001b[38;5;241;43m=\u001b[39;49m\u001b[43mstorage_options\u001b[49m\u001b[43m,\u001b[49m\n\u001b[1;32m    271\u001b[0m \u001b[43m    \u001b[49m\u001b[43mmode\u001b[49m\u001b[38;5;241;43m=\u001b[39;49m\u001b[38;5;124;43m\"\u001b[39;49m\u001b[38;5;124;43mrb\u001b[39;49m\u001b[38;5;124;43m\"\u001b[39;49m\u001b[43m,\u001b[49m\n\u001b[1;32m    272\u001b[0m \u001b[43m\u001b[49m\u001b[43m)\u001b[49m\n\u001b[1;32m    273\u001b[0m \u001b[38;5;28;01mtry\u001b[39;00m:\n\u001b[1;32m    274\u001b[0m     pa_table \u001b[38;5;241m=\u001b[39m \u001b[38;5;28mself\u001b[39m\u001b[38;5;241m.\u001b[39mapi\u001b[38;5;241m.\u001b[39mparquet\u001b[38;5;241m.\u001b[39mread_table(\n\u001b[1;32m    275\u001b[0m         path_or_handle,\n\u001b[1;32m    276\u001b[0m         columns\u001b[38;5;241m=\u001b[39mcolumns,\n\u001b[0;32m   (...)\u001b[0m\n\u001b[1;32m    279\u001b[0m         \u001b[38;5;241m*\u001b[39m\u001b[38;5;241m*\u001b[39mkwargs,\n\u001b[1;32m    280\u001b[0m     )\n",
      "File \u001b[0;32m~/.pyenv/versions/3.10.6/envs/small-cap-scout/lib/python3.10/site-packages/pandas/io/parquet.py:140\u001b[0m, in \u001b[0;36m_get_path_or_handle\u001b[0;34m(path, fs, storage_options, mode, is_dir)\u001b[0m\n\u001b[1;32m    130\u001b[0m handles \u001b[38;5;241m=\u001b[39m \u001b[38;5;28;01mNone\u001b[39;00m\n\u001b[1;32m    131\u001b[0m \u001b[38;5;28;01mif\u001b[39;00m (\n\u001b[1;32m    132\u001b[0m     \u001b[38;5;129;01mnot\u001b[39;00m fs\n\u001b[1;32m    133\u001b[0m     \u001b[38;5;129;01mand\u001b[39;00m \u001b[38;5;129;01mnot\u001b[39;00m is_dir\n\u001b[0;32m   (...)\u001b[0m\n\u001b[1;32m    138\u001b[0m     \u001b[38;5;66;03m# fsspec resources can also point to directories\u001b[39;00m\n\u001b[1;32m    139\u001b[0m     \u001b[38;5;66;03m# this branch is used for example when reading from non-fsspec URLs\u001b[39;00m\n\u001b[0;32m--> 140\u001b[0m     handles \u001b[38;5;241m=\u001b[39m \u001b[43mget_handle\u001b[49m\u001b[43m(\u001b[49m\n\u001b[1;32m    141\u001b[0m \u001b[43m        \u001b[49m\u001b[43mpath_or_handle\u001b[49m\u001b[43m,\u001b[49m\u001b[43m \u001b[49m\u001b[43mmode\u001b[49m\u001b[43m,\u001b[49m\u001b[43m \u001b[49m\u001b[43mis_text\u001b[49m\u001b[38;5;241;43m=\u001b[39;49m\u001b[38;5;28;43;01mFalse\u001b[39;49;00m\u001b[43m,\u001b[49m\u001b[43m \u001b[49m\u001b[43mstorage_options\u001b[49m\u001b[38;5;241;43m=\u001b[39;49m\u001b[43mstorage_options\u001b[49m\n\u001b[1;32m    142\u001b[0m \u001b[43m    \u001b[49m\u001b[43m)\u001b[49m\n\u001b[1;32m    143\u001b[0m     fs \u001b[38;5;241m=\u001b[39m \u001b[38;5;28;01mNone\u001b[39;00m\n\u001b[1;32m    144\u001b[0m     path_or_handle \u001b[38;5;241m=\u001b[39m handles\u001b[38;5;241m.\u001b[39mhandle\n",
      "File \u001b[0;32m~/.pyenv/versions/3.10.6/envs/small-cap-scout/lib/python3.10/site-packages/pandas/io/common.py:882\u001b[0m, in \u001b[0;36mget_handle\u001b[0;34m(path_or_buf, mode, encoding, compression, memory_map, is_text, errors, storage_options)\u001b[0m\n\u001b[1;32m    873\u001b[0m         handle \u001b[38;5;241m=\u001b[39m \u001b[38;5;28mopen\u001b[39m(\n\u001b[1;32m    874\u001b[0m             handle,\n\u001b[1;32m    875\u001b[0m             ioargs\u001b[38;5;241m.\u001b[39mmode,\n\u001b[0;32m   (...)\u001b[0m\n\u001b[1;32m    878\u001b[0m             newline\u001b[38;5;241m=\u001b[39m\u001b[38;5;124m\"\u001b[39m\u001b[38;5;124m\"\u001b[39m,\n\u001b[1;32m    879\u001b[0m         )\n\u001b[1;32m    880\u001b[0m     \u001b[38;5;28;01melse\u001b[39;00m:\n\u001b[1;32m    881\u001b[0m         \u001b[38;5;66;03m# Binary mode\u001b[39;00m\n\u001b[0;32m--> 882\u001b[0m         handle \u001b[38;5;241m=\u001b[39m \u001b[38;5;28;43mopen\u001b[39;49m\u001b[43m(\u001b[49m\u001b[43mhandle\u001b[49m\u001b[43m,\u001b[49m\u001b[43m \u001b[49m\u001b[43mioargs\u001b[49m\u001b[38;5;241;43m.\u001b[39;49m\u001b[43mmode\u001b[49m\u001b[43m)\u001b[49m\n\u001b[1;32m    883\u001b[0m     handles\u001b[38;5;241m.\u001b[39mappend(handle)\n\u001b[1;32m    885\u001b[0m \u001b[38;5;66;03m# Convert BytesIO or file objects passed with an encoding\u001b[39;00m\n",
      "\u001b[0;31mFileNotFoundError\u001b[0m: [Errno 2] No such file or directory: './set/serial/BS/joined/sub.txt.parquet'"
     ]
    }
   ],
   "source": [
    "#load BS joined data\n",
    "joinedBS = JoinedDataBag.load(\"./set/serial/BS/joined\")\n",
    "print(\"loaded BS databag: \", joinedBS.pre_num_df.shape)\n",
    "joinedCF = JoinedDataBag.load(\"./set/serial/CF/joined\")\n",
    "print(\"loaded CF databag: \", joinedCF.pre_num_df.shape)\n",
    "joinedIS = JoinedDataBag.load(\"./set/serial/IS/joined\")\n",
    "print(\"loaded IS databag: \", joinedIS.pre_num_df.shape)"
   ]
  },
  {
   "cell_type": "code",
   "execution_count": 2,
   "id": "603d560e-0eac-40aa-abd8-3209951bdddc",
   "metadata": {
    "hidden": true
   },
   "outputs": [],
   "source": [
    "from secfsdstools.d_container.databagmodel import JoinedDataBag\n",
    "joinedBS = JoinedDataBag.load(\"./set/serial/BS/joined\")"
   ]
  },
  {
   "cell_type": "code",
   "execution_count": 3,
   "id": "3c4160b4-6578-42cc-a93a-1d9de13b75a2",
   "metadata": {
    "hidden": true,
    "tags": []
   },
   "outputs": [
    {
     "data": {
      "text/plain": [
       "3109"
      ]
     },
     "execution_count": 3,
     "metadata": {},
     "output_type": "execute_result"
    }
   ],
   "source": [
    "len(joinedBS.pre_num_df.tag.unique())"
   ]
  },
  {
   "cell_type": "code",
   "execution_count": null,
   "id": "1db4fa73-a911-4323-9771-924b89e03f3d",
   "metadata": {
    "hidden": true
   },
   "outputs": [],
   "source": []
  }
 ],
 "metadata": {
  "kernelspec": {
   "display_name": "Python 3 (ipykernel)",
   "language": "python",
   "name": "python3"
  },
  "language_info": {
   "codemirror_mode": {
    "name": "ipython",
    "version": 3
   },
   "file_extension": ".py",
   "mimetype": "text/x-python",
   "name": "python",
   "nbconvert_exporter": "python",
   "pygments_lexer": "ipython3",
   "version": "3.10.6"
  },
  "toc": {
   "base_numbering": 1,
   "nav_menu": {},
   "number_sections": true,
   "sideBar": true,
   "skip_h1_title": false,
   "title_cell": "Table of Contents",
   "title_sidebar": "Contents",
   "toc_cell": false,
   "toc_position": {},
   "toc_section_display": true,
   "toc_window_display": false
  }
 },
 "nbformat": 4,
 "nbformat_minor": 5
}
