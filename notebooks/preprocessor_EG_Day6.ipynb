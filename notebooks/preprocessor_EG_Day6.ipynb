{
  "cells": [
    {
      "cell_type": "code",
      "execution_count": 540,
      "metadata": {
        "id": "vnTExAADftvB"
      },
      "outputs": [],
      "source": [
        "import pandas as pd\n",
        "import matplotlib.pyplot as plt\n",
        "from sklearn.metrics import confusion_matrix, ConfusionMatrixDisplay\n",
        "from tqdm import tqdm\n",
        "import pickle\n",
        "import os\n",
        "\n",
        "from sklearn.model_selection import train_test_split\n",
        "from sklearn.pipeline import Pipeline\n",
        "from sklearn.impute import SimpleImputer\n",
        "from sklearn.preprocessing import RobustScaler, OneHotEncoder, MinMaxScaler\n",
        "from sklearn.compose import ColumnTransformer\n",
        "\n",
        "from sklearn.metrics import accuracy_score, precision_score, recall_score, f1_score, log_loss\n",
        "from sklearn.linear_model import LogisticRegression\n",
        "from sklearn.neighbors import KNeighborsClassifier\n",
        "from sklearn.model_selection import cross_val_score, cross_validate\n",
        "from sklearn.model_selection import GridSearchCV\n",
        "from sklearn.svm import SVC\n",
        "from sklearn.metrics import classification_report\n",
        "\n",
        "from xgboost import XGBClassifier\n",
        "\n",
        "from datetime import datetime"
      ]
    },
    {
      "cell_type": "markdown",
      "metadata": {
        "id": "rxXym19bhG7A"
      },
      "source": [
        "# **Preprocessing**"
      ]
    },
    {
      "cell_type": "code",
      "execution_count": 507,
      "metadata": {
        "id": "KiMXAWmtprGN"
      },
      "outputs": [],
      "source": [
        "# Step 0 : filter on small caps and micro caps\n",
        "#def filter_data(df, small_cap_value=1, micro_cap_value=1):\n",
        "#    \"\"\"Filters rows based on small_cap and micro_cap values and returns a copy of the filtered DataFrame.\"\"\"\n",
        "#    filtered_df = df[(df['small_cap'] == small_cap_value) & (df['micro_cap'] == micro_cap_value)].copy()\n",
        "#    return filtered_df"
      ]
    },
    {
      "cell_type": "code",
      "execution_count": 541,
      "metadata": {
        "id": "FKV_8oKrgACR"
      },
      "outputs": [],
      "source": [
        "# Step 1 : target creation + train_test_split\n",
        "# Creating target variables to automate creation of quarterly, yearly and 2-yearly targets, because well, DON'T REPEAT YOURSELF!\n",
        "def create_target_variable(df, frequency:int, threshold):\n",
        "    if frequency == 1:\n",
        "        col = 'mc_qtr_growth_pct'\n",
        "    if frequency == 4:\n",
        "        col = 'mc_yr_growth_pct'\n",
        "    if frequency == 8:\n",
        "        col = 'mc_2yr_growth_pct'\n",
        "   #else:\n",
        "   #    raise ValueError(\"Invalid frequency. Use 1 (quarterly), 4 (yearly), or 8 (2-year).\")\n",
        "    df[col] = df[col].shift(-frequency)\n",
        "    df.dropna(subset=col, inplace=True)\n",
        "    target_func = lambda x: 1 if (x[col] > threshold) else 0 #& (x.small_cap == 1)) else 0\n",
        "    df['target'] = df.apply(target_func, axis=1)\n",
        "    return df"
      ]
    },
    {
      "cell_type": "code",
      "execution_count": 509,
      "metadata": {
        "id": "-PdzMchGgMki"
      },
      "outputs": [],
      "source": [
        "#def drop_columns(df, cols_to_drop=None):\n",
        "#    \"\"\"Drops specified columns from the DataFrame.\"\"\"\n",
        "#\n",
        "#    if cols_to_drop is None:\n",
        "#       # Default columns to drop if none are specified\n",
        "#        cols_to_drop = ['cik', 'CIK', 'date', 'stprba', 'quarter', 'year']\n",
        "#    return df.drop(cols_to_drop, axis=1, errors='ignore')\n"
      ]
    },
    {
      "cell_type": "code",
      "execution_count": 542,
      "metadata": {
        "id": "71DQCJUxgOaH"
      },
      "outputs": [],
      "source": [
        "# Creating a custom function for the group split\n",
        "def group_train_test_split(data, test_size=0.2, random_state=None):\n",
        "\n",
        "    data['qtr'] = data.quarter.apply(lambda x : x.split('-')[1])\n",
        "\n",
        "\n",
        "    # We split by groups (company ticker) while keeping the data structure intact.\n",
        "    unique_groups = data['TICKER'].unique()\n",
        "    train_groups, test_groups = train_test_split(unique_groups, test_size=test_size, random_state=random_state)\n",
        "\n",
        "    # Split into train and test sets\n",
        "    X_train = data[data['TICKER'].isin(train_groups)]\n",
        "    X_test = data[data['TICKER'].isin(test_groups)]\n",
        "\n",
        "    # Define columns to drop: Ticker, cik, date, quarter, year + growth columns\n",
        "    cols_to_drop = ['mc_qtr_growth', 'mc_qtr_growth_pct', 'mc_yr_growth', 'mc_yr_growth_pct', 'mc_2yr_growth', 'mc_2yr_growth_pct', 'target']\n",
        "\n",
        "    # Drop unwanted columns\n",
        "    X_train = X_train.drop(cols_to_drop + ['cik', 'CIK', 'date', 'stprba', 'quarter', 'year', 'TICKER'], axis=1, errors='ignore')\n",
        "    X_test = X_test.drop(cols_to_drop + ['cik', 'CIK', 'date', 'stprba', 'quarter', 'year', 'TICKER'], axis=1, errors='ignore')\n",
        "\n",
        "    # Extract the target variable from the dataset\n",
        "    y_train = data[data['TICKER'].isin(train_groups)]['target']\n",
        "    y_test = data[data['TICKER'].isin(test_groups)]['target']\n",
        "\n",
        "    return X_train, X_test, y_train, y_test\n"
      ]
    },
    {
      "cell_type": "code",
      "execution_count": 511,
      "metadata": {},
      "outputs": [],
      "source": [
        "## FULL SET (not test set)\n",
        "# # Creating a custom function to split data from target\n",
        "def group_train_split(data):\n",
        "\n",
        "    data['qtr'] = data.quarter.apply(lambda x : x.split('-')[1])\n",
        "\n",
        "    # No test set is created, we are keeping all groups in the training set.\n",
        "    train_groups = data['TICKER'].unique()\n",
        "\n",
        "    # Select all data as training set\n",
        "    X_train = data[data['TICKER'].isin(train_groups)]\n",
        "\n",
        "    # Define columns to drop: Ticker, cik, date, quarter, year + growth columns\n",
        "    cols_to_drop = ['mc_qtr_growth', 'mc_qtr_growth_pct', 'mc_yr_growth',\n",
        "                    'mc_yr_growth_pct', 'mc_2yr_growth', 'mc_2yr_growth_pct', 'target']\n",
        "\n",
        "    # Drop unwanted columns\n",
        "    X_train = X_train.drop(cols_to_drop + ['cik', 'CIK', 'date', 'stprba', 'quarter', 'year', 'TICKER'],\n",
        "                           axis=1, errors='ignore')\n",
        "\n",
        "    # Extract the target variable from the dataset\n",
        "    y_train = data[data['TICKER'].isin(train_groups)]['target']\n",
        "\n",
        "    return X_train, y_train"
      ]
    },
    {
      "cell_type": "code",
      "execution_count": 543,
      "metadata": {
        "id": "wvK02xu4gT3D"
      },
      "outputs": [],
      "source": [
        "# Step 2: Identify numerical and categorical features\n",
        "def identify_feature_types(df):\n",
        "    \"\"\"Identifies the numerical and categorical columns in the DataFrame.\"\"\"\n",
        "    numerical_features = df.select_dtypes(include=['int64', 'float64']).columns.tolist()\n",
        "    categorical_features = df.select_dtypes(include=['object']).columns.tolist()\n",
        "\n",
        "    # Exclude 'Ticker' from categorical features as it's not needed for transformation\n",
        "    if 'TICKER' in categorical_features:\n",
        "        categorical_features.remove('TICKER')\n",
        "\n",
        "    return numerical_features, categorical_features"
      ]
    },
    {
      "cell_type": "code",
      "execution_count": 544,
      "metadata": {
        "id": "1TCupWcbgUoZ"
      },
      "outputs": [],
      "source": [
        "# Step 3: Create preprocessing pipeline for numerical and categorical features\n",
        "def create_preprocessing_pipeline(numerical_features, categorical_features):\n",
        "    \"\"\"Creates the preprocessing pipeline for numerical and categorical features.\"\"\"\n",
        "    # Preprocessing for numerical data: RobustScaler to make our numbers más robusto.\n",
        "    numerical_transformer = Pipeline(steps=[\n",
        "        ('imputer', SimpleImputer(strategy='median')),  # Handle NaNs\n",
        "        ('scaler', RobustScaler())\n",
        "        #('scaler', MinMaxScaler()) # Scale the data\n",
        "    ])\n",
        "\n",
        "    # Preprocessing for categorical data: OneHotEncoder to give each category its own columm...\n",
        "    categorical_transformer = Pipeline(steps=[\n",
        "        ('imputer', SimpleImputer(strategy='most_frequent')),  # Handle missing categories\n",
        "        ('onehot', OneHotEncoder(handle_unknown='ignore', sparse_output=False))  # Encode categories\n",
        "    ])\n",
        "\n",
        "    # Combine the transformers into one big ColumnTransformer.\n",
        "    preprocessor = ColumnTransformer(\n",
        "        transformers=[\n",
        "            ('num', numerical_transformer, numerical_features),\n",
        "            ('cat', categorical_transformer, categorical_features)\n",
        "        ]\n",
        "    )\n",
        "    return preprocessor\n",
        "\n",
        "\n",
        "# Function to save the preprocessor\n",
        "def save_preprocessor(preprocessor, file_path='~/models/'):\n",
        "    \"\"\"Saves the preproc with a timestamp.\"\"\"\n",
        "    timestamp = datetime.now().strftime('%Y-%m-%d_%H-%M-%S')\n",
        "    preproc_filename = f'preprocessor_{timestamp}.pkl'\n",
        "    # Ensure model directory exists\n",
        "    if not os.path.exists(file_path):\n",
        "        os.makedirs(file_path)\n",
        "\n",
        "    file_path = os.path.join(file_path, preproc_filename   )\n",
        "    with open(file_path, 'wb') as file:\n",
        "        pickle.dump(preprocessor, file)\n",
        "\n",
        "    print(f\"Preprocessor saved to {file_path}\")"
      ]
    },
    {
      "cell_type": "code",
      "execution_count": 545,
      "metadata": {
        "id": "o7c2Bq-wgX2j"
      },
      "outputs": [],
      "source": [
        "# Step 4: Function to preprocess data in training mode (fitting the pipeline)\n",
        "def preprocess_training_data(X_train):\n",
        "    \"\"\"Fits and transforms the training data using the provided pipeline.\"\"\"\n",
        "    # Identify feature types\n",
        "    numerical_features, categorical_features = identify_feature_types(X_train)\n",
        "    preprocessor = create_preprocessing_pipeline(numerical_features, categorical_features)\n",
        "\n",
        "    # Fit and transform the training data\n",
        "    X_train_processed = preprocessor.fit_transform(X_train)\n",
        "\n",
        "        # Save the preprocessor after fitting\n",
        "    save_preprocessor(preprocessor)\n",
        "\n",
        "    return X_train_processed, preprocessor"
      ]
    },
    {
      "cell_type": "code",
      "execution_count": 546,
      "metadata": {
        "id": "nKfwqkKtglqk"
      },
      "outputs": [],
      "source": [
        "# Step 5: Function to preprocess new/unseen/test data in production mode (only transforming)\n",
        "def preprocess_new_data(X_new, preprocessor):\n",
        "    \"\"\"Transforms new/unseen/test data using a pre-fitted pipeline.\"\"\"\n",
        "    if preprocessor is None:\n",
        "        raise ValueError(\"The preprocessor must be fitted on training data first before transforming new data.\")\n",
        "\n",
        "    # Transform the new data (no fitting here)\n",
        "    X_new_processed = preprocessor.transform(X_new)\n",
        "    return X_new_processed"
      ]
    },
    {
      "cell_type": "markdown",
      "metadata": {
        "id": "43XuFL6dg6GU"
      },
      "source": [
        "# **Training**"
      ]
    },
    {
      "cell_type": "code",
      "execution_count": 547,
      "metadata": {
        "id": "_avhOzqdgtaj"
      },
      "outputs": [],
      "source": [
        "def save_model(model, model_type, model_dir='~/models/'):\n",
        "    \"\"\"Saves the trained model with a timestamp.\"\"\"\n",
        "    timestamp = datetime.now().strftime('%Y-%m-%d_%H-%M-%S')\n",
        "    model_filename = f'{model_type}_{timestamp}.pkl'\n",
        "\n",
        "    # Ensure model directory exists\n",
        "    if not os.path.exists(model_dir):\n",
        "        os.makedirs(model_dir)\n",
        "\n",
        "    # Save the trained model\n",
        "    model_path = os.path.join(model_dir, model_filename)\n",
        "    with open(model_path, 'wb') as f_model:\n",
        "        pickle.dump(model, f_model)\n",
        "\n",
        "    print(f\"Model saved to: {model_path}\")\n",
        "    return model_path\n",
        "\n",
        "def evaluate_model(model, X_train, y_train, X_test, y_test, scoring_metrics=['accuracy', 'precision', 'recall', 'f1']):\n",
        "    \"\"\"Evaluates the model with cross-validation and test set metrics.\"\"\"\n",
        "    cv_metrics = {}\n",
        "    for metric in scoring_metrics:\n",
        "        with tqdm(total=5, desc=f\"Cross-Validation ({metric})\", bar_format='{l_bar}{bar} [elapsed: {elapsed} left: {remaining}]') as pbar:\n",
        "            cv_metrics[metric] = cross_val_score(model, X_train, y_train, cv=5, scoring=metric)\n",
        "            pbar.update(5)\n",
        "\n",
        "    print(f\"Cross-validated Metrics: {', '.join([f'{m}: {cv_metrics[m].mean():.4f}' for m in cv_metrics])}\")\n",
        "\n",
        "    # Test on the test set\n",
        "    y_pred_test = model.predict(X_test)\n",
        "\n",
        "    # Calculate test set metrics\n",
        "    test_metrics = {\n",
        "        'accuracy': accuracy_score(y_test, y_pred_test),\n",
        "        'precision': precision_score(y_test, y_pred_test),\n",
        "        'recall': recall_score(y_test, y_pred_test),\n",
        "        'f1': f1_score(y_test, y_pred_test)\n",
        "    }\n",
        "\n",
        "    # Combine cross-validated and test metrics\n",
        "    metrics = {**{f'cv_{m}': cv_metrics[m].mean() for m in cv_metrics}, **test_metrics}\n",
        "    return metrics\n",
        "\n",
        "def train_logistic_regression_and_save(X_train, y_train, X_test, y_test, model_dir='~/models/'):\n",
        "    \"\"\"Trains, evaluates a logistic regression model, saves the trained model, and returns evaluation metrics.\"\"\"\n",
        "\n",
        "    model_type = 'logistic_regression'\n",
        "    model = LogisticRegression(C=0.001, max_iter=2000, solver='lbfgs')\n",
        "\n",
        "    # Train model with a progress bar\n",
        "    with tqdm(total=100, desc=f\"Training {model_type}\", bar_format='{l_bar}{bar} [elapsed: {elapsed} left: {remaining}]') as pbar:\n",
        "        model.fit(X_train, y_train)\n",
        "        pbar.update(100)\n",
        "\n",
        "    # Check number of iterations\n",
        "    print(f\"Number of iterations: {model.n_iter_}\")\n",
        "\n",
        "    # Evaluate the model\n",
        "    metrics = evaluate_model(model, X_train, y_train, X_test, y_test)\n",
        "\n",
        "    # Save the model\n",
        "    save_model(model, model_type, model_dir)\n",
        "\n",
        "    return metrics, model\n",
        "\n",
        "def train_knn_and_save(X_train, y_train, X_test, y_test, model_dir='~/models/'):\n",
        "    \"\"\"Trains, evaluates a K-Nearest Neighbors model, saves the trained model, and returns evaluation metrics.\"\"\"\n",
        "\n",
        "    model_type = 'knn'\n",
        "    knn = KNeighborsClassifier()\n",
        "\n",
        "    # Train model with a progress bar\n",
        "    with tqdm(total=100, desc=f\"Training {model_type}\", bar_format='{l_bar}{bar} [elapsed: {elapsed} left: {remaining}]') as pbar:\n",
        "        knn.fit(X_train, y_train)\n",
        "        pbar.update(100)\n",
        "\n",
        "    # Evaluate the model\n",
        "    metrics = evaluate_model(knn, X_train, y_train, X_test, y_test)\n",
        "\n",
        "    # Save the model\n",
        "    save_model(knn, model_type, model_dir)\n",
        "\n",
        "    return metrics, knn\n",
        "\n",
        "def train_svc_rbf_and_save(X_train, y_train, X_test, y_test, model_dir='~/models/'):\n",
        "    \"\"\"Trains, evaluates an SVM with RBF kernel, saves the trained model, and returns evaluation metrics.\"\"\"\n",
        "\n",
        "    model_type = 'svc_rbf'\n",
        "    svc_rbf = SVC(kernel='rbf', probability=True)  # Set `probability=True` for log_loss and cross-validation\n",
        "\n",
        "    # Train model with a progress bar\n",
        "    #with tqdm(total=100, desc=f\"Training {model_type}\", bar_format='{l_bar}{bar} [elapsed: {elapsed} left: {remaining}]') as pbar:\n",
        "    svc_rbf.fit(X_train, y_train)\n",
        "        #pbar.update(100)\n",
        "\n",
        "    # Evaluate the model\n",
        "    metrics = evaluate_model(svc_rbf, X_train, y_train, X_test, y_test)\n",
        "\n",
        "    # Save the model\n",
        "    save_model(svc_rbf, model_type, model_dir)\n",
        "\n",
        "    return metrics, svc_rbf\n",
        "\n",
        "\n",
        "def train_xgb_and_save(X_train, y_train, X_test, y_test, model_dir='~/models/'):\n",
        "    \"\"\"Trains, evaluates an XGBClassifier model, saves the trained model, and returns evaluation metrics.\"\"\"\n",
        "\n",
        "    model_type = 'xgb_classifier'\n",
        "\n",
        "    # Initialize XGBClassifier with specified parameters and verbose for progress monitoring\n",
        "    xgb = XGBClassifier(n_estimators=200, learning_rate=0.01, max_depth=5, verbose=1)\n",
        "\n",
        "    # Train the model\n",
        "    xgb.fit(X_train, y_train, eval_set=[(X_test, y_test)], verbose=True)\n",
        "\n",
        "    # Evaluate the model\n",
        "    metrics = evaluate_model(xgb, X_train, y_train, X_test, y_test)\n",
        "\n",
        "    # Save the model\n",
        "    save_model(xgb, model_type, model_dir)\n",
        "\n",
        "    return metrics, xgb\n",
        "\n",
        "def fullset_train_xgb_and_save(X_train, y_train, model_dir='~/models/'):\n",
        "    \"\"\"Trains, evaluates an XGBClassifier model, saves the trained model, and returns evaluation metrics.\"\"\"\n",
        "\n",
        "    model_type = 'xgb_classifier'\n",
        "\n",
        "    # Initialize XGBClassifier with specified parameters and verbose for progress monitoring\n",
        "    xgb = XGBClassifier(n_estimators=200, learning_rate=0.01, max_depth=5, verbose=1)\n",
        "\n",
        "    # Train the model\n",
        "    #xgb.fit(X_train, y_train, eval_set=[(X_test, y_test)], verbose=True)\n",
        "    xgb.fit(X_train, y_train, verbose=True)\n",
        "\n",
        "    # Evaluate the model\n",
        "    # metrics = evaluate_model(xgb, X_train, y_train, X_test, y_test)\n",
        "\n",
        "    # Save the model\n",
        "    save_model(xgb, model_type, model_dir)\n",
        "\n",
        "    return xgb  #metrics,"
      ]
    },
    {
      "cell_type": "code",
      "execution_count": 517,
      "metadata": {},
      "outputs": [
        {
          "data": {
            "text/plain": [
              "'# Step 6: Function to train logistic regression, evaluate, and save the model\\ndef train_logistic_regression_and_save(X_train, y_train, X_test, y_test, model_dir=\\'~/models/\\'):\\n    \"\"\"Trains, evaluates a logistic regression model, saves the trained model with a timestamp and returns evaluation metrics.\"\"\"\\n\\n    # Step 1: Train logistic regression model with a progress bar\\n    logistic_model = LogisticRegression(solver=\\'saga\\', max_iter=2000)\\n    with tqdm(total=100, desc=\"Training Logistic Regression\", bar_format=\\'{l_bar}{bar} [elapsed: {elapsed} left: {remaining}]\\') as pbar:\\n        logistic_model.fit(X_train, y_train)\\n        pbar.update(100)\\n\\n    # Check number of iterations\\n    print(f\"Number of iterations: {logistic_model.n_iter_}\")\\n\\n    # Step 2: Evaluate using cross-validation for accuracy, precision, recall, and F1-score\\n    cv_metrics = {}\\n    for metric in [\\'accuracy\\', \\'precision\\', \\'recall\\', \\'f1\\']:\\n        with tqdm(total=5, desc=f\"Cross-Validation ({metric})\", bar_format=\\'{l_bar}{bar} [elapsed: {elapsed} left: {remaining}]\\') as pbar:\\n            cv_metrics[metric] = cross_val_score(logistic_model, X_train, y_train, cv=5, scoring=metric)\\n            pbar.update(5)\\n\\n    print(f\"Cross-validated Metrics: {\\', \\'.join([f\\'{m}: {cv_metrics[m].mean():.4f}\\' for m in cv_metrics])}\")\\n\\n    # Step 3: Test on the test set\\n    y_pred_test = logistic_model.predict(X_test)\\n\\n    # Calculate test set metrics\\n    test_metrics = {\\n        \\'accuracy\\': accuracy_score(y_test, y_pred_test),\\n        \\'precision\\': precision_score(y_test, y_pred_test),\\n        \\'recall\\': recall_score(y_test, y_pred_test),\\n        \\'f1\\': f1_score(y_test, y_pred_test)\\n    }\\n\\n    # Combine cross-validated and test metrics into a single dictionary\\n    metrics = {**{f\\'cv_{m}\\': cv_metrics[m].mean() for m in cv_metrics}, **test_metrics}\\n\\n    # Step 4: Save the model with timestamp and type\\n    timestamp = datetime.now().strftime(\\'%Y-%m-%d_%H-%M-%S\\')\\n    model_filename = f\\'logistic_regression_{timestamp}.pkl\\'\\n\\n    # Ensure model directory exists\\n    if not os.path.exists(model_dir):\\n        os.makedirs(model_dir)\\n\\n    # Save the trained model\\n    model_path = os.path.join(model_dir, model_filename)\\n    with open(model_path, \\'wb\\') as f_model:\\n        pickle.dump(logistic_model, f_model)\\n\\n    print(f\"Model saved to: {model_path}\")\\n\\n    return metrics, logistic_model'"
            ]
          },
          "execution_count": 517,
          "metadata": {},
          "output_type": "execute_result"
        }
      ],
      "source": [
        "'''# Step 6: Function to train logistic regression, evaluate, and save the model\n",
        "def train_logistic_regression_and_save(X_train, y_train, X_test, y_test, model_dir='~/models/'):\n",
        "    \"\"\"Trains, evaluates a logistic regression model, saves the trained model with a timestamp and returns evaluation metrics.\"\"\"\n",
        "\n",
        "    # Step 1: Train logistic regression model with a progress bar\n",
        "    logistic_model = LogisticRegression(solver='saga', max_iter=2000)\n",
        "    with tqdm(total=100, desc=\"Training Logistic Regression\", bar_format='{l_bar}{bar} [elapsed: {elapsed} left: {remaining}]') as pbar:\n",
        "        logistic_model.fit(X_train, y_train)\n",
        "        pbar.update(100)\n",
        "\n",
        "    # Check number of iterations\n",
        "    print(f\"Number of iterations: {logistic_model.n_iter_}\")\n",
        "\n",
        "    # Step 2: Evaluate using cross-validation for accuracy, precision, recall, and F1-score\n",
        "    cv_metrics = {}\n",
        "    for metric in ['accuracy', 'precision', 'recall', 'f1']:\n",
        "        with tqdm(total=5, desc=f\"Cross-Validation ({metric})\", bar_format='{l_bar}{bar} [elapsed: {elapsed} left: {remaining}]') as pbar:\n",
        "            cv_metrics[metric] = cross_val_score(logistic_model, X_train, y_train, cv=5, scoring=metric)\n",
        "            pbar.update(5)\n",
        "\n",
        "    print(f\"Cross-validated Metrics: {', '.join([f'{m}: {cv_metrics[m].mean():.4f}' for m in cv_metrics])}\")\n",
        "\n",
        "    # Step 3: Test on the test set\n",
        "    y_pred_test = logistic_model.predict(X_test)\n",
        "\n",
        "    # Calculate test set metrics\n",
        "    test_metrics = {\n",
        "        'accuracy': accuracy_score(y_test, y_pred_test),\n",
        "        'precision': precision_score(y_test, y_pred_test),\n",
        "        'recall': recall_score(y_test, y_pred_test),\n",
        "        'f1': f1_score(y_test, y_pred_test)\n",
        "    }\n",
        "\n",
        "    # Combine cross-validated and test metrics into a single dictionary\n",
        "    metrics = {**{f'cv_{m}': cv_metrics[m].mean() for m in cv_metrics}, **test_metrics}\n",
        "\n",
        "    # Step 4: Save the model with timestamp and type\n",
        "    timestamp = datetime.now().strftime('%Y-%m-%d_%H-%M-%S')\n",
        "    model_filename = f'logistic_regression_{timestamp}.pkl'\n",
        "\n",
        "    # Ensure model directory exists\n",
        "    if not os.path.exists(model_dir):\n",
        "        os.makedirs(model_dir)\n",
        "\n",
        "    # Save the trained model\n",
        "    model_path = os.path.join(model_dir, model_filename)\n",
        "    with open(model_path, 'wb') as f_model:\n",
        "        pickle.dump(logistic_model, f_model)\n",
        "\n",
        "    print(f\"Model saved to: {model_path}\")\n",
        "\n",
        "    return metrics, logistic_model'''"
      ]
    },
    {
      "cell_type": "markdown",
      "metadata": {},
      "source": [
        "# Grid search"
      ]
    },
    {
      "cell_type": "code",
      "execution_count": 518,
      "metadata": {},
      "outputs": [],
      "source": [
        "def run_grid_search(X_train, y_train):\n",
        "    \"\"\"Runs a grid search on logistic regression model to find the best hyperparameters.\"\"\"\n",
        "\n",
        "    # Define the parameter grid for Logistic Regression\n",
        "    param_grid = {\n",
        "        'solver': ['saga', 'lbfgs'],  # Different solvers\n",
        "        'max_iter': [1500, 2000, 2500],  # Number of iterations\n",
        "        'C': [0.005, 0.007, 0.01, 0.12, 0.15]  # Regularization strength\n",
        "    }\n",
        "\n",
        "    # Create a Logistic Regression model\n",
        "    logistic_model = LogisticRegression()\n",
        "\n",
        "    # Set up the GridSearchCV\n",
        "    grid_search = GridSearchCV(\n",
        "        estimator=logistic_model,\n",
        "        param_grid=param_grid,\n",
        "        scoring='precision',  # Choose appropriate scoring metric\n",
        "        cv=5,  # Number of cross-validation folds\n",
        "        n_jobs=-1,  # Use all available cores\n",
        "        verbose=1  # Verbosity level\n",
        "    )\n",
        "\n",
        "    # Fit Grid Search\n",
        "    grid_search.fit(X_train, y_train)\n",
        "\n",
        "    # Best parameters and best score\n",
        "    best_params = grid_search.best_params_\n",
        "    best_score = grid_search.best_score_\n",
        "\n",
        "    print(f\"Best parameters: {best_params}\")\n",
        "    print(f\"Best cross-validation score: {best_score:.4f}\")\n",
        "\n",
        "    # Get the best model\n",
        "    best_model = grid_search.best_estimator_\n",
        "\n",
        "    return best_model, best_params, best_score"
      ]
    },
    {
      "cell_type": "code",
      "execution_count": 519,
      "metadata": {},
      "outputs": [],
      "source": [
        "def knn_run_grid_search(X_train, y_train):\n",
        "    \"\"\"Runs a grid search on knn model to find the best hyperparameters.\"\"\"\n",
        "\n",
        "    # Define the parameter grid for Logistic Regression\n",
        "    param_grid = {\n",
        "        'n_neighbors': [550],  # Different solvers\n",
        "        #'max_iter': [1500, 2000, 2500],  # Number of iterations\n",
        "        #'C': [0.005, 0.007, 0.01, 0.12, 0.15]  # Regularization strength\n",
        "    }\n",
        "\n",
        "    # Create a Logistic Regression model\n",
        "    knn_model = KNeighborsClassifier()\n",
        "\n",
        "    # Set up the GridSearchCV\n",
        "    grid_search = GridSearchCV(\n",
        "        estimator=knn_model,\n",
        "        param_grid=param_grid,\n",
        "        scoring='precision',  # Choose appropriate scoring metric\n",
        "        cv=3,  # Number of cross-validation folds\n",
        "        n_jobs=-1,  # Use all available cores\n",
        "        verbose=1  # Verbosity level\n",
        "    )\n",
        "\n",
        "    # Fit Grid Search\n",
        "    grid_search.fit(X_train, y_train)\n",
        "\n",
        "    # Best parameters and best score\n",
        "    best_params = grid_search.best_params_\n",
        "    best_score = grid_search.best_score_\n",
        "\n",
        "    print(f\"Best parameters: {best_params}\")\n",
        "    print(f\"Best cross-validation score: {best_score:.4f}\")\n",
        "\n",
        "    # Get the best model\n",
        "    best_model = grid_search.best_estimator_\n",
        "\n",
        "    return best_model, best_params, best_score"
      ]
    },
    {
      "cell_type": "code",
      "execution_count": 548,
      "metadata": {},
      "outputs": [],
      "source": [
        "def run_xgboost(X_train, y_train):\n",
        "    \"\"\"Runs a grid search on knn model to find the best hyperparameters.\"\"\"\n",
        "\n",
        "    # Define the parameter grid for Logistic Regression\n",
        "    param_grid = param_grid = {'n_estimators': [200],\n",
        "                               'learning_rate': [0.01],\n",
        "                               'max_depth': [5]}\n",
        "\n",
        "#{'learning_rate': 0.01, 'max_depth': 5, 'n_estimators': 200}\n",
        "\n",
        "    # Create a Logistic Regression model\n",
        "    model = XGBClassifier()\n",
        "\n",
        "    # Set up the search\n",
        "    grid_search = GridSearchCV(\n",
        "        estimator=model,\n",
        "        param_grid=param_grid,\n",
        "        scoring='precision',  # Choose appropriate scoring metric\n",
        "        cv=3,  # Number of cross-validation folds\n",
        "        n_jobs=-1,  # Use all available cores\n",
        "        verbose=1  # Verbosity level\n",
        "    )\n",
        "\n",
        "    # Fit Grid Search\n",
        "    grid_search.fit(X_train, y_train)\n",
        "\n",
        "    # Best parameters and best score\n",
        "    best_params = grid_search.best_params_\n",
        "    best_score = grid_search.best_score_\n",
        "\n",
        "    print(f\"Best parameters: {best_params}\")\n",
        "    print(f\"Best cross-validation score: {best_score:.4f}\")\n",
        "\n",
        "    # Get the best model\n",
        "    best_model = grid_search.best_estimator_\n",
        "\n",
        "    return best_model, best_params, best_score"
      ]
    },
    {
      "cell_type": "markdown",
      "metadata": {
        "id": "mnR372rBhduh"
      },
      "source": [
        "# **Running the functions on the dataset**"
      ]
    },
    {
      "cell_type": "code",
      "execution_count": 549,
      "metadata": {
        "colab": {
          "base_uri": "https://localhost:8080/"
        },
        "id": "Y_7Ktzy3hj9u",
        "outputId": "00c8bbe3-1775-467b-ba43-4039b75fd042"
      },
      "outputs": [],
      "source": [
        "\n",
        "# preprocessor import create_target_variable, group_train_test_split, identify_feature_types, create_preprocessing_pipeline,preprocess_training_data, preprocess_new_data,train_logistic_regression, filter_data\n",
        "\n",
        "\n",
        "df = pd.read_csv('~/Small-Cap-Scout/raw_data/data_for_preprocessing.csv', index_col=[0])\n"
      ]
    },
    {
      "cell_type": "code",
      "execution_count": 550,
      "metadata": {
        "colab": {
          "base_uri": "https://localhost:8080/",
          "height": 342
        },
        "id": "hl1aO3mihsKZ",
        "outputId": "9d7e5310-9db6-4671-9172-4bd86b40c8f9"
      },
      "outputs": [
        {
          "data": {
            "text/html": [
              "<div>\n",
              "<style scoped>\n",
              "    .dataframe tbody tr th:only-of-type {\n",
              "        vertical-align: middle;\n",
              "    }\n",
              "\n",
              "    .dataframe tbody tr th {\n",
              "        vertical-align: top;\n",
              "    }\n",
              "\n",
              "    .dataframe thead th {\n",
              "        text-align: right;\n",
              "    }\n",
              "</style>\n",
              "<table border=\"1\" class=\"dataframe\">\n",
              "  <thead>\n",
              "    <tr style=\"text-align: right;\">\n",
              "      <th></th>\n",
              "      <th>cik</th>\n",
              "      <th>date</th>\n",
              "      <th>Assets</th>\n",
              "      <th>AssetsCurrent</th>\n",
              "      <th>Cash</th>\n",
              "      <th>AssetsNoncurrent</th>\n",
              "      <th>Liabilities</th>\n",
              "      <th>LiabilitiesCurrent</th>\n",
              "      <th>LiabilitiesNoncurrent</th>\n",
              "      <th>Equity</th>\n",
              "      <th>...</th>\n",
              "      <th>TICKER</th>\n",
              "      <th>market_cap</th>\n",
              "      <th>mc_qtr_growth</th>\n",
              "      <th>mc_qtr_growth_pct</th>\n",
              "      <th>mc_yr_growth</th>\n",
              "      <th>mc_yr_growth_pct</th>\n",
              "      <th>mc_2yr_growth</th>\n",
              "      <th>mc_2yr_growth_pct</th>\n",
              "      <th>small_cap</th>\n",
              "      <th>micro_cap</th>\n",
              "    </tr>\n",
              "  </thead>\n",
              "  <tbody>\n",
              "    <tr>\n",
              "      <th>0</th>\n",
              "      <td>1750</td>\n",
              "      <td>2011-02-28</td>\n",
              "      <td>1.655991e+09</td>\n",
              "      <td>9.278390e+08</td>\n",
              "      <td>54716000.0</td>\n",
              "      <td>409295000.0</td>\n",
              "      <td>8.513950e+08</td>\n",
              "      <td>419182000.0</td>\n",
              "      <td>432213000.0</td>\n",
              "      <td>804596000.0</td>\n",
              "      <td>...</td>\n",
              "      <td>AIR</td>\n",
              "      <td>1045.889727</td>\n",
              "      <td>46.783392</td>\n",
              "      <td>0.046825</td>\n",
              "      <td>77.281557</td>\n",
              "      <td>0.079786</td>\n",
              "      <td>NaN</td>\n",
              "      <td>NaN</td>\n",
              "      <td>1</td>\n",
              "      <td>0</td>\n",
              "    </tr>\n",
              "    <tr>\n",
              "      <th>1</th>\n",
              "      <td>1750</td>\n",
              "      <td>2011-05-31</td>\n",
              "      <td>1.703727e+09</td>\n",
              "      <td>9.139850e+08</td>\n",
              "      <td>57433000.0</td>\n",
              "      <td>465365000.0</td>\n",
              "      <td>8.684380e+08</td>\n",
              "      <td>416010000.0</td>\n",
              "      <td>452428000.0</td>\n",
              "      <td>835289000.0</td>\n",
              "      <td>...</td>\n",
              "      <td>AIR</td>\n",
              "      <td>1024.472219</td>\n",
              "      <td>-21.417508</td>\n",
              "      <td>-0.020478</td>\n",
              "      <td>306.796787</td>\n",
              "      <td>0.427487</td>\n",
              "      <td>NaN</td>\n",
              "      <td>NaN</td>\n",
              "      <td>1</td>\n",
              "      <td>0</td>\n",
              "    </tr>\n",
              "    <tr>\n",
              "      <th>2</th>\n",
              "      <td>1750</td>\n",
              "      <td>2011-08-31</td>\n",
              "      <td>1.752372e+09</td>\n",
              "      <td>9.442470e+08</td>\n",
              "      <td>35523000.0</td>\n",
              "      <td>472856000.0</td>\n",
              "      <td>9.032430e+08</td>\n",
              "      <td>350085000.0</td>\n",
              "      <td>553158000.0</td>\n",
              "      <td>849129000.0</td>\n",
              "      <td>...</td>\n",
              "      <td>AIR</td>\n",
              "      <td>882.619592</td>\n",
              "      <td>-141.852627</td>\n",
              "      <td>-0.138464</td>\n",
              "      <td>255.395538</td>\n",
              "      <td>0.407184</td>\n",
              "      <td>NaN</td>\n",
              "      <td>NaN</td>\n",
              "      <td>1</td>\n",
              "      <td>0</td>\n",
              "    </tr>\n",
              "    <tr>\n",
              "      <th>3</th>\n",
              "      <td>1750</td>\n",
              "      <td>2011-11-30</td>\n",
              "      <td>1.821612e+09</td>\n",
              "      <td>9.550530e+08</td>\n",
              "      <td>27870000.0</td>\n",
              "      <td>521431000.0</td>\n",
              "      <td>9.582200e+08</td>\n",
              "      <td>374944000.0</td>\n",
              "      <td>583276000.0</td>\n",
              "      <td>863392000.0</td>\n",
              "      <td>...</td>\n",
              "      <td>AIR</td>\n",
              "      <td>727.886752</td>\n",
              "      <td>-154.732840</td>\n",
              "      <td>-0.175311</td>\n",
              "      <td>-271.219583</td>\n",
              "      <td>-0.271462</td>\n",
              "      <td>NaN</td>\n",
              "      <td>NaN</td>\n",
              "      <td>1</td>\n",
              "      <td>0</td>\n",
              "    </tr>\n",
              "    <tr>\n",
              "      <th>4</th>\n",
              "      <td>1750</td>\n",
              "      <td>2012-02-29</td>\n",
              "      <td>2.220293e+09</td>\n",
              "      <td>1.065389e+09</td>\n",
              "      <td>59294000.0</td>\n",
              "      <td>797765000.0</td>\n",
              "      <td>1.328974e+09</td>\n",
              "      <td>560986000.0</td>\n",
              "      <td>767988000.0</td>\n",
              "      <td>891319000.0</td>\n",
              "      <td>...</td>\n",
              "      <td>AIR</td>\n",
              "      <td>899.522315</td>\n",
              "      <td>171.635564</td>\n",
              "      <td>0.235800</td>\n",
              "      <td>-146.367411</td>\n",
              "      <td>-0.139945</td>\n",
              "      <td>-69.085854</td>\n",
              "      <td>-0.071325</td>\n",
              "      <td>1</td>\n",
              "      <td>0</td>\n",
              "    </tr>\n",
              "  </tbody>\n",
              "</table>\n",
              "<p>5 rows × 59 columns</p>\n",
              "</div>"
            ],
            "text/plain": [
              "    cik        date        Assets  AssetsCurrent        Cash  \\\n",
              "0  1750  2011-02-28  1.655991e+09   9.278390e+08  54716000.0   \n",
              "1  1750  2011-05-31  1.703727e+09   9.139850e+08  57433000.0   \n",
              "2  1750  2011-08-31  1.752372e+09   9.442470e+08  35523000.0   \n",
              "3  1750  2011-11-30  1.821612e+09   9.550530e+08  27870000.0   \n",
              "4  1750  2012-02-29  2.220293e+09   1.065389e+09  59294000.0   \n",
              "\n",
              "   AssetsNoncurrent   Liabilities  LiabilitiesCurrent  LiabilitiesNoncurrent  \\\n",
              "0       409295000.0  8.513950e+08         419182000.0            432213000.0   \n",
              "1       465365000.0  8.684380e+08         416010000.0            452428000.0   \n",
              "2       472856000.0  9.032430e+08         350085000.0            553158000.0   \n",
              "3       521431000.0  9.582200e+08         374944000.0            583276000.0   \n",
              "4       797765000.0  1.328974e+09         560986000.0            767988000.0   \n",
              "\n",
              "        Equity  ...  TICKER   market_cap  mc_qtr_growth  mc_qtr_growth_pct  \\\n",
              "0  804596000.0  ...     AIR  1045.889727      46.783392           0.046825   \n",
              "1  835289000.0  ...     AIR  1024.472219     -21.417508          -0.020478   \n",
              "2  849129000.0  ...     AIR   882.619592    -141.852627          -0.138464   \n",
              "3  863392000.0  ...     AIR   727.886752    -154.732840          -0.175311   \n",
              "4  891319000.0  ...     AIR   899.522315     171.635564           0.235800   \n",
              "\n",
              "   mc_yr_growth  mc_yr_growth_pct  mc_2yr_growth  mc_2yr_growth_pct  \\\n",
              "0     77.281557          0.079786            NaN                NaN   \n",
              "1    306.796787          0.427487            NaN                NaN   \n",
              "2    255.395538          0.407184            NaN                NaN   \n",
              "3   -271.219583         -0.271462            NaN                NaN   \n",
              "4   -146.367411         -0.139945     -69.085854          -0.071325   \n",
              "\n",
              "   small_cap  micro_cap  \n",
              "0          1          0  \n",
              "1          1          0  \n",
              "2          1          0  \n",
              "3          1          0  \n",
              "4          1          0  \n",
              "\n",
              "[5 rows x 59 columns]"
            ]
          },
          "execution_count": 550,
          "metadata": {},
          "output_type": "execute_result"
        }
      ],
      "source": [
        "df.head()"
      ]
    },
    {
      "cell_type": "code",
      "execution_count": 551,
      "metadata": {
        "colab": {
          "base_uri": "https://localhost:8080/"
        },
        "id": "ren7WhjaxXoH",
        "outputId": "4c2c7da9-4af8-4fe0-ee78-44d18e9f5224"
      },
      "outputs": [
        {
          "data": {
            "text/plain": [
              "Index(['cik', 'date', 'Assets', 'AssetsCurrent', 'Cash', 'AssetsNoncurrent',\n",
              "       'Liabilities', 'LiabilitiesCurrent', 'LiabilitiesNoncurrent', 'Equity',\n",
              "       'HolderEquity', 'RetainedEarnings', 'AdditionalPaidInCapital',\n",
              "       'TreasuryStockValue', 'TemporaryEquity', 'RedeemableEquity',\n",
              "       'LiabilitiesAndEquity', 'Revenues', 'CostOfRevenue', 'GrossProfit',\n",
              "       'OperatingExpenses', 'OperatingIncomeLoss',\n",
              "       'IncomeLossFromContinuingOperationsBeforeIncomeTaxExpenseBenefit',\n",
              "       'AllIncomeTaxExpenseBenefit', 'IncomeLossFromContinuingOperations',\n",
              "       'IncomeLossFromDiscontinuedOperationsNetOfTax', 'ProfitLoss',\n",
              "       'NetIncomeLossAttributableToNoncontrollingInterest', 'NetIncomeLoss',\n",
              "       'NetCashProvidedByUsedInOperatingActivitiesContinuingOperations',\n",
              "       'NetCashProvidedByUsedInFinancingActivitiesContinuingOperations',\n",
              "       'NetCashProvidedByUsedInInvestingActivitiesContinuingOperations',\n",
              "       'NetCashProvidedByUsedInOperatingActivities',\n",
              "       'NetCashProvidedByUsedInFinancingActivities',\n",
              "       'NetCashProvidedByUsedInInvestingActivities',\n",
              "       'CashProvidedByUsedInOperatingActivitiesDiscontinuedOperations',\n",
              "       'CashProvidedByUsedInInvestingActivitiesDiscontinuedOperations',\n",
              "       'CashProvidedByUsedInFinancingActivitiesDiscontinuedOperations',\n",
              "       'EffectOfExchangeRateFinal',\n",
              "       'CashPeriodIncreaseDecreaseIncludingExRateEffectFinal', 'afs', 'sic_2d',\n",
              "       'quarter', 'year', 'GDP', 'interest_rate', 'unemployment_rate',\n",
              "       'median_cpi', 'CIK', 'TICKER', 'market_cap', 'mc_qtr_growth',\n",
              "       'mc_qtr_growth_pct', 'mc_yr_growth', 'mc_yr_growth_pct',\n",
              "       'mc_2yr_growth', 'mc_2yr_growth_pct', 'small_cap', 'micro_cap'],\n",
              "      dtype='object')"
            ]
          },
          "execution_count": 551,
          "metadata": {},
          "output_type": "execute_result"
        }
      ],
      "source": [
        "df.columns"
      ]
    },
    {
      "cell_type": "code",
      "execution_count": 524,
      "metadata": {
        "id": "c1P5otIWl2Dl"
      },
      "outputs": [],
      "source": [
        "# Step 2: Drop unwanted columns before target creation\n",
        "#df_cleaned = drop_columns(df, cols_to_drop=['cik', 'CIK', 'date', 'stprba', 'quarter', 'year', ])"
      ]
    },
    {
      "cell_type": "code",
      "execution_count": 525,
      "metadata": {},
      "outputs": [],
      "source": [
        "#df_cleaned.columns"
      ]
    },
    {
      "cell_type": "code",
      "execution_count": 552,
      "metadata": {
        "id": "fqikqbbIl-TV"
      },
      "outputs": [],
      "source": [
        "# Step 3: Create target variables and split the data\n",
        "df_qtr = create_target_variable(df, frequency=1, threshold=0.5)\n",
        "df_yr = create_target_variable(df, frequency=4, threshold=0.5)\n",
        "df_2yr = create_target_variable(df, frequency=8, threshold=0.5)"
      ]
    },
    {
      "cell_type": "code",
      "execution_count": 553,
      "metadata": {
        "id": "s22arfsqmA2H"
      },
      "outputs": [],
      "source": [
        "X_train_qtr, X_test_qtr, y_train_qtr, y_test_qtr = group_train_test_split(df_qtr)\n",
        "X_train_yr, X_test_yr, y_train_yr, y_test_yr = group_train_test_split(df_yr)\n",
        "X_train_2yr, X_test_2yr, y_train_2yr, y_test_2yr = group_train_test_split(df_2yr)"
      ]
    },
    {
      "cell_type": "code",
      "execution_count": 528,
      "metadata": {},
      "outputs": [],
      "source": [
        "#X_train_qtr, y_train_qtr = group_train_split(df_qtr)\n",
        "#X_train_yr, y_train_yr = group_train_split(df_yr)\n",
        "#X_train_2yr, y_train_2yr = group_train_split(df_2yr)"
      ]
    },
    {
      "cell_type": "code",
      "execution_count": 554,
      "metadata": {},
      "outputs": [
        {
          "data": {
            "text/plain": [
              "Index(['Assets', 'AssetsCurrent', 'Cash', 'AssetsNoncurrent', 'Liabilities',\n",
              "       'LiabilitiesCurrent', 'LiabilitiesNoncurrent', 'Equity', 'HolderEquity',\n",
              "       'RetainedEarnings', 'AdditionalPaidInCapital', 'TreasuryStockValue',\n",
              "       'TemporaryEquity', 'RedeemableEquity', 'LiabilitiesAndEquity',\n",
              "       'Revenues', 'CostOfRevenue', 'GrossProfit', 'OperatingExpenses',\n",
              "       'OperatingIncomeLoss',\n",
              "       'IncomeLossFromContinuingOperationsBeforeIncomeTaxExpenseBenefit',\n",
              "       'AllIncomeTaxExpenseBenefit', 'IncomeLossFromContinuingOperations',\n",
              "       'IncomeLossFromDiscontinuedOperationsNetOfTax', 'ProfitLoss',\n",
              "       'NetIncomeLossAttributableToNoncontrollingInterest', 'NetIncomeLoss',\n",
              "       'NetCashProvidedByUsedInOperatingActivitiesContinuingOperations',\n",
              "       'NetCashProvidedByUsedInFinancingActivitiesContinuingOperations',\n",
              "       'NetCashProvidedByUsedInInvestingActivitiesContinuingOperations',\n",
              "       'NetCashProvidedByUsedInOperatingActivities',\n",
              "       'NetCashProvidedByUsedInFinancingActivities',\n",
              "       'NetCashProvidedByUsedInInvestingActivities',\n",
              "       'CashProvidedByUsedInOperatingActivitiesDiscontinuedOperations',\n",
              "       'CashProvidedByUsedInInvestingActivitiesDiscontinuedOperations',\n",
              "       'CashProvidedByUsedInFinancingActivitiesDiscontinuedOperations',\n",
              "       'EffectOfExchangeRateFinal',\n",
              "       'CashPeriodIncreaseDecreaseIncludingExRateEffectFinal', 'afs', 'sic_2d',\n",
              "       'GDP', 'interest_rate', 'unemployment_rate', 'median_cpi', 'market_cap',\n",
              "       'small_cap', 'micro_cap', 'qtr'],\n",
              "      dtype='object')"
            ]
          },
          "execution_count": 554,
          "metadata": {},
          "output_type": "execute_result"
        }
      ],
      "source": [
        "X_train_qtr.columns"
      ]
    },
    {
      "cell_type": "code",
      "execution_count": 530,
      "metadata": {
        "id": "VxzH3rREuc4t"
      },
      "outputs": [],
      "source": [
        "# Step 4:  Identify feature types after splitting\n",
        "#numerical_features_qtr, categorical_features_qtr = identify_feature_types(X_train_qtr)\n",
        "#numerical_features_yr, categorical_features_yr = identify_feature_types(X_train_yr)\n",
        "#numerical_features_2yr, categorical_features_2yr = identify_feature_types(X_train_2yr)"
      ]
    },
    {
      "cell_type": "code",
      "execution_count": 531,
      "metadata": {
        "id": "abVrvnn6ztXY"
      },
      "outputs": [],
      "source": [
        "# Step 5: Create the preprocessing pipeline\n",
        "#preprocessor_qtr = create_preprocessing_pipeline(numerical_features_qtr, categorical_features_qtr)\n",
        "#preprocessor_yr = create_preprocessing_pipeline(numerical_features_yr, categorical_features_yr)\n",
        "#preprocessor_2yr = create_preprocessing_pipeline(numerical_features_2yr, categorical_features_2yr)\n"
      ]
    },
    {
      "cell_type": "code",
      "execution_count": 555,
      "metadata": {
        "id": "ChuCubny0QXz"
      },
      "outputs": [
        {
          "name": "stdout",
          "output_type": "stream",
          "text": [
            "Preprocessor saved to ~/models/preprocessor_2024-09-12_12-27-39.pkl\n",
            "Preprocessor saved to ~/models/preprocessor_2024-09-12_12-27-39.pkl\n",
            "Preprocessor saved to ~/models/preprocessor_2024-09-12_12-27-40.pkl\n"
          ]
        }
      ],
      "source": [
        "# Step 6: Preprocess the training data\n",
        "X_train_qtr_processed, preprocessor_qtr = preprocess_training_data(X_train_qtr)\n",
        "X_train_yr_processed, preprocessor_yr = preprocess_training_data(X_train_yr)\n",
        "X_train_2yr_processed, preprocessor_2yr = preprocess_training_data(X_train_2yr)\n"
      ]
    },
    {
      "cell_type": "code",
      "execution_count": 556,
      "metadata": {},
      "outputs": [
        {
          "data": {
            "text/html": [
              "<div>\n",
              "<style scoped>\n",
              "    .dataframe tbody tr th:only-of-type {\n",
              "        vertical-align: middle;\n",
              "    }\n",
              "\n",
              "    .dataframe tbody tr th {\n",
              "        vertical-align: top;\n",
              "    }\n",
              "\n",
              "    .dataframe thead th {\n",
              "        text-align: right;\n",
              "    }\n",
              "</style>\n",
              "<table border=\"1\" class=\"dataframe\">\n",
              "  <thead>\n",
              "    <tr style=\"text-align: right;\">\n",
              "      <th></th>\n",
              "      <th>0</th>\n",
              "      <th>1</th>\n",
              "      <th>2</th>\n",
              "      <th>3</th>\n",
              "      <th>4</th>\n",
              "      <th>5</th>\n",
              "      <th>6</th>\n",
              "      <th>7</th>\n",
              "      <th>8</th>\n",
              "      <th>9</th>\n",
              "      <th>...</th>\n",
              "      <th>111</th>\n",
              "      <th>112</th>\n",
              "      <th>113</th>\n",
              "      <th>114</th>\n",
              "      <th>115</th>\n",
              "      <th>116</th>\n",
              "      <th>117</th>\n",
              "      <th>118</th>\n",
              "      <th>119</th>\n",
              "      <th>120</th>\n",
              "    </tr>\n",
              "  </thead>\n",
              "  <tbody>\n",
              "    <tr>\n",
              "      <th>count</th>\n",
              "      <td>120414.000000</td>\n",
              "      <td>120414.000000</td>\n",
              "      <td>120414.000000</td>\n",
              "      <td>120414.000000</td>\n",
              "      <td>120414.000000</td>\n",
              "      <td>120414.000000</td>\n",
              "      <td>120414.000000</td>\n",
              "      <td>120414.000000</td>\n",
              "      <td>120414.000000</td>\n",
              "      <td>120414.000000</td>\n",
              "      <td>...</td>\n",
              "      <td>120414.000000</td>\n",
              "      <td>120414.000000</td>\n",
              "      <td>120414.000000</td>\n",
              "      <td>120414.000000</td>\n",
              "      <td>120414.000000</td>\n",
              "      <td>120414.000000</td>\n",
              "      <td>120414.000000</td>\n",
              "      <td>120414.000000</td>\n",
              "      <td>120414.000000</td>\n",
              "      <td>120414.000000</td>\n",
              "    </tr>\n",
              "    <tr>\n",
              "      <th>mean</th>\n",
              "      <td>3.151248</td>\n",
              "      <td>5.271482</td>\n",
              "      <td>2.437065</td>\n",
              "      <td>3.293660</td>\n",
              "      <td>3.957481</td>\n",
              "      <td>6.952204</td>\n",
              "      <td>3.250348</td>\n",
              "      <td>1.985638</td>\n",
              "      <td>1.992290</td>\n",
              "      <td>2.657312</td>\n",
              "      <td>...</td>\n",
              "      <td>0.000606</td>\n",
              "      <td>0.018403</td>\n",
              "      <td>0.000199</td>\n",
              "      <td>0.000581</td>\n",
              "      <td>0.000374</td>\n",
              "      <td>0.068289</td>\n",
              "      <td>0.250046</td>\n",
              "      <td>0.250652</td>\n",
              "      <td>0.250943</td>\n",
              "      <td>0.248360</td>\n",
              "    </tr>\n",
              "    <tr>\n",
              "      <th>std</th>\n",
              "      <td>27.002397</td>\n",
              "      <td>58.141102</td>\n",
              "      <td>21.335220</td>\n",
              "      <td>16.170033</td>\n",
              "      <td>37.781648</td>\n",
              "      <td>79.577312</td>\n",
              "      <td>17.110606</td>\n",
              "      <td>10.692536</td>\n",
              "      <td>10.753424</td>\n",
              "      <td>18.797690</td>\n",
              "      <td>...</td>\n",
              "      <td>0.024615</td>\n",
              "      <td>0.134405</td>\n",
              "      <td>0.014116</td>\n",
              "      <td>0.024104</td>\n",
              "      <td>0.019328</td>\n",
              "      <td>0.252243</td>\n",
              "      <td>0.433041</td>\n",
              "      <td>0.433390</td>\n",
              "      <td>0.433557</td>\n",
              "      <td>0.432063</td>\n",
              "    </tr>\n",
              "    <tr>\n",
              "      <th>min</th>\n",
              "      <td>-12.851469</td>\n",
              "      <td>-27.854068</td>\n",
              "      <td>-0.358190</td>\n",
              "      <td>-0.573231</td>\n",
              "      <td>-17.912823</td>\n",
              "      <td>-40.099988</td>\n",
              "      <td>-0.297526</td>\n",
              "      <td>-15.396027</td>\n",
              "      <td>-15.499192</td>\n",
              "      <td>-198.506987</td>\n",
              "      <td>...</td>\n",
              "      <td>0.000000</td>\n",
              "      <td>0.000000</td>\n",
              "      <td>0.000000</td>\n",
              "      <td>0.000000</td>\n",
              "      <td>0.000000</td>\n",
              "      <td>0.000000</td>\n",
              "      <td>0.000000</td>\n",
              "      <td>0.000000</td>\n",
              "      <td>0.000000</td>\n",
              "      <td>0.000000</td>\n",
              "    </tr>\n",
              "    <tr>\n",
              "      <th>25%</th>\n",
              "      <td>-0.185149</td>\n",
              "      <td>-0.184294</td>\n",
              "      <td>-0.202394</td>\n",
              "      <td>-0.059642</td>\n",
              "      <td>-0.155920</td>\n",
              "      <td>-0.134399</td>\n",
              "      <td>-0.052801</td>\n",
              "      <td>-0.180664</td>\n",
              "      <td>-0.180740</td>\n",
              "      <td>-0.201878</td>\n",
              "      <td>...</td>\n",
              "      <td>0.000000</td>\n",
              "      <td>0.000000</td>\n",
              "      <td>0.000000</td>\n",
              "      <td>0.000000</td>\n",
              "      <td>0.000000</td>\n",
              "      <td>0.000000</td>\n",
              "      <td>0.000000</td>\n",
              "      <td>0.000000</td>\n",
              "      <td>0.000000</td>\n",
              "      <td>0.000000</td>\n",
              "    </tr>\n",
              "    <tr>\n",
              "      <th>50%</th>\n",
              "      <td>0.000000</td>\n",
              "      <td>0.000000</td>\n",
              "      <td>0.000000</td>\n",
              "      <td>0.000000</td>\n",
              "      <td>0.000000</td>\n",
              "      <td>0.000000</td>\n",
              "      <td>0.000000</td>\n",
              "      <td>0.000000</td>\n",
              "      <td>0.000000</td>\n",
              "      <td>0.000000</td>\n",
              "      <td>...</td>\n",
              "      <td>0.000000</td>\n",
              "      <td>0.000000</td>\n",
              "      <td>0.000000</td>\n",
              "      <td>0.000000</td>\n",
              "      <td>0.000000</td>\n",
              "      <td>0.000000</td>\n",
              "      <td>0.000000</td>\n",
              "      <td>0.000000</td>\n",
              "      <td>0.000000</td>\n",
              "      <td>0.000000</td>\n",
              "    </tr>\n",
              "    <tr>\n",
              "      <th>75%</th>\n",
              "      <td>0.814851</td>\n",
              "      <td>0.815706</td>\n",
              "      <td>0.797606</td>\n",
              "      <td>0.940358</td>\n",
              "      <td>0.844080</td>\n",
              "      <td>0.865601</td>\n",
              "      <td>0.947199</td>\n",
              "      <td>0.819336</td>\n",
              "      <td>0.819260</td>\n",
              "      <td>0.798122</td>\n",
              "      <td>...</td>\n",
              "      <td>0.000000</td>\n",
              "      <td>0.000000</td>\n",
              "      <td>0.000000</td>\n",
              "      <td>0.000000</td>\n",
              "      <td>0.000000</td>\n",
              "      <td>0.000000</td>\n",
              "      <td>1.000000</td>\n",
              "      <td>1.000000</td>\n",
              "      <td>1.000000</td>\n",
              "      <td>0.000000</td>\n",
              "    </tr>\n",
              "    <tr>\n",
              "      <th>max</th>\n",
              "      <td>1045.144571</td>\n",
              "      <td>2285.318365</td>\n",
              "      <td>1300.448494</td>\n",
              "      <td>534.253903</td>\n",
              "      <td>1499.157628</td>\n",
              "      <td>3375.357122</td>\n",
              "      <td>722.151760</td>\n",
              "      <td>300.384659</td>\n",
              "      <td>302.431417</td>\n",
              "      <td>778.535382</td>\n",
              "      <td>...</td>\n",
              "      <td>1.000000</td>\n",
              "      <td>1.000000</td>\n",
              "      <td>1.000000</td>\n",
              "      <td>1.000000</td>\n",
              "      <td>1.000000</td>\n",
              "      <td>1.000000</td>\n",
              "      <td>1.000000</td>\n",
              "      <td>1.000000</td>\n",
              "      <td>1.000000</td>\n",
              "      <td>1.000000</td>\n",
              "    </tr>\n",
              "  </tbody>\n",
              "</table>\n",
              "<p>8 rows × 121 columns</p>\n",
              "</div>"
            ],
            "text/plain": [
              "                 0              1              2              3    \\\n",
              "count  120414.000000  120414.000000  120414.000000  120414.000000   \n",
              "mean        3.151248       5.271482       2.437065       3.293660   \n",
              "std        27.002397      58.141102      21.335220      16.170033   \n",
              "min       -12.851469     -27.854068      -0.358190      -0.573231   \n",
              "25%        -0.185149      -0.184294      -0.202394      -0.059642   \n",
              "50%         0.000000       0.000000       0.000000       0.000000   \n",
              "75%         0.814851       0.815706       0.797606       0.940358   \n",
              "max      1045.144571    2285.318365    1300.448494     534.253903   \n",
              "\n",
              "                 4              5              6              7    \\\n",
              "count  120414.000000  120414.000000  120414.000000  120414.000000   \n",
              "mean        3.957481       6.952204       3.250348       1.985638   \n",
              "std        37.781648      79.577312      17.110606      10.692536   \n",
              "min       -17.912823     -40.099988      -0.297526     -15.396027   \n",
              "25%        -0.155920      -0.134399      -0.052801      -0.180664   \n",
              "50%         0.000000       0.000000       0.000000       0.000000   \n",
              "75%         0.844080       0.865601       0.947199       0.819336   \n",
              "max      1499.157628    3375.357122     722.151760     300.384659   \n",
              "\n",
              "                 8              9    ...            111            112  \\\n",
              "count  120414.000000  120414.000000  ...  120414.000000  120414.000000   \n",
              "mean        1.992290       2.657312  ...       0.000606       0.018403   \n",
              "std        10.753424      18.797690  ...       0.024615       0.134405   \n",
              "min       -15.499192    -198.506987  ...       0.000000       0.000000   \n",
              "25%        -0.180740      -0.201878  ...       0.000000       0.000000   \n",
              "50%         0.000000       0.000000  ...       0.000000       0.000000   \n",
              "75%         0.819260       0.798122  ...       0.000000       0.000000   \n",
              "max       302.431417     778.535382  ...       1.000000       1.000000   \n",
              "\n",
              "                 113            114            115            116  \\\n",
              "count  120414.000000  120414.000000  120414.000000  120414.000000   \n",
              "mean        0.000199       0.000581       0.000374       0.068289   \n",
              "std         0.014116       0.024104       0.019328       0.252243   \n",
              "min         0.000000       0.000000       0.000000       0.000000   \n",
              "25%         0.000000       0.000000       0.000000       0.000000   \n",
              "50%         0.000000       0.000000       0.000000       0.000000   \n",
              "75%         0.000000       0.000000       0.000000       0.000000   \n",
              "max         1.000000       1.000000       1.000000       1.000000   \n",
              "\n",
              "                 117            118            119            120  \n",
              "count  120414.000000  120414.000000  120414.000000  120414.000000  \n",
              "mean        0.250046       0.250652       0.250943       0.248360  \n",
              "std         0.433041       0.433390       0.433557       0.432063  \n",
              "min         0.000000       0.000000       0.000000       0.000000  \n",
              "25%         0.000000       0.000000       0.000000       0.000000  \n",
              "50%         0.000000       0.000000       0.000000       0.000000  \n",
              "75%         1.000000       1.000000       1.000000       0.000000  \n",
              "max         1.000000       1.000000       1.000000       1.000000  \n",
              "\n",
              "[8 rows x 121 columns]"
            ]
          },
          "execution_count": 556,
          "metadata": {},
          "output_type": "execute_result"
        }
      ],
      "source": [
        "pd.DataFrame(X_train_qtr_processed).describe()"
      ]
    },
    {
      "cell_type": "code",
      "execution_count": 557,
      "metadata": {},
      "outputs": [
        {
          "data": {
            "text/html": [
              "<div>\n",
              "<style scoped>\n",
              "    .dataframe tbody tr th:only-of-type {\n",
              "        vertical-align: middle;\n",
              "    }\n",
              "\n",
              "    .dataframe tbody tr th {\n",
              "        vertical-align: top;\n",
              "    }\n",
              "\n",
              "    .dataframe thead th {\n",
              "        text-align: right;\n",
              "    }\n",
              "</style>\n",
              "<table border=\"1\" class=\"dataframe\">\n",
              "  <thead>\n",
              "    <tr style=\"text-align: right;\">\n",
              "      <th></th>\n",
              "      <th>Assets</th>\n",
              "      <th>AssetsCurrent</th>\n",
              "      <th>Cash</th>\n",
              "      <th>AssetsNoncurrent</th>\n",
              "      <th>Liabilities</th>\n",
              "      <th>LiabilitiesCurrent</th>\n",
              "      <th>LiabilitiesNoncurrent</th>\n",
              "      <th>Equity</th>\n",
              "      <th>HolderEquity</th>\n",
              "      <th>RetainedEarnings</th>\n",
              "      <th>...</th>\n",
              "      <th>CashProvidedByUsedInFinancingActivitiesDiscontinuedOperations</th>\n",
              "      <th>EffectOfExchangeRateFinal</th>\n",
              "      <th>CashPeriodIncreaseDecreaseIncludingExRateEffectFinal</th>\n",
              "      <th>GDP</th>\n",
              "      <th>interest_rate</th>\n",
              "      <th>unemployment_rate</th>\n",
              "      <th>median_cpi</th>\n",
              "      <th>market_cap</th>\n",
              "      <th>small_cap</th>\n",
              "      <th>micro_cap</th>\n",
              "    </tr>\n",
              "  </thead>\n",
              "  <tbody>\n",
              "    <tr>\n",
              "      <th>count</th>\n",
              "      <td>1.204140e+05</td>\n",
              "      <td>1.204140e+05</td>\n",
              "      <td>1.204140e+05</td>\n",
              "      <td>1.204140e+05</td>\n",
              "      <td>1.204140e+05</td>\n",
              "      <td>1.204140e+05</td>\n",
              "      <td>1.204140e+05</td>\n",
              "      <td>1.204140e+05</td>\n",
              "      <td>1.204140e+05</td>\n",
              "      <td>1.204140e+05</td>\n",
              "      <td>...</td>\n",
              "      <td>1.204140e+05</td>\n",
              "      <td>1.204140e+05</td>\n",
              "      <td>1.204140e+05</td>\n",
              "      <td>120414.000000</td>\n",
              "      <td>120414.000000</td>\n",
              "      <td>120414.000000</td>\n",
              "      <td>120414.000000</td>\n",
              "      <td>1.204140e+05</td>\n",
              "      <td>120414.000000</td>\n",
              "      <td>120414.000000</td>\n",
              "    </tr>\n",
              "    <tr>\n",
              "      <th>mean</th>\n",
              "      <td>1.270783e+10</td>\n",
              "      <td>9.485398e+09</td>\n",
              "      <td>6.194045e+08</td>\n",
              "      <td>3.150193e+09</td>\n",
              "      <td>1.009379e+10</td>\n",
              "      <td>7.718379e+09</td>\n",
              "      <td>2.340623e+09</td>\n",
              "      <td>2.566592e+09</td>\n",
              "      <td>2.556681e+09</td>\n",
              "      <td>1.565712e+09</td>\n",
              "      <td>...</td>\n",
              "      <td>1.023705e+05</td>\n",
              "      <td>-2.983554e+06</td>\n",
              "      <td>4.054279e+07</td>\n",
              "      <td>2.477431</td>\n",
              "      <td>0.975467</td>\n",
              "      <td>5.472720</td>\n",
              "      <td>2.775783</td>\n",
              "      <td>7.331802e+03</td>\n",
              "      <td>0.681889</td>\n",
              "      <td>0.406888</td>\n",
              "    </tr>\n",
              "    <tr>\n",
              "      <th>std</th>\n",
              "      <td>1.021531e+11</td>\n",
              "      <td>1.006025e+11</td>\n",
              "      <td>4.937410e+09</td>\n",
              "      <td>1.518945e+10</td>\n",
              "      <td>9.245016e+10</td>\n",
              "      <td>8.649141e+10</td>\n",
              "      <td>1.212217e+10</td>\n",
              "      <td>1.251960e+10</td>\n",
              "      <td>1.250575e+10</td>\n",
              "      <td>1.095964e+10</td>\n",
              "      <td>...</td>\n",
              "      <td>4.510650e+07</td>\n",
              "      <td>1.509264e+08</td>\n",
              "      <td>2.683492e+09</td>\n",
              "      <td>8.912384</td>\n",
              "      <td>1.352208</td>\n",
              "      <td>1.839165</td>\n",
              "      <td>1.329529</td>\n",
              "      <td>4.140965e+04</td>\n",
              "      <td>0.465745</td>\n",
              "      <td>0.491256</td>\n",
              "    </tr>\n",
              "    <tr>\n",
              "      <th>min</th>\n",
              "      <td>-4.783227e+10</td>\n",
              "      <td>-4.783227e+10</td>\n",
              "      <td>-2.747500e+07</td>\n",
              "      <td>-4.822030e+08</td>\n",
              "      <td>-4.342195e+10</td>\n",
              "      <td>-4.342195e+10</td>\n",
              "      <td>-1.729015e+08</td>\n",
              "      <td>-1.778513e+10</td>\n",
              "      <td>-1.778513e+10</td>\n",
              "      <td>-1.157194e+11</td>\n",
              "      <td>...</td>\n",
              "      <td>-3.140119e+09</td>\n",
              "      <td>-3.234200e+10</td>\n",
              "      <td>-1.736000e+11</td>\n",
              "      <td>-69.630993</td>\n",
              "      <td>0.050000</td>\n",
              "      <td>3.400000</td>\n",
              "      <td>-0.286064</td>\n",
              "      <td>5.317758e-06</td>\n",
              "      <td>0.000000</td>\n",
              "      <td>0.000000</td>\n",
              "    </tr>\n",
              "    <tr>\n",
              "      <th>25%</th>\n",
              "      <td>8.585634e+07</td>\n",
              "      <td>4.518150e+07</td>\n",
              "      <td>8.579391e+06</td>\n",
              "      <td>2.403958e+05</td>\n",
              "      <td>2.847050e+07</td>\n",
              "      <td>1.605475e+07</td>\n",
              "      <td>4.762188e+05</td>\n",
              "      <td>3.012683e+07</td>\n",
              "      <td>2.954330e+07</td>\n",
              "      <td>-1.012859e+08</td>\n",
              "      <td>...</td>\n",
              "      <td>0.000000e+00</td>\n",
              "      <td>0.000000e+00</td>\n",
              "      <td>-1.325850e+07</td>\n",
              "      <td>1.388811</td>\n",
              "      <td>0.090000</td>\n",
              "      <td>3.900000</td>\n",
              "      <td>1.961900</td>\n",
              "      <td>7.944983e+01</td>\n",
              "      <td>0.000000</td>\n",
              "      <td>0.000000</td>\n",
              "    </tr>\n",
              "    <tr>\n",
              "      <th>50%</th>\n",
              "      <td>7.862965e+08</td>\n",
              "      <td>3.640685e+08</td>\n",
              "      <td>5.541750e+07</td>\n",
              "      <td>5.626605e+07</td>\n",
              "      <td>4.099995e+08</td>\n",
              "      <td>1.621310e+08</td>\n",
              "      <td>3.788350e+07</td>\n",
              "      <td>2.416615e+08</td>\n",
              "      <td>2.397360e+08</td>\n",
              "      <td>1.641550e+07</td>\n",
              "      <td>...</td>\n",
              "      <td>0.000000e+00</td>\n",
              "      <td>0.000000e+00</td>\n",
              "      <td>-3.668000e+03</td>\n",
              "      <td>2.590671</td>\n",
              "      <td>0.240000</td>\n",
              "      <td>5.000000</td>\n",
              "      <td>2.452308</td>\n",
              "      <td>5.942361e+02</td>\n",
              "      <td>1.000000</td>\n",
              "      <td>0.000000</td>\n",
              "    </tr>\n",
              "    <tr>\n",
              "      <th>75%</th>\n",
              "      <td>3.868970e+09</td>\n",
              "      <td>1.775498e+09</td>\n",
              "      <td>2.400000e+08</td>\n",
              "      <td>9.395985e+08</td>\n",
              "      <td>2.475430e+09</td>\n",
              "      <td>1.102940e+09</td>\n",
              "      <td>7.089355e+08</td>\n",
              "      <td>1.201000e+09</td>\n",
              "      <td>1.192499e+09</td>\n",
              "      <td>4.817455e+08</td>\n",
              "      <td>...</td>\n",
              "      <td>0.000000e+00</td>\n",
              "      <td>0.000000e+00</td>\n",
              "      <td>1.476250e+07</td>\n",
              "      <td>4.056326</td>\n",
              "      <td>1.510000</td>\n",
              "      <td>6.700000</td>\n",
              "      <td>2.966116</td>\n",
              "      <td>3.157140e+03</td>\n",
              "      <td>1.000000</td>\n",
              "      <td>1.000000</td>\n",
              "    </tr>\n",
              "    <tr>\n",
              "      <th>max</th>\n",
              "      <td>3.954687e+12</td>\n",
              "      <td>3.954687e+12</td>\n",
              "      <td>3.010060e+11</td>\n",
              "      <td>5.019120e+11</td>\n",
              "      <td>3.668788e+12</td>\n",
              "      <td>3.668788e+12</td>\n",
              "      <td>5.116530e+11</td>\n",
              "      <td>3.519540e+11</td>\n",
              "      <td>3.519540e+11</td>\n",
              "      <td>4.539270e+11</td>\n",
              "      <td>...</td>\n",
              "      <td>1.199100e+10</td>\n",
              "      <td>9.155000e+09</td>\n",
              "      <td>2.639780e+11</td>\n",
              "      <td>45.706033</td>\n",
              "      <td>5.330000</td>\n",
              "      <td>14.700000</td>\n",
              "      <td>8.048036</td>\n",
              "      <td>2.974308e+06</td>\n",
              "      <td>1.000000</td>\n",
              "      <td>1.000000</td>\n",
              "    </tr>\n",
              "  </tbody>\n",
              "</table>\n",
              "<p>8 rows × 45 columns</p>\n",
              "</div>"
            ],
            "text/plain": [
              "             Assets  AssetsCurrent          Cash  AssetsNoncurrent  \\\n",
              "count  1.204140e+05   1.204140e+05  1.204140e+05      1.204140e+05   \n",
              "mean   1.270783e+10   9.485398e+09  6.194045e+08      3.150193e+09   \n",
              "std    1.021531e+11   1.006025e+11  4.937410e+09      1.518945e+10   \n",
              "min   -4.783227e+10  -4.783227e+10 -2.747500e+07     -4.822030e+08   \n",
              "25%    8.585634e+07   4.518150e+07  8.579391e+06      2.403958e+05   \n",
              "50%    7.862965e+08   3.640685e+08  5.541750e+07      5.626605e+07   \n",
              "75%    3.868970e+09   1.775498e+09  2.400000e+08      9.395985e+08   \n",
              "max    3.954687e+12   3.954687e+12  3.010060e+11      5.019120e+11   \n",
              "\n",
              "        Liabilities  LiabilitiesCurrent  LiabilitiesNoncurrent        Equity  \\\n",
              "count  1.204140e+05        1.204140e+05           1.204140e+05  1.204140e+05   \n",
              "mean   1.009379e+10        7.718379e+09           2.340623e+09  2.566592e+09   \n",
              "std    9.245016e+10        8.649141e+10           1.212217e+10  1.251960e+10   \n",
              "min   -4.342195e+10       -4.342195e+10          -1.729015e+08 -1.778513e+10   \n",
              "25%    2.847050e+07        1.605475e+07           4.762188e+05  3.012683e+07   \n",
              "50%    4.099995e+08        1.621310e+08           3.788350e+07  2.416615e+08   \n",
              "75%    2.475430e+09        1.102940e+09           7.089355e+08  1.201000e+09   \n",
              "max    3.668788e+12        3.668788e+12           5.116530e+11  3.519540e+11   \n",
              "\n",
              "       HolderEquity  RetainedEarnings  ...  \\\n",
              "count  1.204140e+05      1.204140e+05  ...   \n",
              "mean   2.556681e+09      1.565712e+09  ...   \n",
              "std    1.250575e+10      1.095964e+10  ...   \n",
              "min   -1.778513e+10     -1.157194e+11  ...   \n",
              "25%    2.954330e+07     -1.012859e+08  ...   \n",
              "50%    2.397360e+08      1.641550e+07  ...   \n",
              "75%    1.192499e+09      4.817455e+08  ...   \n",
              "max    3.519540e+11      4.539270e+11  ...   \n",
              "\n",
              "       CashProvidedByUsedInFinancingActivitiesDiscontinuedOperations  \\\n",
              "count                                       1.204140e+05               \n",
              "mean                                        1.023705e+05               \n",
              "std                                         4.510650e+07               \n",
              "min                                        -3.140119e+09               \n",
              "25%                                         0.000000e+00               \n",
              "50%                                         0.000000e+00               \n",
              "75%                                         0.000000e+00               \n",
              "max                                         1.199100e+10               \n",
              "\n",
              "       EffectOfExchangeRateFinal  \\\n",
              "count               1.204140e+05   \n",
              "mean               -2.983554e+06   \n",
              "std                 1.509264e+08   \n",
              "min                -3.234200e+10   \n",
              "25%                 0.000000e+00   \n",
              "50%                 0.000000e+00   \n",
              "75%                 0.000000e+00   \n",
              "max                 9.155000e+09   \n",
              "\n",
              "       CashPeriodIncreaseDecreaseIncludingExRateEffectFinal            GDP  \\\n",
              "count                                       1.204140e+05     120414.000000   \n",
              "mean                                        4.054279e+07          2.477431   \n",
              "std                                         2.683492e+09          8.912384   \n",
              "min                                        -1.736000e+11        -69.630993   \n",
              "25%                                        -1.325850e+07          1.388811   \n",
              "50%                                        -3.668000e+03          2.590671   \n",
              "75%                                         1.476250e+07          4.056326   \n",
              "max                                         2.639780e+11         45.706033   \n",
              "\n",
              "       interest_rate  unemployment_rate     median_cpi    market_cap  \\\n",
              "count  120414.000000      120414.000000  120414.000000  1.204140e+05   \n",
              "mean        0.975467           5.472720       2.775783  7.331802e+03   \n",
              "std         1.352208           1.839165       1.329529  4.140965e+04   \n",
              "min         0.050000           3.400000      -0.286064  5.317758e-06   \n",
              "25%         0.090000           3.900000       1.961900  7.944983e+01   \n",
              "50%         0.240000           5.000000       2.452308  5.942361e+02   \n",
              "75%         1.510000           6.700000       2.966116  3.157140e+03   \n",
              "max         5.330000          14.700000       8.048036  2.974308e+06   \n",
              "\n",
              "           small_cap      micro_cap  \n",
              "count  120414.000000  120414.000000  \n",
              "mean        0.681889       0.406888  \n",
              "std         0.465745       0.491256  \n",
              "min         0.000000       0.000000  \n",
              "25%         0.000000       0.000000  \n",
              "50%         1.000000       0.000000  \n",
              "75%         1.000000       1.000000  \n",
              "max         1.000000       1.000000  \n",
              "\n",
              "[8 rows x 45 columns]"
            ]
          },
          "execution_count": 557,
          "metadata": {},
          "output_type": "execute_result"
        }
      ],
      "source": [
        "pd.DataFrame(X_train_qtr).describe()"
      ]
    },
    {
      "cell_type": "code",
      "execution_count": 558,
      "metadata": {
        "id": "TBpPlofv0SO6"
      },
      "outputs": [],
      "source": [
        "# Step 7 : then the test data\n",
        "X_test_qtr_processed = preprocess_new_data(X_test_qtr, preprocessor_qtr)\n",
        "X_test_yr_processed = preprocess_new_data(X_test_yr, preprocessor_yr)\n",
        "X_test_2yr_processed = preprocess_new_data(X_test_2yr, preprocessor_2yr)"
      ]
    },
    {
      "cell_type": "code",
      "execution_count": 487,
      "metadata": {},
      "outputs": [
        {
          "name": "stderr",
          "output_type": "stream",
          "text": [
            "/Users/eoingaynard/.pyenv/versions/3.10.6/envs/Small-Cap-Scout/lib/python3.10/site-packages/xgboost/core.py:158: UserWarning: [11:11:48] WARNING: /Users/runner/work/xgboost/xgboost/src/learner.cc:740: \n",
            "Parameters: { \"verbose\" } are not used.\n",
            "\n",
            "  warnings.warn(smsg, UserWarning)\n"
          ]
        },
        {
          "name": "stdout",
          "output_type": "stream",
          "text": [
            "Model saved to: ~/models/xgb_classifier_2024-09-12_11-11-49.pkl\n"
          ]
        }
      ],
      "source": [
        "# STEP 8 : Full set train!!\n",
        "model_qtr_xgb = fullset_train_xgb_and_save(X_train_qtr_processed, y_train_qtr)"
      ]
    },
    {
      "cell_type": "code",
      "execution_count": 488,
      "metadata": {},
      "outputs": [
        {
          "name": "stderr",
          "output_type": "stream",
          "text": [
            "/Users/eoingaynard/.pyenv/versions/3.10.6/envs/Small-Cap-Scout/lib/python3.10/site-packages/xgboost/core.py:158: UserWarning: [11:12:02] WARNING: /Users/runner/work/xgboost/xgboost/src/learner.cc:740: \n",
            "Parameters: { \"verbose\" } are not used.\n",
            "\n",
            "  warnings.warn(smsg, UserWarning)\n"
          ]
        },
        {
          "name": "stdout",
          "output_type": "stream",
          "text": [
            "Model saved to: ~/models/xgb_classifier_2024-09-12_11-12-04.pkl\n"
          ]
        }
      ],
      "source": [
        "model_yr_xgb = fullset_train_xgb_and_save(X_train_yr_processed, y_train_yr)"
      ]
    },
    {
      "cell_type": "code",
      "execution_count": 489,
      "metadata": {},
      "outputs": [
        {
          "name": "stderr",
          "output_type": "stream",
          "text": [
            "/Users/eoingaynard/.pyenv/versions/3.10.6/envs/Small-Cap-Scout/lib/python3.10/site-packages/xgboost/core.py:158: UserWarning: [11:12:05] WARNING: /Users/runner/work/xgboost/xgboost/src/learner.cc:740: \n",
            "Parameters: { \"verbose\" } are not used.\n",
            "\n",
            "  warnings.warn(smsg, UserWarning)\n"
          ]
        },
        {
          "name": "stdout",
          "output_type": "stream",
          "text": [
            "Model saved to: ~/models/xgb_classifier_2024-09-12_11-12-06.pkl\n"
          ]
        }
      ],
      "source": [
        "model_2yr_xgb = fullset_train_xgb_and_save(X_train_2yr_processed, y_train_2yr)"
      ]
    },
    {
      "cell_type": "code",
      "execution_count": 58,
      "metadata": {},
      "outputs": [
        {
          "name": "stderr",
          "output_type": "stream",
          "text": [
            "Training logistic_regression: 100%|██████████ [elapsed: 00:04 left: 00:00]\n"
          ]
        },
        {
          "name": "stdout",
          "output_type": "stream",
          "text": [
            "Number of iterations: [352]\n"
          ]
        },
        {
          "name": "stderr",
          "output_type": "stream",
          "text": [
            "Cross-Validation (accuracy): 100%|██████████ [elapsed: 00:19 left: 00:00]\n",
            "Cross-Validation (precision): 100%|██████████ [elapsed: 00:19 left: 00:00]\n",
            "Cross-Validation (recall): 100%|██████████ [elapsed: 00:19 left: 00:00]\n",
            "Cross-Validation (f1): 100%|██████████ [elapsed: 00:19 left: 00:00]"
          ]
        },
        {
          "name": "stdout",
          "output_type": "stream",
          "text": [
            "Cross-validated Metrics: accuracy: 0.6632, precision: 0.3379, recall: 0.5131, f1: 0.4002\n",
            "Model saved to: ~/models/logistic_regression_2024-09-11_16-02-30.pkl\n"
          ]
        },
        {
          "name": "stderr",
          "output_type": "stream",
          "text": [
            "\n"
          ]
        }
      ],
      "source": [
        "# Step 8 :Train for quarterly (frequency=1), yearly (frequency=4), and 2-year (frequency=8) predictions\n",
        "y_pred_qtr_log_reg, model_qtr_log_reg = train_logistic_regression_and_save(X_train_qtr_processed, y_train_qtr, X_test_qtr_processed, y_test_qtr)"
      ]
    },
    {
      "cell_type": "code",
      "execution_count": 124,
      "metadata": {},
      "outputs": [
        {
          "name": "stderr",
          "output_type": "stream",
          "text": [
            "Training logistic_regression: 100%|██████████ [elapsed: 00:01 left: 00:00]\n"
          ]
        },
        {
          "name": "stdout",
          "output_type": "stream",
          "text": [
            "Number of iterations: [140]\n"
          ]
        },
        {
          "name": "stderr",
          "output_type": "stream",
          "text": [
            "Cross-Validation (accuracy): 100%|██████████ [elapsed: 00:07 left: 00:00]\n",
            "Cross-Validation (precision): 100%|██████████ [elapsed: 00:06 left: 00:00]\n",
            "Cross-Validation (recall): 100%|██████████ [elapsed: 00:06 left: 00:00]\n",
            "Cross-Validation (f1): 100%|██████████ [elapsed: 00:06 left: 00:00]"
          ]
        },
        {
          "name": "stdout",
          "output_type": "stream",
          "text": [
            "Cross-validated Metrics: accuracy: 0.6606, precision: 0.3430, recall: 0.5238, f1: 0.4065\n",
            "Model saved to: ~/models/logistic_regression_2024-09-11_11-59-14.pkl\n"
          ]
        },
        {
          "name": "stderr",
          "output_type": "stream",
          "text": [
            "\n"
          ]
        }
      ],
      "source": [
        "y_pred_yr_log_reg, model_yr_log_reg = train_logistic_regression_and_save(X_train_yr_processed, y_train_yr, X_test_yr_processed, y_test_yr)"
      ]
    },
    {
      "cell_type": "code",
      "execution_count": 125,
      "metadata": {
        "colab": {
          "base_uri": "https://localhost:8080/"
        },
        "id": "SOMfwVi_1GDf",
        "outputId": "c2be492d-a575-47fc-c9c9-0ee5e3352a01"
      },
      "outputs": [
        {
          "name": "stderr",
          "output_type": "stream",
          "text": [
            "Training logistic_regression: 100%|██████████ [elapsed: 00:06 left: 00:00]\n"
          ]
        },
        {
          "name": "stdout",
          "output_type": "stream",
          "text": [
            "Number of iterations: [532]\n"
          ]
        },
        {
          "name": "stderr",
          "output_type": "stream",
          "text": [
            "Cross-Validation (accuracy): 100%|██████████ [elapsed: 00:13 left: 00:00]\n",
            "Cross-Validation (precision): 100%|██████████ [elapsed: 00:13 left: 00:00]\n",
            "Cross-Validation (recall): 100%|██████████ [elapsed: 00:13 left: 00:00]\n",
            "Cross-Validation (f1): 100%|██████████ [elapsed: 00:13 left: 00:00]"
          ]
        },
        {
          "name": "stdout",
          "output_type": "stream",
          "text": [
            "Cross-validated Metrics: accuracy: 0.6596, precision: 0.3333, recall: 0.5061, f1: 0.3966\n",
            "Model saved to: ~/models/logistic_regression_2024-09-11_12-01-22.pkl\n"
          ]
        },
        {
          "name": "stderr",
          "output_type": "stream",
          "text": [
            "\n"
          ]
        }
      ],
      "source": [
        "y_pred_2yr_log_reg, model_2yr = train_logistic_regression_and_save(X_train_2yr_processed, y_train_2yr, X_test_2yr_processed, y_test_2yr)\n"
      ]
    },
    {
      "cell_type": "code",
      "execution_count": 272,
      "metadata": {},
      "outputs": [
        {
          "name": "stdout",
          "output_type": "stream",
          "text": [
            "[0]\tvalidation_0-logloss:0.60780\n",
            "[1]\tvalidation_0-logloss:0.60730\n",
            "[2]\tvalidation_0-logloss:0.60681\n",
            "[3]\tvalidation_0-logloss:0.60632\n",
            "[4]\tvalidation_0-logloss:0.60584\n",
            "[5]\tvalidation_0-logloss:0.60538\n",
            "[6]\tvalidation_0-logloss:0.60492\n",
            "[7]\tvalidation_0-logloss:0.60446\n",
            "[8]\tvalidation_0-logloss:0.60402\n",
            "[9]\tvalidation_0-logloss:0.60359\n",
            "[10]\tvalidation_0-logloss:0.60316\n",
            "[11]\tvalidation_0-logloss:0.60275\n",
            "[12]\tvalidation_0-logloss:0.60234\n",
            "[13]\tvalidation_0-logloss:0.60194\n",
            "[14]\tvalidation_0-logloss:0.60155\n",
            "[15]\tvalidation_0-logloss:0.60118\n",
            "[16]\tvalidation_0-logloss:0.60080\n"
          ]
        },
        {
          "name": "stderr",
          "output_type": "stream",
          "text": [
            "/Users/eoingaynard/.pyenv/versions/3.10.6/envs/Small-Cap-Scout/lib/python3.10/site-packages/xgboost/core.py:158: UserWarning: [23:42:01] WARNING: /Users/runner/work/xgboost/xgboost/src/learner.cc:740: \n",
            "Parameters: { \"verbose\" } are not used.\n",
            "\n",
            "  warnings.warn(smsg, UserWarning)\n"
          ]
        },
        {
          "name": "stdout",
          "output_type": "stream",
          "text": [
            "[17]\tvalidation_0-logloss:0.60043\n",
            "[18]\tvalidation_0-logloss:0.60006\n",
            "[19]\tvalidation_0-logloss:0.59972\n",
            "[20]\tvalidation_0-logloss:0.59937\n",
            "[21]\tvalidation_0-logloss:0.59901\n",
            "[22]\tvalidation_0-logloss:0.59869\n",
            "[23]\tvalidation_0-logloss:0.59835\n",
            "[24]\tvalidation_0-logloss:0.59802\n",
            "[25]\tvalidation_0-logloss:0.59768\n",
            "[26]\tvalidation_0-logloss:0.59738\n",
            "[27]\tvalidation_0-logloss:0.59707\n",
            "[28]\tvalidation_0-logloss:0.59677\n",
            "[29]\tvalidation_0-logloss:0.59645\n",
            "[30]\tvalidation_0-logloss:0.59616\n",
            "[31]\tvalidation_0-logloss:0.59586\n",
            "[32]\tvalidation_0-logloss:0.59558\n",
            "[33]\tvalidation_0-logloss:0.59529\n",
            "[34]\tvalidation_0-logloss:0.59500\n",
            "[35]\tvalidation_0-logloss:0.59471\n",
            "[36]\tvalidation_0-logloss:0.59446\n",
            "[37]\tvalidation_0-logloss:0.59418\n",
            "[38]\tvalidation_0-logloss:0.59392\n",
            "[39]\tvalidation_0-logloss:0.59367\n",
            "[40]\tvalidation_0-logloss:0.59340\n",
            "[41]\tvalidation_0-logloss:0.59316\n",
            "[42]\tvalidation_0-logloss:0.59291\n",
            "[43]\tvalidation_0-logloss:0.59265\n",
            "[44]\tvalidation_0-logloss:0.59242\n",
            "[45]\tvalidation_0-logloss:0.59217\n",
            "[46]\tvalidation_0-logloss:0.59192\n",
            "[47]\tvalidation_0-logloss:0.59168\n",
            "[48]\tvalidation_0-logloss:0.59144\n",
            "[49]\tvalidation_0-logloss:0.59121\n",
            "[50]\tvalidation_0-logloss:0.59097\n",
            "[51]\tvalidation_0-logloss:0.59075\n",
            "[52]\tvalidation_0-logloss:0.59053\n",
            "[53]\tvalidation_0-logloss:0.59032\n",
            "[54]\tvalidation_0-logloss:0.59010\n",
            "[55]\tvalidation_0-logloss:0.58988\n",
            "[56]\tvalidation_0-logloss:0.58967\n",
            "[57]\tvalidation_0-logloss:0.58948\n",
            "[58]\tvalidation_0-logloss:0.58927\n",
            "[59]\tvalidation_0-logloss:0.58906\n",
            "[60]\tvalidation_0-logloss:0.58886\n",
            "[61]\tvalidation_0-logloss:0.58866\n",
            "[62]\tvalidation_0-logloss:0.58847\n",
            "[63]\tvalidation_0-logloss:0.58828\n",
            "[64]\tvalidation_0-logloss:0.58809\n",
            "[65]\tvalidation_0-logloss:0.58792\n",
            "[66]\tvalidation_0-logloss:0.58774\n",
            "[67]\tvalidation_0-logloss:0.58756\n",
            "[68]\tvalidation_0-logloss:0.58739\n",
            "[69]\tvalidation_0-logloss:0.58723\n",
            "[70]\tvalidation_0-logloss:0.58706\n",
            "[71]\tvalidation_0-logloss:0.58687\n",
            "[72]\tvalidation_0-logloss:0.58671\n",
            "[73]\tvalidation_0-logloss:0.58656\n",
            "[74]\tvalidation_0-logloss:0.58640\n",
            "[75]\tvalidation_0-logloss:0.58625\n",
            "[76]\tvalidation_0-logloss:0.58609\n",
            "[77]\tvalidation_0-logloss:0.58595\n",
            "[78]\tvalidation_0-logloss:0.58580\n",
            "[79]\tvalidation_0-logloss:0.58562\n",
            "[80]\tvalidation_0-logloss:0.58546\n",
            "[81]\tvalidation_0-logloss:0.58533\n",
            "[82]\tvalidation_0-logloss:0.58517\n",
            "[83]\tvalidation_0-logloss:0.58502\n",
            "[84]\tvalidation_0-logloss:0.58488\n",
            "[85]\tvalidation_0-logloss:0.58473\n",
            "[86]\tvalidation_0-logloss:0.58458\n",
            "[87]\tvalidation_0-logloss:0.58443\n",
            "[88]\tvalidation_0-logloss:0.58427\n",
            "[89]\tvalidation_0-logloss:0.58415\n",
            "[90]\tvalidation_0-logloss:0.58402\n",
            "[91]\tvalidation_0-logloss:0.58386\n",
            "[92]\tvalidation_0-logloss:0.58371\n",
            "[93]\tvalidation_0-logloss:0.58359\n",
            "[94]\tvalidation_0-logloss:0.58346\n",
            "[95]\tvalidation_0-logloss:0.58332\n",
            "[96]\tvalidation_0-logloss:0.58321\n",
            "[97]\tvalidation_0-logloss:0.58309\n",
            "[98]\tvalidation_0-logloss:0.58296\n",
            "[99]\tvalidation_0-logloss:0.58281\n",
            "[100]\tvalidation_0-logloss:0.58271\n",
            "[101]\tvalidation_0-logloss:0.58259\n",
            "[102]\tvalidation_0-logloss:0.58247\n",
            "[103]\tvalidation_0-logloss:0.58236\n",
            "[104]\tvalidation_0-logloss:0.58226\n",
            "[105]\tvalidation_0-logloss:0.58213\n",
            "[106]\tvalidation_0-logloss:0.58200\n",
            "[107]\tvalidation_0-logloss:0.58190\n",
            "[108]\tvalidation_0-logloss:0.58180\n",
            "[109]\tvalidation_0-logloss:0.58167\n",
            "[110]\tvalidation_0-logloss:0.58155\n",
            "[111]\tvalidation_0-logloss:0.58143\n",
            "[112]\tvalidation_0-logloss:0.58133\n",
            "[113]\tvalidation_0-logloss:0.58121\n",
            "[114]\tvalidation_0-logloss:0.58113\n",
            "[115]\tvalidation_0-logloss:0.58102\n",
            "[116]\tvalidation_0-logloss:0.58090\n",
            "[117]\tvalidation_0-logloss:0.58081\n",
            "[118]\tvalidation_0-logloss:0.58071\n",
            "[119]\tvalidation_0-logloss:0.58060\n",
            "[120]\tvalidation_0-logloss:0.58051\n",
            "[121]\tvalidation_0-logloss:0.58040\n",
            "[122]\tvalidation_0-logloss:0.58032\n",
            "[123]\tvalidation_0-logloss:0.58023\n",
            "[124]\tvalidation_0-logloss:0.58014\n",
            "[125]\tvalidation_0-logloss:0.58002\n",
            "[126]\tvalidation_0-logloss:0.57991\n",
            "[127]\tvalidation_0-logloss:0.57984\n",
            "[128]\tvalidation_0-logloss:0.57972\n",
            "[129]\tvalidation_0-logloss:0.57961\n",
            "[130]\tvalidation_0-logloss:0.57953\n",
            "[131]\tvalidation_0-logloss:0.57943\n",
            "[132]\tvalidation_0-logloss:0.57935\n",
            "[133]\tvalidation_0-logloss:0.57927\n",
            "[134]\tvalidation_0-logloss:0.57916\n",
            "[135]\tvalidation_0-logloss:0.57909\n",
            "[136]\tvalidation_0-logloss:0.57897\n",
            "[137]\tvalidation_0-logloss:0.57889\n",
            "[138]\tvalidation_0-logloss:0.57881\n",
            "[139]\tvalidation_0-logloss:0.57873\n",
            "[140]\tvalidation_0-logloss:0.57863\n",
            "[141]\tvalidation_0-logloss:0.57855\n",
            "[142]\tvalidation_0-logloss:0.57847\n",
            "[143]\tvalidation_0-logloss:0.57839\n",
            "[144]\tvalidation_0-logloss:0.57831\n",
            "[145]\tvalidation_0-logloss:0.57819\n",
            "[146]\tvalidation_0-logloss:0.57814\n",
            "[147]\tvalidation_0-logloss:0.57803\n",
            "[148]\tvalidation_0-logloss:0.57791\n",
            "[149]\tvalidation_0-logloss:0.57785\n",
            "[150]\tvalidation_0-logloss:0.57778\n",
            "[151]\tvalidation_0-logloss:0.57770\n",
            "[152]\tvalidation_0-logloss:0.57763\n",
            "[153]\tvalidation_0-logloss:0.57755\n",
            "[154]\tvalidation_0-logloss:0.57749\n",
            "[155]\tvalidation_0-logloss:0.57738\n",
            "[156]\tvalidation_0-logloss:0.57727\n",
            "[157]\tvalidation_0-logloss:0.57717\n",
            "[158]\tvalidation_0-logloss:0.57709\n",
            "[159]\tvalidation_0-logloss:0.57703\n",
            "[160]\tvalidation_0-logloss:0.57692\n",
            "[161]\tvalidation_0-logloss:0.57685\n",
            "[162]\tvalidation_0-logloss:0.57674\n",
            "[163]\tvalidation_0-logloss:0.57669\n",
            "[164]\tvalidation_0-logloss:0.57658\n",
            "[165]\tvalidation_0-logloss:0.57652\n",
            "[166]\tvalidation_0-logloss:0.57642\n",
            "[167]\tvalidation_0-logloss:0.57637\n",
            "[168]\tvalidation_0-logloss:0.57631\n",
            "[169]\tvalidation_0-logloss:0.57621\n",
            "[170]\tvalidation_0-logloss:0.57615\n",
            "[171]\tvalidation_0-logloss:0.57605\n",
            "[172]\tvalidation_0-logloss:0.57600\n",
            "[173]\tvalidation_0-logloss:0.57590\n",
            "[174]\tvalidation_0-logloss:0.57581\n",
            "[175]\tvalidation_0-logloss:0.57572\n",
            "[176]\tvalidation_0-logloss:0.57566\n",
            "[177]\tvalidation_0-logloss:0.57562\n",
            "[178]\tvalidation_0-logloss:0.57553\n",
            "[179]\tvalidation_0-logloss:0.57544\n",
            "[180]\tvalidation_0-logloss:0.57538\n",
            "[181]\tvalidation_0-logloss:0.57533\n",
            "[182]\tvalidation_0-logloss:0.57524\n",
            "[183]\tvalidation_0-logloss:0.57520\n",
            "[184]\tvalidation_0-logloss:0.57516\n",
            "[185]\tvalidation_0-logloss:0.57507\n",
            "[186]\tvalidation_0-logloss:0.57504\n",
            "[187]\tvalidation_0-logloss:0.57496\n",
            "[188]\tvalidation_0-logloss:0.57490\n",
            "[189]\tvalidation_0-logloss:0.57484\n",
            "[190]\tvalidation_0-logloss:0.57477\n",
            "[191]\tvalidation_0-logloss:0.57472\n",
            "[192]\tvalidation_0-logloss:0.57469\n",
            "[193]\tvalidation_0-logloss:0.57464\n",
            "[194]\tvalidation_0-logloss:0.57457\n",
            "[195]\tvalidation_0-logloss:0.57449\n",
            "[196]\tvalidation_0-logloss:0.57446\n",
            "[197]\tvalidation_0-logloss:0.57441\n",
            "[198]\tvalidation_0-logloss:0.57438\n",
            "[199]\tvalidation_0-logloss:0.57431\n"
          ]
        },
        {
          "name": "stderr",
          "output_type": "stream",
          "text": [
            "Cross-Validation (accuracy):   0%|           [elapsed: 00:00 left: ?]/Users/eoingaynard/.pyenv/versions/3.10.6/envs/Small-Cap-Scout/lib/python3.10/site-packages/xgboost/core.py:158: UserWarning: [23:42:03] WARNING: /Users/runner/work/xgboost/xgboost/src/learner.cc:740: \n",
            "Parameters: { \"verbose\" } are not used.\n",
            "\n",
            "  warnings.warn(smsg, UserWarning)\n",
            "/Users/eoingaynard/.pyenv/versions/3.10.6/envs/Small-Cap-Scout/lib/python3.10/site-packages/xgboost/core.py:158: UserWarning: [23:42:04] WARNING: /Users/runner/work/xgboost/xgboost/src/learner.cc:740: \n",
            "Parameters: { \"verbose\" } are not used.\n",
            "\n",
            "  warnings.warn(smsg, UserWarning)\n",
            "/Users/eoingaynard/.pyenv/versions/3.10.6/envs/Small-Cap-Scout/lib/python3.10/site-packages/xgboost/core.py:158: UserWarning: [23:42:06] WARNING: /Users/runner/work/xgboost/xgboost/src/learner.cc:740: \n",
            "Parameters: { \"verbose\" } are not used.\n",
            "\n",
            "  warnings.warn(smsg, UserWarning)\n",
            "/Users/eoingaynard/.pyenv/versions/3.10.6/envs/Small-Cap-Scout/lib/python3.10/site-packages/xgboost/core.py:158: UserWarning: [23:42:07] WARNING: /Users/runner/work/xgboost/xgboost/src/learner.cc:740: \n",
            "Parameters: { \"verbose\" } are not used.\n",
            "\n",
            "  warnings.warn(smsg, UserWarning)\n",
            "/Users/eoingaynard/.pyenv/versions/3.10.6/envs/Small-Cap-Scout/lib/python3.10/site-packages/xgboost/core.py:158: UserWarning: [23:42:08] WARNING: /Users/runner/work/xgboost/xgboost/src/learner.cc:740: \n",
            "Parameters: { \"verbose\" } are not used.\n",
            "\n",
            "  warnings.warn(smsg, UserWarning)\n",
            "Cross-Validation (accuracy): 100%|██████████ [elapsed: 00:06 left: 00:00]\n",
            "Cross-Validation (precision):   0%|           [elapsed: 00:00 left: ?]/Users/eoingaynard/.pyenv/versions/3.10.6/envs/Small-Cap-Scout/lib/python3.10/site-packages/xgboost/core.py:158: UserWarning: [23:42:09] WARNING: /Users/runner/work/xgboost/xgboost/src/learner.cc:740: \n",
            "Parameters: { \"verbose\" } are not used.\n",
            "\n",
            "  warnings.warn(smsg, UserWarning)\n",
            "/Users/eoingaynard/.pyenv/versions/3.10.6/envs/Small-Cap-Scout/lib/python3.10/site-packages/xgboost/core.py:158: UserWarning: [23:42:11] WARNING: /Users/runner/work/xgboost/xgboost/src/learner.cc:740: \n",
            "Parameters: { \"verbose\" } are not used.\n",
            "\n",
            "  warnings.warn(smsg, UserWarning)\n",
            "/Users/eoingaynard/.pyenv/versions/3.10.6/envs/Small-Cap-Scout/lib/python3.10/site-packages/xgboost/core.py:158: UserWarning: [23:42:12] WARNING: /Users/runner/work/xgboost/xgboost/src/learner.cc:740: \n",
            "Parameters: { \"verbose\" } are not used.\n",
            "\n",
            "  warnings.warn(smsg, UserWarning)\n",
            "/Users/eoingaynard/.pyenv/versions/3.10.6/envs/Small-Cap-Scout/lib/python3.10/site-packages/xgboost/core.py:158: UserWarning: [23:42:13] WARNING: /Users/runner/work/xgboost/xgboost/src/learner.cc:740: \n",
            "Parameters: { \"verbose\" } are not used.\n",
            "\n",
            "  warnings.warn(smsg, UserWarning)\n",
            "/Users/eoingaynard/.pyenv/versions/3.10.6/envs/Small-Cap-Scout/lib/python3.10/site-packages/xgboost/core.py:158: UserWarning: [23:42:14] WARNING: /Users/runner/work/xgboost/xgboost/src/learner.cc:740: \n",
            "Parameters: { \"verbose\" } are not used.\n",
            "\n",
            "  warnings.warn(smsg, UserWarning)\n",
            "Cross-Validation (precision): 100%|██████████ [elapsed: 00:06 left: 00:00]\n",
            "Cross-Validation (recall):   0%|           [elapsed: 00:00 left: ?]/Users/eoingaynard/.pyenv/versions/3.10.6/envs/Small-Cap-Scout/lib/python3.10/site-packages/xgboost/core.py:158: UserWarning: [23:42:15] WARNING: /Users/runner/work/xgboost/xgboost/src/learner.cc:740: \n",
            "Parameters: { \"verbose\" } are not used.\n",
            "\n",
            "  warnings.warn(smsg, UserWarning)\n",
            "/Users/eoingaynard/.pyenv/versions/3.10.6/envs/Small-Cap-Scout/lib/python3.10/site-packages/xgboost/core.py:158: UserWarning: [23:42:17] WARNING: /Users/runner/work/xgboost/xgboost/src/learner.cc:740: \n",
            "Parameters: { \"verbose\" } are not used.\n",
            "\n",
            "  warnings.warn(smsg, UserWarning)\n",
            "/Users/eoingaynard/.pyenv/versions/3.10.6/envs/Small-Cap-Scout/lib/python3.10/site-packages/xgboost/core.py:158: UserWarning: [23:42:18] WARNING: /Users/runner/work/xgboost/xgboost/src/learner.cc:740: \n",
            "Parameters: { \"verbose\" } are not used.\n",
            "\n",
            "  warnings.warn(smsg, UserWarning)\n",
            "/Users/eoingaynard/.pyenv/versions/3.10.6/envs/Small-Cap-Scout/lib/python3.10/site-packages/xgboost/core.py:158: UserWarning: [23:42:19] WARNING: /Users/runner/work/xgboost/xgboost/src/learner.cc:740: \n",
            "Parameters: { \"verbose\" } are not used.\n",
            "\n",
            "  warnings.warn(smsg, UserWarning)\n",
            "/Users/eoingaynard/.pyenv/versions/3.10.6/envs/Small-Cap-Scout/lib/python3.10/site-packages/xgboost/core.py:158: UserWarning: [23:42:20] WARNING: /Users/runner/work/xgboost/xgboost/src/learner.cc:740: \n",
            "Parameters: { \"verbose\" } are not used.\n",
            "\n",
            "  warnings.warn(smsg, UserWarning)\n",
            "Cross-Validation (recall): 100%|██████████ [elapsed: 00:06 left: 00:00]\n",
            "Cross-Validation (f1):   0%|           [elapsed: 00:00 left: ?]/Users/eoingaynard/.pyenv/versions/3.10.6/envs/Small-Cap-Scout/lib/python3.10/site-packages/xgboost/core.py:158: UserWarning: [23:42:22] WARNING: /Users/runner/work/xgboost/xgboost/src/learner.cc:740: \n",
            "Parameters: { \"verbose\" } are not used.\n",
            "\n",
            "  warnings.warn(smsg, UserWarning)\n",
            "/Users/eoingaynard/.pyenv/versions/3.10.6/envs/Small-Cap-Scout/lib/python3.10/site-packages/xgboost/core.py:158: UserWarning: [23:42:23] WARNING: /Users/runner/work/xgboost/xgboost/src/learner.cc:740: \n",
            "Parameters: { \"verbose\" } are not used.\n",
            "\n",
            "  warnings.warn(smsg, UserWarning)\n",
            "/Users/eoingaynard/.pyenv/versions/3.10.6/envs/Small-Cap-Scout/lib/python3.10/site-packages/xgboost/core.py:158: UserWarning: [23:42:24] WARNING: /Users/runner/work/xgboost/xgboost/src/learner.cc:740: \n",
            "Parameters: { \"verbose\" } are not used.\n",
            "\n",
            "  warnings.warn(smsg, UserWarning)\n",
            "/Users/eoingaynard/.pyenv/versions/3.10.6/envs/Small-Cap-Scout/lib/python3.10/site-packages/xgboost/core.py:158: UserWarning: [23:42:25] WARNING: /Users/runner/work/xgboost/xgboost/src/learner.cc:740: \n",
            "Parameters: { \"verbose\" } are not used.\n",
            "\n",
            "  warnings.warn(smsg, UserWarning)\n",
            "/Users/eoingaynard/.pyenv/versions/3.10.6/envs/Small-Cap-Scout/lib/python3.10/site-packages/xgboost/core.py:158: UserWarning: [23:42:27] WARNING: /Users/runner/work/xgboost/xgboost/src/learner.cc:740: \n",
            "Parameters: { \"verbose\" } are not used.\n",
            "\n",
            "  warnings.warn(smsg, UserWarning)\n",
            "Cross-Validation (f1): 100%|██████████ [elapsed: 00:06 left: 00:00]"
          ]
        },
        {
          "name": "stdout",
          "output_type": "stream",
          "text": [
            "Cross-validated Metrics: accuracy: 0.7081, precision: 0.6512, recall: 0.0305, f1: 0.0579\n",
            "Model saved to: ~/models/xgb_classifier_2024-09-11_23-42-28.pkl\n"
          ]
        },
        {
          "name": "stderr",
          "output_type": "stream",
          "text": [
            "\n"
          ]
        }
      ],
      "source": [
        "y_pred_qtr_xgb, model_qtr_xgb = train_xgb_and_save(X_train_qtr_processed, y_train_qtr, X_test_qtr_processed, y_test_qtr)"
      ]
    },
    {
      "cell_type": "code",
      "execution_count": 273,
      "metadata": {},
      "outputs": [
        {
          "name": "stdout",
          "output_type": "stream",
          "text": [
            "[0]\tvalidation_0-logloss:0.61073\n",
            "[1]\tvalidation_0-logloss:0.61021\n",
            "[2]\tvalidation_0-logloss:0.60971\n",
            "[3]\tvalidation_0-logloss:0.60922\n",
            "[4]\tvalidation_0-logloss:0.60873\n",
            "[5]\tvalidation_0-logloss:0.60827\n",
            "[6]\tvalidation_0-logloss:0.60780\n",
            "[7]\tvalidation_0-logloss:0.60734\n",
            "[8]\tvalidation_0-logloss:0.60690\n",
            "[9]\tvalidation_0-logloss:0.60645\n",
            "[10]\tvalidation_0-logloss:0.60601\n",
            "[11]\tvalidation_0-logloss:0.60559\n",
            "[12]\tvalidation_0-logloss:0.60517\n",
            "[13]\tvalidation_0-logloss:0.60476\n",
            "[14]\tvalidation_0-logloss:0.60436\n",
            "[15]\tvalidation_0-logloss:0.60397\n",
            "[16]\tvalidation_0-logloss:0.60358\n"
          ]
        },
        {
          "name": "stderr",
          "output_type": "stream",
          "text": [
            "/Users/eoingaynard/.pyenv/versions/3.10.6/envs/Small-Cap-Scout/lib/python3.10/site-packages/xgboost/core.py:158: UserWarning: [23:42:58] WARNING: /Users/runner/work/xgboost/xgboost/src/learner.cc:740: \n",
            "Parameters: { \"verbose\" } are not used.\n",
            "\n",
            "  warnings.warn(smsg, UserWarning)\n"
          ]
        },
        {
          "name": "stdout",
          "output_type": "stream",
          "text": [
            "[17]\tvalidation_0-logloss:0.60320\n",
            "[18]\tvalidation_0-logloss:0.60283\n",
            "[19]\tvalidation_0-logloss:0.60247\n",
            "[20]\tvalidation_0-logloss:0.60211\n",
            "[21]\tvalidation_0-logloss:0.60176\n",
            "[22]\tvalidation_0-logloss:0.60142\n",
            "[23]\tvalidation_0-logloss:0.60108\n",
            "[24]\tvalidation_0-logloss:0.60076\n",
            "[25]\tvalidation_0-logloss:0.60043\n",
            "[26]\tvalidation_0-logloss:0.60012\n",
            "[27]\tvalidation_0-logloss:0.59982\n",
            "[28]\tvalidation_0-logloss:0.59952\n",
            "[29]\tvalidation_0-logloss:0.59922\n",
            "[30]\tvalidation_0-logloss:0.59893\n",
            "[31]\tvalidation_0-logloss:0.59864\n",
            "[32]\tvalidation_0-logloss:0.59837\n",
            "[33]\tvalidation_0-logloss:0.59806\n",
            "[34]\tvalidation_0-logloss:0.59780\n",
            "[35]\tvalidation_0-logloss:0.59750\n",
            "[36]\tvalidation_0-logloss:0.59721\n",
            "[37]\tvalidation_0-logloss:0.59692\n",
            "[38]\tvalidation_0-logloss:0.59666\n",
            "[39]\tvalidation_0-logloss:0.59638\n",
            "[40]\tvalidation_0-logloss:0.59612\n",
            "[41]\tvalidation_0-logloss:0.59587\n",
            "[42]\tvalidation_0-logloss:0.59562\n",
            "[43]\tvalidation_0-logloss:0.59535\n",
            "[44]\tvalidation_0-logloss:0.59511\n",
            "[45]\tvalidation_0-logloss:0.59485\n",
            "[46]\tvalidation_0-logloss:0.59461\n",
            "[47]\tvalidation_0-logloss:0.59438\n",
            "[48]\tvalidation_0-logloss:0.59412\n",
            "[49]\tvalidation_0-logloss:0.59389\n",
            "[50]\tvalidation_0-logloss:0.59367\n",
            "[51]\tvalidation_0-logloss:0.59345\n",
            "[52]\tvalidation_0-logloss:0.59323\n",
            "[53]\tvalidation_0-logloss:0.59302\n",
            "[54]\tvalidation_0-logloss:0.59278\n",
            "[55]\tvalidation_0-logloss:0.59258\n",
            "[56]\tvalidation_0-logloss:0.59237\n",
            "[57]\tvalidation_0-logloss:0.59215\n",
            "[58]\tvalidation_0-logloss:0.59194\n",
            "[59]\tvalidation_0-logloss:0.59172\n",
            "[60]\tvalidation_0-logloss:0.59153\n",
            "[61]\tvalidation_0-logloss:0.59135\n",
            "[62]\tvalidation_0-logloss:0.59115\n",
            "[63]\tvalidation_0-logloss:0.59096\n",
            "[64]\tvalidation_0-logloss:0.59079\n",
            "[65]\tvalidation_0-logloss:0.59061\n",
            "[66]\tvalidation_0-logloss:0.59040\n",
            "[67]\tvalidation_0-logloss:0.59023\n",
            "[68]\tvalidation_0-logloss:0.59003\n",
            "[69]\tvalidation_0-logloss:0.58983\n",
            "[70]\tvalidation_0-logloss:0.58967\n",
            "[71]\tvalidation_0-logloss:0.58947\n",
            "[72]\tvalidation_0-logloss:0.58930\n",
            "[73]\tvalidation_0-logloss:0.58911\n",
            "[74]\tvalidation_0-logloss:0.58893\n",
            "[75]\tvalidation_0-logloss:0.58879\n",
            "[76]\tvalidation_0-logloss:0.58860\n",
            "[77]\tvalidation_0-logloss:0.58842\n",
            "[78]\tvalidation_0-logloss:0.58829\n",
            "[79]\tvalidation_0-logloss:0.58812\n",
            "[80]\tvalidation_0-logloss:0.58796\n",
            "[81]\tvalidation_0-logloss:0.58777\n",
            "[82]\tvalidation_0-logloss:0.58763\n",
            "[83]\tvalidation_0-logloss:0.58750\n",
            "[84]\tvalidation_0-logloss:0.58736\n",
            "[85]\tvalidation_0-logloss:0.58718\n",
            "[86]\tvalidation_0-logloss:0.58702\n",
            "[87]\tvalidation_0-logloss:0.58690\n",
            "[88]\tvalidation_0-logloss:0.58672\n",
            "[89]\tvalidation_0-logloss:0.58655\n",
            "[90]\tvalidation_0-logloss:0.58641\n",
            "[91]\tvalidation_0-logloss:0.58627\n",
            "[92]\tvalidation_0-logloss:0.58611\n",
            "[93]\tvalidation_0-logloss:0.58598\n",
            "[94]\tvalidation_0-logloss:0.58586\n",
            "[95]\tvalidation_0-logloss:0.58575\n",
            "[96]\tvalidation_0-logloss:0.58559\n",
            "[97]\tvalidation_0-logloss:0.58545\n",
            "[98]\tvalidation_0-logloss:0.58530\n",
            "[99]\tvalidation_0-logloss:0.58517\n",
            "[100]\tvalidation_0-logloss:0.58501\n",
            "[101]\tvalidation_0-logloss:0.58488\n",
            "[102]\tvalidation_0-logloss:0.58474\n",
            "[103]\tvalidation_0-logloss:0.58464\n",
            "[104]\tvalidation_0-logloss:0.58451\n",
            "[105]\tvalidation_0-logloss:0.58440\n",
            "[106]\tvalidation_0-logloss:0.58428\n",
            "[107]\tvalidation_0-logloss:0.58418\n",
            "[108]\tvalidation_0-logloss:0.58404\n",
            "[109]\tvalidation_0-logloss:0.58393\n",
            "[110]\tvalidation_0-logloss:0.58379\n",
            "[111]\tvalidation_0-logloss:0.58366\n",
            "[112]\tvalidation_0-logloss:0.58355\n",
            "[113]\tvalidation_0-logloss:0.58345\n",
            "[114]\tvalidation_0-logloss:0.58333\n",
            "[115]\tvalidation_0-logloss:0.58323\n",
            "[116]\tvalidation_0-logloss:0.58312\n",
            "[117]\tvalidation_0-logloss:0.58299\n",
            "[118]\tvalidation_0-logloss:0.58288\n",
            "[119]\tvalidation_0-logloss:0.58278\n",
            "[120]\tvalidation_0-logloss:0.58267\n",
            "[121]\tvalidation_0-logloss:0.58258\n",
            "[122]\tvalidation_0-logloss:0.58244\n",
            "[123]\tvalidation_0-logloss:0.58232\n",
            "[124]\tvalidation_0-logloss:0.58224\n",
            "[125]\tvalidation_0-logloss:0.58216\n",
            "[126]\tvalidation_0-logloss:0.58207\n",
            "[127]\tvalidation_0-logloss:0.58199\n",
            "[128]\tvalidation_0-logloss:0.58190\n",
            "[129]\tvalidation_0-logloss:0.58181\n",
            "[130]\tvalidation_0-logloss:0.58170\n",
            "[131]\tvalidation_0-logloss:0.58158\n",
            "[132]\tvalidation_0-logloss:0.58150\n",
            "[133]\tvalidation_0-logloss:0.58143\n",
            "[134]\tvalidation_0-logloss:0.58135\n",
            "[135]\tvalidation_0-logloss:0.58126\n",
            "[136]\tvalidation_0-logloss:0.58114\n",
            "[137]\tvalidation_0-logloss:0.58103\n",
            "[138]\tvalidation_0-logloss:0.58096\n",
            "[139]\tvalidation_0-logloss:0.58087\n",
            "[140]\tvalidation_0-logloss:0.58077\n",
            "[141]\tvalidation_0-logloss:0.58070\n",
            "[142]\tvalidation_0-logloss:0.58059\n",
            "[143]\tvalidation_0-logloss:0.58052\n",
            "[144]\tvalidation_0-logloss:0.58042\n",
            "[145]\tvalidation_0-logloss:0.58035\n",
            "[146]\tvalidation_0-logloss:0.58025\n",
            "[147]\tvalidation_0-logloss:0.58017\n",
            "[148]\tvalidation_0-logloss:0.58010\n",
            "[149]\tvalidation_0-logloss:0.58003\n",
            "[150]\tvalidation_0-logloss:0.57995\n",
            "[151]\tvalidation_0-logloss:0.57987\n",
            "[152]\tvalidation_0-logloss:0.57978\n",
            "[153]\tvalidation_0-logloss:0.57972\n",
            "[154]\tvalidation_0-logloss:0.57966\n",
            "[155]\tvalidation_0-logloss:0.57958\n",
            "[156]\tvalidation_0-logloss:0.57951\n",
            "[157]\tvalidation_0-logloss:0.57946\n",
            "[158]\tvalidation_0-logloss:0.57939\n",
            "[159]\tvalidation_0-logloss:0.57934\n",
            "[160]\tvalidation_0-logloss:0.57928\n",
            "[161]\tvalidation_0-logloss:0.57921\n",
            "[162]\tvalidation_0-logloss:0.57914\n",
            "[163]\tvalidation_0-logloss:0.57907\n",
            "[164]\tvalidation_0-logloss:0.57899\n",
            "[165]\tvalidation_0-logloss:0.57892\n",
            "[166]\tvalidation_0-logloss:0.57887\n",
            "[167]\tvalidation_0-logloss:0.57881\n",
            "[168]\tvalidation_0-logloss:0.57871\n",
            "[169]\tvalidation_0-logloss:0.57866\n",
            "[170]\tvalidation_0-logloss:0.57861\n",
            "[171]\tvalidation_0-logloss:0.57849\n",
            "[172]\tvalidation_0-logloss:0.57840\n",
            "[173]\tvalidation_0-logloss:0.57834\n",
            "[174]\tvalidation_0-logloss:0.57828\n",
            "[175]\tvalidation_0-logloss:0.57819\n",
            "[176]\tvalidation_0-logloss:0.57816\n",
            "[177]\tvalidation_0-logloss:0.57804\n",
            "[178]\tvalidation_0-logloss:0.57799\n",
            "[179]\tvalidation_0-logloss:0.57789\n",
            "[180]\tvalidation_0-logloss:0.57785\n",
            "[181]\tvalidation_0-logloss:0.57779\n",
            "[182]\tvalidation_0-logloss:0.57775\n",
            "[183]\tvalidation_0-logloss:0.57765\n",
            "[184]\tvalidation_0-logloss:0.57760\n",
            "[185]\tvalidation_0-logloss:0.57753\n",
            "[186]\tvalidation_0-logloss:0.57744\n",
            "[187]\tvalidation_0-logloss:0.57736\n",
            "[188]\tvalidation_0-logloss:0.57730\n",
            "[189]\tvalidation_0-logloss:0.57722\n",
            "[190]\tvalidation_0-logloss:0.57716\n",
            "[191]\tvalidation_0-logloss:0.57713\n",
            "[192]\tvalidation_0-logloss:0.57707\n",
            "[193]\tvalidation_0-logloss:0.57698\n",
            "[194]\tvalidation_0-logloss:0.57695\n",
            "[195]\tvalidation_0-logloss:0.57686\n",
            "[196]\tvalidation_0-logloss:0.57682\n",
            "[197]\tvalidation_0-logloss:0.57674\n",
            "[198]\tvalidation_0-logloss:0.57668\n",
            "[199]\tvalidation_0-logloss:0.57660\n"
          ]
        },
        {
          "name": "stderr",
          "output_type": "stream",
          "text": [
            "Cross-Validation (accuracy):   0%|           [elapsed: 00:00 left: ?]/Users/eoingaynard/.pyenv/versions/3.10.6/envs/Small-Cap-Scout/lib/python3.10/site-packages/xgboost/core.py:158: UserWarning: [23:43:00] WARNING: /Users/runner/work/xgboost/xgboost/src/learner.cc:740: \n",
            "Parameters: { \"verbose\" } are not used.\n",
            "\n",
            "  warnings.warn(smsg, UserWarning)\n",
            "/Users/eoingaynard/.pyenv/versions/3.10.6/envs/Small-Cap-Scout/lib/python3.10/site-packages/xgboost/core.py:158: UserWarning: [23:43:02] WARNING: /Users/runner/work/xgboost/xgboost/src/learner.cc:740: \n",
            "Parameters: { \"verbose\" } are not used.\n",
            "\n",
            "  warnings.warn(smsg, UserWarning)\n",
            "/Users/eoingaynard/.pyenv/versions/3.10.6/envs/Small-Cap-Scout/lib/python3.10/site-packages/xgboost/core.py:158: UserWarning: [23:43:03] WARNING: /Users/runner/work/xgboost/xgboost/src/learner.cc:740: \n",
            "Parameters: { \"verbose\" } are not used.\n",
            "\n",
            "  warnings.warn(smsg, UserWarning)\n",
            "/Users/eoingaynard/.pyenv/versions/3.10.6/envs/Small-Cap-Scout/lib/python3.10/site-packages/xgboost/core.py:158: UserWarning: [23:43:04] WARNING: /Users/runner/work/xgboost/xgboost/src/learner.cc:740: \n",
            "Parameters: { \"verbose\" } are not used.\n",
            "\n",
            "  warnings.warn(smsg, UserWarning)\n",
            "/Users/eoingaynard/.pyenv/versions/3.10.6/envs/Small-Cap-Scout/lib/python3.10/site-packages/xgboost/core.py:158: UserWarning: [23:43:05] WARNING: /Users/runner/work/xgboost/xgboost/src/learner.cc:740: \n",
            "Parameters: { \"verbose\" } are not used.\n",
            "\n",
            "  warnings.warn(smsg, UserWarning)\n",
            "Cross-Validation (accuracy): 100%|██████████ [elapsed: 00:06 left: 00:00]\n",
            "Cross-Validation (precision):   0%|           [elapsed: 00:00 left: ?]/Users/eoingaynard/.pyenv/versions/3.10.6/envs/Small-Cap-Scout/lib/python3.10/site-packages/xgboost/core.py:158: UserWarning: [23:43:07] WARNING: /Users/runner/work/xgboost/xgboost/src/learner.cc:740: \n",
            "Parameters: { \"verbose\" } are not used.\n",
            "\n",
            "  warnings.warn(smsg, UserWarning)\n",
            "/Users/eoingaynard/.pyenv/versions/3.10.6/envs/Small-Cap-Scout/lib/python3.10/site-packages/xgboost/core.py:158: UserWarning: [23:43:08] WARNING: /Users/runner/work/xgboost/xgboost/src/learner.cc:740: \n",
            "Parameters: { \"verbose\" } are not used.\n",
            "\n",
            "  warnings.warn(smsg, UserWarning)\n",
            "/Users/eoingaynard/.pyenv/versions/3.10.6/envs/Small-Cap-Scout/lib/python3.10/site-packages/xgboost/core.py:158: UserWarning: [23:43:09] WARNING: /Users/runner/work/xgboost/xgboost/src/learner.cc:740: \n",
            "Parameters: { \"verbose\" } are not used.\n",
            "\n",
            "  warnings.warn(smsg, UserWarning)\n",
            "/Users/eoingaynard/.pyenv/versions/3.10.6/envs/Small-Cap-Scout/lib/python3.10/site-packages/xgboost/core.py:158: UserWarning: [23:43:10] WARNING: /Users/runner/work/xgboost/xgboost/src/learner.cc:740: \n",
            "Parameters: { \"verbose\" } are not used.\n",
            "\n",
            "  warnings.warn(smsg, UserWarning)\n",
            "/Users/eoingaynard/.pyenv/versions/3.10.6/envs/Small-Cap-Scout/lib/python3.10/site-packages/xgboost/core.py:158: UserWarning: [23:43:12] WARNING: /Users/runner/work/xgboost/xgboost/src/learner.cc:740: \n",
            "Parameters: { \"verbose\" } are not used.\n",
            "\n",
            "  warnings.warn(smsg, UserWarning)\n",
            "Cross-Validation (precision): 100%|██████████ [elapsed: 00:06 left: 00:00]\n",
            "Cross-Validation (recall):   0%|           [elapsed: 00:00 left: ?]/Users/eoingaynard/.pyenv/versions/3.10.6/envs/Small-Cap-Scout/lib/python3.10/site-packages/xgboost/core.py:158: UserWarning: [23:43:13] WARNING: /Users/runner/work/xgboost/xgboost/src/learner.cc:740: \n",
            "Parameters: { \"verbose\" } are not used.\n",
            "\n",
            "  warnings.warn(smsg, UserWarning)\n",
            "/Users/eoingaynard/.pyenv/versions/3.10.6/envs/Small-Cap-Scout/lib/python3.10/site-packages/xgboost/core.py:158: UserWarning: [23:43:14] WARNING: /Users/runner/work/xgboost/xgboost/src/learner.cc:740: \n",
            "Parameters: { \"verbose\" } are not used.\n",
            "\n",
            "  warnings.warn(smsg, UserWarning)\n",
            "/Users/eoingaynard/.pyenv/versions/3.10.6/envs/Small-Cap-Scout/lib/python3.10/site-packages/xgboost/core.py:158: UserWarning: [23:43:15] WARNING: /Users/runner/work/xgboost/xgboost/src/learner.cc:740: \n",
            "Parameters: { \"verbose\" } are not used.\n",
            "\n",
            "  warnings.warn(smsg, UserWarning)\n",
            "/Users/eoingaynard/.pyenv/versions/3.10.6/envs/Small-Cap-Scout/lib/python3.10/site-packages/xgboost/core.py:158: UserWarning: [23:43:17] WARNING: /Users/runner/work/xgboost/xgboost/src/learner.cc:740: \n",
            "Parameters: { \"verbose\" } are not used.\n",
            "\n",
            "  warnings.warn(smsg, UserWarning)\n",
            "/Users/eoingaynard/.pyenv/versions/3.10.6/envs/Small-Cap-Scout/lib/python3.10/site-packages/xgboost/core.py:158: UserWarning: [23:43:18] WARNING: /Users/runner/work/xgboost/xgboost/src/learner.cc:740: \n",
            "Parameters: { \"verbose\" } are not used.\n",
            "\n",
            "  warnings.warn(smsg, UserWarning)\n",
            "Cross-Validation (recall): 100%|██████████ [elapsed: 00:06 left: 00:00]\n",
            "Cross-Validation (f1):   0%|           [elapsed: 00:00 left: ?]/Users/eoingaynard/.pyenv/versions/3.10.6/envs/Small-Cap-Scout/lib/python3.10/site-packages/xgboost/core.py:158: UserWarning: [23:43:19] WARNING: /Users/runner/work/xgboost/xgboost/src/learner.cc:740: \n",
            "Parameters: { \"verbose\" } are not used.\n",
            "\n",
            "  warnings.warn(smsg, UserWarning)\n",
            "/Users/eoingaynard/.pyenv/versions/3.10.6/envs/Small-Cap-Scout/lib/python3.10/site-packages/xgboost/core.py:158: UserWarning: [23:43:21] WARNING: /Users/runner/work/xgboost/xgboost/src/learner.cc:740: \n",
            "Parameters: { \"verbose\" } are not used.\n",
            "\n",
            "  warnings.warn(smsg, UserWarning)\n",
            "/Users/eoingaynard/.pyenv/versions/3.10.6/envs/Small-Cap-Scout/lib/python3.10/site-packages/xgboost/core.py:158: UserWarning: [23:43:22] WARNING: /Users/runner/work/xgboost/xgboost/src/learner.cc:740: \n",
            "Parameters: { \"verbose\" } are not used.\n",
            "\n",
            "  warnings.warn(smsg, UserWarning)\n",
            "/Users/eoingaynard/.pyenv/versions/3.10.6/envs/Small-Cap-Scout/lib/python3.10/site-packages/xgboost/core.py:158: UserWarning: [23:43:23] WARNING: /Users/runner/work/xgboost/xgboost/src/learner.cc:740: \n",
            "Parameters: { \"verbose\" } are not used.\n",
            "\n",
            "  warnings.warn(smsg, UserWarning)\n",
            "/Users/eoingaynard/.pyenv/versions/3.10.6/envs/Small-Cap-Scout/lib/python3.10/site-packages/xgboost/core.py:158: UserWarning: [23:43:25] WARNING: /Users/runner/work/xgboost/xgboost/src/learner.cc:740: \n",
            "Parameters: { \"verbose\" } are not used.\n",
            "\n",
            "  warnings.warn(smsg, UserWarning)\n",
            "Cross-Validation (f1): 100%|██████████ [elapsed: 00:06 left: 00:00]"
          ]
        },
        {
          "name": "stdout",
          "output_type": "stream",
          "text": [
            "Cross-validated Metrics: accuracy: 0.7091, precision: 0.6842, recall: 0.0282, f1: 0.0538\n",
            "Model saved to: ~/models/xgb_classifier_2024-09-11_23-43-26.pkl\n"
          ]
        },
        {
          "name": "stderr",
          "output_type": "stream",
          "text": [
            "\n"
          ]
        }
      ],
      "source": [
        "y_pred_yr_xgb, model_yr_xgb = train_xgb_and_save(X_train_yr_processed, y_train_yr, X_test_yr_processed, y_test_yr)"
      ]
    },
    {
      "cell_type": "code",
      "execution_count": 274,
      "metadata": {},
      "outputs": [
        {
          "name": "stdout",
          "output_type": "stream",
          "text": [
            "[0]\tvalidation_0-logloss:0.60455\n",
            "[1]\tvalidation_0-logloss:0.60405\n",
            "[2]\tvalidation_0-logloss:0.60357\n",
            "[3]\tvalidation_0-logloss:0.60310\n",
            "[4]\tvalidation_0-logloss:0.60263\n",
            "[5]\tvalidation_0-logloss:0.60217\n",
            "[6]\tvalidation_0-logloss:0.60172\n",
            "[7]\tvalidation_0-logloss:0.60129\n",
            "[8]\tvalidation_0-logloss:0.60086\n",
            "[9]\tvalidation_0-logloss:0.60044\n",
            "[10]\tvalidation_0-logloss:0.60002\n",
            "[11]\tvalidation_0-logloss:0.59961\n",
            "[12]\tvalidation_0-logloss:0.59920\n",
            "[13]\tvalidation_0-logloss:0.59881\n",
            "[14]\tvalidation_0-logloss:0.59841\n",
            "[15]\tvalidation_0-logloss:0.59802\n"
          ]
        },
        {
          "name": "stderr",
          "output_type": "stream",
          "text": [
            "/Users/eoingaynard/.pyenv/versions/3.10.6/envs/Small-Cap-Scout/lib/python3.10/site-packages/xgboost/core.py:158: UserWarning: [23:43:51] WARNING: /Users/runner/work/xgboost/xgboost/src/learner.cc:740: \n",
            "Parameters: { \"verbose\" } are not used.\n",
            "\n",
            "  warnings.warn(smsg, UserWarning)\n"
          ]
        },
        {
          "name": "stdout",
          "output_type": "stream",
          "text": [
            "[16]\tvalidation_0-logloss:0.59765\n",
            "[17]\tvalidation_0-logloss:0.59727\n",
            "[18]\tvalidation_0-logloss:0.59690\n",
            "[19]\tvalidation_0-logloss:0.59655\n",
            "[20]\tvalidation_0-logloss:0.59620\n",
            "[21]\tvalidation_0-logloss:0.59585\n",
            "[22]\tvalidation_0-logloss:0.59551\n",
            "[23]\tvalidation_0-logloss:0.59517\n",
            "[24]\tvalidation_0-logloss:0.59485\n",
            "[25]\tvalidation_0-logloss:0.59452\n",
            "[26]\tvalidation_0-logloss:0.59419\n",
            "[27]\tvalidation_0-logloss:0.59388\n",
            "[28]\tvalidation_0-logloss:0.59356\n",
            "[29]\tvalidation_0-logloss:0.59325\n",
            "[30]\tvalidation_0-logloss:0.59295\n",
            "[31]\tvalidation_0-logloss:0.59265\n",
            "[32]\tvalidation_0-logloss:0.59235\n",
            "[33]\tvalidation_0-logloss:0.59207\n",
            "[34]\tvalidation_0-logloss:0.59179\n",
            "[35]\tvalidation_0-logloss:0.59152\n",
            "[36]\tvalidation_0-logloss:0.59124\n",
            "[37]\tvalidation_0-logloss:0.59097\n",
            "[38]\tvalidation_0-logloss:0.59071\n",
            "[39]\tvalidation_0-logloss:0.59047\n",
            "[40]\tvalidation_0-logloss:0.59021\n",
            "[41]\tvalidation_0-logloss:0.58996\n",
            "[42]\tvalidation_0-logloss:0.58969\n",
            "[43]\tvalidation_0-logloss:0.58946\n",
            "[44]\tvalidation_0-logloss:0.58922\n",
            "[45]\tvalidation_0-logloss:0.58898\n",
            "[46]\tvalidation_0-logloss:0.58874\n",
            "[47]\tvalidation_0-logloss:0.58853\n",
            "[48]\tvalidation_0-logloss:0.58830\n",
            "[49]\tvalidation_0-logloss:0.58806\n",
            "[50]\tvalidation_0-logloss:0.58785\n",
            "[51]\tvalidation_0-logloss:0.58763\n",
            "[52]\tvalidation_0-logloss:0.58739\n",
            "[53]\tvalidation_0-logloss:0.58716\n",
            "[54]\tvalidation_0-logloss:0.58693\n",
            "[55]\tvalidation_0-logloss:0.58671\n",
            "[56]\tvalidation_0-logloss:0.58652\n",
            "[57]\tvalidation_0-logloss:0.58631\n",
            "[58]\tvalidation_0-logloss:0.58608\n",
            "[59]\tvalidation_0-logloss:0.58587\n",
            "[60]\tvalidation_0-logloss:0.58570\n",
            "[61]\tvalidation_0-logloss:0.58549\n",
            "[62]\tvalidation_0-logloss:0.58528\n",
            "[63]\tvalidation_0-logloss:0.58508\n",
            "[64]\tvalidation_0-logloss:0.58488\n",
            "[65]\tvalidation_0-logloss:0.58469\n",
            "[66]\tvalidation_0-logloss:0.58450\n",
            "[67]\tvalidation_0-logloss:0.58430\n",
            "[68]\tvalidation_0-logloss:0.58412\n",
            "[69]\tvalidation_0-logloss:0.58393\n",
            "[70]\tvalidation_0-logloss:0.58376\n",
            "[71]\tvalidation_0-logloss:0.58359\n",
            "[72]\tvalidation_0-logloss:0.58341\n",
            "[73]\tvalidation_0-logloss:0.58323\n",
            "[74]\tvalidation_0-logloss:0.58307\n",
            "[75]\tvalidation_0-logloss:0.58291\n",
            "[76]\tvalidation_0-logloss:0.58274\n",
            "[77]\tvalidation_0-logloss:0.58259\n",
            "[78]\tvalidation_0-logloss:0.58240\n",
            "[79]\tvalidation_0-logloss:0.58224\n",
            "[80]\tvalidation_0-logloss:0.58205\n",
            "[81]\tvalidation_0-logloss:0.58187\n",
            "[82]\tvalidation_0-logloss:0.58169\n",
            "[83]\tvalidation_0-logloss:0.58154\n",
            "[84]\tvalidation_0-logloss:0.58140\n",
            "[85]\tvalidation_0-logloss:0.58125\n",
            "[86]\tvalidation_0-logloss:0.58108\n",
            "[87]\tvalidation_0-logloss:0.58092\n",
            "[88]\tvalidation_0-logloss:0.58075\n",
            "[89]\tvalidation_0-logloss:0.58059\n",
            "[90]\tvalidation_0-logloss:0.58046\n",
            "[91]\tvalidation_0-logloss:0.58033\n",
            "[92]\tvalidation_0-logloss:0.58017\n",
            "[93]\tvalidation_0-logloss:0.58003\n",
            "[94]\tvalidation_0-logloss:0.57989\n",
            "[95]\tvalidation_0-logloss:0.57978\n",
            "[96]\tvalidation_0-logloss:0.57965\n",
            "[97]\tvalidation_0-logloss:0.57951\n",
            "[98]\tvalidation_0-logloss:0.57937\n",
            "[99]\tvalidation_0-logloss:0.57925\n",
            "[100]\tvalidation_0-logloss:0.57912\n",
            "[101]\tvalidation_0-logloss:0.57900\n",
            "[102]\tvalidation_0-logloss:0.57887\n",
            "[103]\tvalidation_0-logloss:0.57875\n",
            "[104]\tvalidation_0-logloss:0.57863\n",
            "[105]\tvalidation_0-logloss:0.57853\n",
            "[106]\tvalidation_0-logloss:0.57841\n",
            "[107]\tvalidation_0-logloss:0.57829\n",
            "[108]\tvalidation_0-logloss:0.57816\n",
            "[109]\tvalidation_0-logloss:0.57803\n",
            "[110]\tvalidation_0-logloss:0.57793\n",
            "[111]\tvalidation_0-logloss:0.57784\n",
            "[112]\tvalidation_0-logloss:0.57773\n",
            "[113]\tvalidation_0-logloss:0.57760\n",
            "[114]\tvalidation_0-logloss:0.57748\n",
            "[115]\tvalidation_0-logloss:0.57740\n",
            "[116]\tvalidation_0-logloss:0.57729\n",
            "[117]\tvalidation_0-logloss:0.57720\n",
            "[118]\tvalidation_0-logloss:0.57709\n",
            "[119]\tvalidation_0-logloss:0.57698\n",
            "[120]\tvalidation_0-logloss:0.57688\n",
            "[121]\tvalidation_0-logloss:0.57676\n",
            "[122]\tvalidation_0-logloss:0.57663\n",
            "[123]\tvalidation_0-logloss:0.57654\n",
            "[124]\tvalidation_0-logloss:0.57643\n",
            "[125]\tvalidation_0-logloss:0.57631\n",
            "[126]\tvalidation_0-logloss:0.57621\n",
            "[127]\tvalidation_0-logloss:0.57613\n",
            "[128]\tvalidation_0-logloss:0.57603\n",
            "[129]\tvalidation_0-logloss:0.57591\n",
            "[130]\tvalidation_0-logloss:0.57579\n",
            "[131]\tvalidation_0-logloss:0.57570\n",
            "[132]\tvalidation_0-logloss:0.57562\n",
            "[133]\tvalidation_0-logloss:0.57554\n",
            "[134]\tvalidation_0-logloss:0.57545\n",
            "[135]\tvalidation_0-logloss:0.57533\n",
            "[136]\tvalidation_0-logloss:0.57525\n",
            "[137]\tvalidation_0-logloss:0.57516\n",
            "[138]\tvalidation_0-logloss:0.57509\n",
            "[139]\tvalidation_0-logloss:0.57501\n",
            "[140]\tvalidation_0-logloss:0.57489\n",
            "[141]\tvalidation_0-logloss:0.57482\n",
            "[142]\tvalidation_0-logloss:0.57473\n",
            "[143]\tvalidation_0-logloss:0.57459\n",
            "[144]\tvalidation_0-logloss:0.57447\n",
            "[145]\tvalidation_0-logloss:0.57441\n",
            "[146]\tvalidation_0-logloss:0.57433\n",
            "[147]\tvalidation_0-logloss:0.57421\n",
            "[148]\tvalidation_0-logloss:0.57414\n",
            "[149]\tvalidation_0-logloss:0.57407\n",
            "[150]\tvalidation_0-logloss:0.57396\n",
            "[151]\tvalidation_0-logloss:0.57387\n",
            "[152]\tvalidation_0-logloss:0.57375\n",
            "[153]\tvalidation_0-logloss:0.57366\n",
            "[154]\tvalidation_0-logloss:0.57359\n",
            "[155]\tvalidation_0-logloss:0.57348\n",
            "[156]\tvalidation_0-logloss:0.57343\n",
            "[157]\tvalidation_0-logloss:0.57336\n",
            "[158]\tvalidation_0-logloss:0.57327\n",
            "[159]\tvalidation_0-logloss:0.57319\n",
            "[160]\tvalidation_0-logloss:0.57311\n",
            "[161]\tvalidation_0-logloss:0.57303\n",
            "[162]\tvalidation_0-logloss:0.57295\n",
            "[163]\tvalidation_0-logloss:0.57289\n",
            "[164]\tvalidation_0-logloss:0.57284\n",
            "[165]\tvalidation_0-logloss:0.57272\n",
            "[166]\tvalidation_0-logloss:0.57268\n",
            "[167]\tvalidation_0-logloss:0.57256\n",
            "[168]\tvalidation_0-logloss:0.57252\n",
            "[169]\tvalidation_0-logloss:0.57242\n",
            "[170]\tvalidation_0-logloss:0.57231\n",
            "[171]\tvalidation_0-logloss:0.57222\n",
            "[172]\tvalidation_0-logloss:0.57216\n",
            "[173]\tvalidation_0-logloss:0.57212\n",
            "[174]\tvalidation_0-logloss:0.57205\n",
            "[175]\tvalidation_0-logloss:0.57194\n",
            "[176]\tvalidation_0-logloss:0.57188\n",
            "[177]\tvalidation_0-logloss:0.57183\n",
            "[178]\tvalidation_0-logloss:0.57172\n",
            "[179]\tvalidation_0-logloss:0.57163\n",
            "[180]\tvalidation_0-logloss:0.57157\n",
            "[181]\tvalidation_0-logloss:0.57147\n",
            "[182]\tvalidation_0-logloss:0.57139\n",
            "[183]\tvalidation_0-logloss:0.57134\n",
            "[184]\tvalidation_0-logloss:0.57128\n",
            "[185]\tvalidation_0-logloss:0.57121\n",
            "[186]\tvalidation_0-logloss:0.57111\n",
            "[187]\tvalidation_0-logloss:0.57107\n",
            "[188]\tvalidation_0-logloss:0.57097\n",
            "[189]\tvalidation_0-logloss:0.57090\n",
            "[190]\tvalidation_0-logloss:0.57087\n",
            "[191]\tvalidation_0-logloss:0.57079\n",
            "[192]\tvalidation_0-logloss:0.57075\n",
            "[193]\tvalidation_0-logloss:0.57066\n",
            "[194]\tvalidation_0-logloss:0.57061\n",
            "[195]\tvalidation_0-logloss:0.57052\n",
            "[196]\tvalidation_0-logloss:0.57049\n",
            "[197]\tvalidation_0-logloss:0.57042\n",
            "[198]\tvalidation_0-logloss:0.57035\n",
            "[199]\tvalidation_0-logloss:0.57031\n"
          ]
        },
        {
          "name": "stderr",
          "output_type": "stream",
          "text": [
            "Cross-Validation (accuracy):   0%|           [elapsed: 00:00 left: ?]/Users/eoingaynard/.pyenv/versions/3.10.6/envs/Small-Cap-Scout/lib/python3.10/site-packages/xgboost/core.py:158: UserWarning: [23:43:54] WARNING: /Users/runner/work/xgboost/xgboost/src/learner.cc:740: \n",
            "Parameters: { \"verbose\" } are not used.\n",
            "\n",
            "  warnings.warn(smsg, UserWarning)\n",
            "/Users/eoingaynard/.pyenv/versions/3.10.6/envs/Small-Cap-Scout/lib/python3.10/site-packages/xgboost/core.py:158: UserWarning: [23:43:55] WARNING: /Users/runner/work/xgboost/xgboost/src/learner.cc:740: \n",
            "Parameters: { \"verbose\" } are not used.\n",
            "\n",
            "  warnings.warn(smsg, UserWarning)\n",
            "/Users/eoingaynard/.pyenv/versions/3.10.6/envs/Small-Cap-Scout/lib/python3.10/site-packages/xgboost/core.py:158: UserWarning: [23:43:57] WARNING: /Users/runner/work/xgboost/xgboost/src/learner.cc:740: \n",
            "Parameters: { \"verbose\" } are not used.\n",
            "\n",
            "  warnings.warn(smsg, UserWarning)\n",
            "/Users/eoingaynard/.pyenv/versions/3.10.6/envs/Small-Cap-Scout/lib/python3.10/site-packages/xgboost/core.py:158: UserWarning: [23:43:58] WARNING: /Users/runner/work/xgboost/xgboost/src/learner.cc:740: \n",
            "Parameters: { \"verbose\" } are not used.\n",
            "\n",
            "  warnings.warn(smsg, UserWarning)\n",
            "/Users/eoingaynard/.pyenv/versions/3.10.6/envs/Small-Cap-Scout/lib/python3.10/site-packages/xgboost/core.py:158: UserWarning: [23:43:59] WARNING: /Users/runner/work/xgboost/xgboost/src/learner.cc:740: \n",
            "Parameters: { \"verbose\" } are not used.\n",
            "\n",
            "  warnings.warn(smsg, UserWarning)\n",
            "Cross-Validation (accuracy): 100%|██████████ [elapsed: 00:06 left: 00:00]\n",
            "Cross-Validation (precision):   0%|           [elapsed: 00:00 left: ?]/Users/eoingaynard/.pyenv/versions/3.10.6/envs/Small-Cap-Scout/lib/python3.10/site-packages/xgboost/core.py:158: UserWarning: [23:44:00] WARNING: /Users/runner/work/xgboost/xgboost/src/learner.cc:740: \n",
            "Parameters: { \"verbose\" } are not used.\n",
            "\n",
            "  warnings.warn(smsg, UserWarning)\n",
            "/Users/eoingaynard/.pyenv/versions/3.10.6/envs/Small-Cap-Scout/lib/python3.10/site-packages/xgboost/core.py:158: UserWarning: [23:44:02] WARNING: /Users/runner/work/xgboost/xgboost/src/learner.cc:740: \n",
            "Parameters: { \"verbose\" } are not used.\n",
            "\n",
            "  warnings.warn(smsg, UserWarning)\n",
            "/Users/eoingaynard/.pyenv/versions/3.10.6/envs/Small-Cap-Scout/lib/python3.10/site-packages/xgboost/core.py:158: UserWarning: [23:44:03] WARNING: /Users/runner/work/xgboost/xgboost/src/learner.cc:740: \n",
            "Parameters: { \"verbose\" } are not used.\n",
            "\n",
            "  warnings.warn(smsg, UserWarning)\n",
            "/Users/eoingaynard/.pyenv/versions/3.10.6/envs/Small-Cap-Scout/lib/python3.10/site-packages/xgboost/core.py:158: UserWarning: [23:44:04] WARNING: /Users/runner/work/xgboost/xgboost/src/learner.cc:740: \n",
            "Parameters: { \"verbose\" } are not used.\n",
            "\n",
            "  warnings.warn(smsg, UserWarning)\n",
            "/Users/eoingaynard/.pyenv/versions/3.10.6/envs/Small-Cap-Scout/lib/python3.10/site-packages/xgboost/core.py:158: UserWarning: [23:44:05] WARNING: /Users/runner/work/xgboost/xgboost/src/learner.cc:740: \n",
            "Parameters: { \"verbose\" } are not used.\n",
            "\n",
            "  warnings.warn(smsg, UserWarning)\n",
            "Cross-Validation (precision): 100%|██████████ [elapsed: 00:06 left: 00:00]\n",
            "Cross-Validation (recall):   0%|           [elapsed: 00:00 left: ?]/Users/eoingaynard/.pyenv/versions/3.10.6/envs/Small-Cap-Scout/lib/python3.10/site-packages/xgboost/core.py:158: UserWarning: [23:44:07] WARNING: /Users/runner/work/xgboost/xgboost/src/learner.cc:740: \n",
            "Parameters: { \"verbose\" } are not used.\n",
            "\n",
            "  warnings.warn(smsg, UserWarning)\n",
            "/Users/eoingaynard/.pyenv/versions/3.10.6/envs/Small-Cap-Scout/lib/python3.10/site-packages/xgboost/core.py:158: UserWarning: [23:44:08] WARNING: /Users/runner/work/xgboost/xgboost/src/learner.cc:740: \n",
            "Parameters: { \"verbose\" } are not used.\n",
            "\n",
            "  warnings.warn(smsg, UserWarning)\n",
            "/Users/eoingaynard/.pyenv/versions/3.10.6/envs/Small-Cap-Scout/lib/python3.10/site-packages/xgboost/core.py:158: UserWarning: [23:44:09] WARNING: /Users/runner/work/xgboost/xgboost/src/learner.cc:740: \n",
            "Parameters: { \"verbose\" } are not used.\n",
            "\n",
            "  warnings.warn(smsg, UserWarning)\n",
            "/Users/eoingaynard/.pyenv/versions/3.10.6/envs/Small-Cap-Scout/lib/python3.10/site-packages/xgboost/core.py:158: UserWarning: [23:44:11] WARNING: /Users/runner/work/xgboost/xgboost/src/learner.cc:740: \n",
            "Parameters: { \"verbose\" } are not used.\n",
            "\n",
            "  warnings.warn(smsg, UserWarning)\n",
            "/Users/eoingaynard/.pyenv/versions/3.10.6/envs/Small-Cap-Scout/lib/python3.10/site-packages/xgboost/core.py:158: UserWarning: [23:44:12] WARNING: /Users/runner/work/xgboost/xgboost/src/learner.cc:740: \n",
            "Parameters: { \"verbose\" } are not used.\n",
            "\n",
            "  warnings.warn(smsg, UserWarning)\n",
            "Cross-Validation (recall): 100%|██████████ [elapsed: 00:06 left: 00:00]\n",
            "Cross-Validation (f1):   0%|           [elapsed: 00:00 left: ?]/Users/eoingaynard/.pyenv/versions/3.10.6/envs/Small-Cap-Scout/lib/python3.10/site-packages/xgboost/core.py:158: UserWarning: [23:44:13] WARNING: /Users/runner/work/xgboost/xgboost/src/learner.cc:740: \n",
            "Parameters: { \"verbose\" } are not used.\n",
            "\n",
            "  warnings.warn(smsg, UserWarning)\n",
            "/Users/eoingaynard/.pyenv/versions/3.10.6/envs/Small-Cap-Scout/lib/python3.10/site-packages/xgboost/core.py:158: UserWarning: [23:44:14] WARNING: /Users/runner/work/xgboost/xgboost/src/learner.cc:740: \n",
            "Parameters: { \"verbose\" } are not used.\n",
            "\n",
            "  warnings.warn(smsg, UserWarning)\n",
            "/Users/eoingaynard/.pyenv/versions/3.10.6/envs/Small-Cap-Scout/lib/python3.10/site-packages/xgboost/core.py:158: UserWarning: [23:44:16] WARNING: /Users/runner/work/xgboost/xgboost/src/learner.cc:740: \n",
            "Parameters: { \"verbose\" } are not used.\n",
            "\n",
            "  warnings.warn(smsg, UserWarning)\n",
            "/Users/eoingaynard/.pyenv/versions/3.10.6/envs/Small-Cap-Scout/lib/python3.10/site-packages/xgboost/core.py:158: UserWarning: [23:44:17] WARNING: /Users/runner/work/xgboost/xgboost/src/learner.cc:740: \n",
            "Parameters: { \"verbose\" } are not used.\n",
            "\n",
            "  warnings.warn(smsg, UserWarning)\n",
            "/Users/eoingaynard/.pyenv/versions/3.10.6/envs/Small-Cap-Scout/lib/python3.10/site-packages/xgboost/core.py:158: UserWarning: [23:44:18] WARNING: /Users/runner/work/xgboost/xgboost/src/learner.cc:740: \n",
            "Parameters: { \"verbose\" } are not used.\n",
            "\n",
            "  warnings.warn(smsg, UserWarning)\n",
            "Cross-Validation (f1): 100%|██████████ [elapsed: 00:06 left: 00:00]"
          ]
        },
        {
          "name": "stdout",
          "output_type": "stream",
          "text": [
            "Cross-validated Metrics: accuracy: 0.7083, precision: 0.6962, recall: 0.0363, f1: 0.0682\n",
            "Model saved to: ~/models/xgb_classifier_2024-09-11_23-44-19.pkl\n"
          ]
        },
        {
          "name": "stderr",
          "output_type": "stream",
          "text": [
            "\n"
          ]
        }
      ],
      "source": [
        "y_pred_2yr_xgb, model_2yr_xgb = train_xgb_and_save(X_train_2yr_processed, y_train_2yr, X_test_2yr_processed, y_test_2yr)"
      ]
    },
    {
      "cell_type": "code",
      "execution_count": null,
      "metadata": {},
      "outputs": [
        {
          "name": "stderr",
          "output_type": "stream",
          "text": [
            "Cross-Validation: 100%|██████████ [elapsed: 00:04 left: 00:00]\n"
          ]
        }
      ],
      "source": [
        "\"\"\"Evaluates the model with cross-validation and test set metrics.\"\"\"\n",
        "'''with tqdm(total=5, desc=f\"Cross-Validation\", bar_format='{l_bar}{bar} [elapsed: {elapsed} left: {remaining}]') as pbar:\n",
        "    cv_metrics = cross_validate(SVC(kernel = 'rbf', class_weight='balanced'), X_train_qtr_processed[:10000], y_train_qtr[:10000], cv=3, scoring=['accuracy', 'precision', 'recall', 'f1'])\n",
        "    pbar.update(5)\n",
        "\n",
        "    #print(f\"Cross-validated Metrics: {', '.join([f'{m}: {cv_metrics.mean():.4f}' for m in cv_metrics])}\")'''"
      ]
    },
    {
      "cell_type": "code",
      "execution_count": null,
      "metadata": {},
      "outputs": [],
      "source": []
    },
    {
      "cell_type": "code",
      "execution_count": 31,
      "metadata": {},
      "outputs": [
        {
          "name": "stderr",
          "output_type": "stream",
          "text": [
            "Training knn: 100%|██████████ [elapsed: 00:00 left: 00:00]\n",
            "Cross-Validation (accuracy): 100%|██████████ [elapsed: 00:12 left: 00:00]\n",
            "Cross-Validation (precision): 100%|██████████ [elapsed: 00:11 left: 00:00]\n",
            "Cross-Validation (recall): 100%|██████████ [elapsed: 00:12 left: 00:00]\n",
            "Cross-Validation (f1): 100%|██████████ [elapsed: 00:12 left: 00:00]\n"
          ]
        },
        {
          "name": "stdout",
          "output_type": "stream",
          "text": [
            "Cross-validated Metrics: accuracy: 0.7477, precision: 0.4056, recall: 0.2794, f1: 0.3283\n",
            "Model saved to: ~/models/knn_2024-09-11_15-50-38.pkl\n"
          ]
        }
      ],
      "source": [
        "y_pred_qtr_knn, model_qtr_knn = train_knn_and_save(X_train_qtr_processed, y_train_qtr, X_test_qtr_processed, y_test_qtr)"
      ]
    },
    {
      "cell_type": "code",
      "execution_count": 129,
      "metadata": {},
      "outputs": [
        {
          "name": "stderr",
          "output_type": "stream",
          "text": [
            "Training knn: 100%|██████████ [elapsed: 00:00 left: 00:00]\n",
            "Cross-Validation (accuracy): 100%|██████████ [elapsed: 00:11 left: 00:00]\n",
            "Cross-Validation (precision): 100%|██████████ [elapsed: 00:11 left: 00:00]\n",
            "Cross-Validation (recall): 100%|██████████ [elapsed: 00:11 left: 00:00]\n",
            "Cross-Validation (f1): 100%|██████████ [elapsed: 00:12 left: 00:00]\n"
          ]
        },
        {
          "name": "stdout",
          "output_type": "stream",
          "text": [
            "Cross-validated Metrics: accuracy: 0.7298, precision: 0.3303, recall: 0.2014, f1: 0.2469\n",
            "Model saved to: ~/models/knn_2024-09-11_12-31-40.pkl\n"
          ]
        }
      ],
      "source": [
        "y_pred_yr_knn, model_yr_knn = train_knn_and_save(X_train_yr_processed, y_train_yr, X_test_yr_processed, y_test_yr)"
      ]
    },
    {
      "cell_type": "code",
      "execution_count": 130,
      "metadata": {},
      "outputs": [
        {
          "name": "stderr",
          "output_type": "stream",
          "text": [
            "Training knn: 100%|██████████ [elapsed: 00:00 left: 00:00]\n",
            "Cross-Validation (accuracy): 100%|██████████ [elapsed: 00:11 left: 00:00]\n",
            "Cross-Validation (precision): 100%|██████████ [elapsed: 00:11 left: 00:00]\n",
            "Cross-Validation (recall): 100%|██████████ [elapsed: 00:11 left: 00:00]\n",
            "Cross-Validation (f1): 100%|██████████ [elapsed: 00:11 left: 00:00]\n"
          ]
        },
        {
          "name": "stdout",
          "output_type": "stream",
          "text": [
            "Cross-validated Metrics: accuracy: 0.7289, precision: 0.3252, recall: 0.1941, f1: 0.2402\n",
            "Model saved to: ~/models/knn_2024-09-11_12-35-40.pkl\n"
          ]
        }
      ],
      "source": [
        "y_pred_2yr_knn, model_2yr_knn = train_knn_and_save(X_train_2yr_processed, y_train_2yr, X_test_2yr_processed, y_test_2yr)"
      ]
    },
    {
      "cell_type": "code",
      "execution_count": 28,
      "metadata": {},
      "outputs": [
        {
          "name": "stderr",
          "output_type": "stream",
          "text": [
            "Cross-Validation: 100%|██████████ [elapsed: 00:04 left: 00:00]\n"
          ]
        }
      ],
      "source": [
        "\"\"\"Evaluates the model with cross-validation and test set metrics.\"\"\"\n",
        "with tqdm(total=5, desc=f\"Cross-Validation\", bar_format='{l_bar}{bar} [elapsed: {elapsed} left: {remaining}]') as pbar:\n",
        "    cv_metrics = cross_validate(SVC(kernel = 'rbf', class_weight='balanced'), X_train_qtr_processed[:10000], y_train_qtr[:10000], cv=3, scoring=['accuracy', 'precision', 'recall', 'f1'])\n",
        "    pbar.update(5)\n",
        "\n",
        "    #print(f\"Cross-validated Metrics: {', '.join([f'{m}: {cv_metrics.mean():.4f}' for m in cv_metrics])}\")"
      ]
    },
    {
      "cell_type": "code",
      "execution_count": 30,
      "metadata": {},
      "outputs": [
        {
          "data": {
            "text/plain": [
              "{'fit_time': array([0.71196508, 0.65307307, 0.65739298]),\n",
              " 'score_time': array([1.00231981, 0.83814096, 0.80731201]),\n",
              " 'test_accuracy': array([0.69406119, 0.64506451, 0.67566757]),\n",
              " 'test_precision': array([0.27086495, 0.25572519, 0.26061915]),\n",
              " 'test_recall': array([0.85817308, 0.9686747 , 0.87019231]),\n",
              " 'test_f1': array([0.41176471, 0.4046301 , 0.40110803])}"
            ]
          },
          "execution_count": 30,
          "metadata": {},
          "output_type": "execute_result"
        }
      ],
      "source": [
        "cv_metrics"
      ]
    },
    {
      "cell_type": "code",
      "execution_count": 29,
      "metadata": {},
      "outputs": [
        {
          "data": {
            "text/html": [
              "<div>\n",
              "<style scoped>\n",
              "    .dataframe tbody tr th:only-of-type {\n",
              "        vertical-align: middle;\n",
              "    }\n",
              "\n",
              "    .dataframe tbody tr th {\n",
              "        vertical-align: top;\n",
              "    }\n",
              "\n",
              "    .dataframe thead th {\n",
              "        text-align: right;\n",
              "    }\n",
              "</style>\n",
              "<table border=\"1\" class=\"dataframe\">\n",
              "  <thead>\n",
              "    <tr style=\"text-align: right;\">\n",
              "      <th></th>\n",
              "      <th>0</th>\n",
              "      <th>1</th>\n",
              "      <th>2</th>\n",
              "      <th>3</th>\n",
              "      <th>4</th>\n",
              "      <th>5</th>\n",
              "      <th>6</th>\n",
              "      <th>7</th>\n",
              "      <th>8</th>\n",
              "      <th>9</th>\n",
              "      <th>...</th>\n",
              "      <th>111</th>\n",
              "      <th>112</th>\n",
              "      <th>113</th>\n",
              "      <th>114</th>\n",
              "      <th>115</th>\n",
              "      <th>116</th>\n",
              "      <th>117</th>\n",
              "      <th>118</th>\n",
              "      <th>119</th>\n",
              "      <th>120</th>\n",
              "    </tr>\n",
              "  </thead>\n",
              "  <tbody>\n",
              "    <tr>\n",
              "      <th>count</th>\n",
              "      <td>120252.000000</td>\n",
              "      <td>120252.000000</td>\n",
              "      <td>120252.000000</td>\n",
              "      <td>120252.000000</td>\n",
              "      <td>120252.000000</td>\n",
              "      <td>120252.000000</td>\n",
              "      <td>120252.000000</td>\n",
              "      <td>120252.000000</td>\n",
              "      <td>120252.000000</td>\n",
              "      <td>120252.000000</td>\n",
              "      <td>...</td>\n",
              "      <td>120252.000000</td>\n",
              "      <td>120252.000000</td>\n",
              "      <td>120252.000000</td>\n",
              "      <td>120252.000000</td>\n",
              "      <td>120252.000000</td>\n",
              "      <td>120252.000000</td>\n",
              "      <td>120252.000000</td>\n",
              "      <td>120252.000000</td>\n",
              "      <td>120252.000000</td>\n",
              "      <td>120252.000000</td>\n",
              "    </tr>\n",
              "    <tr>\n",
              "      <th>mean</th>\n",
              "      <td>0.014093</td>\n",
              "      <td>0.013393</td>\n",
              "      <td>0.001951</td>\n",
              "      <td>0.011064</td>\n",
              "      <td>0.012734</td>\n",
              "      <td>0.012177</td>\n",
              "      <td>0.014410</td>\n",
              "      <td>0.055566</td>\n",
              "      <td>0.055539</td>\n",
              "      <td>0.230144</td>\n",
              "      <td>...</td>\n",
              "      <td>0.000607</td>\n",
              "      <td>0.016781</td>\n",
              "      <td>0.000116</td>\n",
              "      <td>0.000582</td>\n",
              "      <td>0.000374</td>\n",
              "      <td>0.068423</td>\n",
              "      <td>0.250050</td>\n",
              "      <td>0.250823</td>\n",
              "      <td>0.250973</td>\n",
              "      <td>0.248154</td>\n",
              "    </tr>\n",
              "    <tr>\n",
              "      <th>std</th>\n",
              "      <td>0.029071</td>\n",
              "      <td>0.028856</td>\n",
              "      <td>0.013157</td>\n",
              "      <td>0.042425</td>\n",
              "      <td>0.027675</td>\n",
              "      <td>0.026344</td>\n",
              "      <td>0.024527</td>\n",
              "      <td>0.033659</td>\n",
              "      <td>0.033611</td>\n",
              "      <td>0.018101</td>\n",
              "      <td>...</td>\n",
              "      <td>0.024631</td>\n",
              "      <td>0.128452</td>\n",
              "      <td>0.010789</td>\n",
              "      <td>0.024120</td>\n",
              "      <td>0.019341</td>\n",
              "      <td>0.252471</td>\n",
              "      <td>0.433043</td>\n",
              "      <td>0.433489</td>\n",
              "      <td>0.433575</td>\n",
              "      <td>0.431943</td>\n",
              "    </tr>\n",
              "    <tr>\n",
              "      <th>min</th>\n",
              "      <td>0.000000</td>\n",
              "      <td>0.000000</td>\n",
              "      <td>0.000000</td>\n",
              "      <td>0.000000</td>\n",
              "      <td>0.000000</td>\n",
              "      <td>0.000000</td>\n",
              "      <td>0.000000</td>\n",
              "      <td>0.000000</td>\n",
              "      <td>0.000000</td>\n",
              "      <td>0.000000</td>\n",
              "      <td>...</td>\n",
              "      <td>0.000000</td>\n",
              "      <td>0.000000</td>\n",
              "      <td>0.000000</td>\n",
              "      <td>0.000000</td>\n",
              "      <td>0.000000</td>\n",
              "      <td>0.000000</td>\n",
              "      <td>0.000000</td>\n",
              "      <td>0.000000</td>\n",
              "      <td>0.000000</td>\n",
              "      <td>0.000000</td>\n",
              "    </tr>\n",
              "    <tr>\n",
              "      <th>25%</th>\n",
              "      <td>0.010949</td>\n",
              "      <td>0.010939</td>\n",
              "      <td>0.000121</td>\n",
              "      <td>0.001541</td>\n",
              "      <td>0.010108</td>\n",
              "      <td>0.010104</td>\n",
              "      <td>0.009839</td>\n",
              "      <td>0.048932</td>\n",
              "      <td>0.048931</td>\n",
              "      <td>0.227502</td>\n",
              "      <td>...</td>\n",
              "      <td>0.000000</td>\n",
              "      <td>0.000000</td>\n",
              "      <td>0.000000</td>\n",
              "      <td>0.000000</td>\n",
              "      <td>0.000000</td>\n",
              "      <td>0.000000</td>\n",
              "      <td>0.000000</td>\n",
              "      <td>0.000000</td>\n",
              "      <td>0.000000</td>\n",
              "      <td>0.000000</td>\n",
              "    </tr>\n",
              "    <tr>\n",
              "      <th>50%</th>\n",
              "      <td>0.011115</td>\n",
              "      <td>0.011015</td>\n",
              "      <td>0.000281</td>\n",
              "      <td>0.001724</td>\n",
              "      <td>0.010202</td>\n",
              "      <td>0.010141</td>\n",
              "      <td>0.009910</td>\n",
              "      <td>0.049525</td>\n",
              "      <td>0.049520</td>\n",
              "      <td>0.227695</td>\n",
              "      <td>...</td>\n",
              "      <td>0.000000</td>\n",
              "      <td>0.000000</td>\n",
              "      <td>0.000000</td>\n",
              "      <td>0.000000</td>\n",
              "      <td>0.000000</td>\n",
              "      <td>0.000000</td>\n",
              "      <td>0.000000</td>\n",
              "      <td>0.000000</td>\n",
              "      <td>0.000000</td>\n",
              "      <td>0.000000</td>\n",
              "    </tr>\n",
              "    <tr>\n",
              "      <th>75%</th>\n",
              "      <td>0.011814</td>\n",
              "      <td>0.011338</td>\n",
              "      <td>0.000879</td>\n",
              "      <td>0.004523</td>\n",
              "      <td>0.010685</td>\n",
              "      <td>0.010364</td>\n",
              "      <td>0.011182</td>\n",
              "      <td>0.052031</td>\n",
              "      <td>0.052007</td>\n",
              "      <td>0.228461</td>\n",
              "      <td>...</td>\n",
              "      <td>0.000000</td>\n",
              "      <td>0.000000</td>\n",
              "      <td>0.000000</td>\n",
              "      <td>0.000000</td>\n",
              "      <td>0.000000</td>\n",
              "      <td>0.000000</td>\n",
              "      <td>1.000000</td>\n",
              "      <td>1.000000</td>\n",
              "      <td>1.000000</td>\n",
              "      <td>0.000000</td>\n",
              "    </tr>\n",
              "    <tr>\n",
              "      <th>max</th>\n",
              "      <td>1.000000</td>\n",
              "      <td>1.000000</td>\n",
              "      <td>1.000000</td>\n",
              "      <td>1.000000</td>\n",
              "      <td>1.000000</td>\n",
              "      <td>1.000000</td>\n",
              "      <td>1.000000</td>\n",
              "      <td>1.000000</td>\n",
              "      <td>1.000000</td>\n",
              "      <td>1.000000</td>\n",
              "      <td>...</td>\n",
              "      <td>1.000000</td>\n",
              "      <td>1.000000</td>\n",
              "      <td>1.000000</td>\n",
              "      <td>1.000000</td>\n",
              "      <td>1.000000</td>\n",
              "      <td>1.000000</td>\n",
              "      <td>1.000000</td>\n",
              "      <td>1.000000</td>\n",
              "      <td>1.000000</td>\n",
              "      <td>1.000000</td>\n",
              "    </tr>\n",
              "  </tbody>\n",
              "</table>\n",
              "<p>8 rows × 121 columns</p>\n",
              "</div>"
            ],
            "text/plain": [
              "                 0              1              2              3    \\\n",
              "count  120252.000000  120252.000000  120252.000000  120252.000000   \n",
              "mean        0.014093       0.013393       0.001951       0.011064   \n",
              "std         0.029071       0.028856       0.013157       0.042425   \n",
              "min         0.000000       0.000000       0.000000       0.000000   \n",
              "25%         0.010949       0.010939       0.000121       0.001541   \n",
              "50%         0.011115       0.011015       0.000281       0.001724   \n",
              "75%         0.011814       0.011338       0.000879       0.004523   \n",
              "max         1.000000       1.000000       1.000000       1.000000   \n",
              "\n",
              "                 4              5              6              7    \\\n",
              "count  120252.000000  120252.000000  120252.000000  120252.000000   \n",
              "mean        0.012734       0.012177       0.014410       0.055566   \n",
              "std         0.027675       0.026344       0.024527       0.033659   \n",
              "min         0.000000       0.000000       0.000000       0.000000   \n",
              "25%         0.010108       0.010104       0.009839       0.048932   \n",
              "50%         0.010202       0.010141       0.009910       0.049525   \n",
              "75%         0.010685       0.010364       0.011182       0.052031   \n",
              "max         1.000000       1.000000       1.000000       1.000000   \n",
              "\n",
              "                 8              9    ...            111            112  \\\n",
              "count  120252.000000  120252.000000  ...  120252.000000  120252.000000   \n",
              "mean        0.055539       0.230144  ...       0.000607       0.016781   \n",
              "std         0.033611       0.018101  ...       0.024631       0.128452   \n",
              "min         0.000000       0.000000  ...       0.000000       0.000000   \n",
              "25%         0.048931       0.227502  ...       0.000000       0.000000   \n",
              "50%         0.049520       0.227695  ...       0.000000       0.000000   \n",
              "75%         0.052007       0.228461  ...       0.000000       0.000000   \n",
              "max         1.000000       1.000000  ...       1.000000       1.000000   \n",
              "\n",
              "                 113            114            115            116  \\\n",
              "count  120252.000000  120252.000000  120252.000000  120252.000000   \n",
              "mean        0.000116       0.000582       0.000374       0.068423   \n",
              "std         0.010789       0.024120       0.019341       0.252471   \n",
              "min         0.000000       0.000000       0.000000       0.000000   \n",
              "25%         0.000000       0.000000       0.000000       0.000000   \n",
              "50%         0.000000       0.000000       0.000000       0.000000   \n",
              "75%         0.000000       0.000000       0.000000       0.000000   \n",
              "max         1.000000       1.000000       1.000000       1.000000   \n",
              "\n",
              "                 117            118            119            120  \n",
              "count  120252.000000  120252.000000  120252.000000  120252.000000  \n",
              "mean        0.250050       0.250823       0.250973       0.248154  \n",
              "std         0.433043       0.433489       0.433575       0.431943  \n",
              "min         0.000000       0.000000       0.000000       0.000000  \n",
              "25%         0.000000       0.000000       0.000000       0.000000  \n",
              "50%         0.000000       0.000000       0.000000       0.000000  \n",
              "75%         1.000000       1.000000       1.000000       0.000000  \n",
              "max         1.000000       1.000000       1.000000       1.000000  \n",
              "\n",
              "[8 rows x 121 columns]"
            ]
          },
          "execution_count": 29,
          "metadata": {},
          "output_type": "execute_result"
        }
      ],
      "source": [
        "pd.DataFrame(X_train_qtr_processed).describe()"
      ]
    },
    {
      "cell_type": "code",
      "execution_count": null,
      "metadata": {},
      "outputs": [
        {
          "name": "stderr",
          "output_type": "stream",
          "text": [
            "Cross-Validation:   0%|           [elapsed: 00:00 left: ?]/Users/eoingaynard/.pyenv/versions/3.10.6/envs/Small-Cap-Scout/lib/python3.10/site-packages/sklearn/metrics/_classification.py:1531: UndefinedMetricWarning: Precision is ill-defined and being set to 0.0 due to no predicted samples. Use `zero_division` parameter to control this behavior.\n",
            "  _warn_prf(average, modifier, f\"{metric.capitalize()} is\", len(result))\n",
            "/Users/eoingaynard/.pyenv/versions/3.10.6/envs/Small-Cap-Scout/lib/python3.10/site-packages/sklearn/metrics/_classification.py:1531: UndefinedMetricWarning: Precision is ill-defined and being set to 0.0 due to no predicted samples. Use `zero_division` parameter to control this behavior.\n",
            "  _warn_prf(average, modifier, f\"{metric.capitalize()} is\", len(result))\n",
            "/Users/eoingaynard/.pyenv/versions/3.10.6/envs/Small-Cap-Scout/lib/python3.10/site-packages/sklearn/metrics/_classification.py:1531: UndefinedMetricWarning: Precision is ill-defined and being set to 0.0 due to no predicted samples. Use `zero_division` parameter to control this behavior.\n",
            "  _warn_prf(average, modifier, f\"{metric.capitalize()} is\", len(result))\n",
            "/Users/eoingaynard/.pyenv/versions/3.10.6/envs/Small-Cap-Scout/lib/python3.10/site-packages/sklearn/metrics/_classification.py:1531: UndefinedMetricWarning: Precision is ill-defined and being set to 0.0 due to no predicted samples. Use `zero_division` parameter to control this behavior.\n",
            "  _warn_prf(average, modifier, f\"{metric.capitalize()} is\", len(result))\n",
            "Cross-Validation: 100%|██████████ [elapsed: 42:40 left: 00:00]\n"
          ]
        }
      ],
      "source": [
        "\"\"\"Evaluates the model with cross-validation and test set metrics.\"\"\"\n",
        "with tqdm(total=5, desc=f\"Cross-Validation\", bar_format='{l_bar}{bar} [elapsed: {elapsed} left: {remaining}]') as pbar:\n",
        "    cv_metrics = cross_validate(SVC(kernel = 'rbf'), X_train_qtr_processed, y_train_qtr, cv=5, scoring=['accuracy', 'precision', 'recall', 'f1'])\n",
        "    pbar.update(5)\n",
        "\n",
        "    #print(f\"Cross-validated Metrics: {', '.join([f'{m}: {cv_metrics.mean():.4f}' for m in cv_metrics])}\")"
      ]
    },
    {
      "cell_type": "code",
      "execution_count": 160,
      "metadata": {},
      "outputs": [
        {
          "name": "stderr",
          "output_type": "stream",
          "text": [
            "Training svc_rbf:   0%|           [elapsed: 00:00 left: ?]"
          ]
        }
      ],
      "source": [
        "y_pred_qtr_svc, model_qtr_svc = train_svc_rbf_and_save(X_train_qtr_processed, y_train_qtr, X_test_qtr_processed, y_test_qtr)"
      ]
    },
    {
      "cell_type": "code",
      "execution_count": null,
      "metadata": {},
      "outputs": [],
      "source": [
        "y_pred_yr_svc, model_yr_svc = train_svc_rbf_and_save(X_train_yr_processed, y_train_yr, X_test_yr_processed, y_test_yr)"
      ]
    },
    {
      "cell_type": "code",
      "execution_count": null,
      "metadata": {},
      "outputs": [],
      "source": [
        "y_pred_2yr_svc, model_2yr_svc = train_svc_rbf_and_save(X_train_2yr_processed, y_train_2yr, X_test_2yr_processed, y_test_2yr)"
      ]
    },
    {
      "cell_type": "code",
      "execution_count": 27,
      "metadata": {
        "id": "7IFuQncCFAOI"
      },
      "outputs": [
        {
          "name": "stdout",
          "output_type": "stream",
          "text": [
            "1 Quarter Ahead Metrics: {'cv_accuracy': np.float64(0.5861177525890302), 'cv_precision': np.float64(0.28886531098782686), 'cv_recall': np.float64(0.3746608634582686), 'cv_f1': np.float64(0.32563369780978374), 'accuracy': 0.5739110464671209, 'precision': np.float64(0.28430531732418524), 'recall': np.float64(0.3731007315700619), 'f1': np.float64(0.32270625456315405)}\n",
            "1 Year Ahead Metrics: {'cv_accuracy': np.float64(0.5847497987573081), 'cv_precision': np.float64(0.2876763455297774), 'cv_recall': np.float64(0.37019406810692057), 'cv_f1': np.float64(0.3235231859899204), 'accuracy': 0.6013502387617322, 'precision': np.float64(0.3058765674944677), 'recall': np.float64(0.3812442537542139), 'f1': np.float64(0.33942701227830835)}\n",
            "2 Years Ahead Metrics: {'cv_accuracy': np.float64(0.5855911208007135), 'cv_precision': np.float64(0.2907180862789915), 'cv_recall': np.float64(0.378417465607723), 'cv_f1': np.float64(0.32827805522691694), 'accuracy': 0.6088211708099439, 'precision': np.float64(0.30460509390275275), 'recall': np.float64(0.3524858588865734), 'f1': np.float64(0.32680099365166987)}\n"
          ]
        }
      ],
      "source": [
        "# Step 10: Print metrics for each model\n",
        "print(\"1 Quarter Ahead Metrics:\", y_pred_qtr)\n",
        "print(\"1 Year Ahead Metrics:\", y_pred_yr)\n",
        "print(\"2 Years Ahead Metrics:\", y_pred_2yr)"
      ]
    },
    {
      "cell_type": "code",
      "execution_count": 67,
      "metadata": {},
      "outputs": [
        {
          "name": "stdout",
          "output_type": "stream",
          "text": [
            "Fitting 5 folds for each of 30 candidates, totalling 150 fits\n"
          ]
        },
        {
          "name": "stderr",
          "output_type": "stream",
          "text": [
            "/Users/eoingaynard/.pyenv/versions/3.10.6/envs/Small-Cap-Scout/lib/python3.10/site-packages/sklearn/linear_model/_sag.py:349: ConvergenceWarning: The max_iter was reached which means the coef_ did not converge\n",
            "  warnings.warn(\n"
          ]
        }
      ],
      "source": [
        "# Let's try a grid search - QUARTER\n",
        "best_model_qtr, best_params_qtr, best_score_qtr = run_grid_search(X_train_qtr_processed, y_train_qtr)\n",
        "\n",
        "print(f\"Best Model - QUARTER: {best_model_qtr.__class__.__name__}\")\n",
        "print(f\"Best Parameters - QUARTER: {best_params_qtr}\")\n",
        "print(f\"Best Score - QUARTER: {best_score_qtr:.4f}\")"
      ]
    },
    {
      "cell_type": "code",
      "execution_count": 136,
      "metadata": {},
      "outputs": [
        {
          "name": "stdout",
          "output_type": "stream",
          "text": [
            "Fitting 5 folds for each of 30 candidates, totalling 150 fits\n",
            "Best parameters: {'C': 0.15, 'max_iter': 1500, 'solver': 'lbfgs'}\n",
            "Best cross-validation score: 0.3543\n",
            "Best Model - YEAR: LogisticRegression\n",
            "Best Parameters - YEAR: {'C': 0.15, 'max_iter': 1500, 'solver': 'lbfgs'}\n",
            "Best Score - YEAR: 0.3543\n"
          ]
        }
      ],
      "source": [
        "# Let's try a grid search - YEAR\n",
        "best_model_yr, best_params_yr, best_score_yr = run_grid_search(X_train_yr_processed, y_train_yr)\n",
        "\n",
        "print(f\"Best Model - YEAR: {best_model_yr.__class__.__name__}\")\n",
        "print(f\"Best Parameters - YEAR: {best_params_yr}\")\n",
        "print(f\"Best Score - YEAR: {best_score_yr:.4f}\")"
      ]
    },
    {
      "cell_type": "code",
      "execution_count": null,
      "metadata": {},
      "outputs": [],
      "source": [
        "# Let's try a grid search - 2 YEAR\n",
        "best_model_2yr, best_params_2yr, best_score_2yr = run_grid_search(X_train_2yr_processed, y_train_2yr)\n",
        "\n",
        "print(f\"Best Model - YEAR: {best_model_2yr.__class__.__name__}\")\n",
        "print(f\"Best Parameters - YEAR: {best_params_2yr}\")\n",
        "print(f\"Best Score - YEAR: {best_score_2yr:.4f}\")"
      ]
    },
    {
      "cell_type": "code",
      "execution_count": 105,
      "metadata": {},
      "outputs": [
        {
          "name": "stdout",
          "output_type": "stream",
          "text": [
            "Fitting 3 folds for each of 3 candidates, totalling 9 fits\n",
            "Best parameters: {'n_neighbors': 550}\n",
            "Best cross-validation score: 0.5641\n",
            "Best Model - QUARTER: KNeighborsClassifier\n",
            "Best Parameters - QUARTER: {'n_neighbors': 550}\n",
            "Best Score - QUARTER: 0.5641\n"
          ]
        }
      ],
      "source": [
        "# knn grid search\n",
        "# Let's try a grid search - QUARTER\n",
        "best_model_qtr, best_params_qtr, best_score_qtr = knn_run_grid_search(X_train_qtr_processed, y_train_qtr)\n",
        "\n",
        "print(f\"Best Model - QUARTER: {best_model_qtr.__class__.__name__}\")\n",
        "print(f\"Best Parameters - QUARTER: {best_params_qtr}\")\n",
        "print(f\"Best Score - QUARTER: {best_score_qtr:.4f}\")"
      ]
    },
    {
      "cell_type": "code",
      "execution_count": 559,
      "metadata": {},
      "outputs": [
        {
          "name": "stdout",
          "output_type": "stream",
          "text": [
            "Fitting 3 folds for each of 1 candidates, totalling 3 fits\n"
          ]
        },
        {
          "name": "stdout",
          "output_type": "stream",
          "text": [
            "Best parameters: {'learning_rate': 0.01, 'max_depth': 5, 'n_estimators': 200}\n",
            "Best cross-validation score: 0.6742\n",
            "Best Model - 2yr: XGBClassifier\n",
            "Best Parameters - 2yr: {'learning_rate': 0.01, 'max_depth': 5, 'n_estimators': 200}\n",
            "Best Score - 2yr: 0.6742\n"
          ]
        }
      ],
      "source": [
        "# XGBOOS  search\n",
        "# year\n",
        "best_model_2yr, best_params_2yr, best_score_2yr = run_xgboost(X_train_2yr_processed, y_train_2yr)\n",
        "\n",
        "print(f\"Best Model - 2yr: {best_model_2yr.__class__.__name__}\")\n",
        "print(f\"Best Parameters - 2yr: {best_params_2yr}\")\n",
        "print(f\"Best Score - 2yr: {best_score_2yr:.4f}\")"
      ]
    },
    {
      "cell_type": "code",
      "execution_count": 560,
      "metadata": {},
      "outputs": [
        {
          "name": "stdout",
          "output_type": "stream",
          "text": [
            "              precision    recall  f1-score   support\n",
            "\n",
            "           0       0.71      0.99      0.83     20817\n",
            "           1       0.66      0.03      0.06      8893\n",
            "\n",
            "    accuracy                           0.71     29710\n",
            "   macro avg       0.68      0.51      0.44     29710\n",
            "weighted avg       0.69      0.71      0.60     29710\n",
            "\n"
          ]
        }
      ],
      "source": [
        "best_model = XGBClassifier(learning_rate= 0.01, max_depth= 5, n_estimators= 200)\n",
        "best_model.fit(X_train_2yr_processed, y_train_2yr)\n",
        "predictions = best_model.predict(X_test_2yr_processed)\n",
        "\n",
        "report = classification_report(y_test_2yr, predictions)\n",
        "print(report)\n"
      ]
    },
    {
      "cell_type": "code",
      "execution_count": 561,
      "metadata": {},
      "outputs": [
        {
          "data": {
            "image/png": "[encoded data removed]",
            "text/plain": [
              "<Figure size 640x480 with 2 Axes>"
            ]
          },
          "metadata": {},
          "output_type": "display_data"
        }
      ],
      "source": [
        "cm = confusion_matrix(y_test_2yr, predictions, labels=best_model.classes_)\n",
        "disp = ConfusionMatrixDisplay(confusion_matrix=cm,\n",
        "                              display_labels=best_model.classes_)\n",
        "\n",
        "disp.plot()\n",
        "plt.show()"
      ]
    },
    {
      "cell_type": "code",
      "execution_count": 569,
      "metadata": {},
      "outputs": [
        {
          "data": {
            "application/vnd.plotly.v1+json": {
              "config": {
                "plotlyServerURL": "https://plot.ly"
              },
              "data": [
                {
                  "coloraxis": "coloraxis",
                  "hovertemplate": "Predicted: %{x}<br>Actual: %{y}<br>Viridis: %{z}<extra></extra>",
                  "name": "0",
                  "texttemplate": "%{z}",
                  "type": "heatmap",
                  "xaxis": "x",
                  "yaxis": "y",
                  "z": [
                    [
                      20663,
                      154
                    ],
                    [
                      8593,
                      300
                    ]
                  ]
                }
              ],
              "layout": {
                "coloraxis": {
                  "colorbar": {
                    "title": {
                      "text": "Viridis"
                    }
                  },
                  "colorscale": [
                    [
                      0,
                      "rgb(0,0,131)"
                    ],
                    [
                      0.2,
                      "rgb(0,60,170)"
                    ],
                    [
                      0.4,
                      "rgb(5,255,255)"
                    ],
                    [
                      0.6,
                      "rgb(255,255,0)"
                    ],
                    [
                      0.8,
                      "rgb(250,0,0)"
                    ],
                    [
                      1,
                      "rgb(128,0,0)"
                    ]
                  ]
                },
                "template": {
                  "data": {
                    "bar": [
                      {
                        "error_x": {
                          "color": "#2a3f5f"
                        },
                        "error_y": {
                          "color": "#2a3f5f"
                        },
                        "marker": {
                          "line": {
                            "color": "#E5ECF6",
                            "width": 0.5
                          },
                          "pattern": {
                            "fillmode": "overlay",
                            "size": 10,
                            "solidity": 0.2
                          }
                        },
                        "type": "bar"
                      }
                    ],
                    "barpolar": [
                      {
                        "marker": {
                          "line": {
                            "color": "#E5ECF6",
                            "width": 0.5
                          },
                          "pattern": {
                            "fillmode": "overlay",
                            "size": 10,
                            "solidity": 0.2
                          }
                        },
                        "type": "barpolar"
                      }
                    ],
                    "carpet": [
                      {
                        "aaxis": {
                          "endlinecolor": "#2a3f5f",
                          "gridcolor": "white",
                          "linecolor": "white",
                          "minorgridcolor": "white",
                          "startlinecolor": "#2a3f5f"
                        },
                        "baxis": {
                          "endlinecolor": "#2a3f5f",
                          "gridcolor": "white",
                          "linecolor": "white",
                          "minorgridcolor": "white",
                          "startlinecolor": "#2a3f5f"
                        },
                        "type": "carpet"
                      }
                    ],
                    "choropleth": [
                      {
                        "colorbar": {
                          "outlinewidth": 0,
                          "ticks": ""
                        },
                        "type": "choropleth"
                      }
                    ],
                    "contour": [
                      {
                        "colorbar": {
                          "outlinewidth": 0,
                          "ticks": ""
                        },
                        "colorscale": [
                          [
                            0,
                            "#0d0887"
                          ],
                          [
                            0.1111111111111111,
                            "#46039f"
                          ],
                          [
                            0.2222222222222222,
                            "#7201a8"
                          ],
                          [
                            0.3333333333333333,
                            "#9c179e"
                          ],
                          [
                            0.4444444444444444,
                            "#bd3786"
                          ],
                          [
                            0.5555555555555556,
                            "#d8576b"
                          ],
                          [
                            0.6666666666666666,
                            "#ed7953"
                          ],
                          [
                            0.7777777777777778,
                            "#fb9f3a"
                          ],
                          [
                            0.8888888888888888,
                            "#fdca26"
                          ],
                          [
                            1,
                            "#f0f921"
                          ]
                        ],
                        "type": "contour"
                      }
                    ],
                    "contourcarpet": [
                      {
                        "colorbar": {
                          "outlinewidth": 0,
                          "ticks": ""
                        },
                        "type": "contourcarpet"
                      }
                    ],
                    "heatmap": [
                      {
                        "colorbar": {
                          "outlinewidth": 0,
                          "ticks": ""
                        },
                        "colorscale": [
                          [
                            0,
                            "#0d0887"
                          ],
                          [
                            0.1111111111111111,
                            "#46039f"
                          ],
                          [
                            0.2222222222222222,
                            "#7201a8"
                          ],
                          [
                            0.3333333333333333,
                            "#9c179e"
                          ],
                          [
                            0.4444444444444444,
                            "#bd3786"
                          ],
                          [
                            0.5555555555555556,
                            "#d8576b"
                          ],
                          [
                            0.6666666666666666,
                            "#ed7953"
                          ],
                          [
                            0.7777777777777778,
                            "#fb9f3a"
                          ],
                          [
                            0.8888888888888888,
                            "#fdca26"
                          ],
                          [
                            1,
                            "#f0f921"
                          ]
                        ],
                        "type": "heatmap"
                      }
                    ],
                    "heatmapgl": [
                      {
                        "colorbar": {
                          "outlinewidth": 0,
                          "ticks": ""
                        },
                        "colorscale": [
                          [
                            0,
                            "#0d0887"
                          ],
                          [
                            0.1111111111111111,
                            "#46039f"
                          ],
                          [
                            0.2222222222222222,
                            "#7201a8"
                          ],
                          [
                            0.3333333333333333,
                            "#9c179e"
                          ],
                          [
                            0.4444444444444444,
                            "#bd3786"
                          ],
                          [
                            0.5555555555555556,
                            "#d8576b"
                          ],
                          [
                            0.6666666666666666,
                            "#ed7953"
                          ],
                          [
                            0.7777777777777778,
                            "#fb9f3a"
                          ],
                          [
                            0.8888888888888888,
                            "#fdca26"
                          ],
                          [
                            1,
                            "#f0f921"
                          ]
                        ],
                        "type": "heatmapgl"
                      }
                    ],
                    "histogram": [
                      {
                        "marker": {
                          "pattern": {
                            "fillmode": "overlay",
                            "size": 10,
                            "solidity": 0.2
                          }
                        },
                        "type": "histogram"
                      }
                    ],
                    "histogram2d": [
                      {
                        "colorbar": {
                          "outlinewidth": 0,
                          "ticks": ""
                        },
                        "colorscale": [
                          [
                            0,
                            "#0d0887"
                          ],
                          [
                            0.1111111111111111,
                            "#46039f"
                          ],
                          [
                            0.2222222222222222,
                            "#7201a8"
                          ],
                          [
                            0.3333333333333333,
                            "#9c179e"
                          ],
                          [
                            0.4444444444444444,
                            "#bd3786"
                          ],
                          [
                            0.5555555555555556,
                            "#d8576b"
                          ],
                          [
                            0.6666666666666666,
                            "#ed7953"
                          ],
                          [
                            0.7777777777777778,
                            "#fb9f3a"
                          ],
                          [
                            0.8888888888888888,
                            "#fdca26"
                          ],
                          [
                            1,
                            "#f0f921"
                          ]
                        ],
                        "type": "histogram2d"
                      }
                    ],
                    "histogram2dcontour": [
                      {
                        "colorbar": {
                          "outlinewidth": 0,
                          "ticks": ""
                        },
                        "colorscale": [
                          [
                            0,
                            "#0d0887"
                          ],
                          [
                            0.1111111111111111,
                            "#46039f"
                          ],
                          [
                            0.2222222222222222,
                            "#7201a8"
                          ],
                          [
                            0.3333333333333333,
                            "#9c179e"
                          ],
                          [
                            0.4444444444444444,
                            "#bd3786"
                          ],
                          [
                            0.5555555555555556,
                            "#d8576b"
                          ],
                          [
                            0.6666666666666666,
                            "#ed7953"
                          ],
                          [
                            0.7777777777777778,
                            "#fb9f3a"
                          ],
                          [
                            0.8888888888888888,
                            "#fdca26"
                          ],
                          [
                            1,
                            "#f0f921"
                          ]
                        ],
                        "type": "histogram2dcontour"
                      }
                    ],
                    "mesh3d": [
                      {
                        "colorbar": {
                          "outlinewidth": 0,
                          "ticks": ""
                        },
                        "type": "mesh3d"
                      }
                    ],
                    "parcoords": [
                      {
                        "line": {
                          "colorbar": {
                            "outlinewidth": 0,
                            "ticks": ""
                          }
                        },
                        "type": "parcoords"
                      }
                    ],
                    "pie": [
                      {
                        "automargin": true,
                        "type": "pie"
                      }
                    ],
                    "scatter": [
                      {
                        "fillpattern": {
                          "fillmode": "overlay",
                          "size": 10,
                          "solidity": 0.2
                        },
                        "type": "scatter"
                      }
                    ],
                    "scatter3d": [
                      {
                        "line": {
                          "colorbar": {
                            "outlinewidth": 0,
                            "ticks": ""
                          }
                        },
                        "marker": {
                          "colorbar": {
                            "outlinewidth": 0,
                            "ticks": ""
                          }
                        },
                        "type": "scatter3d"
                      }
                    ],
                    "scattercarpet": [
                      {
                        "marker": {
                          "colorbar": {
                            "outlinewidth": 0,
                            "ticks": ""
                          }
                        },
                        "type": "scattercarpet"
                      }
                    ],
                    "scattergeo": [
                      {
                        "marker": {
                          "colorbar": {
                            "outlinewidth": 0,
                            "ticks": ""
                          }
                        },
                        "type": "scattergeo"
                      }
                    ],
                    "scattergl": [
                      {
                        "marker": {
                          "colorbar": {
                            "outlinewidth": 0,
                            "ticks": ""
                          }
                        },
                        "type": "scattergl"
                      }
                    ],
                    "scattermapbox": [
                      {
                        "marker": {
                          "colorbar": {
                            "outlinewidth": 0,
                            "ticks": ""
                          }
                        },
                        "type": "scattermapbox"
                      }
                    ],
                    "scatterpolar": [
                      {
                        "marker": {
                          "colorbar": {
                            "outlinewidth": 0,
                            "ticks": ""
                          }
                        },
                        "type": "scatterpolar"
                      }
                    ],
                    "scatterpolargl": [
                      {
                        "marker": {
                          "colorbar": {
                            "outlinewidth": 0,
                            "ticks": ""
                          }
                        },
                        "type": "scatterpolargl"
                      }
                    ],
                    "scatterternary": [
                      {
                        "marker": {
                          "colorbar": {
                            "outlinewidth": 0,
                            "ticks": ""
                          }
                        },
                        "type": "scatterternary"
                      }
                    ],
                    "surface": [
                      {
                        "colorbar": {
                          "outlinewidth": 0,
                          "ticks": ""
                        },
                        "colorscale": [
                          [
                            0,
                            "#0d0887"
                          ],
                          [
                            0.1111111111111111,
                            "#46039f"
                          ],
                          [
                            0.2222222222222222,
                            "#7201a8"
                          ],
                          [
                            0.3333333333333333,
                            "#9c179e"
                          ],
                          [
                            0.4444444444444444,
                            "#bd3786"
                          ],
                          [
                            0.5555555555555556,
                            "#d8576b"
                          ],
                          [
                            0.6666666666666666,
                            "#ed7953"
                          ],
                          [
                            0.7777777777777778,
                            "#fb9f3a"
                          ],
                          [
                            0.8888888888888888,
                            "#fdca26"
                          ],
                          [
                            1,
                            "#f0f921"
                          ]
                        ],
                        "type": "surface"
                      }
                    ],
                    "table": [
                      {
                        "cells": {
                          "fill": {
                            "color": "#EBF0F8"
                          },
                          "line": {
                            "color": "white"
                          }
                        },
                        "header": {
                          "fill": {
                            "color": "#C8D4E3"
                          },
                          "line": {
                            "color": "white"
                          }
                        },
                        "type": "table"
                      }
                    ]
                  },
                  "layout": {
                    "annotationdefaults": {
                      "arrowcolor": "#2a3f5f",
                      "arrowhead": 0,
                      "arrowwidth": 1
                    },
                    "autotypenumbers": "strict",
                    "coloraxis": {
                      "colorbar": {
                        "outlinewidth": 0,
                        "ticks": ""
                      }
                    },
                    "colorscale": {
                      "diverging": [
                        [
                          0,
                          "#8e0152"
                        ],
                        [
                          0.1,
                          "#c51b7d"
                        ],
                        [
                          0.2,
                          "#de77ae"
                        ],
                        [
                          0.3,
                          "#f1b6da"
                        ],
                        [
                          0.4,
                          "#fde0ef"
                        ],
                        [
                          0.5,
                          "#f7f7f7"
                        ],
                        [
                          0.6,
                          "#e6f5d0"
                        ],
                        [
                          0.7,
                          "#b8e186"
                        ],
                        [
                          0.8,
                          "#7fbc41"
                        ],
                        [
                          0.9,
                          "#4d9221"
                        ],
                        [
                          1,
                          "#276419"
                        ]
                      ],
                      "sequential": [
                        [
                          0,
                          "#0d0887"
                        ],
                        [
                          0.1111111111111111,
                          "#46039f"
                        ],
                        [
                          0.2222222222222222,
                          "#7201a8"
                        ],
                        [
                          0.3333333333333333,
                          "#9c179e"
                        ],
                        [
                          0.4444444444444444,
                          "#bd3786"
                        ],
                        [
                          0.5555555555555556,
                          "#d8576b"
                        ],
                        [
                          0.6666666666666666,
                          "#ed7953"
                        ],
                        [
                          0.7777777777777778,
                          "#fb9f3a"
                        ],
                        [
                          0.8888888888888888,
                          "#fdca26"
                        ],
                        [
                          1,
                          "#f0f921"
                        ]
                      ],
                      "sequentialminus": [
                        [
                          0,
                          "#0d0887"
                        ],
                        [
                          0.1111111111111111,
                          "#46039f"
                        ],
                        [
                          0.2222222222222222,
                          "#7201a8"
                        ],
                        [
                          0.3333333333333333,
                          "#9c179e"
                        ],
                        [
                          0.4444444444444444,
                          "#bd3786"
                        ],
                        [
                          0.5555555555555556,
                          "#d8576b"
                        ],
                        [
                          0.6666666666666666,
                          "#ed7953"
                        ],
                        [
                          0.7777777777777778,
                          "#fb9f3a"
                        ],
                        [
                          0.8888888888888888,
                          "#fdca26"
                        ],
                        [
                          1,
                          "#f0f921"
                        ]
                      ]
                    },
                    "colorway": [
                      "#636efa",
                      "#EF553B",
                      "#00cc96",
                      "#ab63fa",
                      "#FFA15A",
                      "#19d3f3",
                      "#FF6692",
                      "#B6E880",
                      "#FF97FF",
                      "#FECB52"
                    ],
                    "font": {
                      "color": "#2a3f5f"
                    },
                    "geo": {
                      "bgcolor": "white",
                      "lakecolor": "white",
                      "landcolor": "#E5ECF6",
                      "showlakes": true,
                      "showland": true,
                      "subunitcolor": "white"
                    },
                    "hoverlabel": {
                      "align": "left"
                    },
                    "hovermode": "closest",
                    "mapbox": {
                      "style": "light"
                    },
                    "paper_bgcolor": "white",
                    "plot_bgcolor": "#E5ECF6",
                    "polar": {
                      "angularaxis": {
                        "gridcolor": "white",
                        "linecolor": "white",
                        "ticks": ""
                      },
                      "bgcolor": "#E5ECF6",
                      "radialaxis": {
                        "gridcolor": "white",
                        "linecolor": "white",
                        "ticks": ""
                      }
                    },
                    "scene": {
                      "xaxis": {
                        "backgroundcolor": "#E5ECF6",
                        "gridcolor": "white",
                        "gridwidth": 2,
                        "linecolor": "white",
                        "showbackground": true,
                        "ticks": "",
                        "zerolinecolor": "white"
                      },
                      "yaxis": {
                        "backgroundcolor": "#E5ECF6",
                        "gridcolor": "white",
                        "gridwidth": 2,
                        "linecolor": "white",
                        "showbackground": true,
                        "ticks": "",
                        "zerolinecolor": "white"
                      },
                      "zaxis": {
                        "backgroundcolor": "#E5ECF6",
                        "gridcolor": "white",
                        "gridwidth": 2,
                        "linecolor": "white",
                        "showbackground": true,
                        "ticks": "",
                        "zerolinecolor": "white"
                      }
                    },
                    "shapedefaults": {
                      "line": {
                        "color": "#2a3f5f"
                      }
                    },
                    "ternary": {
                      "aaxis": {
                        "gridcolor": "white",
                        "linecolor": "white",
                        "ticks": ""
                      },
                      "baxis": {
                        "gridcolor": "white",
                        "linecolor": "white",
                        "ticks": ""
                      },
                      "bgcolor": "#E5ECF6",
                      "caxis": {
                        "gridcolor": "white",
                        "linecolor": "white",
                        "ticks": ""
                      }
                    },
                    "title": {
                      "x": 0.05
                    },
                    "xaxis": {
                      "automargin": true,
                      "gridcolor": "white",
                      "linecolor": "white",
                      "ticks": "",
                      "title": {
                        "standoff": 15
                      },
                      "zerolinecolor": "white",
                      "zerolinewidth": 2
                    },
                    "yaxis": {
                      "automargin": true,
                      "gridcolor": "white",
                      "linecolor": "white",
                      "ticks": "",
                      "title": {
                        "standoff": 15
                      },
                      "zerolinecolor": "white",
                      "zerolinewidth": 2
                    }
                  }
                },
                "title": {
                  "text": "Confusion Matrix - 2 Year Market Cap"
                },
                "xaxis": {
                  "anchor": "y",
                  "constrain": "domain",
                  "domain": [
                    0,
                    1
                  ],
                  "scaleanchor": "y",
                  "title": {
                    "text": "Predicted"
                  }
                },
                "yaxis": {
                  "anchor": "x",
                  "autorange": "reversed",
                  "constrain": "domain",
                  "domain": [
                    0,
                    1
                  ],
                  "title": {
                    "text": "Actual"
                  }
                }
              }
            }
          },
          "metadata": {},
          "output_type": "display_data"
        }
      ],
      "source": [
        "import plotly.express as px\n",
        "from sklearn.metrics import confusion_matrix\n",
        "\n",
        "# Compute the confusion matrix\n",
        "conf_matrix = confusion_matrix(y_test_2yr, predictions)\n",
        "\n",
        "# Create a heatmap with Plotly\n",
        "fig = px.imshow(conf_matrix,\n",
        "                text_auto=True,\n",
        "                color_continuous_scale='Jet',\n",
        "                labels=dict(x=\"Predicted\", y=\"Actual\", color=\"Viridis\"),\n",
        "                title=\"Confusion Matrix - 2 Year Market Cap\")\n",
        "\n",
        "# Show the plot\n",
        "fig.show()"
      ]
    },
    {
      "cell_type": "code",
      "execution_count": 563,
      "metadata": {},
      "outputs": [
        {
          "data": {
            "image/png": "[encoded data removed]",
            "text/plain": [
              "<Figure size 800x600 with 1 Axes>"
            ]
          },
          "metadata": {},
          "output_type": "display_data"
        }
      ],
      "source": [
        "import seaborn as sns\n",
        "import matplotlib.pyplot as plt\n",
        "from sklearn.metrics import confusion_matrix\n",
        "\n",
        "# Compute the confusion matrix\n",
        "conf_matrix = confusion_matrix(y_test_2yr, predictions)\n",
        "\n",
        "# Plotting with Seaborn\n",
        "plt.figure(figsize=(8, 6))\n",
        "sns.heatmap(conf_matrix, annot=True, fmt='g', cmap='Blues', cbar=False)\n",
        "plt.title(\"Confusion Matrix - 2 Year Market Cap\")\n",
        "plt.xlabel(\"Predicted\")\n",
        "plt.ylabel(\"Actual\")\n",
        "plt.show()"
      ]
    },
    {
      "cell_type": "code",
      "execution_count": 564,
      "metadata": {},
      "outputs": [
        {
          "name": "stderr",
          "output_type": "stream",
          "text": [
            "/Users/eoingaynard/.pyenv/versions/3.10.6/envs/Small-Cap-Scout/lib/python3.10/site-packages/yellowbrick/classifier/base.py:232: YellowbrickWarning:\n",
            "\n",
            "could not determine class_counts_ from previously fitted classifier\n",
            "\n"
          ]
        },
        {
          "data": {
            "image/png": "[encoded data removed]",
            "text/plain": [
              "<Figure size 800x550 with 2 Axes>"
            ]
          },
          "metadata": {},
          "output_type": "display_data"
        },
        {
          "data": {
            "text/plain": [
              "<Axes: title={'center': 'XGBClassifier Classification Report'}>"
            ]
          },
          "execution_count": 564,
          "metadata": {},
          "output_type": "execute_result"
        }
      ],
      "source": [
        "from yellowbrick.classifier import ClassificationReport\n",
        "from xgboost import XGBClassifier\n",
        "\n",
        "# Train the model\n",
        "best_model = XGBClassifier(learning_rate=0.01, max_depth=5, n_estimators=200)\n",
        "best_model.fit(X_train_2yr_processed, y_train_2yr)\n",
        "\n",
        "# Create the classification report\n",
        "visualizer = ClassificationReport(best_model, support=True)\n",
        "\n",
        "# Fit the visualizer with the test data\n",
        "visualizer.score(X_test_2yr_processed, y_test_2yr)\n",
        "visualizer.show()"
      ]
    },
    {
      "cell_type": "code",
      "execution_count": 570,
      "metadata": {},
      "outputs": [
        {
          "data": {
            "image/png": "[encoded data removed]",
            "text/plain": [
              "<Figure size 800x550 with 1 Axes>"
            ]
          },
          "metadata": {},
          "output_type": "display_data"
        }
      ],
      "source": [
        "import matplotlib.pyplot as plt\n",
        "from sklearn.metrics import precision_score, accuracy_score\n",
        "from yellowbrick.style import set_palette\n",
        "\n",
        "# Train the XGBoost model\n",
        "best_model = XGBClassifier(learning_rate=0.01, max_depth=5, n_estimators=200)\n",
        "best_model.fit(X_train_2yr_processed, y_train_2yr)\n",
        "\n",
        "# Predict the test data\n",
        "y_pred = best_model.predict(X_test_2yr_processed)\n",
        "\n",
        "# Calculate precision and accuracy\n",
        "precision = precision_score(y_test_2yr, y_pred)\n",
        "accuracy = accuracy_score(y_test_2yr, y_pred)\n",
        "\n",
        "# Plot precision and accuracy with custom colors\n",
        "metrics = ['Precision', 'Accuracy']\n",
        "values = [precision, accuracy]\n",
        "colors = ['#4CAF50', '#2196F3']  # Green and Blue tones\n",
        "\n",
        "plt.bar(metrics, values, color=colors)\n",
        "plt.title('Model Performance: Precision and Accuracy')\n",
        "plt.ylabel('Score')\n",
        "plt.ylim(0, 1)\n",
        "\n",
        "# Show the plot\n",
        "plt.show()"
      ]
    },
    {
      "cell_type": "code",
      "execution_count": 577,
      "metadata": {},
      "outputs": [
        {
          "data": {
            "application/vnd.plotly.v1+json": {
              "config": {
                "plotlyServerURL": "https://plot.ly"
              },
              "data": [
                {
                  "coloraxis": "coloraxis",
                  "hovertemplate": "Predicted Label: %{x}<br>Actual Label: %{y}<br>Count: %{z}<extra></extra>",
                  "name": "0",
                  "texttemplate": "%{z}",
                  "type": "heatmap",
                  "xaxis": "x",
                  "yaxis": "y",
                  "z": [
                    [
                      20663,
                      154
                    ],
                    [
                      8593,
                      300
                    ]
                  ]
                }
              ],
              "layout": {
                "coloraxis": {
                  "colorbar": {
                    "title": {
                      "text": "Count"
                    }
                  },
                  "colorscale": [
                    [
                      0,
                      "rgb(0,0,131)"
                    ],
                    [
                      0.2,
                      "rgb(0,60,170)"
                    ],
                    [
                      0.4,
                      "rgb(5,255,255)"
                    ],
                    [
                      0.6,
                      "rgb(255,255,0)"
                    ],
                    [
                      0.8,
                      "rgb(250,0,0)"
                    ],
                    [
                      1,
                      "rgb(128,0,0)"
                    ]
                  ]
                },
                "font": {
                  "size": 14
                },
                "height": 500,
                "template": {
                  "data": {
                    "bar": [
                      {
                        "error_x": {
                          "color": "#2a3f5f"
                        },
                        "error_y": {
                          "color": "#2a3f5f"
                        },
                        "marker": {
                          "line": {
                            "color": "#E5ECF6",
                            "width": 0.5
                          },
                          "pattern": {
                            "fillmode": "overlay",
                            "size": 10,
                            "solidity": 0.2
                          }
                        },
                        "type": "bar"
                      }
                    ],
                    "barpolar": [
                      {
                        "marker": {
                          "line": {
                            "color": "#E5ECF6",
                            "width": 0.5
                          },
                          "pattern": {
                            "fillmode": "overlay",
                            "size": 10,
                            "solidity": 0.2
                          }
                        },
                        "type": "barpolar"
                      }
                    ],
                    "carpet": [
                      {
                        "aaxis": {
                          "endlinecolor": "#2a3f5f",
                          "gridcolor": "white",
                          "linecolor": "white",
                          "minorgridcolor": "white",
                          "startlinecolor": "#2a3f5f"
                        },
                        "baxis": {
                          "endlinecolor": "#2a3f5f",
                          "gridcolor": "white",
                          "linecolor": "white",
                          "minorgridcolor": "white",
                          "startlinecolor": "#2a3f5f"
                        },
                        "type": "carpet"
                      }
                    ],
                    "choropleth": [
                      {
                        "colorbar": {
                          "outlinewidth": 0,
                          "ticks": ""
                        },
                        "type": "choropleth"
                      }
                    ],
                    "contour": [
                      {
                        "colorbar": {
                          "outlinewidth": 0,
                          "ticks": ""
                        },
                        "colorscale": [
                          [
                            0,
                            "#0d0887"
                          ],
                          [
                            0.1111111111111111,
                            "#46039f"
                          ],
                          [
                            0.2222222222222222,
                            "#7201a8"
                          ],
                          [
                            0.3333333333333333,
                            "#9c179e"
                          ],
                          [
                            0.4444444444444444,
                            "#bd3786"
                          ],
                          [
                            0.5555555555555556,
                            "#d8576b"
                          ],
                          [
                            0.6666666666666666,
                            "#ed7953"
                          ],
                          [
                            0.7777777777777778,
                            "#fb9f3a"
                          ],
                          [
                            0.8888888888888888,
                            "#fdca26"
                          ],
                          [
                            1,
                            "#f0f921"
                          ]
                        ],
                        "type": "contour"
                      }
                    ],
                    "contourcarpet": [
                      {
                        "colorbar": {
                          "outlinewidth": 0,
                          "ticks": ""
                        },
                        "type": "contourcarpet"
                      }
                    ],
                    "heatmap": [
                      {
                        "colorbar": {
                          "outlinewidth": 0,
                          "ticks": ""
                        },
                        "colorscale": [
                          [
                            0,
                            "#0d0887"
                          ],
                          [
                            0.1111111111111111,
                            "#46039f"
                          ],
                          [
                            0.2222222222222222,
                            "#7201a8"
                          ],
                          [
                            0.3333333333333333,
                            "#9c179e"
                          ],
                          [
                            0.4444444444444444,
                            "#bd3786"
                          ],
                          [
                            0.5555555555555556,
                            "#d8576b"
                          ],
                          [
                            0.6666666666666666,
                            "#ed7953"
                          ],
                          [
                            0.7777777777777778,
                            "#fb9f3a"
                          ],
                          [
                            0.8888888888888888,
                            "#fdca26"
                          ],
                          [
                            1,
                            "#f0f921"
                          ]
                        ],
                        "type": "heatmap"
                      }
                    ],
                    "heatmapgl": [
                      {
                        "colorbar": {
                          "outlinewidth": 0,
                          "ticks": ""
                        },
                        "colorscale": [
                          [
                            0,
                            "#0d0887"
                          ],
                          [
                            0.1111111111111111,
                            "#46039f"
                          ],
                          [
                            0.2222222222222222,
                            "#7201a8"
                          ],
                          [
                            0.3333333333333333,
                            "#9c179e"
                          ],
                          [
                            0.4444444444444444,
                            "#bd3786"
                          ],
                          [
                            0.5555555555555556,
                            "#d8576b"
                          ],
                          [
                            0.6666666666666666,
                            "#ed7953"
                          ],
                          [
                            0.7777777777777778,
                            "#fb9f3a"
                          ],
                          [
                            0.8888888888888888,
                            "#fdca26"
                          ],
                          [
                            1,
                            "#f0f921"
                          ]
                        ],
                        "type": "heatmapgl"
                      }
                    ],
                    "histogram": [
                      {
                        "marker": {
                          "pattern": {
                            "fillmode": "overlay",
                            "size": 10,
                            "solidity": 0.2
                          }
                        },
                        "type": "histogram"
                      }
                    ],
                    "histogram2d": [
                      {
                        "colorbar": {
                          "outlinewidth": 0,
                          "ticks": ""
                        },
                        "colorscale": [
                          [
                            0,
                            "#0d0887"
                          ],
                          [
                            0.1111111111111111,
                            "#46039f"
                          ],
                          [
                            0.2222222222222222,
                            "#7201a8"
                          ],
                          [
                            0.3333333333333333,
                            "#9c179e"
                          ],
                          [
                            0.4444444444444444,
                            "#bd3786"
                          ],
                          [
                            0.5555555555555556,
                            "#d8576b"
                          ],
                          [
                            0.6666666666666666,
                            "#ed7953"
                          ],
                          [
                            0.7777777777777778,
                            "#fb9f3a"
                          ],
                          [
                            0.8888888888888888,
                            "#fdca26"
                          ],
                          [
                            1,
                            "#f0f921"
                          ]
                        ],
                        "type": "histogram2d"
                      }
                    ],
                    "histogram2dcontour": [
                      {
                        "colorbar": {
                          "outlinewidth": 0,
                          "ticks": ""
                        },
                        "colorscale": [
                          [
                            0,
                            "#0d0887"
                          ],
                          [
                            0.1111111111111111,
                            "#46039f"
                          ],
                          [
                            0.2222222222222222,
                            "#7201a8"
                          ],
                          [
                            0.3333333333333333,
                            "#9c179e"
                          ],
                          [
                            0.4444444444444444,
                            "#bd3786"
                          ],
                          [
                            0.5555555555555556,
                            "#d8576b"
                          ],
                          [
                            0.6666666666666666,
                            "#ed7953"
                          ],
                          [
                            0.7777777777777778,
                            "#fb9f3a"
                          ],
                          [
                            0.8888888888888888,
                            "#fdca26"
                          ],
                          [
                            1,
                            "#f0f921"
                          ]
                        ],
                        "type": "histogram2dcontour"
                      }
                    ],
                    "mesh3d": [
                      {
                        "colorbar": {
                          "outlinewidth": 0,
                          "ticks": ""
                        },
                        "type": "mesh3d"
                      }
                    ],
                    "parcoords": [
                      {
                        "line": {
                          "colorbar": {
                            "outlinewidth": 0,
                            "ticks": ""
                          }
                        },
                        "type": "parcoords"
                      }
                    ],
                    "pie": [
                      {
                        "automargin": true,
                        "type": "pie"
                      }
                    ],
                    "scatter": [
                      {
                        "fillpattern": {
                          "fillmode": "overlay",
                          "size": 10,
                          "solidity": 0.2
                        },
                        "type": "scatter"
                      }
                    ],
                    "scatter3d": [
                      {
                        "line": {
                          "colorbar": {
                            "outlinewidth": 0,
                            "ticks": ""
                          }
                        },
                        "marker": {
                          "colorbar": {
                            "outlinewidth": 0,
                            "ticks": ""
                          }
                        },
                        "type": "scatter3d"
                      }
                    ],
                    "scattercarpet": [
                      {
                        "marker": {
                          "colorbar": {
                            "outlinewidth": 0,
                            "ticks": ""
                          }
                        },
                        "type": "scattercarpet"
                      }
                    ],
                    "scattergeo": [
                      {
                        "marker": {
                          "colorbar": {
                            "outlinewidth": 0,
                            "ticks": ""
                          }
                        },
                        "type": "scattergeo"
                      }
                    ],
                    "scattergl": [
                      {
                        "marker": {
                          "colorbar": {
                            "outlinewidth": 0,
                            "ticks": ""
                          }
                        },
                        "type": "scattergl"
                      }
                    ],
                    "scattermapbox": [
                      {
                        "marker": {
                          "colorbar": {
                            "outlinewidth": 0,
                            "ticks": ""
                          }
                        },
                        "type": "scattermapbox"
                      }
                    ],
                    "scatterpolar": [
                      {
                        "marker": {
                          "colorbar": {
                            "outlinewidth": 0,
                            "ticks": ""
                          }
                        },
                        "type": "scatterpolar"
                      }
                    ],
                    "scatterpolargl": [
                      {
                        "marker": {
                          "colorbar": {
                            "outlinewidth": 0,
                            "ticks": ""
                          }
                        },
                        "type": "scatterpolargl"
                      }
                    ],
                    "scatterternary": [
                      {
                        "marker": {
                          "colorbar": {
                            "outlinewidth": 0,
                            "ticks": ""
                          }
                        },
                        "type": "scatterternary"
                      }
                    ],
                    "surface": [
                      {
                        "colorbar": {
                          "outlinewidth": 0,
                          "ticks": ""
                        },
                        "colorscale": [
                          [
                            0,
                            "#0d0887"
                          ],
                          [
                            0.1111111111111111,
                            "#46039f"
                          ],
                          [
                            0.2222222222222222,
                            "#7201a8"
                          ],
                          [
                            0.3333333333333333,
                            "#9c179e"
                          ],
                          [
                            0.4444444444444444,
                            "#bd3786"
                          ],
                          [
                            0.5555555555555556,
                            "#d8576b"
                          ],
                          [
                            0.6666666666666666,
                            "#ed7953"
                          ],
                          [
                            0.7777777777777778,
                            "#fb9f3a"
                          ],
                          [
                            0.8888888888888888,
                            "#fdca26"
                          ],
                          [
                            1,
                            "#f0f921"
                          ]
                        ],
                        "type": "surface"
                      }
                    ],
                    "table": [
                      {
                        "cells": {
                          "fill": {
                            "color": "#EBF0F8"
                          },
                          "line": {
                            "color": "white"
                          }
                        },
                        "header": {
                          "fill": {
                            "color": "#C8D4E3"
                          },
                          "line": {
                            "color": "white"
                          }
                        },
                        "type": "table"
                      }
                    ]
                  },
                  "layout": {
                    "annotationdefaults": {
                      "arrowcolor": "#2a3f5f",
                      "arrowhead": 0,
                      "arrowwidth": 1
                    },
                    "autotypenumbers": "strict",
                    "coloraxis": {
                      "colorbar": {
                        "outlinewidth": 0,
                        "ticks": ""
                      }
                    },
                    "colorscale": {
                      "diverging": [
                        [
                          0,
                          "#8e0152"
                        ],
                        [
                          0.1,
                          "#c51b7d"
                        ],
                        [
                          0.2,
                          "#de77ae"
                        ],
                        [
                          0.3,
                          "#f1b6da"
                        ],
                        [
                          0.4,
                          "#fde0ef"
                        ],
                        [
                          0.5,
                          "#f7f7f7"
                        ],
                        [
                          0.6,
                          "#e6f5d0"
                        ],
                        [
                          0.7,
                          "#b8e186"
                        ],
                        [
                          0.8,
                          "#7fbc41"
                        ],
                        [
                          0.9,
                          "#4d9221"
                        ],
                        [
                          1,
                          "#276419"
                        ]
                      ],
                      "sequential": [
                        [
                          0,
                          "#0d0887"
                        ],
                        [
                          0.1111111111111111,
                          "#46039f"
                        ],
                        [
                          0.2222222222222222,
                          "#7201a8"
                        ],
                        [
                          0.3333333333333333,
                          "#9c179e"
                        ],
                        [
                          0.4444444444444444,
                          "#bd3786"
                        ],
                        [
                          0.5555555555555556,
                          "#d8576b"
                        ],
                        [
                          0.6666666666666666,
                          "#ed7953"
                        ],
                        [
                          0.7777777777777778,
                          "#fb9f3a"
                        ],
                        [
                          0.8888888888888888,
                          "#fdca26"
                        ],
                        [
                          1,
                          "#f0f921"
                        ]
                      ],
                      "sequentialminus": [
                        [
                          0,
                          "#0d0887"
                        ],
                        [
                          0.1111111111111111,
                          "#46039f"
                        ],
                        [
                          0.2222222222222222,
                          "#7201a8"
                        ],
                        [
                          0.3333333333333333,
                          "#9c179e"
                        ],
                        [
                          0.4444444444444444,
                          "#bd3786"
                        ],
                        [
                          0.5555555555555556,
                          "#d8576b"
                        ],
                        [
                          0.6666666666666666,
                          "#ed7953"
                        ],
                        [
                          0.7777777777777778,
                          "#fb9f3a"
                        ],
                        [
                          0.8888888888888888,
                          "#fdca26"
                        ],
                        [
                          1,
                          "#f0f921"
                        ]
                      ]
                    },
                    "colorway": [
                      "#636efa",
                      "#EF553B",
                      "#00cc96",
                      "#ab63fa",
                      "#FFA15A",
                      "#19d3f3",
                      "#FF6692",
                      "#B6E880",
                      "#FF97FF",
                      "#FECB52"
                    ],
                    "font": {
                      "color": "#2a3f5f"
                    },
                    "geo": {
                      "bgcolor": "white",
                      "lakecolor": "white",
                      "landcolor": "#E5ECF6",
                      "showlakes": true,
                      "showland": true,
                      "subunitcolor": "white"
                    },
                    "hoverlabel": {
                      "align": "left"
                    },
                    "hovermode": "closest",
                    "mapbox": {
                      "style": "light"
                    },
                    "paper_bgcolor": "white",
                    "plot_bgcolor": "#E5ECF6",
                    "polar": {
                      "angularaxis": {
                        "gridcolor": "white",
                        "linecolor": "white",
                        "ticks": ""
                      },
                      "bgcolor": "#E5ECF6",
                      "radialaxis": {
                        "gridcolor": "white",
                        "linecolor": "white",
                        "ticks": ""
                      }
                    },
                    "scene": {
                      "xaxis": {
                        "backgroundcolor": "#E5ECF6",
                        "gridcolor": "white",
                        "gridwidth": 2,
                        "linecolor": "white",
                        "showbackground": true,
                        "ticks": "",
                        "zerolinecolor": "white"
                      },
                      "yaxis": {
                        "backgroundcolor": "#E5ECF6",
                        "gridcolor": "white",
                        "gridwidth": 2,
                        "linecolor": "white",
                        "showbackground": true,
                        "ticks": "",
                        "zerolinecolor": "white"
                      },
                      "zaxis": {
                        "backgroundcolor": "#E5ECF6",
                        "gridcolor": "white",
                        "gridwidth": 2,
                        "linecolor": "white",
                        "showbackground": true,
                        "ticks": "",
                        "zerolinecolor": "white"
                      }
                    },
                    "shapedefaults": {
                      "line": {
                        "color": "#2a3f5f"
                      }
                    },
                    "ternary": {
                      "aaxis": {
                        "gridcolor": "white",
                        "linecolor": "white",
                        "ticks": ""
                      },
                      "baxis": {
                        "gridcolor": "white",
                        "linecolor": "white",
                        "ticks": ""
                      },
                      "bgcolor": "#E5ECF6",
                      "caxis": {
                        "gridcolor": "white",
                        "linecolor": "white",
                        "ticks": ""
                      }
                    },
                    "title": {
                      "x": 0.05
                    },
                    "xaxis": {
                      "automargin": true,
                      "gridcolor": "white",
                      "linecolor": "white",
                      "ticks": "",
                      "title": {
                        "standoff": 15
                      },
                      "zerolinecolor": "white",
                      "zerolinewidth": 2
                    },
                    "yaxis": {
                      "automargin": true,
                      "gridcolor": "white",
                      "linecolor": "white",
                      "ticks": "",
                      "title": {
                        "standoff": 15
                      },
                      "zerolinecolor": "white",
                      "zerolinewidth": 2
                    }
                  }
                },
                "title": {
                  "text": "Confusion Matrix",
                  "x": 0.5
                },
                "width": 600,
                "xaxis": {
                  "anchor": "y",
                  "constrain": "domain",
                  "domain": [
                    0,
                    1
                  ],
                  "scaleanchor": "y",
                  "title": {
                    "text": "Predicted: Growth < threshold, Growth > threshold"
                  }
                },
                "yaxis": {
                  "anchor": "x",
                  "autorange": "reversed",
                  "constrain": "domain",
                  "domain": [
                    0,
                    1
                  ],
                  "title": {
                    "text": "Actual: Growth < threshold, Growth > threshold"
                  }
                }
              }
            }
          },
          "metadata": {},
          "output_type": "display_data"
        }
      ],
      "source": [
        "from sklearn.metrics import confusion_matrix\n",
        "\n",
        "# Compute the confusion matrix\n",
        "conf_matrix = confusion_matrix(y_test_2yr, predictions)\n",
        "\n",
        "# Create a heatmap with Plotly\n",
        "fig = px.imshow(conf_matrix,\n",
        "                text_auto=True,\n",
        "                color_continuous_scale='Jet',\n",
        "                labels=dict(x=\"Predicted Label\", y=\"Actual Label\", color=\"Count\"),\n",
        "                title=\"Confusion Matrix\",\n",
        "                width=600, height=500)\n",
        "\n",
        "# Update axes titles and layout\n",
        "fig.update_layout(\n",
        "    xaxis_title=\"Predicted: Growth < threshold, Growth > threshold\",\n",
        "    yaxis_title=\"Actual: Growth < threshold, Growth > threshold\",\n",
        "    title_x=0.5,  # Center the title\n",
        "    font=dict(size=14),  # Increase the font size for better readability\n",
        ")\n",
        "\n",
        "# Show the plot\n",
        "fig.show()"
      ]
    },
    {
      "cell_type": "code",
      "execution_count": 586,
      "metadata": {},
      "outputs": [
        {
          "data": {
            "image/png": "[encoded data removed]",
            "text/plain": [
              "<Figure size 800x550 with 2 Axes>"
            ]
          },
          "metadata": {},
          "output_type": "display_data"
        }
      ],
      "source": [
        "import matplotlib.pyplot as plt\n",
        "from sklearn.metrics import ConfusionMatrixDisplay, confusion_matrix\n",
        "\n",
        "# Compute the confusion matrix\n",
        "cm = confusion_matrix(y_test_2yr, predictions, labels=best_model.classes_)\n",
        "\n",
        "# Create the ConfusionMatrixDisplay\n",
        "disp = ConfusionMatrixDisplay(confusion_matrix=cm, display_labels=best_model.classes_)\n",
        "\n",
        "# Plot the confusion matrix with the original color range and no grid\n",
        "disp.plot()\n",
        "\n",
        "# Add titles and labels with line breaks for better formatting\n",
        "plt.title(\"Outcome Matrix\", fontsize=14)\n",
        "plt.xlabel(\"Prediction\\nGrowth < Threshold       Growth > Threshold\", fontsize=12)  # Line break added\n",
        "plt.ylabel(\"Actual\\nGrowth < Threshold      Growth > Threshold\", fontsize=12)\n",
        "\n",
        "# Remove grid\n",
        "plt.grid(False)\n",
        "\n",
        "# Show the plot\n",
        "plt.show()"
      ]
    },
    {
      "cell_type": "code",
      "execution_count": null,
      "metadata": {},
      "outputs": [],
      "source": []
    }
  ],
  "metadata": {
    "accelerator": "GPU",
    "colab": {
      "gpuType": "T4",
      "provenance": []
    },
    "kernelspec": {
      "display_name": "Python 3",
      "name": "python3"
    },
    "language_info": {
      "codemirror_mode": {
        "name": "ipython",
        "version": 3
      },
      "file_extension": ".py",
      "mimetype": "text/x-python",
      "name": "python",
      "nbconvert_exporter": "python",
      "pygments_lexer": "ipython3",
      "version": "3.10.6"
    }
  },
  "nbformat": 4,
  "nbformat_minor": 0
}
