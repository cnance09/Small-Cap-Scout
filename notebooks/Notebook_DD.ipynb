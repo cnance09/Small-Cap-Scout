{
 "cells": [
  {
   "cell_type": "markdown",
   "metadata": {},
   "source": [
    "# FRED Macro Data\n",
    "\n",
    "## Focus Areas\n",
    "\n",
    "After our initial internal group discussion on 02.09.2024, we decided to focus on the following key macroeconomic indicators from the FRED database:\n",
    "\n",
    "- **Most important indicators**: \n",
    "  - Real Gross Domestic Product (GDPC1)\n",
    "  - Federal Funds Effective Rate (FEDFUNDS)\n",
    "  - Unemployment Rate (UNRATE)\n",
    "  - Inflation, consumer prices for the United States (FPCPITOTLZGUSA)\n",
    "\n",
    "- **Timeframe**: \n",
    "  - Data limited to the period from 2010 to 2024.\n"
   ]
  },
  {
   "cell_type": "code",
   "execution_count": 3,
   "metadata": {},
   "outputs": [
    {
     "name": "stdout",
     "output_type": "stream",
     "text": [
      "Requirement already satisfied: requests in /home/dda/.pyenv/versions/3.10.6/envs/lewagon/lib/python3.10/site-packages (2.28.1)\n",
      "Requirement already satisfied: charset-normalizer<3,>=2 in /home/dda/.pyenv/versions/3.10.6/envs/lewagon/lib/python3.10/site-packages (from requests) (2.1.1)\n",
      "Requirement already satisfied: idna<4,>=2.5 in /home/dda/.pyenv/versions/3.10.6/envs/lewagon/lib/python3.10/site-packages (from requests) (3.4)\n",
      "Requirement already satisfied: urllib3<1.27,>=1.21.1 in /home/dda/.pyenv/versions/3.10.6/envs/lewagon/lib/python3.10/site-packages (from requests) (1.26.12)\n",
      "Requirement already satisfied: certifi>=2017.4.17 in /home/dda/.pyenv/versions/3.10.6/envs/lewagon/lib/python3.10/site-packages (from requests) (2022.9.24)\n",
      "Note: you may need to restart the kernel to use updated packages.\n"
     ]
    }
   ],
   "source": [
    "pip install requests"
   ]
  },
  {
   "cell_type": "markdown",
   "metadata": {},
   "source": [
    "Fetch Data from Each API URL"
   ]
  },
  {
   "cell_type": "code",
   "execution_count": 23,
   "cell_type": "code",
   "execution_count": 17,
   "metadata": {},
   "outputs": [],
   "source": [
    "import requests\n",
    "\n",
    "# Function to fetch data from the FRED API\n",
    "def fetch_fred_data(series_id):\n",
    "    url = \"https://api.stlouisfed.org/fred/series/observations\"\n",
    "    params = {\n",
    "        \"series_id\": series_id,\n",
    "def fetch_fred_data():\n",
    "    url = \"https://api.stlouisfed.org/fred/series/observations\"\n",
    "    params = {\n",
    "        \"series_id\": \"FEDFUNDS\",\n",
    "        \"realtime_start\": \"2000-01-01\",\n",
    "        \"realtime_end\": \"2022-08-31\",\n",
    "        \"api_key\": \"7bb504adcabc6f374463db2650ad84e5\",\n",
    "        \"file_type\": \"json\"\n",
    "    }\n",
    "\n",
    "    # Make the API request\n",
    "    response = requests.get(url, params=params)\n",
    "\n",
    "    # Check if the request was successful\n",
    "    if response.status_code == 200:\n",
    "        data = response.json()\n",
    "        return data.get('observations', [])\n",
    "    else:\n",
    "        print(f\"Error fetching {series_id}: {response.status_code} - {response.text}\")\n",
    "        return None\n",
    "\n",
    "# Define the series IDs\n",
    "series_ids = [\"GDPC1\", \"FEDFUNDS\", \"UNRATE\", \"FPCPITOTLZGUSA\"]\n",
    "\n",
    "# Fetch data for each series\n",
    "data_dict = {}\n",
    "for series_id in series_ids:\n",
    "    data_dict[series_id] = fetch_fred_data(series_id)"
   ]
  },
  {
   "cell_type": "markdown",
   "metadata": {},
   "source": [
    "Save Each Dataset to a Separate CSV File"
    "        print(f\"Error: {response.status_code} - {response.text}\")\n",
    "        return None\n",
    "\n",
    "# Fetch the data\n",
    "fred_data = fetch_fred_data()\n"
   ]
  },
  {
   "cell_type": "code",
   "execution_count": 18,
   "metadata": {},
   "outputs": [],
   "source": [
    "fred_data = fetch_fred_data()"
   ]
  },
  {
   "cell_type": "code",
   "execution_count": 24,
   "execution_count": 22,
   "metadata": {},
   "outputs": [
    {
     "name": "stdout",
     "output_type": "stream",
     "text": [
      "Data has been written to gdpc1_data.csv\n",
      "Data has been written to fedfunds_data.csv\n",
      "Data has been written to unrate_data.csv\n",
      "Data has been written to fpcpitotlzgusa_data.csv\n"
      "Data has been written to fred_observations.csv\n"
     ]
    }
   ],
   "source": [
    "import csv\n",
    "\n",
    "# Function to save data to a CSV file\n",
    "def save_to_csv(data, filename):\n",
    "def save_to_csv(data, filename='fred_observations.csv'):\n",
    "    # Open the CSV file in write mode\n",
    "    with open(filename, mode='w', newline='') as file:\n",
    "        writer = csv.writer(file)\n",
    "\n",
    "        # Write the headers\n",
    "        writer.writerow([\"Date\", \"Value\"])\n",
    "\n",
    "        # Write the data rows\n",
    "        for item in data:\n",
    "            writer.writerow([item['date'], item['value']])\n",
    "\n",
    "    print(f\"Data has been written to {filename}\")\n",
    "\n",
    "# Save each dataset to a CSV file\n",
    "for series_id, data in data_dict.items():\n",
    "    if data:  # Ensure data was fetched successfully\n",
    "        csv_filename = f\"{series_id.lower()}_data.csv\"\n",
    "        save_to_csv(data, csv_filename)"
   ]
  },
  {
   "cell_type": "markdown",
   "metadata": {},
   "source": [
    "Merging obtained datasets"
   ]
  },
  {
   "cell_type": "code",
   "execution_count": 27,
   "metadata": {},
   "outputs": [
    {
     "name": "stdout",
     "output_type": "stream",
     "text": [
      "Merged data has been saved to 'merged_data.csv'.\n"
     ]
    }
   ],
   "source": [
    "import pandas as pd\n",
    "\n",
    "# Define the list of CSV filenames\n",
    "csv_files = [\"gdpc1_data.csv\", \"fedfunds_data.csv\", \"fred_observations.csv\", \"fpcpitotlzgusa_data.csv\"]\n",
    "\n",
    "# Initialize an empty DataFrame to hold the merged data\n",
    "merged_df = pd.DataFrame()\n",
    "\n",
    "# Read and merge each CSV file\n",
    "for csv_file in csv_files:\n",
    "    # Read the CSV file into a DataFrame\n",
    "    df = pd.read_csv(csv_file)\n",
    "\n",
    "    # Optionally, rename the 'Value' column to indicate the source (e.g., 'GDPC1_Value')\n",
    "    series_id = csv_file.split('_')[0].upper()  # Extract series_id from filename\n",
    "    df.rename(columns={'Value': f'{series_id}_Value'}, inplace=True)\n",
    "\n",
    "    # Merge with the main DataFrame on the 'Date' column\n",
    "    if merged_df.empty:\n",
    "        merged_df = df  # For the first file, initialize the merged_df\n",
    "    else:\n",
    "        merged_df = pd.merge(merged_df, df, on='Date', how='outer')\n",
    "\n",
    "# Save the merged DataFrame to a new CSV file\n",
    "merged_df.to_csv('merged_data.csv', index=False)\n",
    "\n",
    "print(\"Merged data has been saved to 'merged_data.csv'.\")"
   ]
  },
  {
   "cell_type": "code",
   "execution_count": 4,
   "metadata": {},
   "outputs": [],
   "source": [
    "import pandas as pd\n",
    "\n",
    "df = pd.read_csv('merged_data.csv')"
   ]
  },
  {
   "cell_type": "code",
   "execution_count": 6,
   "metadata": {},
   "outputs": [
    {
     "data": {
      "text/plain": [
       "(8753, 5)"
      ]
     },
     "execution_count": 6,
     "metadata": {},
     "output_type": "execute_result"
    }
   ],
   "source": [
    "df.shape"
   ]
  },
  {
   "cell_type": "code",
   "execution_count": 7,
   "metadata": {},
   "outputs": [
    {
     "data": {
      "text/html": [
       "<div>\n",
       "<style scoped>\n",
       "    .dataframe tbody tr th:only-of-type {\n",
       "        vertical-align: middle;\n",
       "    }\n",
       "\n",
       "    .dataframe tbody tr th {\n",
       "        vertical-align: top;\n",
       "    }\n",
       "\n",
       "    .dataframe thead th {\n",
       "        text-align: right;\n",
       "    }\n",
       "</style>\n",
       "<table border=\"1\" class=\"dataframe\">\n",
       "  <thead>\n",
       "    <tr style=\"text-align: right;\">\n",
       "      <th></th>\n",
       "      <th>Date</th>\n",
       "      <th>GDPC1_Value</th>\n",
       "      <th>FEDFUNDS_Value</th>\n",
       "      <th>FRED_Value</th>\n",
       "      <th>FPCPITOTLZGUSA_Value</th>\n",
       "    </tr>\n",
       "  </thead>\n",
       "  <tbody>\n",
       "    <tr>\n",
       "      <th>0</th>\n",
       "      <td>1947-01-01</td>\n",
       "      <td>.</td>\n",
       "      <td>NaN</td>\n",
       "      <td>NaN</td>\n",
       "      <td>NaN</td>\n",
       "    </tr>\n",
       "    <tr>\n",
       "      <th>1</th>\n",
       "      <td>1947-01-01</td>\n",
       "      <td>1481.7</td>\n",
       "      <td>NaN</td>\n",
       "      <td>NaN</td>\n",
       "      <td>NaN</td>\n",
       "    </tr>\n",
       "    <tr>\n",
       "      <th>2</th>\n",
       "      <td>1947-01-01</td>\n",
       "      <td>1570.5</td>\n",
       "      <td>NaN</td>\n",
       "      <td>NaN</td>\n",
       "      <td>NaN</td>\n",
       "    </tr>\n",
       "    <tr>\n",
       "      <th>3</th>\n",
       "      <td>1947-01-01</td>\n",
       "      <td>1772.2</td>\n",
       "      <td>NaN</td>\n",
       "      <td>NaN</td>\n",
       "      <td>NaN</td>\n",
       "    </tr>\n",
       "    <tr>\n",
       "      <th>4</th>\n",
       "      <td>1947-01-01</td>\n",
       "      <td>1770.7</td>\n",
       "      <td>NaN</td>\n",
       "      <td>NaN</td>\n",
       "      <td>NaN</td>\n",
       "    </tr>\n",
       "    <tr>\n",
       "      <th>5</th>\n",
       "      <td>1947-01-01</td>\n",
       "      <td>1932.6</td>\n",
       "      <td>NaN</td>\n",
       "      <td>NaN</td>\n",
       "      <td>NaN</td>\n",
       "    </tr>\n",
       "    <tr>\n",
       "      <th>6</th>\n",
       "      <td>1947-01-01</td>\n",
       "      <td>1934.5</td>\n",
       "      <td>NaN</td>\n",
       "      <td>NaN</td>\n",
       "      <td>NaN</td>\n",
       "    </tr>\n",
       "    <tr>\n",
       "      <th>7</th>\n",
       "      <td>1947-01-01</td>\n",
       "      <td>1934.471</td>\n",
       "      <td>NaN</td>\n",
       "      <td>NaN</td>\n",
       "      <td>NaN</td>\n",
       "    </tr>\n",
       "    <tr>\n",
       "      <th>8</th>\n",
       "      <td>1947-01-01</td>\n",
       "      <td>2033.061</td>\n",
       "      <td>NaN</td>\n",
       "      <td>NaN</td>\n",
       "      <td>NaN</td>\n",
       "    </tr>\n",
       "    <tr>\n",
       "      <th>9</th>\n",
       "      <td>1947-01-01</td>\n",
       "      <td>2034.45</td>\n",
       "      <td>NaN</td>\n",
       "      <td>NaN</td>\n",
       "      <td>NaN</td>\n",
       "    </tr>\n",
       "  </tbody>\n",
       "</table>\n",
       "</div>"
      ],
      "text/plain": [
       "         Date GDPC1_Value  FEDFUNDS_Value  FRED_Value  FPCPITOTLZGUSA_Value\n",
       "0  1947-01-01           .             NaN         NaN                   NaN\n",
       "1  1947-01-01      1481.7             NaN         NaN                   NaN\n",
       "2  1947-01-01      1570.5             NaN         NaN                   NaN\n",
       "3  1947-01-01      1772.2             NaN         NaN                   NaN\n",
       "4  1947-01-01      1770.7             NaN         NaN                   NaN\n",
       "5  1947-01-01      1932.6             NaN         NaN                   NaN\n",
       "6  1947-01-01      1934.5             NaN         NaN                   NaN\n",
       "7  1947-01-01    1934.471             NaN         NaN                   NaN\n",
       "8  1947-01-01    2033.061             NaN         NaN                   NaN\n",
       "9  1947-01-01     2034.45             NaN         NaN                   NaN"
      ]
     },
     "execution_count": 7,
     "metadata": {},
     "output_type": "execute_result"
    }
   ],
   "source": [
    "df.head(10)"
   ]
  },
  {
   "cell_type": "code",
   "execution_count": 8,
   "metadata": {},
   "outputs": [
    {
     "data": {
      "text/plain": [
       "<bound method NDFrame.tail of             Date GDPC1_Value  FEDFUNDS_Value  FRED_Value  FPCPITOTLZGUSA_Value\n",
       "0     1947-01-01           .             NaN         NaN                   NaN\n",
       "1     1947-01-01      1481.7             NaN         NaN                   NaN\n",
       "2     1947-01-01      1570.5             NaN         NaN                   NaN\n",
       "3     1947-01-01      1772.2             NaN         NaN                   NaN\n",
       "4     1947-01-01      1770.7             NaN         NaN                   NaN\n",
       "...          ...         ...             ...         ...                   ...\n",
       "8748  2022-02-01         NaN            0.08        0.08                   NaN\n",
       "8749  2022-03-01         NaN            0.20        0.20                   NaN\n",
       "8750  2022-05-01         NaN            0.77        0.77                   NaN\n",
       "8751  2022-06-01         NaN            1.21        1.21                   NaN\n",
       "8752  2022-07-01         NaN            1.68        1.68                   NaN\n",
       "\n",
       "[8753 rows x 5 columns]>"
      ]
     },
     "execution_count": 8,
     "metadata": {},
     "output_type": "execute_result"
    }
   ],
   "source": [
    "df.tail"
    "# Check if data is fetched successfully before writing to CSV\n",
    "if fred_data:\n",
    "    save_to_csv(fred_data)\n"
   ]
  }
 ],
 "metadata": {
  "kernelspec": {
   "display_name": "Python 3",
   "language": "python",
   "name": "python3"
  },
  "language_info": {
   "codemirror_mode": {
    "name": "ipython",
    "version": 3
   },
   "file_extension": ".py",
   "mimetype": "text/x-python",
   "name": "python",
   "nbconvert_exporter": "python",
   "pygments_lexer": "ipython3",
   "version": "3.10.6"
  }
 },
 "nbformat": 4,
 "nbformat_minor": 2
}
