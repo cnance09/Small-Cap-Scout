{
 "cells": [
  {
   "cell_type": "markdown",
   "metadata": {},
   "source": [
    "# FRED Macro Data\n",
    "\n",
    "## Focus Areas\n",
    "\n",
    "After our initial internal group discussion on 02.09.2024, we decided to focus on the following key macroeconomic indicators from the FRED database:\n",
    "\n",
    "- **Most important indicators**: \n",
    "  - Real Gross Domestic Product (GDPC1)\n",
    "  - Federal Funds Effective Rate (FEDFUNDS)\n",
    "  - Unemployment Rate (UNRATE)\n",
    "  - Inflation, consumer prices for the United States (FPCPITOTLZGUSA)\n",
    "\n",
    "- **Timeframe**: \n",
    "  - Data limited to the period from 2010 to 2024.\n"
   ]
  },
  {
   "cell_type": "code",
   "execution_count": 3,
   "metadata": {},
   "outputs": [
    {
     "name": "stdout",
     "output_type": "stream",
     "text": [
      "Requirement already satisfied: requests in /home/dda/.pyenv/versions/3.10.6/envs/lewagon/lib/python3.10/site-packages (2.28.1)\n",
      "Requirement already satisfied: charset-normalizer<3,>=2 in /home/dda/.pyenv/versions/3.10.6/envs/lewagon/lib/python3.10/site-packages (from requests) (2.1.1)\n",
      "Requirement already satisfied: idna<4,>=2.5 in /home/dda/.pyenv/versions/3.10.6/envs/lewagon/lib/python3.10/site-packages (from requests) (3.4)\n",
      "Requirement already satisfied: urllib3<1.27,>=1.21.1 in /home/dda/.pyenv/versions/3.10.6/envs/lewagon/lib/python3.10/site-packages (from requests) (1.26.12)\n",
      "Requirement already satisfied: certifi>=2017.4.17 in /home/dda/.pyenv/versions/3.10.6/envs/lewagon/lib/python3.10/site-packages (from requests) (2022.9.24)\n",
      "Note: you may need to restart the kernel to use updated packages.\n"
     ]
    }
   ],
   "source": [
    "pip install requests"
   ]
  },
  {
   "cell_type": "code",
   "execution_count": 17,
   "metadata": {},
   "outputs": [],
   "source": [
    "import requests\n",
    "\n",
    "# Function to fetch data from the FRED API\n",
    "def fetch_fred_data():\n",
    "    url = \"https://api.stlouisfed.org/fred/series/observations\"\n",
    "    params = {\n",
    "        \"series_id\": \"FEDFUNDS\",\n",
    "        \"realtime_start\": \"2000-01-01\",\n",
    "        \"realtime_end\": \"2022-08-31\",\n",
    "        \"api_key\": \"7bb504adcabc6f374463db2650ad84e5\",\n",
    "        \"file_type\": \"json\"\n",
    "    }\n",
    "\n",
    "    # Make the API request\n",
    "    response = requests.get(url, params=params)\n",
    "\n",
    "    # Check if the request was successful\n",
    "    if response.status_code == 200:\n",
    "        data = response.json()\n",
    "        return data.get('observations', [])\n",
    "    else:\n",
    "        print(f\"Error: {response.status_code} - {response.text}\")\n",
    "        return None\n",
    "\n",
    "# Fetch the data\n",
    "fred_data = fetch_fred_data()\n"
   ]
  },
  {
   "cell_type": "code",
   "execution_count": 18,
   "metadata": {},
   "outputs": [],
   "source": [
    "fred_data = fetch_fred_data()"
   ]
  },
  {
   "cell_type": "code",
   "execution_count": 22,
   "metadata": {},
   "outputs": [
    {
     "name": "stdout",
     "output_type": "stream",
     "text": [
      "Data has been written to fred_observations.csv\n"
     ]
    }
   ],
   "source": [
    "import csv\n",
    "\n",
    "# Function to save data to a CSV file\n",
    "def save_to_csv(data, filename='fred_observations.csv'):\n",
    "    # Open the CSV file in write mode\n",
    "    with open(filename, mode='w', newline='') as file:\n",
    "        writer = csv.writer(file)\n",
    "\n",
    "        # Write the headers\n",
    "        writer.writerow([\"Date\", \"Value\"])\n",
    "\n",
    "        # Write the data rows\n",
    "        for item in data:\n",
    "            writer.writerow([item['date'], item['value']])\n",
    "\n",
    "    print(f\"Data has been written to {filename}\")\n",
    "\n",
    "# Check if data is fetched successfully before writing to CSV\n",
    "if fred_data:\n",
    "    save_to_csv(fred_data)\n"
   ]
  }
 ],
 "metadata": {
  "kernelspec": {
   "display_name": "Python 3",
   "language": "python",
   "name": "python3"
  },
  "language_info": {
   "codemirror_mode": {
    "name": "ipython",
    "version": 3
   },
   "file_extension": ".py",
   "mimetype": "text/x-python",
   "name": "python",
   "nbconvert_exporter": "python",
   "pygments_lexer": "ipython3",
   "version": "3.10.6"
  }
 },
 "nbformat": 4,
 "nbformat_minor": 2
}
