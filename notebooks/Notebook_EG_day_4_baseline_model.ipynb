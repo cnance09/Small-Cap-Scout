{
 "cells": [
  {
   "cell_type": "code",
   "execution_count": 8,
   "metadata": {},
   "outputs": [
    {
     "name": "stderr",
     "output_type": "stream",
     "text": [
      "/Users/eoingaynard/.pyenv/versions/3.10.6/envs/Small-Cap-Scout/lib/python3.10/site-packages/sklearn/utils/validation.py:1339: DataConversionWarning: A column-vector y was passed when a 1d array was expected. Please change the shape of y to (n_samples, ), for example using ravel().\n",
      "  y = column_or_1d(y, warn=True)\n",
      "/Users/eoingaynard/.pyenv/versions/3.10.6/envs/Small-Cap-Scout/lib/python3.10/site-packages/sklearn/utils/validation.py:1339: DataConversionWarning: A column-vector y was passed when a 1d array was expected. Please change the shape of y to (n_samples, ), for example using ravel().\n",
      "  y = column_or_1d(y, warn=True)\n",
      "/Users/eoingaynard/.pyenv/versions/3.10.6/envs/Small-Cap-Scout/lib/python3.10/site-packages/sklearn/utils/validation.py:1339: DataConversionWarning: A column-vector y was passed when a 1d array was expected. Please change the shape of y to (n_samples, ), for example using ravel().\n",
      "  y = column_or_1d(y, warn=True)\n",
      "/Users/eoingaynard/.pyenv/versions/3.10.6/envs/Small-Cap-Scout/lib/python3.10/site-packages/sklearn/utils/validation.py:1339: DataConversionWarning: A column-vector y was passed when a 1d array was expected. Please change the shape of y to (n_samples, ), for example using ravel().\n",
      "  y = column_or_1d(y, warn=True)\n",
      "/Users/eoingaynard/.pyenv/versions/3.10.6/envs/Small-Cap-Scout/lib/python3.10/site-packages/sklearn/utils/validation.py:1339: DataConversionWarning: A column-vector y was passed when a 1d array was expected. Please change the shape of y to (n_samples, ), for example using ravel().\n",
      "  y = column_or_1d(y, warn=True)\n",
      "/Users/eoingaynard/.pyenv/versions/3.10.6/envs/Small-Cap-Scout/lib/python3.10/site-packages/sklearn/utils/validation.py:1339: DataConversionWarning: A column-vector y was passed when a 1d array was expected. Please change the shape of y to (n_samples, ), for example using ravel().\n",
      "  y = column_or_1d(y, warn=True)\n"
     ]
    },
    {
     "name": "stdout",
     "output_type": "stream",
     "text": [
      "Cross-validated Accuracy: 0.7495\n",
      "\n",
      "Classification Report on Test Set:\n",
      "\n",
      "              precision    recall  f1-score   support\n",
      "\n",
      "           0       0.91      0.61      0.73      2548\n",
      "           1       0.69      0.94      0.79      2308\n",
      "\n",
      "    accuracy                           0.77      4856\n",
      "   macro avg       0.80      0.77      0.76      4856\n",
      "weighted avg       0.80      0.77      0.76      4856\n",
      "\n"
     ]
    },
    {
     "name": "stderr",
     "output_type": "stream",
     "text": [
      "/Users/eoingaynard/.pyenv/versions/3.10.6/envs/Small-Cap-Scout/lib/python3.10/site-packages/sklearn/linear_model/_logistic.py:469: ConvergenceWarning: lbfgs failed to converge (status=1):\n",
      "STOP: TOTAL NO. of ITERATIONS REACHED LIMIT.\n",
      "\n",
      "Increase the number of iterations (max_iter) or scale the data as shown in:\n",
      "    https://scikit-learn.org/stable/modules/preprocessing.html\n",
      "Please also refer to the documentation for alternative solver options:\n",
      "    https://scikit-learn.org/stable/modules/linear_model.html#logistic-regression\n",
      "  n_iter_i = _check_optimize_result(\n"
     ]
    }
   ],
   "source": [
    "import pandas as pd\n",
    "from sklearn.linear_model import LogisticRegression\n",
    "from sklearn.model_selection import cross_val_score\n",
    "from sklearn.metrics import classification_report\n",
    "\n",
    "# Step 1: Load y_train, y_test, X_train and X_test from CSV files\n",
    "y_train = pd.read_csv('~/Small-Cap-Scout/raw_data/y_train.csv')\n",
    "y_test = pd.read_csv('~/Small-Cap-Scout/raw_data/y_test.csv')\n",
    "\n",
    "X_train_processed = pd.read_csv('~/Small-Cap-Scout/raw_data/X_train_processed.csv')\n",
    "X_test_processed = pd.read_csv('~/Small-Cap-Scout/raw_data/X_test_processed.csv')\n",
    "\n",
    "# Step 2: Define a growth threshold (e.g., median)\n",
    "threshold = y_train.median().values[0]  # Use `.values[0]` to get the scalar value\n",
    "\n",
    "# Step 3: Convert 'Monthly Avg Market Cap' into a binary label\n",
    "y_train_class = (y_train > threshold).astype(int)  # 1 for high growth, 0 for low growth\n",
    "y_test_class = (y_test > threshold).astype(int)\n",
    "\n",
    "# Step 4: Create a Logistic Regression model\n",
    "logistic_model = LogisticRegression(max_iter=1000)\n",
    "\n",
    "# Step 5: Fit the model on the training data\n",
    "logistic_model.fit(X_train_processed, y_train_class)\n",
    "\n",
    "# Step 6: Evaluate using cross-validation\n",
    "cv_scores = cross_val_score(logistic_model, X_train_processed, y_train_class, cv=5, scoring='accuracy')\n",
    "\n",
    "# Step 7: Test on the test set\n",
    "y_pred_test = logistic_model.predict(X_test_processed)\n",
    "\n",
    "# Step 8: Print performance metrics\n",
    "print(f\"Cross-validated Accuracy: {cv_scores.mean():.4f}\")\n",
    "print(\"\\nClassification Report on Test Set:\\n\")\n",
    "print(classification_report(y_test_class, y_pred_test))"
   ]
  },
  {
   "cell_type": "code",
   "execution_count": null,
   "metadata": {},
   "outputs": [],
   "source": []
  },
  {
   "cell_type": "code",
   "execution_count": null,
   "metadata": {},
   "outputs": [],
   "source": []
  }
 ],
 "metadata": {
  "kernelspec": {
   "display_name": "Small-Cap-Scout",
   "language": "python",
   "name": "python3"
  },
  "language_info": {
   "codemirror_mode": {
    "name": "ipython",
    "version": 3
   },
   "file_extension": ".py",
   "mimetype": "text/x-python",
   "name": "python",
   "nbconvert_exporter": "python",
   "pygments_lexer": "ipython3",
   "version": "3.10.6"
  }
 },
 "nbformat": 4,
 "nbformat_minor": 2
}
