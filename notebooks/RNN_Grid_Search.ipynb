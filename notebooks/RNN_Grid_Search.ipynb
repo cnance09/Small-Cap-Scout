{
 "cells": [
  {
   "cell_type": "code",
   "execution_count": 41,
   "id": "ebc20555",
   "metadata": {},
   "outputs": [],
   "source": [
    "import pandas as pd\n",
    "import numpy as np\n",
    "import matplotlib.pyplot as plt\n",
    "import matplotlib as mpl\n",
    "%matplotlib inline\n",
    "import seaborn as sns\n",
    "import datetime\n",
    "import pickle\n",
    "\n",
    "from sklearn.model_selection import train_test_split\n",
    "from sklearn.pipeline import Pipeline, make_pipeline\n",
    "from sklearn.impute import SimpleImputer\n",
    "from sklearn.preprocessing import RobustScaler, OneHotEncoder, MinMaxScaler\n",
    "from sklearn.compose import ColumnTransformer\n",
    "\n",
    "from sklearn.metrics import accuracy_score, precision_score, recall_score, f1_score\n",
    "from sklearn.linear_model import LogisticRegression\n",
    "from sklearn.model_selection import cross_val_score\n",
    "\n",
    "from tensorflow.keras.models import Sequential\n",
    "from tensorflow.keras.optimizers import Adam\n",
    "from tensorflow.keras import layers\n",
    "from tensorflow.keras.callbacks import EarlyStopping, ReduceLROnPlateau\n",
    "from tensorflow.keras import regularizers\n",
    "\n",
    "# ensure that all columns are shown and that colum content is not cut\n",
    "pd.set_option('display.max_columns', None)\n",
    "pd.set_option('display.max_colwidth', None)\n",
    "pd.set_option('display.width',1000)\n",
    "pd.set_option('display.max_rows', 500) # ensure that all rows are shown\n",
    "\n",
    "def identify_feature_types(df):\n",
    "    \"\"\"Identifies the numerical and categorical columns in the DataFrame.\"\"\"\n",
    "    numerical_features = df.select_dtypes(include=['int64', 'float64']).columns.tolist()\n",
    "    categorical_features = df.select_dtypes(include=['object']).columns.tolist()\n",
    "\n",
    "    # Exclude 'Ticker' from categorical features as it's not needed for transformation\n",
    "    if 'target' in numerical_features:\n",
    "        numerical_features.remove('target')\n",
    "    if 'cik' in numerical_features:\n",
    "        numerical_features.remove('cik')\n",
    "    if 'TICKER' in categorical_features:\n",
    "        categorical_features.remove('TICKER')\n",
    "    if 'quarter' in categorical_features:\n",
    "        categorical_features.remove('quarter')\n",
    "\n",
    "    return numerical_features, categorical_features\n",
    "\n",
    "def create_preprocessing_pipeline(numerical_features, categorical_features):\n",
    "    \"\"\"Creates the preprocessing pipeline for numerical and categorical features.\"\"\"\n",
    "    # Preprocessing for numerical data: RobustScaler to make our numbers más robusto.\n",
    "    numerical_transformer = Pipeline(steps=[\n",
    "        ('imputer', SimpleImputer(strategy='median')),  # Handle NaNs\n",
    "        ('scaler', RobustScaler())  # Scale the data\n",
    "    ])\n",
    "\n",
    "    # Preprocessing for categorical data: OneHotEncoder to give each category its own columm...\n",
    "    categorical_transformer = Pipeline(steps=[\n",
    "        ('imputer', SimpleImputer(strategy='most_frequent')),  # Handle missing categories\n",
    "        ('onehot', OneHotEncoder(handle_unknown='ignore', sparse_output=False))  # Encode categories\n",
    "    ])\n",
    "\n",
    "    # Combine the transformers into one big ColumnTransformer.\n",
    "    preprocessor = ColumnTransformer(\n",
    "        transformers=[\n",
    "            ('num', numerical_transformer, numerical_features),\n",
    "            ('cat', categorical_transformer, categorical_features)\n",
    "        ],\n",
    "        remainder='passthrough'\n",
    "    )\n",
    "\n",
    "    return preprocessor\n",
    "\n",
    "def preprocess_training_data(X_train, preprocessor=None):\n",
    "    \"\"\"Fits and transforms the training data using the provided pipeline.\"\"\"\n",
    "    if preprocessor is None:\n",
    "        # Identify feature types\n",
    "        numerical_features, categorical_features = identify_feature_types(X_train)\n",
    "        preprocessor = create_preprocessing_pipeline(numerical_features, categorical_features)\n",
    "\n",
    "    # Fit and transform the training data\n",
    "    X_train_processed = preprocessor.fit_transform(X_train)\n",
    "    return X_train_processed, preprocessor\n",
    "\n",
    "def preprocess_new_data(X_new, preprocessor):\n",
    "    \"\"\"Transforms new/unseen/test data using a pre-fitted pipeline.\"\"\"\n",
    "    if preprocessor is None:\n",
    "        raise ValueError(\"The preprocessor must be fitted on training data first before transforming new data.\")\n",
    "\n",
    "    # Transform the new data (no fitting here)\n",
    "    X_new_processed = preprocessor.transform(X_new)\n",
    "    return X_new_processed"
   ]
  },
  {
   "cell_type": "code",
   "execution_count": 42,
   "id": "5ebcbdf1",
   "metadata": {},
   "outputs": [],
   "source": [
    "df = pd.read_csv('../raw_data/data_for_preprocessing.csv', index_col=0)"
   ]
  },
  {
   "cell_type": "code",
   "execution_count": 43,
   "id": "a263ccf3",
   "metadata": {},
   "outputs": [
    {
     "data": {
      "text/plain": [
       "(170124, 59)"
      ]
     },
     "execution_count": 43,
     "metadata": {},
     "output_type": "execute_result"
    }
   ],
   "source": [
    "df.shape"
   ]
  },
  {
   "cell_type": "markdown",
   "id": "80a14965",
   "metadata": {},
   "source": [
    "# Initial Run"
   ]
  },
  {
   "cell_type": "code",
   "execution_count": 57,
   "id": "4bed683a",
   "metadata": {},
   "outputs": [],
   "source": [
    "def run_RNN(df, quarters_input=4, threshold=0.5, small_cap=True, horizon='quarter'):\n",
    "\n",
    "    # Set model according to given parameters\n",
    "    if horizon == 'quarter':\n",
    "        col = 'mc_qtr_growth_pct'\n",
    "        adjustment = 0\n",
    "    elif horizon == 'year':\n",
    "        col = 'mc_yr_growth_pct'\n",
    "        adjustment = 3\n",
    "    elif horizon == '2year':\n",
    "        col = 'mc_2yr_growth_pct'\n",
    "        adjustment = 7\n",
    "\n",
    "    final_activation = 'sigmoid'\n",
    "    metrics=['accuracy', 'precision', 'recall']\n",
    "    \n",
    "    df['qtr'] = df.quarter.apply(lambda x: x.split('-')[1])\n",
    "\n",
    "    if small_cap==True:\n",
    "        target_func = lambda x: 1 if ((x[col] > threshold) & (x.small_cap == 1)) else 0\n",
    "    else:\n",
    "        target_func = lambda x: 1 if ((x[col] > threshold)) else 0\n",
    "\n",
    "    df['target'] = df.apply(target_func, axis=1)\n",
    "\n",
    "    # Train_Test Split\n",
    "    unique_groups = df['TICKER'].unique()\n",
    "    train_groups, test_groups = train_test_split(unique_groups, test_size=0.3, random_state=42)\n",
    "\n",
    "    data_train = df[df['TICKER'].isin(train_groups)]\n",
    "    data_test = df[df['TICKER'].isin(test_groups)]\n",
    "\n",
    "    # Remove columns\n",
    "    cols_drop = ['CIK',\n",
    "                 'mc_qtr_growth',\n",
    "                 'mc_qtr_growth_pct',\n",
    "                 'mc_yr_growth',\n",
    "                 'mc_yr_growth_pct',\n",
    "                 'mc_2yr_growth',\n",
    "                 'mc_2yr_growth_pct',\n",
    "                 'date',\n",
    "                 'year']\n",
    "\n",
    "    X_train = data_train[data_train['TICKER'].isin(train_groups)].drop(columns=cols_drop).reset_index(drop=True)\n",
    "    X_test = data_test[data_test['TICKER'].isin(test_groups)].drop(columns=cols_drop).reset_index(drop=True)\n",
    "\n",
    "    # Preprocess X_train and X_test\n",
    "    num, cat = identify_feature_types(X_train)\n",
    "    preprocessor = create_preprocessing_pipeline(num, cat)\n",
    "\n",
    "    X_train_pp, preprocessor = preprocess_training_data(X_train, preprocessor=preprocessor)\n",
    "    X_train_pp = pd.DataFrame(X_train_pp, columns=preprocessor.get_feature_names_out())\n",
    "\n",
    "    X_test_pp = preprocess_new_data(X_test, preprocessor=preprocessor)\n",
    "    X_test_pp = pd.DataFrame(X_test_pp, columns=preprocessor.get_feature_names_out())\n",
    "\n",
    "    X_train_sequences = []\n",
    "    y_train_sequences = []\n",
    "    X_test_sequences = []\n",
    "    y_test_sequences = []\n",
    "\n",
    "    for company in X_train_pp.groupby(['remainder__cik', 'remainder__TICKER']):\n",
    "        for i, _ in enumerate(company[1].iterrows()):\n",
    "            if i+quarters_input+1+adjustment > len(company[1]):\n",
    "                break\n",
    "            sequence = company[1].iloc[i:i+quarters_input, :-4]\n",
    "            target = company[1].iloc[i+quarters_input+adjustment, -1]\n",
    "            X_train_sequences.append(sequence)\n",
    "            y_train_sequences.append(target)\n",
    "    X_train_sequences = np.array(X_train_sequences).astype('float32')\n",
    "    y_train_sequences = np.array(y_train_sequences).astype('float32')\n",
    "\n",
    "    for company in X_test_pp.groupby(['remainder__cik', 'remainder__TICKER']):\n",
    "        for i, _ in enumerate(company[1].iterrows()):\n",
    "            if i+quarters_input+1+adjustment > len(company[1]):\n",
    "                break\n",
    "            sequence = company[1].iloc[i:i+quarters_input, :-4]\n",
    "            target = company[1].iloc[i+quarters_input+adjustment, -1]\n",
    "            X_test_sequences.append(sequence)\n",
    "            y_test_sequences.append(target)\n",
    "    X_test_sequences = np.array(X_test_sequences).astype('float32')\n",
    "    y_test_sequences = np.array(y_test_sequences).astype('float32')\n",
    "            \n",
    "    adam = Adam(learning_rate=0.002, beta_1=0.95)\n",
    "    weight_for_0 = (0.4 / (len(y_train_sequences) - sum(y_train_sequences))) * (len(y_train_sequences) / 2)\n",
    "    weight_for_1 = (0.6 / sum(y_train_sequences)) * (len(y_train_sequences) / 2)\n",
    "\n",
    "    es = EarlyStopping(patience=7, restore_best_weights=True)\n",
    "    plateau = ReduceLROnPlateau()\n",
    "    class_weight = {0: weight_for_0, 1: weight_for_1}\n",
    "\n",
    "    # 1- RNN Architecture\n",
    "    model = Sequential()\n",
    "    model.add(layers.LSTM(units=240, activation='tanh', input_shape=(quarters_input, 121), return_sequences=True))\n",
    "    model.add(layers.Dropout(0.2))\n",
    "    model.add(layers.LSTM(units=160, activation='tanh'))\n",
    "    model.add(layers.Dropout(0.2))\n",
    "    model.add(layers.Dense(140, activation='relu'))\n",
    "    model.add(layers.Dropout(0.2))\n",
    "    model.add(layers.Dense(100, activation='relu'))\n",
    "    model.add(layers.Dropout(0.2))\n",
    "    model.add(layers.Dense(60, activation='relu'))\n",
    "    model.add(layers.Dropout(0.2))\n",
    "    model.add(layers.Dense(30, activation='relu'))\n",
    "    model.add(layers.Dropout(0.2))\n",
    "    model.add(layers.Dense(1, activation=final_activation))\n",
    "\n",
    "    # 2- Compilation\n",
    "    model.compile(loss='binary_crossentropy', \n",
    "                  optimizer=adam, \n",
    "                  metrics=metrics)\n",
    "\n",
    "    # 3- Fit\n",
    "    history = model.fit(X_train_sequences, y_train_sequences, validation_split=0.2, epochs=100, batch_size=32,\n",
    "                        callbacks=[es, plateau], verbose=3, class_weight=class_weight)\n",
    "\n",
    "            \n",
    "    # Save Model\n",
    "    file_name = f\"{datetime.datetime.now()}_RNN_{quarters_input}_qtr_{threshold}_ths_sc_{small_cap}.pkl\"\n",
    "    model_dir = '../models/'\n",
    "\n",
    "    with open(model_dir+file_name, \"wb\") as file:\n",
    "        pickle.dump(model, file)\n",
    "        \n",
    "    tar_pct = round((y_train_sequences.sum() / y_train_sequences.shape)[0],4)\n",
    "    val_pre = round(np.mean(history.history.get('val_precision')),4)\n",
    "    val_acc = round(np.mean(history.history.get('val_accuracy')),4)\n",
    "    val_rec = round(np.mean(history.history.get('val_recall')),4)\n",
    "    \n",
    "    entry = {file_name: {'target_pct': tar_pct, 'accuracy': val_acc, 'precision': val_pre, 'recall': val_rec, 'params': [quarters_input, threshold, small_cap, horizon]}}\n",
    "    print(entry)\n",
    "    return entry"
   ]
  },
  {
   "cell_type": "code",
   "execution_count": 58,
   "id": "e5fb6bdf",
   "metadata": {},
   "outputs": [],
   "source": [
    "quarters_input= list(range(4, 13, 4)) #3\n",
    "threshold = [0.3, 0.5] #2\n",
    "small_cap=[True, False] #2\n",
    "horizon=['quarter-ahead', 'year-ahead', 'two-years-ahead'] #3\n"
   ]
  },
  {
   "cell_type": "code",
   "execution_count": 59,
   "id": "34ec2b45",
   "metadata": {},
   "outputs": [],
   "source": [
    "results = []"
   ]
  },
  {
   "cell_type": "code",
   "execution_count": null,
   "id": "5009e596",
   "metadata": {},
   "outputs": [
    {
     "name": "stdout",
     "output_type": "stream",
     "text": [
      "Epoch 1/100\n"
     ]
    },
    {
     "name": "stderr",
     "output_type": "stream",
     "text": [
      "/Users/christophernance/.pyenv/versions/3.10.6/envs/small-cap-scout/lib/python3.10/site-packages/keras/src/layers/rnn/rnn.py:204: UserWarning: Do not pass an `input_shape`/`input_dim` argument to a layer. When using Sequential models, prefer using an `Input(shape)` object as the first layer in the model instead.\n",
      "  super().__init__(**kwargs)\n"
     ]
    },
    {
     "name": "stdout",
     "output_type": "stream",
     "text": [
      "Epoch 2/100\n",
      "Epoch 3/100\n",
      "Epoch 4/100\n",
      "Epoch 5/100\n",
      "Epoch 6/100\n",
      "Epoch 7/100\n",
      "Epoch 8/100\n",
      "Epoch 9/100\n",
      "Epoch 10/100\n",
      "Epoch 11/100\n",
      "Epoch 12/100\n",
      "Epoch 13/100\n",
      "{'2024-09-12 10:05:25.049709_RNN_4_qtr_0.3_ths_sc_True.pkl': {'target_pct': 0.0878, 'accuracy': 0.8853, 'precision': 0.2351, 'recall': 0.0142, 'params': [4, 0.3, True, 'quarter']}}\n",
      "Epoch 1/100\n"
     ]
    },
    {
     "name": "stderr",
     "output_type": "stream",
     "text": [
      "/Users/christophernance/.pyenv/versions/3.10.6/envs/small-cap-scout/lib/python3.10/site-packages/keras/src/layers/rnn/rnn.py:204: UserWarning: Do not pass an `input_shape`/`input_dim` argument to a layer. When using Sequential models, prefer using an `Input(shape)` object as the first layer in the model instead.\n",
      "  super().__init__(**kwargs)\n"
     ]
    },
    {
     "name": "stdout",
     "output_type": "stream",
     "text": [
      "Epoch 2/100\n",
      "Epoch 3/100\n",
      "Epoch 4/100\n",
      "Epoch 5/100\n",
      "Epoch 6/100\n",
      "Epoch 7/100\n",
      "Epoch 8/100\n",
      "Epoch 9/100\n",
      "Epoch 10/100\n",
      "Epoch 11/100\n",
      "Epoch 12/100\n",
      "{'2024-09-12 10:08:32.472614_RNN_4_qtr_0.3_ths_sc_True.pkl': {'target_pct': 0.178, 'accuracy': 0.8042, 'precision': 0.5961, 'recall': 0.0984, 'params': [4, 0.3, True, 'year']}}\n",
      "Epoch 1/100\n"
     ]
    },
    {
     "name": "stderr",
     "output_type": "stream",
     "text": [
      "/Users/christophernance/.pyenv/versions/3.10.6/envs/small-cap-scout/lib/python3.10/site-packages/keras/src/layers/rnn/rnn.py:204: UserWarning: Do not pass an `input_shape`/`input_dim` argument to a layer. When using Sequential models, prefer using an `Input(shape)` object as the first layer in the model instead.\n",
      "  super().__init__(**kwargs)\n"
     ]
    },
    {
     "name": "stdout",
     "output_type": "stream",
     "text": [
      "Epoch 2/100\n",
      "Epoch 3/100\n",
      "Epoch 4/100\n",
      "Epoch 5/100\n",
      "Epoch 6/100\n",
      "Epoch 7/100\n",
      "Epoch 8/100\n",
      "Epoch 9/100\n",
      "Epoch 10/100\n",
      "{'2024-09-12 10:10:52.552133_RNN_4_qtr_0.3_ths_sc_True.pkl': {'target_pct': 0.2182, 'accuracy': 0.7666, 'precision': 0.457, 'recall': 0.1446, 'params': [4, 0.3, True, '2year']}}\n",
      "Epoch 1/100\n"
     ]
    },
    {
     "name": "stderr",
     "output_type": "stream",
     "text": [
      "/Users/christophernance/.pyenv/versions/3.10.6/envs/small-cap-scout/lib/python3.10/site-packages/keras/src/layers/rnn/rnn.py:204: UserWarning: Do not pass an `input_shape`/`input_dim` argument to a layer. When using Sequential models, prefer using an `Input(shape)` object as the first layer in the model instead.\n",
      "  super().__init__(**kwargs)\n"
     ]
    },
    {
     "name": "stdout",
     "output_type": "stream",
     "text": [
      "Epoch 2/100\n",
      "Epoch 3/100\n",
      "Epoch 4/100\n",
      "Epoch 5/100\n",
      "Epoch 6/100\n",
      "Epoch 7/100\n",
      "Epoch 8/100\n",
      "Epoch 9/100\n",
      "Epoch 10/100\n",
      "Epoch 11/100\n",
      "Epoch 12/100\n",
      "Epoch 13/100\n",
      "{'2024-09-12 10:14:49.917173_RNN_4_qtr_0.3_ths_sc_False.pkl': {'target_pct': 0.1071, 'accuracy': 0.8597, 'precision': 0.3634, 'recall': 0.0141, 'params': [4, 0.3, False, 'quarter']}}\n",
      "Epoch 1/100\n"
     ]
    },
    {
     "name": "stderr",
     "output_type": "stream",
     "text": [
      "/Users/christophernance/.pyenv/versions/3.10.6/envs/small-cap-scout/lib/python3.10/site-packages/keras/src/layers/rnn/rnn.py:204: UserWarning: Do not pass an `input_shape`/`input_dim` argument to a layer. When using Sequential models, prefer using an `Input(shape)` object as the first layer in the model instead.\n",
      "  super().__init__(**kwargs)\n"
     ]
    },
    {
     "name": "stdout",
     "output_type": "stream",
     "text": [
      "Epoch 2/100\n",
      "Epoch 3/100\n",
      "Epoch 4/100\n",
      "Epoch 5/100\n",
      "Epoch 6/100\n",
      "Epoch 7/100\n",
      "Epoch 8/100\n",
      "Epoch 9/100\n",
      "Epoch 10/100\n",
      "Epoch 11/100\n",
      "{'2024-09-12 10:17:54.103194_RNN_4_qtr_0.3_ths_sc_False.pkl': {'target_pct': 0.2712, 'accuracy': 0.7184, 'precision': 0.5806, 'recall': 0.0943, 'params': [4, 0.3, False, 'year']}}\n",
      "Epoch 1/100\n"
     ]
    },
    {
     "name": "stderr",
     "output_type": "stream",
     "text": [
      "/Users/christophernance/.pyenv/versions/3.10.6/envs/small-cap-scout/lib/python3.10/site-packages/keras/src/layers/rnn/rnn.py:204: UserWarning: Do not pass an `input_shape`/`input_dim` argument to a layer. When using Sequential models, prefer using an `Input(shape)` object as the first layer in the model instead.\n",
      "  super().__init__(**kwargs)\n"
     ]
    },
    {
     "name": "stdout",
     "output_type": "stream",
     "text": [
      "Epoch 2/100\n",
      "Epoch 3/100\n",
      "Epoch 4/100\n",
      "Epoch 5/100\n",
      "Epoch 6/100\n",
      "Epoch 7/100\n",
      "Epoch 8/100\n",
      "Epoch 9/100\n",
      "Epoch 10/100\n",
      "{'2024-09-12 10:20:13.755390_RNN_4_qtr_0.3_ths_sc_False.pkl': {'target_pct': 0.3781, 'accuracy': 0.6398, 'precision': 0.486, 'recall': 0.1873, 'params': [4, 0.3, False, '2year']}}\n",
      "Epoch 1/100\n"
     ]
    },
    {
     "name": "stderr",
     "output_type": "stream",
     "text": [
      "/Users/christophernance/.pyenv/versions/3.10.6/envs/small-cap-scout/lib/python3.10/site-packages/keras/src/layers/rnn/rnn.py:204: UserWarning: Do not pass an `input_shape`/`input_dim` argument to a layer. When using Sequential models, prefer using an `Input(shape)` object as the first layer in the model instead.\n",
      "  super().__init__(**kwargs)\n"
     ]
    },
    {
     "name": "stdout",
     "output_type": "stream",
     "text": [
      "Epoch 2/100\n",
      "Epoch 3/100\n",
      "Epoch 4/100\n",
      "Epoch 5/100\n",
      "Epoch 6/100\n",
      "Epoch 7/100\n",
      "Epoch 8/100\n",
      "Epoch 9/100\n",
      "Epoch 10/100\n",
      "Epoch 11/100\n",
      "Epoch 12/100\n",
      "Epoch 13/100\n",
      "Epoch 14/100\n",
      "Epoch 15/100\n",
      "Epoch 16/100\n",
      "Epoch 17/100\n",
      "Epoch 18/100\n",
      "Epoch 19/100\n",
      "Epoch 20/100\n",
      "Epoch 21/100\n",
      "Epoch 22/100\n",
      "Epoch 23/100\n",
      "Epoch 24/100\n",
      "Epoch 25/100\n",
      "Epoch 26/100\n",
      "Epoch 27/100\n",
      "{'2024-09-12 10:28:24.470842_RNN_4_qtr_0.5_ths_sc_True.pkl': {'target_pct': 0.0485, 'accuracy': 0.9286, 'precision': 0.0787, 'recall': 0.0016, 'params': [4, 0.5, True, 'quarter']}}\n",
      "Epoch 1/100\n"
     ]
    },
    {
     "name": "stderr",
     "output_type": "stream",
     "text": [
      "/Users/christophernance/.pyenv/versions/3.10.6/envs/small-cap-scout/lib/python3.10/site-packages/keras/src/layers/rnn/rnn.py:204: UserWarning: Do not pass an `input_shape`/`input_dim` argument to a layer. When using Sequential models, prefer using an `Input(shape)` object as the first layer in the model instead.\n",
      "  super().__init__(**kwargs)\n"
     ]
    },
    {
     "name": "stdout",
     "output_type": "stream",
     "text": [
      "Epoch 2/100\n",
      "Epoch 3/100\n",
      "Epoch 4/100\n",
      "Epoch 5/100\n",
      "Epoch 6/100\n",
      "Epoch 7/100\n",
      "Epoch 8/100\n",
      "Epoch 9/100\n",
      "Epoch 10/100\n",
      "Epoch 11/100\n",
      "Epoch 12/100\n",
      "{'2024-09-12 10:32:36.120106_RNN_4_qtr_0.5_ths_sc_True.pkl': {'target_pct': 0.126, 'accuracy': 0.846, 'precision': 0.5443, 'recall': 0.0665, 'params': [4, 0.5, True, 'year']}}\n",
      "Epoch 1/100\n"
     ]
    },
    {
     "name": "stderr",
     "output_type": "stream",
     "text": [
      "/Users/christophernance/.pyenv/versions/3.10.6/envs/small-cap-scout/lib/python3.10/site-packages/keras/src/layers/rnn/rnn.py:204: UserWarning: Do not pass an `input_shape`/`input_dim` argument to a layer. When using Sequential models, prefer using an `Input(shape)` object as the first layer in the model instead.\n",
      "  super().__init__(**kwargs)\n"
     ]
    },
    {
     "name": "stdout",
     "output_type": "stream",
     "text": [
      "Epoch 2/100\n",
      "Epoch 3/100\n",
      "Epoch 4/100\n",
      "Epoch 5/100\n",
      "Epoch 6/100\n",
      "Epoch 7/100\n",
      "Epoch 8/100\n",
      "Epoch 9/100\n",
      "Epoch 10/100\n",
      "{'2024-09-12 10:35:48.066088_RNN_4_qtr_0.5_ths_sc_True.pkl': {'target_pct': 0.1672, 'accuracy': 0.8028, 'precision': 0.3536, 'recall': 0.0958, 'params': [4, 0.5, True, '2year']}}\n",
      "Epoch 1/100\n"
     ]
    },
    {
     "name": "stderr",
     "output_type": "stream",
     "text": [
      "/Users/christophernance/.pyenv/versions/3.10.6/envs/small-cap-scout/lib/python3.10/site-packages/keras/src/layers/rnn/rnn.py:204: UserWarning: Do not pass an `input_shape`/`input_dim` argument to a layer. When using Sequential models, prefer using an `Input(shape)` object as the first layer in the model instead.\n",
      "  super().__init__(**kwargs)\n"
     ]
    },
    {
     "name": "stdout",
     "output_type": "stream",
     "text": [
      "Epoch 2/100\n",
      "Epoch 3/100\n",
      "Epoch 4/100\n",
      "Epoch 5/100\n",
      "Epoch 6/100\n",
      "Epoch 7/100\n",
      "Epoch 8/100\n",
      "Epoch 9/100\n",
      "Epoch 10/100\n",
      "Epoch 11/100\n",
      "Epoch 12/100\n",
      "Epoch 13/100\n",
      "Epoch 14/100\n",
      "Epoch 15/100\n",
      "{'2024-09-12 10:41:54.643994_RNN_4_qtr_0.5_ths_sc_False.pkl': {'target_pct': 0.0545, 'accuracy': 0.9194, 'precision': 0.0458, 'recall': 0.0012, 'params': [4, 0.5, False, 'quarter']}}\n",
      "Epoch 1/100\n"
     ]
    },
    {
     "name": "stderr",
     "output_type": "stream",
     "text": [
      "/Users/christophernance/.pyenv/versions/3.10.6/envs/small-cap-scout/lib/python3.10/site-packages/keras/src/layers/rnn/rnn.py:204: UserWarning: Do not pass an `input_shape`/`input_dim` argument to a layer. When using Sequential models, prefer using an `Input(shape)` object as the first layer in the model instead.\n",
      "  super().__init__(**kwargs)\n"
     ]
    },
    {
     "name": "stdout",
     "output_type": "stream",
     "text": [
      "Epoch 2/100\n",
      "Epoch 3/100\n",
      "Epoch 4/100\n",
      "Epoch 5/100\n",
      "Epoch 6/100\n",
      "Epoch 7/100\n",
      "Epoch 8/100\n",
      "Epoch 9/100\n",
      "Epoch 10/100\n",
      "Epoch 11/100\n",
      "Epoch 12/100\n",
      "{'2024-09-12 10:46:50.327032_RNN_4_qtr_0.5_ths_sc_False.pkl': {'target_pct': 0.1754, 'accuracy': 0.7899, 'precision': 0.5065, 'recall': 0.0806, 'params': [4, 0.5, False, 'year']}}\n",
      "Epoch 1/100\n"
     ]
    },
    {
     "name": "stderr",
     "output_type": "stream",
     "text": [
      "/Users/christophernance/.pyenv/versions/3.10.6/envs/small-cap-scout/lib/python3.10/site-packages/keras/src/layers/rnn/rnn.py:204: UserWarning: Do not pass an `input_shape`/`input_dim` argument to a layer. When using Sequential models, prefer using an `Input(shape)` object as the first layer in the model instead.\n",
      "  super().__init__(**kwargs)\n"
     ]
    },
    {
     "name": "stdout",
     "output_type": "stream",
     "text": [
      "Epoch 2/100\n",
      "Epoch 3/100\n",
      "Epoch 4/100\n",
      "Epoch 5/100\n",
      "Epoch 6/100\n",
      "Epoch 7/100\n",
      "Epoch 8/100\n",
      "Epoch 9/100\n",
      "Epoch 10/100\n",
      "{'2024-09-12 10:50:32.861442_RNN_4_qtr_0.5_ths_sc_False.pkl': {'target_pct': 0.2733, 'accuracy': 0.7058, 'precision': 0.351, 'recall': 0.1131, 'params': [4, 0.5, False, '2year']}}\n"
     ]
    },
    {
     "name": "stderr",
     "output_type": "stream",
     "text": [
      "/Users/christophernance/.pyenv/versions/3.10.6/envs/small-cap-scout/lib/python3.10/site-packages/keras/src/layers/rnn/rnn.py:204: UserWarning: Do not pass an `input_shape`/`input_dim` argument to a layer. When using Sequential models, prefer using an `Input(shape)` object as the first layer in the model instead.\n",
      "  super().__init__(**kwargs)\n"
     ]
    },
    {
     "name": "stdout",
     "output_type": "stream",
     "text": [
      "Epoch 1/100\n",
      "Epoch 2/100\n",
      "Epoch 3/100\n",
      "Epoch 4/100\n",
      "Epoch 5/100\n",
      "Epoch 6/100\n",
      "Epoch 7/100\n",
      "Epoch 8/100\n",
      "Epoch 9/100\n",
      "Epoch 10/100\n",
      "Epoch 11/100\n",
      "Epoch 12/100\n",
      "Epoch 13/100\n",
      "Epoch 14/100\n",
      "Epoch 15/100\n",
      "Epoch 16/100\n",
      "Epoch 17/100\n",
      "{'2024-09-12 11:03:24.811925_RNN_8_qtr_0.3_ths_sc_True.pkl': {'target_pct': 0.0823, 'accuracy': 0.8875, 'precision': 0.0, 'recall': 0.0, 'params': [8, 0.3, True, 'quarter']}}\n",
      "Epoch 1/100\n"
     ]
    },
    {
     "name": "stderr",
     "output_type": "stream",
     "text": [
      "/Users/christophernance/.pyenv/versions/3.10.6/envs/small-cap-scout/lib/python3.10/site-packages/keras/src/layers/rnn/rnn.py:204: UserWarning: Do not pass an `input_shape`/`input_dim` argument to a layer. When using Sequential models, prefer using an `Input(shape)` object as the first layer in the model instead.\n",
      "  super().__init__(**kwargs)\n"
     ]
    },
    {
     "name": "stdout",
     "output_type": "stream",
     "text": [
      "Epoch 2/100\n",
      "Epoch 3/100\n",
      "Epoch 4/100\n",
      "Epoch 5/100\n",
      "Epoch 6/100\n",
      "Epoch 7/100\n",
      "Epoch 8/100\n",
      "Epoch 9/100\n",
      "Epoch 10/100\n",
      "Epoch 11/100\n",
      "Epoch 12/100\n",
      "{'2024-09-12 11:09:21.189881_RNN_8_qtr_0.3_ths_sc_True.pkl': {'target_pct': 0.1631, 'accuracy': 0.8113, 'precision': 0.5797, 'recall': 0.1133, 'params': [8, 0.3, True, 'year']}}\n",
      "Epoch 1/100\n"
     ]
    },
    {
     "name": "stderr",
     "output_type": "stream",
     "text": [
      "/Users/christophernance/.pyenv/versions/3.10.6/envs/small-cap-scout/lib/python3.10/site-packages/keras/src/layers/rnn/rnn.py:204: UserWarning: Do not pass an `input_shape`/`input_dim` argument to a layer. When using Sequential models, prefer using an `Input(shape)` object as the first layer in the model instead.\n",
      "  super().__init__(**kwargs)\n"
     ]
    },
    {
     "name": "stdout",
     "output_type": "stream",
     "text": [
      "Epoch 2/100\n",
      "Epoch 3/100\n",
      "Epoch 4/100\n",
      "Epoch 5/100\n",
      "Epoch 6/100\n",
      "Epoch 7/100\n",
      "Epoch 8/100\n",
      "Epoch 9/100\n",
      "Epoch 10/100\n",
      "Epoch 11/100\n",
      "{'2024-09-12 11:13:45.704289_RNN_8_qtr_0.3_ths_sc_True.pkl': {'target_pct': 0.2053, 'accuracy': 0.7759, 'precision': 0.3362, 'recall': 0.096, 'params': [8, 0.3, True, '2year']}}\n",
      "Epoch 1/100\n"
     ]
    },
    {
     "name": "stderr",
     "output_type": "stream",
     "text": [
      "/Users/christophernance/.pyenv/versions/3.10.6/envs/small-cap-scout/lib/python3.10/site-packages/keras/src/layers/rnn/rnn.py:204: UserWarning: Do not pass an `input_shape`/`input_dim` argument to a layer. When using Sequential models, prefer using an `Input(shape)` object as the first layer in the model instead.\n",
      "  super().__init__(**kwargs)\n"
     ]
    },
    {
     "name": "stdout",
     "output_type": "stream",
     "text": [
      "Epoch 2/100\n",
      "Epoch 3/100\n",
      "Epoch 4/100\n",
      "Epoch 5/100\n",
      "Epoch 6/100\n",
      "Epoch 7/100\n",
      "Epoch 8/100\n",
      "Epoch 9/100\n",
      "Epoch 10/100\n",
      "Epoch 11/100\n",
      "Epoch 12/100\n",
      "Epoch 13/100\n",
      "Epoch 14/100\n",
      "{'2024-09-12 11:21:49.590558_RNN_8_qtr_0.3_ths_sc_False.pkl': {'target_pct': 0.1016, 'accuracy': 0.8642, 'precision': 0.1601, 'recall': 0.0087, 'params': [8, 0.3, False, 'quarter']}}\n",
      "Epoch 1/100\n"
     ]
    },
    {
     "name": "stderr",
     "output_type": "stream",
     "text": [
      "/Users/christophernance/.pyenv/versions/3.10.6/envs/small-cap-scout/lib/python3.10/site-packages/keras/src/layers/rnn/rnn.py:204: UserWarning: Do not pass an `input_shape`/`input_dim` argument to a layer. When using Sequential models, prefer using an `Input(shape)` object as the first layer in the model instead.\n",
      "  super().__init__(**kwargs)\n"
     ]
    },
    {
     "name": "stdout",
     "output_type": "stream",
     "text": [
      "Epoch 2/100\n",
      "Epoch 3/100\n",
      "Epoch 4/100\n",
      "Epoch 5/100\n",
      "Epoch 6/100\n",
      "Epoch 7/100\n",
      "Epoch 8/100\n",
      "Epoch 9/100\n",
      "Epoch 10/100\n",
      "Epoch 11/100\n",
      "Epoch 12/100\n",
      "{'2024-09-12 11:30:21.126793_RNN_8_qtr_0.3_ths_sc_False.pkl': {'target_pct': 0.2584, 'accuracy': 0.7278, 'precision': 0.5454, 'recall': 0.1186, 'params': [8, 0.3, False, 'year']}}\n",
      "Epoch 1/100\n"
     ]
    },
    {
     "name": "stderr",
     "output_type": "stream",
     "text": [
      "/Users/christophernance/.pyenv/versions/3.10.6/envs/small-cap-scout/lib/python3.10/site-packages/keras/src/layers/rnn/rnn.py:204: UserWarning: Do not pass an `input_shape`/`input_dim` argument to a layer. When using Sequential models, prefer using an `Input(shape)` object as the first layer in the model instead.\n",
      "  super().__init__(**kwargs)\n"
     ]
    },
    {
     "name": "stdout",
     "output_type": "stream",
     "text": [
      "Epoch 2/100\n",
      "Epoch 3/100\n",
      "Epoch 4/100\n",
      "Epoch 5/100\n",
      "Epoch 6/100\n",
      "Epoch 7/100\n",
      "Epoch 8/100\n",
      "Epoch 9/100\n",
      "{'2024-09-12 11:35:36.169601_RNN_8_qtr_0.3_ths_sc_False.pkl': {'target_pct': 0.3662, 'accuracy': 0.643, 'precision': 0.4823, 'recall': 0.1361, 'params': [8, 0.3, False, '2year']}}\n"
     ]
    },
    {
     "name": "stderr",
     "output_type": "stream",
     "text": [
      "/Users/christophernance/.pyenv/versions/3.10.6/envs/small-cap-scout/lib/python3.10/site-packages/keras/src/layers/rnn/rnn.py:204: UserWarning: Do not pass an `input_shape`/`input_dim` argument to a layer. When using Sequential models, prefer using an `Input(shape)` object as the first layer in the model instead.\n",
      "  super().__init__(**kwargs)\n"
     ]
    },
    {
     "name": "stdout",
     "output_type": "stream",
     "text": [
      "Epoch 1/100\n",
      "Epoch 2/100\n",
      "Epoch 3/100\n",
      "Epoch 4/100\n",
      "Epoch 5/100\n"
     ]
    }
   ],
   "source": [
    "results = []\n",
    "for q in quarters_input:\n",
    "    for t in threshold:\n",
    "        for s in small_cap:\n",
    "            for h in horizon:\n",
    "                results.append(run_RNN(df, quarters_input=q, threshold=t, small_cap=s, horizon=h))"
   ]
  },
  {
   "cell_type": "code",
   "execution_count": null,
   "id": "b1cfb5a9",
   "metadata": {},
   "outputs": [],
   "source": [
    "len(results)"
   ]
  },
  {
   "cell_type": "code",
   "execution_count": null,
   "id": "a091d960",
   "metadata": {},
   "outputs": [],
   "source": [
    "idx = []\n",
    "content = {'target_pct': [], 'accuracy': [], 'precision': [], 'recall': [], 'params': []}\n",
    "\n",
    "for line in results:\n",
    "    for k in content.keys():\n",
    "        content[k].append(list(line.values())[0].get(k))\n",
    "    idx.append(list(line.keys())[0])\n",
    "    \n",
    "content_df = pd.DataFrame(content, index=idx)"
   ]
  },
  {
   "cell_type": "code",
   "execution_count": null,
   "id": "36639f22",
   "metadata": {},
   "outputs": [],
   "source": [
    "content_df.to_csv('../raw_data/Datasets/RNN_GS_v2.csv', sep=';')"
   ]
  },
  {
   "cell_type": "code",
   "execution_count": null,
   "id": "070e333e",
   "metadata": {},
   "outputs": [],
   "source": [
    "content_df.info()"
   ]
  },
  {
   "cell_type": "code",
   "execution_count": null,
   "id": "9aafc748",
   "metadata": {},
   "outputs": [],
   "source": []
  },
  {
   "cell_type": "code",
   "execution_count": null,
   "id": "b61aac37",
   "metadata": {},
   "outputs": [],
   "source": []
  },
  {
   "cell_type": "markdown",
   "id": "36e8d13d",
   "metadata": {},
   "source": [
    "# Final Run\n"
   ]
  },
  {
   "cell_type": "code",
   "execution_count": null,
   "id": "1b940169",
   "metadata": {},
   "outputs": [],
   "source": [
    "def run_RNN_v2(df, quarters_input=4, threshold=0.5, small_cap=True, horizon='quarter'):\n",
    "\n",
    "    # Set model according to given parameters\n",
    "    if horizon == 'quarter':\n",
    "        col = 'mc_qtr_growth_pct'\n",
    "        adjustment = 0\n",
    "    elif horizon == 'year':\n",
    "        col = 'mc_yr_growth_pct'\n",
    "        adjustment = 3\n",
    "    elif horizon == '2year':\n",
    "        col = 'mc_2yr_growth_pct'\n",
    "        adjustment = 7\n",
    "\n",
    "    final_activation = 'sigmoid'\n",
    "    metrics=['accuracy', 'precision', 'recall']\n",
    "    \n",
    "    df['qtr'] = df.quarter.apply(lambda x: x.split('-')[1])\n",
    "\n",
    "    if small_cap==True:\n",
    "        target_func = lambda x: 1 if ((x[col] > threshold) & (x.small_cap == 1)) else 0\n",
    "    else:\n",
    "        target_func = lambda x: 1 if ((x[col] > threshold)) else 0\n",
    "\n",
    "    df['target'] = df.apply(target_func, axis=1)\n",
    "\n",
    "    # Remove columns\n",
    "    cols_drop = ['CIK',\n",
    "                 'mc_qtr_growth',\n",
    "                 'mc_qtr_growth_pct',\n",
    "                 'mc_yr_growth',\n",
    "                 'mc_yr_growth_pct',\n",
    "                 'mc_2yr_growth',\n",
    "                 'mc_2yr_growth_pct',\n",
    "                 'date',\n",
    "                 'year']\n",
    "\n",
    "    df = df[data_train['TICKER']].drop(columns=cols_drop).reset_index(drop=True)\n",
    "\n",
    "    # Preprocess X_train and X_test\n",
    "    num, cat = identify_feature_types(df)\n",
    "    preprocessor = create_preprocessing_pipeline(num, cat)\n",
    "\n",
    "    df_pp, preprocessor = preprocess_training_data(df, preprocessor=preprocessor)\n",
    "    df_pp = pd.DataFrame(df_pp, columns=preprocessor.get_feature_names_out())\n",
    "\n",
    "    X_train_sequences = []\n",
    "    y_train_sequences = []\n",
    "\n",
    "    for company in df_pp.groupby(['remainder__cik', 'remainder__TICKER']):\n",
    "        for i, _ in enumerate(company[1].iterrows()):\n",
    "            if i+quarters_input+1+adjustment > len(company[1]):\n",
    "                break\n",
    "            sequence = company[1].iloc[i:i+quarters_input, :-4]\n",
    "            target = company[1].iloc[i+quarters_input+adjustment, -1]\n",
    "            X_train_sequences.append(sequence)\n",
    "            y_train_sequences.append(target)\n",
    "    X_train_sequences = np.array(X_train_sequences).astype('float32')\n",
    "    y_train_sequences = np.array(y_train_sequences).astype('float32')\n",
    "            \n",
    "    adam = Adam(learning_rate=0.002, beta_1=0.95)\n",
    "    weight_for_0 = (0.4 / (len(y_train_sequences) - sum(y_train_sequences))) * (len(y_train_sequences) / 2)\n",
    "    weight_for_1 = (0.6 / sum(y_train_sequences)) * (len(y_train_sequences) / 2)\n",
    "\n",
    "    es = EarlyStopping(patience=7, restore_best_weights=True)\n",
    "    plateau = ReduceLROnPlateau()\n",
    "    class_weight = {0: weight_for_0, 1: weight_for_1}\n",
    "\n",
    "    # 1- RNN Architecture\n",
    "    model = Sequential()\n",
    "    model.add(layers.LSTM(units=240, activation='tanh', input_shape=(quarters_input, 121), return_sequences=True))\n",
    "    model.add(layers.Dropout(0.2))\n",
    "    model.add(layers.LSTM(units=160, activation='tanh'))\n",
    "    model.add(layers.Dropout(0.2))\n",
    "    model.add(layers.Dense(140, activation='relu'))\n",
    "    model.add(layers.Dropout(0.2))\n",
    "    model.add(layers.Dense(100, activation='relu'))\n",
    "    model.add(layers.Dropout(0.2))\n",
    "    model.add(layers.Dense(60, activation='relu'))\n",
    "    model.add(layers.Dropout(0.2))\n",
    "    model.add(layers.Dense(30, activation='relu'))\n",
    "    model.add(layers.Dropout(0.2))\n",
    "    model.add(layers.Dense(1, activation=final_activation))\n",
    "\n",
    "    # 2- Compilation\n",
    "    model.compile(loss='binary_crossentropy', \n",
    "                  optimizer=adam, \n",
    "                  metrics=metrics)\n",
    "\n",
    "    # 3- Fit\n",
    "    history = model.fit(X_train_sequences, y_train_sequences, validation_split=0.2, epochs=100, batch_size=32,\n",
    "                        callbacks=[es, plateau], verbose=3, class_weight=class_weight)\n",
    "    \n",
    "    thresh = str(threshold*100).split('.')[0]\n",
    "            \n",
    "    # Save Model\n",
    "    file_name = f\"rnn_sc{small_cap}_{horizon}_{quarters_input}_seq_{thresh}.pkl\"\n",
    "    model_dir = '../models/'\n",
    "    \n",
    "    with open(model_dir+file_name, \"wb\") as file:\n",
    "        pickle.dump(model, file)\n",
    "        \n",
    "    tar_pct = round((y_train_sequences.sum() / y_train_sequences.shape)[0],4)\n",
    "    val_pre = round(np.mean(history.history.get('val_precision')),4)\n",
    "    val_acc = round(np.mean(history.history.get('val_accuracy')),4)\n",
    "    val_rec = round(np.mean(history.history.get('val_recall')),4)\n",
    "    \n",
    "    entry = {file_name: {'target_pct': tar_pct, 'accuracy': val_acc, 'precision': val_pre, 'recall': val_rec, 'params': [quarters_input, threshold, small_cap, horizon]}}\n",
    "    print(entry)\n",
    "    return entry"
   ]
  },
  {
   "cell_type": "code",
   "execution_count": null,
   "id": "8c4ef9fa",
   "metadata": {},
   "outputs": [],
   "source": [
    "quarters_input= list(range(4, 13, 4)) #3\n",
    "threshold = [0.3, 0.5] #2\n",
    "small_cap=[True, False] #2\n",
    "horizon=['quarter-ahead', 'year-ahead', 'two-years-ahead'] #3"
   ]
  },
  {
   "cell_type": "code",
   "execution_count": null,
   "id": "8dd0c094",
   "metadata": {},
   "outputs": [],
   "source": [
    "results2 = []\n",
    "for q in quarters_input:\n",
    "    for t in threshold:\n",
    "        for s in small_cap:\n",
    "            for h in horizon:\n",
    "                results.append(run_RNN(df, quarters_input=q, threshold=t, small_cap=s, horizon=h))"
   ]
  },
  {
   "cell_type": "code",
   "execution_count": null,
   "id": "5e593b4a",
   "metadata": {},
   "outputs": [],
   "source": [
    "idx = []\n",
    "content = {'target_pct': [], 'accuracy': [], 'precision': [], 'recall': [], 'params': []}\n",
    "\n",
    "for line in results2:\n",
    "    for k in content.keys():\n",
    "        content[k].append(list(line.values())[0].get(k))\n",
    "    idx.append(list(line.keys())[0])\n",
    "    \n",
    "content_df = pd.DataFrame(content, index=idx)"
   ]
  },
  {
   "cell_type": "code",
   "execution_count": null,
   "id": "5a65498e",
   "metadata": {},
   "outputs": [],
   "source": [
    "content_df.to_csv('../raw_data/Datasets/RNN_GS_v3.csv', sep=';')"
   ]
  }
 ],
 "metadata": {
  "kernelspec": {
   "display_name": "Python 3 (ipykernel)",
   "language": "python",
   "name": "python3"
  },
  "language_info": {
   "codemirror_mode": {
    "name": "ipython",
    "version": 3
   },
   "file_extension": ".py",
   "mimetype": "text/x-python",
   "name": "python",
   "nbconvert_exporter": "python",
   "pygments_lexer": "ipython3",
   "version": "3.10.6"
  },
  "toc": {
   "base_numbering": 1,
   "nav_menu": {},
   "number_sections": true,
   "sideBar": true,
   "skip_h1_title": false,
   "title_cell": "Table of Contents",
   "title_sidebar": "Contents",
   "toc_cell": false,
   "toc_position": {},
   "toc_section_display": true,
   "toc_window_display": false
  }
 },
 "nbformat": 4,
 "nbformat_minor": 5
}
